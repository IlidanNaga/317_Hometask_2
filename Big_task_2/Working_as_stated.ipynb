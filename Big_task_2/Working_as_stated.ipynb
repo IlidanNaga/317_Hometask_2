{
 "cells": [
  {
   "cell_type": "code",
   "execution_count": 1,
   "metadata": {},
   "outputs": [],
   "source": [
    "import numpy as np\n",
    "import pandas as pd\n",
    "import re"
   ]
  },
  {
   "cell_type": "code",
   "execution_count": 2,
   "metadata": {},
   "outputs": [],
   "source": [
    "from sklearn.metrics import accuracy_score\n",
    "from sklearn.metrics import roc_auc_score\n",
    "from sklearn.metrics import precision_score\n",
    "from sklearn.metrics import recall_score"
   ]
  },
  {
   "cell_type": "code",
   "execution_count": 3,
   "metadata": {},
   "outputs": [],
   "source": [
    "def check_metrics(true_val, pred_val):\n",
    "    print(\"Accuracy: \", accuracy_score(true_val, pred_val))\n",
    "    print(\"Roc_Auc: \", roc_auc_score(true_val, pred_val))\n",
    "    print(\"Precision: \", precision_score(true_val, pred_val), \" - процент правильно токсичных\")\n",
    "    print(\"Recall: \", recall_score(true_val, pred_val), \" - процент выбранных токсичных\")"
   ]
  },
  {
   "cell_type": "code",
   "execution_count": 4,
   "metadata": {},
   "outputs": [],
   "source": [
    "data = pd.read_csv(\"toxic_train.csv\")"
   ]
  },
  {
   "cell_type": "code",
   "execution_count": 5,
   "metadata": {},
   "outputs": [],
   "source": [
    "test_data = pd.read_csv(\"toxic_test.csv\")"
   ]
  },
  {
   "cell_type": "code",
   "execution_count": 6,
   "metadata": {},
   "outputs": [
    {
     "data": {
      "text/html": [
       "<div>\n",
       "<style scoped>\n",
       "    .dataframe tbody tr th:only-of-type {\n",
       "        vertical-align: middle;\n",
       "    }\n",
       "\n",
       "    .dataframe tbody tr th {\n",
       "        vertical-align: top;\n",
       "    }\n",
       "\n",
       "    .dataframe thead th {\n",
       "        text-align: right;\n",
       "    }\n",
       "</style>\n",
       "<table border=\"1\" class=\"dataframe\">\n",
       "  <thead>\n",
       "    <tr style=\"text-align: right;\">\n",
       "      <th></th>\n",
       "      <th>Unnamed: 0</th>\n",
       "      <th>comment_text</th>\n",
       "      <th>is_toxic</th>\n",
       "    </tr>\n",
       "  </thead>\n",
       "  <tbody>\n",
       "    <tr>\n",
       "      <td>0</td>\n",
       "      <td>0</td>\n",
       "      <td>Thank you for understanding. I think very high...</td>\n",
       "      <td>False</td>\n",
       "    </tr>\n",
       "    <tr>\n",
       "      <td>1</td>\n",
       "      <td>1</td>\n",
       "      <td>:Dear god this site is horrible.</td>\n",
       "      <td>False</td>\n",
       "    </tr>\n",
       "    <tr>\n",
       "      <td>2</td>\n",
       "      <td>2</td>\n",
       "      <td>\"::: Somebody will invariably try to add Relig...</td>\n",
       "      <td>False</td>\n",
       "    </tr>\n",
       "    <tr>\n",
       "      <td>3</td>\n",
       "      <td>3</td>\n",
       "      <td>\" \\n\\n It says it right there that it IS a typ...</td>\n",
       "      <td>False</td>\n",
       "    </tr>\n",
       "    <tr>\n",
       "      <td>4</td>\n",
       "      <td>4</td>\n",
       "      <td>\" \\n\\n == Before adding a new product to the l...</td>\n",
       "      <td>False</td>\n",
       "    </tr>\n",
       "  </tbody>\n",
       "</table>\n",
       "</div>"
      ],
      "text/plain": [
       "   Unnamed: 0                                       comment_text  is_toxic\n",
       "0           0  Thank you for understanding. I think very high...     False\n",
       "1           1                   :Dear god this site is horrible.     False\n",
       "2           2  \"::: Somebody will invariably try to add Relig...     False\n",
       "3           3  \" \\n\\n It says it right there that it IS a typ...     False\n",
       "4           4  \" \\n\\n == Before adding a new product to the l...     False"
      ]
     },
     "execution_count": 6,
     "metadata": {},
     "output_type": "execute_result"
    }
   ],
   "source": [
    "test_data.head()"
   ]
  },
  {
   "cell_type": "code",
   "execution_count": 7,
   "metadata": {},
   "outputs": [
    {
     "data": {
      "text/plain": [
       "(52061, 3)"
      ]
     },
     "execution_count": 7,
     "metadata": {},
     "output_type": "execute_result"
    }
   ],
   "source": [
    "data.shape"
   ]
  },
  {
   "cell_type": "code",
   "execution_count": 8,
   "metadata": {},
   "outputs": [],
   "source": [
    "train_texts = np.array(data['comment_text'])\n",
    "test_texts = np.array(test_data['comment_text'])"
   ]
  },
  {
   "cell_type": "code",
   "execution_count": 9,
   "metadata": {},
   "outputs": [],
   "source": [
    "for enum in range(train_texts.__len__()):\n",
    "    train_texts[enum] = train_texts[enum].lower()\n",
    "    train_texts[enum] = re.sub(\"[^0-9a-zA-Z]+\", ' ', train_texts[enum])\n",
    "    train_texts[enum] =  re.sub(' +', ' ', train_texts[enum])"
   ]
  },
  {
   "cell_type": "code",
   "execution_count": 10,
   "metadata": {},
   "outputs": [
    {
     "data": {
      "text/plain": [
       "'explanation why the edits made under my username hardcore metallica fan were reverted they weren t vandalisms just closure on some gas after i voted at new york dolls fac and please don t remove the template from the talk page since i m retired now 89 205 38 27'"
      ]
     },
     "execution_count": 10,
     "metadata": {},
     "output_type": "execute_result"
    }
   ],
   "source": [
    "train_texts[0]"
   ]
  },
  {
   "cell_type": "code",
   "execution_count": 11,
   "metadata": {},
   "outputs": [],
   "source": [
    "for enum in range(test_texts.__len__()):\n",
    "    test_texts[enum] = test_texts[enum].lower()\n",
    "    test_texts[enum] = re.sub(\"[^0-9a-zA-Z]+\", ' ', test_texts[enum])\n",
    "    test_texts[enum] =  re.sub(' +', ' ', test_texts[enum])"
   ]
  },
  {
   "cell_type": "code",
   "execution_count": 12,
   "metadata": {},
   "outputs": [
    {
     "data": {
      "text/plain": [
       "'thank you for understanding i think very highly of you and would not revert without discussion '"
      ]
     },
     "execution_count": 12,
     "metadata": {},
     "output_type": "execute_result"
    }
   ],
   "source": [
    "test_texts[0]"
   ]
  },
  {
   "cell_type": "code",
   "execution_count": 13,
   "metadata": {},
   "outputs": [],
   "source": [
    "train_target = np.array(data['is_toxic']).astype(int) * 2 - 1 \n",
    "test_target = np.array(test_data['is_toxic']).astype(int) * 2 - 1"
   ]
  },
  {
   "cell_type": "code",
   "execution_count": 14,
   "metadata": {},
   "outputs": [],
   "source": [
    "from sklearn.feature_extraction.text import CountVectorizer"
   ]
  },
  {
   "cell_type": "code",
   "execution_count": 15,
   "metadata": {},
   "outputs": [],
   "source": [
    "vect = CountVectorizer(min_df=100)"
   ]
  },
  {
   "cell_type": "code",
   "execution_count": 16,
   "metadata": {},
   "outputs": [],
   "source": [
    "train_matrix = vect.fit_transform(train_texts)"
   ]
  },
  {
   "cell_type": "code",
   "execution_count": 17,
   "metadata": {},
   "outputs": [],
   "source": [
    "test_matrix = vect.transform(test_texts)"
   ]
  },
  {
   "cell_type": "code",
   "execution_count": 18,
   "metadata": {},
   "outputs": [],
   "source": [
    "from optimization import GDClassifier"
   ]
  },
  {
   "cell_type": "code",
   "execution_count": 50,
   "metadata": {},
   "outputs": [],
   "source": [
    "classifier = GDClassifier(tolerance=0.000001,max_iter=1000,step_alpha=10, step_beta=0,l2_coef = 0)"
   ]
  },
  {
   "cell_type": "code",
   "execution_count": 51,
   "metadata": {},
   "outputs": [
    {
     "name": "stdout",
     "output_type": "stream",
     "text": [
      "[0. 0. 0. ... 0. 0. 0.]\n",
      "CPU times: user 15 s, sys: 2.79 s, total: 17.8 s\n",
      "Wall time: 18 s\n"
     ]
    }
   ],
   "source": [
    "%time classifier.fit(train_matrix, train_target)"
   ]
  },
  {
   "cell_type": "code",
   "execution_count": 52,
   "metadata": {},
   "outputs": [
    {
     "name": "stdout",
     "output_type": "stream",
     "text": [
      "CPU times: user 4.24 ms, sys: 13.7 ms, total: 17.9 ms\n",
      "Wall time: 17.3 ms\n"
     ]
    }
   ],
   "source": [
    "%time res = classifier.predict(test_matrix)"
   ]
  },
  {
   "cell_type": "code",
   "execution_count": 53,
   "metadata": {},
   "outputs": [
    {
     "name": "stdout",
     "output_type": "stream",
     "text": [
      "Accuracy:  0.8562584639195202\n",
      "Roc_Auc:  0.8159188426144328\n",
      "Precision:  0.7897254207263065  - процент правильно токсичных\n",
      "Recall:  0.7140797693416626  - процент выбранных токсичных\n"
     ]
    }
   ],
   "source": [
    "check_metrics(test_target, res)"
   ]
  },
  {
   "cell_type": "code",
   "execution_count": 49,
   "metadata": {},
   "outputs": [
    {
     "name": "stdout",
     "output_type": "stream",
     "text": [
      "CPU times: user 2.62 ms, sys: 1.07 ms, total: 3.69 ms\n",
      "Wall time: 2.13 ms\n"
     ]
    }
   ],
   "source": [
    "%time probabilities = classifier.predict_proba(test_matrix)"
   ]
  },
  {
   "cell_type": "code",
   "execution_count": 24,
   "metadata": {},
   "outputs": [],
   "source": [
    "ans = (probabilities > 0.5) * 2 - 1"
   ]
  },
  {
   "cell_type": "code",
   "execution_count": 25,
   "metadata": {},
   "outputs": [
    {
     "name": "stdout",
     "output_type": "stream",
     "text": [
      "Accuracy:  0.7689591797252854\n",
      "Roc_Auc:  0.6622221127945984\n",
      "Precision:  0.7132053519488074  - процент правильно токсичных\n",
      "Recall:  0.39275989107800735  - процент выбранных токсичных\n"
     ]
    }
   ],
   "source": [
    "check_metrics(test_target, ans)"
   ]
  },
  {
   "cell_type": "code",
   "execution_count": 89,
   "metadata": {},
   "outputs": [
    {
     "name": "stdout",
     "output_type": "stream",
     "text": [
      "Current step_alpha:  31\n",
      "Accuracy:  0.797736506094022\n",
      "Roc_Auc:  0.8373993963657087\n",
      "Precision:  0.6068429237947123  - процент правильно токсичных\n",
      "Recall:  0.9375300336376742  - процент выбранных токсичных\n",
      "Current step_alpha:  32\n",
      "Accuracy:  0.7975430450764172\n",
      "Roc_Auc:  0.8375335062445163\n",
      "Precision:  0.6064589586999275  - процент правильно токсичных\n",
      "Recall:  0.9384911100432485  - процент выбранных токсичных\n",
      "Current step_alpha:  33\n",
      "Accuracy:  0.7964306442251886\n",
      "Roc_Auc:  0.8368276148354957\n",
      "Precision:  0.6049752270850537  - процент правильно токсичных\n",
      "Recall:  0.9388114688451065  - процент выбранных токсичных\n",
      "Current step_alpha:  34\n",
      "Accuracy:  0.795898626426775\n",
      "Roc_Auc:  0.8366283311513842\n",
      "Precision:  0.6042031523642732  - процент правильно токсичных\n",
      "Recall:  0.9394521864488227  - процент выбранных токсичных\n",
      "Current step_alpha:  35\n",
      "Accuracy:  0.795269878119559\n",
      "Roc_Auc:  0.8362234211982771\n",
      "Precision:  0.6033737914009463  - процент правильно токсичных\n",
      "Recall:  0.9396123658497517  - процент выбранных токсичных\n",
      "Current step_alpha:  36\n",
      "Accuracy:  0.8622073902108726\n",
      "Roc_Auc:  0.8402674266847961\n",
      "Precision:  0.764907898844833  - процент правильно токсичных\n",
      "Recall:  0.7848790645522986  - процент выбранных токсичных\n",
      "Current step_alpha:  37\n",
      "Accuracy:  0.862304120719675\n",
      "Roc_Auc:  0.8400640311411928\n",
      "Precision:  0.7656445556946183  - процент правильно токсичных\n",
      "Recall:  0.7839179881467243  - процент выбранных токсичных\n",
      "Current step_alpha:  38\n",
      "Accuracy:  0.7931901721803056\n",
      "Roc_Auc:  0.8349610137454968\n",
      "Precision:  0.600613810741688  - процент правильно токсичных\n",
      "Recall:  0.940413262854397  - процент выбранных токсичных\n",
      "Current step_alpha:  39\n",
      "Accuracy:  0.8624008512284774\n",
      "Roc_Auc:  0.8396788481253233\n",
      "Precision:  0.7667189952904239  - процент правильно токсичных\n",
      "Recall:  0.7823161941374339  - процент выбранных токсичных\n",
      "Current step_alpha:  40\n",
      "Accuracy:  0.7919326755658734\n",
      "Roc_Auc:  0.8343329813115486\n",
      "Precision:  0.5988994191378784  - процент правильно токсичных\n",
      "Recall:  0.9413743392599712  - процент выбранных токсичных\n",
      "Current step_alpha:  41\n",
      "Accuracy:  0.7918843103114722\n",
      "Roc_Auc:  0.8343437853472173\n",
      "Precision:  0.5988182559087205  - процент правильно токсичных\n",
      "Recall:  0.9415345186609002  - процент выбранных токсичных\n",
      "Current step_alpha:  42\n",
      "Accuracy:  0.7912555620042562\n",
      "Roc_Auc:  0.83393887539411\n",
      "Precision:  0.5980063065812227  - процент правильно токсичных\n",
      "Recall:  0.9416946980618293  - процент выбранных токсичных\n",
      "Current step_alpha:  43\n",
      "Accuracy:  0.8620622944476688\n",
      "Roc_Auc:  0.8391636670901383\n",
      "Precision:  0.7663786331500393  - процент правильно токсичных\n",
      "Recall:  0.7813551177318597  - процент выбранных токсичных\n",
      "Current step_alpha:  44\n",
      "Accuracy:  0.8621590249564712\n",
      "Roc_Auc:  0.8381876747894037\n",
      "Precision:  0.7685610258033877  - процент правильно токсичных\n",
      "Recall:  0.7776709915104918  - процент выбранных токсичных\n",
      "Current step_alpha:  45\n",
      "Accuracy:  0.8620139291932676\n",
      "Roc_Auc:  0.8380382994241432\n",
      "Precision:  0.768281101614435  - процент правильно токсичных\n",
      "Recall:  0.7775108121095627  - процент выбранных токсичных\n",
      "Current step_alpha:  46\n",
      "Accuracy:  0.7902398916618302\n",
      "Roc_Auc:  0.833256822781819\n",
      "Precision:  0.5967119951288816  - процент правильно токсичных\n",
      "Recall:  0.9418548774627583  - процент выбранных токсичных\n",
      "Current step_alpha:  47\n",
      "Accuracy:  0.788982395047398\n",
      "Roc_Auc:  0.8326287903478709\n",
      "Precision:  0.5950262838657501  - процент правильно токсичных\n",
      "Recall:  0.9428159538683325  - процент выбранных токсичных\n",
      "Current step_alpha:  48\n",
      "Accuracy:  0.7880634552137744\n",
      "Roc_Auc:  0.832106917136509\n",
      "Precision:  0.593828778864576  - процент правильно токсичных\n",
      "Recall:  0.9432964920711197  - процент выбранных токсичных\n",
      "Current step_alpha:  49\n",
      "Accuracy:  0.7884987425033856\n",
      "Roc_Auc:  0.8323732557600243\n",
      "Precision:  0.5943872400565314  - процент правильно токсичных\n",
      "Recall:  0.9431363126701906  - процент выбранных токсичных\n",
      "Current step_alpha:  50\n",
      "Accuracy:  0.7881118204681756\n",
      "Roc_Auc:  0.8321415599689069\n",
      "Precision:  0.5938886647841872  - процент правильно токсичных\n",
      "Recall:  0.9432964920711197  - процент выбранных токсичных\n"
     ]
    }
   ],
   "source": [
    "for i in range(31, 51):\n",
    "    classifier = GDClassifier(step_alpha = i / 10, l2_coef = 0)\n",
    "    classifier.fit(train_matrix, train_target)\n",
    "    print(\"Current step_alpha: \", i)\n",
    "    check_metrics(test_target, classifier.predict(test_matrix))"
   ]
  },
  {
   "cell_type": "code",
   "execution_count": 77,
   "metadata": {},
   "outputs": [],
   "source": [
    "classifier = GDClassifier(step_alpha = 0.33, l2_coef = 0)"
   ]
  },
  {
   "cell_type": "code",
   "execution_count": 78,
   "metadata": {},
   "outputs": [
    {
     "name": "stdout",
     "output_type": "stream",
     "text": [
      "CPU times: user 14.8 s, sys: 2.42 s, total: 17.2 s\n",
      "Wall time: 17.2 s\n"
     ]
    }
   ],
   "source": [
    "%time classifier.fit(train_matrix, train_target)"
   ]
  },
  {
   "cell_type": "code",
   "execution_count": 79,
   "metadata": {},
   "outputs": [
    {
     "name": "stdout",
     "output_type": "stream",
     "text": [
      "Accuracy:  0.8361868833430064\n",
      "Roc_Auc:  0.8344001527813834\n",
      "Precision:  0.6902478017585931  - процент правильно токсичных\n",
      "Recall:  0.829889476213359  - процент выбранных токсичных\n"
     ]
    }
   ],
   "source": [
    "check_metrics(test_target, classifier.predict(test_matrix))"
   ]
  },
  {
   "cell_type": "code",
   "execution_count": 73,
   "metadata": {},
   "outputs": [
    {
     "name": "stdout",
     "output_type": "stream",
     "text": [
      "Accuracy:  0.8361868833430064\n",
      "Roc_Auc:  0.8339911309687845\n",
      "Precision:  0.6907051282051282  - процент правильно токсичных\n",
      "Recall:  0.8284478616049976  - процент выбранных токсичных\n"
     ]
    }
   ],
   "source": [
    "check_metrics(test_target, classifier.predict(test_matrix))"
   ]
  },
  {
   "cell_type": "code",
   "execution_count": 69,
   "metadata": {},
   "outputs": [
    {
     "name": "stdout",
     "output_type": "stream",
     "text": [
      "Accuracy:  0.8359934223254014\n",
      "Roc_Auc:  0.8335798784307932\n",
      "Precision:  0.6906417112299466  - процент правильно токсичных\n",
      "Recall:  0.8274867851994233  - процент выбранных токсичных\n"
     ]
    }
   ],
   "source": [
    "check_metrics(test_target, classifier.predict(test_matrix))"
   ]
  },
  {
   "cell_type": "code",
   "execution_count": 29,
   "metadata": {},
   "outputs": [
    {
     "name": "stdout",
     "output_type": "stream",
     "text": [
      "[0. 0. 0. ... 0. 0. 0.]\n"
     ]
    }
   ],
   "source": [
    "cl_r = GDClassifier(step_alpha = 2.1, l2_coef = 0)\n",
    "cl_r.fit(train_matrix, train_target)"
   ]
  },
  {
   "cell_type": "code",
   "execution_count": 30,
   "metadata": {},
   "outputs": [
    {
     "name": "stdout",
     "output_type": "stream",
     "text": [
      "Accuracy:  0.8610466241052428\n",
      "Roc_Auc:  0.8462530289172261\n",
      "Precision:  0.75037147102526  - процент правильно токсичных\n",
      "Recall:  0.8089059746916547  - процент выбранных токсичных\n"
     ]
    }
   ],
   "source": [
    "check_metrics(test_target, cl_r.predict(test_matrix))"
   ]
  },
  {
   "cell_type": "code",
   "execution_count": 31,
   "metadata": {},
   "outputs": [],
   "source": [
    "w = cl_r.get_weights()"
   ]
  },
  {
   "cell_type": "code",
   "execution_count": 32,
   "metadata": {},
   "outputs": [
    {
     "name": "stdout",
     "output_type": "stream",
     "text": [
      "[ 0.02002737 -0.22318307 -0.02371039 ...  0.56831814  0.17425659\n",
      " -0.02310614]\n"
     ]
    }
   ],
   "source": [
    "cl_r_2 = GDClassifier(step_alpha=2.1, l2_coef = 0)\n",
    "cl_r_2.fit(train_matrix, train_target, w_0 = w)"
   ]
  },
  {
   "cell_type": "code",
   "execution_count": 33,
   "metadata": {},
   "outputs": [
    {
     "name": "stdout",
     "output_type": "stream",
     "text": [
      "Accuracy:  0.858434900367576\n",
      "Roc_Auc:  0.8568802046860349\n",
      "Precision:  0.7260703572402509  - процент правильно токсичных\n",
      "Recall:  0.8529553099471407  - процент выбранных токсичных\n"
     ]
    }
   ],
   "source": [
    "check_metrics(test_target, cl_r_2.predict(test_matrix))"
   ]
  },
  {
   "cell_type": "code",
   "execution_count": 34,
   "metadata": {},
   "outputs": [],
   "source": [
    "w_2 = cl_r_2.get_weights()"
   ]
  },
  {
   "cell_type": "code",
   "execution_count": 35,
   "metadata": {},
   "outputs": [
    {
     "data": {
      "text/plain": [
       "False"
      ]
     },
     "execution_count": 35,
     "metadata": {},
     "output_type": "execute_result"
    }
   ],
   "source": [
    "np.allclose(w, w_2)"
   ]
  },
  {
   "cell_type": "code",
   "execution_count": 36,
   "metadata": {},
   "outputs": [
    {
     "name": "stdout",
     "output_type": "stream",
     "text": [
      "[ 0.08704158 -0.37899983 -0.07573311 ...  0.50381537  0.25829648\n",
      " -0.04235682]\n"
     ]
    }
   ],
   "source": [
    "cl_r_3 = GDClassifier(step_alpha=2.1, l2_coef = 0)\n",
    "cl_r_3.fit(train_matrix, train_target, w_0 = w_2)"
   ]
  },
  {
   "cell_type": "code",
   "execution_count": 37,
   "metadata": {},
   "outputs": [
    {
     "name": "stdout",
     "output_type": "stream",
     "text": [
      "Accuracy:  0.8585799961307796\n",
      "Roc_Auc:  0.8575294956000272\n",
      "Precision:  0.7256288239292998  - процент правильно токсичных\n",
      "Recall:  0.8548774627582892  - процент выбранных токсичных\n"
     ]
    }
   ],
   "source": [
    "check_metrics(test_target, cl_r_3.predict(test_matrix))"
   ]
  },
  {
   "cell_type": "code",
   "execution_count": 38,
   "metadata": {},
   "outputs": [],
   "source": [
    "w_3 = cl_r_3.get_weights()"
   ]
  },
  {
   "cell_type": "code",
   "execution_count": 39,
   "metadata": {},
   "outputs": [
    {
     "name": "stdout",
     "output_type": "stream",
     "text": [
      "[ 0.13374433 -0.48172998 -0.14774491 ...  0.47159356  0.26003006\n",
      " -0.04916996]\n"
     ]
    }
   ],
   "source": [
    "cl_r_4 = GDClassifier(step_alpha=2.1, l2_coef = 0)\n",
    "cl_r_4.fit(train_matrix, train_target, w_0 = w_3)"
   ]
  },
  {
   "cell_type": "code",
   "execution_count": 40,
   "metadata": {},
   "outputs": [
    {
     "name": "stdout",
     "output_type": "stream",
     "text": [
      "Accuracy:  0.8525343393306248\n",
      "Roc_Auc:  0.8603797467047941\n",
      "Precision:  0.7048486403283736  - процент правильно токсичных\n",
      "Recall:  0.8801858081050777  - процент выбранных токсичных\n"
     ]
    }
   ],
   "source": [
    "check_metrics(test_target, cl_r_4.predict(test_matrix))"
   ]
  },
  {
   "cell_type": "code",
   "execution_count": 47,
   "metadata": {},
   "outputs": [
    {
     "name": "stdout",
     "output_type": "stream",
     "text": [
      "[ 0.17726896 -0.54809413 -0.21616379 ...  0.46717748  0.2495427\n",
      " -0.05223828]\n"
     ]
    }
   ],
   "source": [
    "cl_r_5 = GDClassifier(step_alpha=2.1, l2_coef = 0)\n",
    "cl_r_5.fit(train_matrix, train_target, w_0 = cl_r_4.get_weights())"
   ]
  },
  {
   "cell_type": "code",
   "execution_count": 48,
   "metadata": {},
   "outputs": [
    {
     "name": "stdout",
     "output_type": "stream",
     "text": [
      "Accuracy:  0.8408783130199264\n",
      "Roc_Auc:  0.8593477698555951\n",
      "Precision:  0.6766359612393827  - процент правильно токсичных\n",
      "Recall:  0.9059746916546532  - процент выбранных токсичных\n"
     ]
    }
   ],
   "source": [
    "check_metrics(test_target, cl_r_5.predict(test_matrix))"
   ]
  },
  {
   "cell_type": "code",
   "execution_count": null,
   "metadata": {},
   "outputs": [],
   "source": []
  },
  {
   "cell_type": "code",
   "execution_count": 46,
   "metadata": {},
   "outputs": [
    {
     "name": "stdout",
     "output_type": "stream",
     "text": [
      "Accuracy:  0.8075546527374734\n",
      "Roc_Auc:  0.8416141855223725\n",
      "Precision:  0.6214852972740932  - процент правильно токсичных\n",
      "Recall:  0.9275989107800737  - процент выбранных токсичных\n"
     ]
    }
   ],
   "source": [
    "check_metrics(test_target, cl_r_5.predict(test_matrix))"
   ]
  },
  {
   "cell_type": "code",
   "execution_count": 52,
   "metadata": {},
   "outputs": [],
   "source": [
    "long_alg = GDClassifier(step_alpha=2.1,tolerance=0, max_iter = 10000, l2_coef = 0)"
   ]
  },
  {
   "cell_type": "code",
   "execution_count": 53,
   "metadata": {},
   "outputs": [
    {
     "name": "stdout",
     "output_type": "stream",
     "text": [
      "[0. 0. 0. ... 0. 0. 0.]\n"
     ]
    }
   ],
   "source": [
    "long_alg.fit(train_matrix, train_target)"
   ]
  },
  {
   "cell_type": "code",
   "execution_count": 54,
   "metadata": {},
   "outputs": [
    {
     "name": "stdout",
     "output_type": "stream",
     "text": [
      "Accuracy:  0.8573708647707486\n",
      "Roc_Auc:  0.8570724466026768\n",
      "Precision:  0.7226277372262774  - процент правильно токсичных\n",
      "Recall:  0.8563190773666507  - процент выбранных токсичных\n"
     ]
    }
   ],
   "source": [
    "check_metrics(test_target, long_alg.predict(test_matrix))"
   ]
  },
  {
   "cell_type": "code",
   "execution_count": null,
   "metadata": {},
   "outputs": [],
   "source": []
  },
  {
   "cell_type": "code",
   "execution_count": 104,
   "metadata": {},
   "outputs": [
    {
     "name": "stdout",
     "output_type": "stream",
     "text": [
      "Step Beta:  0.0\n",
      "Accuracy:  0.8574675952795512\n",
      "Roc_Auc:  0.8509609582104228\n",
      "Precision:  0.7313307130825379  - процент правильно токсичных\n",
      "Recall:  0.8345346788403012  - процент выбранных токсичных\n",
      "Step Beta:  0.1\n",
      "Accuracy:  0.837734571483846\n",
      "Roc_Auc:  0.8305550147988653\n",
      "Precision:  0.6990077177508269  - процент правильно токсичных\n",
      "Recall:  0.8124299215120936  - процент выбранных токсичных\n",
      "Step Beta:  0.2\n",
      "Accuracy:  0.8402495647127104\n",
      "Roc_Auc:  0.8414003688288022\n",
      "Precision:  0.6933701657458563  - процент правильно токсичных\n",
      "Recall:  0.8443056222969726  - процент выбранных токсичных\n",
      "Step Beta:  0.3\n",
      "Accuracy:  0.8348326562197718\n",
      "Roc_Auc:  0.8313850444112455\n",
      "Precision:  0.6899516389038152  - процент правильно токсичных\n",
      "Recall:  0.8226814031715521  - процент выбранных токсичных\n",
      "Step Beta:  0.4\n",
      "Accuracy:  0.8301412265428516\n",
      "Roc_Auc:  0.8234345559939209\n",
      "Precision:  0.6860607712222374  - процент правильно токсичных\n",
      "Recall:  0.8065032836777191  - процент выбранных токсичных\n",
      "Step Beta:  0.5\n",
      "Accuracy:  0.8238053782162894\n",
      "Roc_Auc:  0.8125337834204698\n",
      "Precision:  0.6808066759388038  - процент правильно токсичных\n",
      "Recall:  0.7840781675476534  - процент выбранных токсичных\n",
      "Step Beta:  0.6\n",
      "Accuracy:  0.8168407815825112\n",
      "Roc_Auc:  0.8005009510048469\n",
      "Precision:  0.6748291571753986  - процент правильно токсичных\n",
      "Recall:  0.7592503604036521  - процент выбранных токсичных\n",
      "Step Beta:  0.7\n",
      "Accuracy:  0.8097310891855292\n",
      "Roc_Auc:  0.7880460620155643\n",
      "Precision:  0.6686139915291368  - процент правильно токсичных\n",
      "Recall:  0.7333012974531475  - процент выбранных токсичных\n",
      "Step Beta:  0.8\n",
      "Accuracy:  0.8022344747533372\n",
      "Roc_Auc:  0.7758593927838964\n",
      "Precision:  0.6606982990152194  - процент правильно токсичных\n",
      "Recall:  0.7092743873137914  - процент выбранных токсичных\n",
      "Step Beta:  0.9\n",
      "Accuracy:  0.7953182433739602\n",
      "Roc_Auc:  0.7636794157284053\n",
      "Precision:  0.6540523977324958  - процент правильно токсичных\n",
      "Recall:  0.683805862566074  - процент выбранных токсичных\n",
      "Step Beta:  1.0\n",
      "Accuracy:  0.786951054362546\n",
      "Roc_Auc:  0.7517781128749046\n",
      "Precision:  0.6427018633540372  - процент правильно токсичных\n",
      "Recall:  0.6629825404452987  - процент выбранных токсичных\n"
     ]
    }
   ],
   "source": [
    "\n",
    "for i in range(11):\n",
    "    classifier = GDClassifier(step_alpha = 1.5, step_beta=i / 10, l2_coef = 0)\n",
    "    classifier.fit(train_matrix, train_target)\n",
    "    print(\"Step Beta: \", i / 10)\n",
    "    check_metrics(test_target, classifier.predict(test_matrix))"
   ]
  },
  {
   "cell_type": "code",
   "execution_count": null,
   "metadata": {},
   "outputs": [],
   "source": []
  },
  {
   "cell_type": "code",
   "execution_count": 32,
   "metadata": {},
   "outputs": [],
   "source": [
    "from sklearn.ensemble import GradientBoostingClassifier"
   ]
  },
  {
   "cell_type": "code",
   "execution_count": 33,
   "metadata": {},
   "outputs": [],
   "source": [
    "cl = GradientBoostingClassifier()"
   ]
  },
  {
   "cell_type": "code",
   "execution_count": 34,
   "metadata": {},
   "outputs": [
    {
     "name": "stdout",
     "output_type": "stream",
     "text": [
      "CPU times: user 14.2 s, sys: 579 ms, total: 14.8 s\n",
      "Wall time: 14.9 s\n"
     ]
    },
    {
     "data": {
      "text/plain": [
       "GradientBoostingClassifier(criterion='friedman_mse', init=None,\n",
       "                           learning_rate=0.1, loss='deviance', max_depth=3,\n",
       "                           max_features=None, max_leaf_nodes=None,\n",
       "                           min_impurity_decrease=0.0, min_impurity_split=None,\n",
       "                           min_samples_leaf=1, min_samples_split=2,\n",
       "                           min_weight_fraction_leaf=0.0, n_estimators=100,\n",
       "                           n_iter_no_change=None, presort='auto',\n",
       "                           random_state=None, subsample=1.0, tol=0.0001,\n",
       "                           validation_fraction=0.1, verbose=0,\n",
       "                           warm_start=False)"
      ]
     },
     "execution_count": 34,
     "metadata": {},
     "output_type": "execute_result"
    }
   ],
   "source": [
    "%time cl.fit(train_matrix, train_target)"
   ]
  },
  {
   "cell_type": "code",
   "execution_count": 35,
   "metadata": {},
   "outputs": [
    {
     "name": "stdout",
     "output_type": "stream",
     "text": [
      "CPU times: user 37.6 ms, sys: 3.51 ms, total: 41.1 ms\n",
      "Wall time: 40.3 ms\n"
     ]
    }
   ],
   "source": [
    "%time res = cl.predict(test_matrix)"
   ]
  },
  {
   "cell_type": "code",
   "execution_count": 36,
   "metadata": {},
   "outputs": [
    {
     "name": "stdout",
     "output_type": "stream",
     "text": [
      "Accuracy:  0.8519055910234088\n",
      "Roc_Auc:  0.7878961039981491\n",
      "Precision:  0.8428540633757275  - процент правильно токсичных\n",
      "Recall:  0.6263014576325484  - процент выбранных токсичных\n"
     ]
    }
   ],
   "source": [
    "check_metrics(test_target, res)"
   ]
  },
  {
   "cell_type": "code",
   "execution_count": 34,
   "metadata": {},
   "outputs": [],
   "source": [
    "from sklearn.linear_model import LogisticRegression"
   ]
  },
  {
   "cell_type": "code",
   "execution_count": 35,
   "metadata": {},
   "outputs": [],
   "source": [
    "cl = LogisticRegression()"
   ]
  },
  {
   "cell_type": "code",
   "execution_count": 36,
   "metadata": {},
   "outputs": [
    {
     "name": "stderr",
     "output_type": "stream",
     "text": [
      "/usr/local/lib/python3.7/site-packages/sklearn/linear_model/logistic.py:432: FutureWarning: Default solver will be changed to 'lbfgs' in 0.22. Specify a solver to silence this warning.\n",
      "  FutureWarning)\n"
     ]
    },
    {
     "name": "stdout",
     "output_type": "stream",
     "text": [
      "CPU times: user 2.43 s, sys: 20.7 ms, total: 2.45 s\n",
      "Wall time: 2.45 s\n"
     ]
    },
    {
     "name": "stderr",
     "output_type": "stream",
     "text": [
      "/usr/local/lib/python3.7/site-packages/sklearn/svm/base.py:929: ConvergenceWarning: Liblinear failed to converge, increase the number of iterations.\n",
      "  \"the number of iterations.\", ConvergenceWarning)\n"
     ]
    },
    {
     "data": {
      "text/plain": [
       "LogisticRegression(C=1.0, class_weight=None, dual=False, fit_intercept=True,\n",
       "                   intercept_scaling=1, l1_ratio=None, max_iter=100,\n",
       "                   multi_class='warn', n_jobs=None, penalty='l2',\n",
       "                   random_state=None, solver='warn', tol=0.0001, verbose=0,\n",
       "                   warm_start=False)"
      ]
     },
     "execution_count": 36,
     "metadata": {},
     "output_type": "execute_result"
    }
   ],
   "source": [
    "%time cl.fit(train_matrix, train_target)"
   ]
  },
  {
   "cell_type": "code",
   "execution_count": 39,
   "metadata": {},
   "outputs": [
    {
     "name": "stdout",
     "output_type": "stream",
     "text": [
      "CPU times: user 3.9 ms, sys: 1.66 ms, total: 5.56 ms\n",
      "Wall time: 3.58 ms\n"
     ]
    }
   ],
   "source": [
    "%time res = cl.predict(test_matrix)"
   ]
  },
  {
   "cell_type": "code",
   "execution_count": 40,
   "metadata": {},
   "outputs": [
    {
     "name": "stdout",
     "output_type": "stream",
     "text": [
      "Accuracy:  0.8788450377248984\n",
      "Roc_Auc:  0.8519573266893674\n",
      "Precision:  0.8088235294117647  - процент правильно токсичных\n",
      "Recall:  0.7840781675476534  - процент выбранных токсичных\n"
     ]
    }
   ],
   "source": [
    "check_metrics(test_target, res)"
   ]
  },
  {
   "cell_type": "code",
   "execution_count": 50,
   "metadata": {},
   "outputs": [],
   "source": [
    "classifier = GDClassifier(step_alpha=1, step_beta=0,\n",
    "                 tolerance=0.00001, max_iter=100, l2_coef = 1)"
   ]
  },
  {
   "cell_type": "code",
   "execution_count": 51,
   "metadata": {},
   "outputs": [],
   "source": [
    "classifier.fit(train_matrix, train_target)"
   ]
  },
  {
   "cell_type": "code",
   "execution_count": 68,
   "metadata": {},
   "outputs": [],
   "source": [
    "w = classifier.get_weights()"
   ]
  },
  {
   "cell_type": "code",
   "execution_count": 69,
   "metadata": {},
   "outputs": [
    {
     "data": {
      "text/plain": [
       "array([-5.75103400e-04, -5.11659052e-04, -6.87462368e-04, ...,\n",
       "       -1.00598986e-04, -1.95125313e-05,  2.02239601e-04])"
      ]
     },
     "execution_count": 69,
     "metadata": {},
     "output_type": "execute_result"
    }
   ],
   "source": [
    "w"
   ]
  },
  {
   "cell_type": "code",
   "execution_count": 58,
   "metadata": {},
   "outputs": [],
   "source": [
    "mul = test_matrix * w\n"
   ]
  },
  {
   "cell_type": "code",
   "execution_count": 59,
   "metadata": {},
   "outputs": [],
   "source": [
    "proba = 1 / (1 + np.exp(-1 * mul))"
   ]
  },
  {
   "cell_type": "code",
   "execution_count": 60,
   "metadata": {},
   "outputs": [
    {
     "data": {
      "text/plain": [
       "(1.0, 2.26107839656812e-11)"
      ]
     },
     "execution_count": 60,
     "metadata": {},
     "output_type": "execute_result"
    }
   ],
   "source": [
    "max(proba), min(proba)"
   ]
  },
  {
   "cell_type": "code",
   "execution_count": 41,
   "metadata": {},
   "outputs": [],
   "source": [
    "from oracles import BinaryLogistic"
   ]
  },
  {
   "cell_type": "code",
   "execution_count": 42,
   "metadata": {},
   "outputs": [],
   "source": [
    "oracle = BinaryLogistic(l2_coef=1)"
   ]
  },
  {
   "cell_type": "code",
   "execution_count": 61,
   "metadata": {},
   "outputs": [
    {
     "data": {
      "text/plain": [
       "scipy.sparse.csr.csr_matrix"
      ]
     },
     "execution_count": 61,
     "metadata": {},
     "output_type": "execute_result"
    }
   ],
   "source": [
    "type(test_matrix)"
   ]
  },
  {
   "cell_type": "code",
   "execution_count": 66,
   "metadata": {},
   "outputs": [
    {
     "data": {
      "text/plain": [
       "20676"
      ]
     },
     "execution_count": 66,
     "metadata": {},
     "output_type": "execute_result"
    }
   ],
   "source": [
    "np.sum(test_matrix.toarray() * w, axis = 1)"
   ]
  },
  {
   "cell_type": "code",
   "execution_count": 73,
   "metadata": {},
   "outputs": [],
   "source": [
    "res = np.sign(test_matrix * w)"
   ]
  },
  {
   "cell_type": "code",
   "execution_count": 74,
   "metadata": {},
   "outputs": [],
   "source": [
    "res[res == 0] = 1"
   ]
  },
  {
   "cell_type": "code",
   "execution_count": 76,
   "metadata": {},
   "outputs": [
    {
     "name": "stdout",
     "output_type": "stream",
     "text": [
      "Accuracy:  0.7572064229057844\n",
      "Roc_Auc:  0.6554399917722857\n",
      "Precision:  0.6629363176125767  - процент правильно токсичных\n",
      "Recall:  0.3985263495114528  - процент выбранных токсичных\n"
     ]
    }
   ],
   "source": [
    "check_metrics(test_target, res)"
   ]
  },
  {
   "cell_type": "code",
   "execution_count": 73,
   "metadata": {},
   "outputs": [],
   "source": [
    "sub = train_matrix * w"
   ]
  },
  {
   "cell_type": "code",
   "execution_count": 75,
   "metadata": {},
   "outputs": [
    {
     "data": {
      "text/plain": [
       "array([0.93895189, 0.73192902, 1.01481378, ..., 0.71199044, 0.98857926,\n",
       "       0.76294273])"
      ]
     },
     "execution_count": 75,
     "metadata": {},
     "output_type": "execute_result"
    }
   ],
   "source": [
    "np.log(1 + np.exp(-1 * sub))"
   ]
  },
  {
   "cell_type": "code",
   "execution_count": 77,
   "metadata": {},
   "outputs": [
    {
     "data": {
      "text/plain": [
       "array([0.93895189, 0.73192902, 1.01481378, ..., 0.71199044, 0.98857926,\n",
       "       0.76294273])"
      ]
     },
     "execution_count": 77,
     "metadata": {},
     "output_type": "execute_result"
    }
   ],
   "source": [
    "np.logaddexp(0, -1 * sub)"
   ]
  },
  {
   "cell_type": "code",
   "execution_count": 24,
   "metadata": {},
   "outputs": [
    {
     "data": {
      "text/plain": [
       "<3x2337 sparse matrix of type '<class 'numpy.int64'>'\n",
       "\twith 80 stored elements in Compressed Sparse Row format>"
      ]
     },
     "execution_count": 24,
     "metadata": {},
     "output_type": "execute_result"
    }
   ],
   "source": [
    "test_matrix[[1, 2, 3]"
   ]
  },
  {
   "cell_type": "code",
   "execution_count": 23,
   "metadata": {},
   "outputs": [],
   "source": [
    "from optimization import SGDClassifier"
   ]
  },
  {
   "cell_type": "code",
   "execution_count": 32,
   "metadata": {},
   "outputs": [],
   "source": [
    "stohastic = SGDClassifier(step_alpha=2.1, l2_coef = 0, batch_size= int(0.7 * train_matrix.shape[0]))"
   ]
  },
  {
   "cell_type": "code",
   "execution_count": 33,
   "metadata": {},
   "outputs": [
    {
     "name": "stdout",
     "output_type": "stream",
     "text": [
      "0.6999865542344558\n",
      "1.3999731084689115\n",
      "2.0999596627033674\n",
      "2.799946216937823\n",
      "3.4999327711722787\n",
      "4.199919325406735\n",
      "4.8999058796411905\n",
      "5.599892433875646\n",
      "6.299878988110102\n",
      "6.9998655423445575\n",
      "7.699852096579013\n",
      "8.39983865081347\n",
      "9.099825205047926\n",
      "9.799811759282383\n",
      "10.49979831351684\n",
      "11.199784867751296\n",
      "11.899771421985752\n",
      "12.599757976220209\n",
      "13.299744530454666\n",
      "13.999731084689122\n",
      "14.699717638923579\n",
      "15.399704193158035\n",
      "16.09969074739249\n",
      "16.799677301626947\n",
      "17.499663855861403\n",
      "18.19965041009586\n",
      "18.899636964330316\n",
      "19.599623518564773\n",
      "20.29961007279923\n",
      "20.999596627033686\n",
      "21.699583181268142\n",
      "22.3995697355026\n",
      "23.099556289737055\n",
      "23.799542843971512\n",
      "24.49952939820597\n",
      "25.199515952440425\n",
      "25.89950250667488\n",
      "26.599489060909338\n",
      "27.299475615143795\n",
      "27.99946216937825\n",
      "28.699448723612708\n",
      "29.399435277847164\n",
      "30.09942183208162\n",
      "30.799408386316077\n",
      "31.499394940550534\n",
      "32.19938149478499\n",
      "32.899368049019444\n",
      "33.5993546032539\n",
      "34.29934115748836\n",
      "34.99932771172281\n",
      "35.69931426595727\n",
      "36.399300820191726\n",
      "37.09928737442618\n",
      "37.79927392866064\n",
      "38.499260482895096\n",
      "39.19924703712955\n",
      "39.89923359136401\n",
      "40.599220145598466\n",
      "41.29920669983292\n",
      "41.99919325406738\n",
      "42.699179808301835\n",
      "43.39916636253629\n",
      "44.09915291677075\n",
      "44.799139471005205\n",
      "45.49912602523966\n",
      "46.19911257947412\n",
      "46.899099133708575\n",
      "47.59908568794303\n",
      "48.29907224217749\n",
      "48.999058796411944\n",
      "49.6990453506464\n",
      "50.39903190488086\n",
      "51.099018459115314\n",
      "51.79900501334977\n",
      "52.49899156758423\n",
      "53.19897812181868\n",
      "53.89896467605314\n",
      "54.5989512302876\n",
      "55.29893778452205\n",
      "55.99892433875651\n",
      "56.698910892990966\n",
      "57.39889744722542\n",
      "58.09888400145988\n",
      "58.798870555694336\n",
      "59.49885710992879\n",
      "60.19884366416325\n",
      "60.898830218397705\n",
      "61.59881677263216\n",
      "62.29880332686662\n",
      "62.998789881101075\n",
      "63.69877643533553\n",
      "64.39876298956999\n",
      "65.09874954380444\n",
      "65.7987360980389\n",
      "66.49872265227336\n",
      "67.19870920650781\n",
      "67.89869576074227\n",
      "68.59868231497673\n",
      "69.29866886921118\n",
      "69.99865542344564\n",
      "70.6986419776801\n",
      "71.39862853191455\n",
      "72.09861508614901\n",
      "72.79860164038347\n",
      "73.49858819461792\n",
      "74.19857474885238\n",
      "74.89856130308684\n",
      "75.5985478573213\n",
      "76.29853441155575\n",
      "76.9985209657902\n",
      "77.69850752002466\n",
      "78.39849407425912\n",
      "79.09848062849358\n",
      "79.79846718272803\n",
      "80.49845373696249\n",
      "81.19844029119695\n",
      "81.8984268454314\n",
      "82.59841339966586\n",
      "83.29839995390032\n",
      "83.99838650813477\n",
      "84.69837306236923\n",
      "85.39835961660368\n",
      "86.09834617083814\n",
      "86.7983327250726\n",
      "87.49831927930705\n",
      "88.19830583354151\n",
      "88.89829238777597\n",
      "89.59827894201042\n",
      "90.29826549624488\n",
      "90.99825205047934\n",
      "91.6982386047138\n",
      "92.39822515894825\n",
      "93.0982117131827\n",
      "93.79819826741716\n",
      "94.49818482165162\n",
      "95.19817137588608\n",
      "95.89815793012053\n",
      "96.59814448435499\n",
      "97.29813103858945\n",
      "97.9981175928239\n",
      "98.69810414705836\n",
      "99.39809070129282\n",
      "100.09807725552727\n",
      "100.79806380976173\n",
      "101.49805036399619\n",
      "102.19803691823064\n",
      "102.8980234724651\n",
      "103.59801002669955\n",
      "104.29799658093401\n",
      "104.99798313516847\n",
      "105.69796968940292\n",
      "106.39795624363738\n",
      "107.09794279787184\n",
      "107.7979293521063\n",
      "108.49791590634075\n",
      "109.19790246057521\n",
      "109.89788901480966\n",
      "110.59787556904412\n",
      "111.29786212327858\n",
      "111.99784867751303\n",
      "112.69783523174749\n",
      "113.39782178598195\n",
      "114.0978083402164\n",
      "114.79779489445086\n",
      "115.49778144868532\n",
      "116.19776800291977\n",
      "116.89775455715423\n",
      "117.59774111138869\n",
      "118.29772766562314\n",
      "118.9977142198576\n",
      "119.69770077409206\n",
      "120.39768732832651\n",
      "121.09767388256097\n",
      "121.79766043679543\n",
      "122.49764699102988\n",
      "123.19763354526434\n",
      "123.8976200994988\n",
      "124.59760665373325\n",
      "125.29759320796771\n",
      "125.99757976220216\n",
      "126.69756631643662\n",
      "127.39755287067108\n",
      "128.09753942490553\n",
      "128.79752597913998\n",
      "129.49751253337442\n",
      "130.19749908760886\n",
      "130.8974856418433\n",
      "131.59747219607775\n",
      "132.2974587503122\n",
      "132.99744530454663\n",
      "133.69743185878107\n",
      "134.39741841301552\n",
      "135.09740496724996\n",
      "135.7973915214844\n",
      "136.49737807571884\n",
      "137.19736462995328\n",
      "137.89735118418773\n",
      "138.59733773842217\n",
      "139.2973242926566\n",
      "139.99731084689105\n",
      "140.6972974011255\n",
      "141.39728395535994\n",
      "142.09727050959438\n",
      "142.79725706382882\n",
      "143.49724361806327\n",
      "144.1972301722977\n",
      "144.89721672653215\n",
      "145.5972032807666\n",
      "146.29718983500103\n",
      "146.99717638923548\n",
      "147.69716294346992\n",
      "148.39714949770436\n",
      "149.0971360519388\n",
      "149.79712260617325\n",
      "150.4971091604077\n",
      "151.19709571464213\n",
      "151.89708226887657\n",
      "152.59706882311102\n",
      "153.29705537734546\n",
      "153.9970419315799\n",
      "154.69702848581434\n",
      "155.39701504004879\n",
      "156.09700159428323\n",
      "156.79698814851767\n",
      "157.4969747027521\n",
      "158.19696125698655\n",
      "158.896947811221\n",
      "159.59693436545544\n",
      "160.29692091968988\n",
      "160.99690747392432\n",
      "161.69689402815877\n",
      "162.3968805823932\n",
      "163.09686713662765\n",
      "163.7968536908621\n",
      "164.49684024509654\n",
      "165.19682679933098\n",
      "165.89681335356542\n",
      "166.59679990779986\n",
      "167.2967864620343\n",
      "167.99677301626875\n",
      "168.6967595705032\n",
      "169.39674612473763\n",
      "170.09673267897207\n",
      "170.79671923320652\n",
      "171.49670578744096\n",
      "172.1966923416754\n",
      "172.89667889590984\n",
      "173.5966654501443\n",
      "174.29665200437873\n",
      "174.99663855861317\n",
      "175.6966251128476\n",
      "176.39661166708206\n",
      "177.0965982213165\n",
      "177.79658477555094\n",
      "178.49657132978538\n",
      "179.19655788401982\n",
      "179.89654443825427\n",
      "180.5965309924887\n",
      "181.29651754672315\n",
      "181.9965041009576\n",
      "182.69649065519204\n",
      "183.39647720942648\n",
      "184.09646376366092\n",
      "184.79645031789536\n",
      "185.4964368721298\n",
      "186.19642342636425\n",
      "186.8964099805987\n",
      "187.59639653483313\n",
      "188.29638308906758\n",
      "188.99636964330202\n",
      "189.69635619753646\n",
      "190.3963427517709\n",
      "191.09632930600534\n",
      "191.7963158602398\n",
      "192.49630241447423\n",
      "193.19628896870867\n",
      "193.8962755229431\n",
      "194.59626207717756\n",
      "195.296248631412\n",
      "195.99623518564644\n",
      "196.69622173988088\n",
      "197.39620829411533\n",
      "198.09619484834977\n",
      "198.7961814025842\n",
      "199.49616795681865\n",
      "200.1961545110531\n",
      "200.89614106528754\n",
      "201.59612761952198\n",
      "202.29611417375642\n",
      "202.99610072799086\n",
      "203.6960872822253\n",
      "204.39607383645975\n",
      "205.0960603906942\n",
      "205.79604694492863\n",
      "206.49603349916308\n",
      "207.19602005339752\n",
      "207.89600660763196\n",
      "208.5959931618664\n",
      "209.29597971610085\n",
      "209.9959662703353\n",
      "210.69595282456973\n",
      "211.39593937880417\n",
      "212.09592593303861\n",
      "212.79591248727306\n",
      "213.4958990415075\n",
      "214.19588559574194\n",
      "214.89587214997638\n",
      "215.59585870421083\n",
      "216.29584525844527\n",
      "216.9958318126797\n",
      "217.69581836691415\n",
      "218.3958049211486\n",
      "219.09579147538304\n",
      "219.79577802961748\n",
      "220.49576458385192\n",
      "221.19575113808637\n",
      "221.8957376923208\n",
      "222.59572424655525\n",
      "223.2957108007897\n",
      "223.99569735502413\n",
      "224.69568390925858\n",
      "225.39567046349302\n",
      "226.09565701772746\n",
      "226.7956435719619\n",
      "227.49563012619635\n",
      "228.1956166804308\n",
      "228.89560323466523\n",
      "229.59558978889967\n",
      "230.29557634313412\n",
      "230.99556289736856\n",
      "231.695549451603\n",
      "232.39553600583744\n",
      "233.09552256007188\n",
      "233.79550911430633\n",
      "234.49549566854077\n",
      "235.1954822227752\n",
      "235.89546877700965\n",
      "236.5954553312441\n",
      "237.29544188547854\n",
      "237.99542843971298\n",
      "238.69541499394742\n",
      "239.39540154818187\n",
      "240.0953881024163\n",
      "240.79537465665075\n",
      "241.4953612108852\n",
      "242.19534776511964\n",
      "242.89533431935408\n",
      "243.59532087358852\n",
      "244.29530742782296\n",
      "244.9952939820574\n",
      "245.69528053629185\n",
      "246.3952670905263\n",
      "247.09525364476073\n",
      "247.79524019899517\n",
      "248.49522675322962\n",
      "249.19521330746406\n",
      "249.8951998616985\n",
      "250.59518641593294\n",
      "251.29517297016739\n",
      "251.99515952440183\n",
      "252.69514607863627\n",
      "253.3951326328707\n",
      "254.09511918710515\n",
      "254.7951057413396\n",
      "255.49509229557404\n",
      "256.1950788498085\n",
      "256.89506540404295\n",
      "257.5950519582774\n",
      "258.29503851251184\n",
      "258.9950250667463\n",
      "259.6950116209807\n",
      "260.39499817521516\n",
      "261.0949847294496\n",
      "261.79497128368405\n",
      "262.4949578379185\n",
      "263.19494439215293\n",
      "263.8949309463874\n",
      "264.5949175006218\n",
      "265.29490405485626\n",
      "265.9948906090907\n",
      "266.69487716332515\n",
      "267.3948637175596\n",
      "268.09485027179403\n",
      "268.7948368260285\n",
      "269.4948233802629\n",
      "270.19480993449736\n",
      "270.8947964887318\n",
      "271.59478304296624\n",
      "272.2947695972007\n",
      "272.9947561514351\n",
      "273.69474270566957\n",
      "274.394729259904\n",
      "275.09471581413845\n",
      "275.7947023683729\n",
      "276.49468892260734\n",
      "277.1946754768418\n",
      "277.8946620310762\n",
      "278.59464858531067\n",
      "279.2946351395451\n",
      "279.99462169377955\n",
      "280.694608248014\n",
      "281.39459480224843\n",
      "282.0945813564829\n",
      "282.7945679107173\n",
      "283.49455446495176\n",
      "284.1945410191862\n",
      "284.89452757342065\n",
      "285.5945141276551\n",
      "286.29450068188953\n",
      "286.994487236124\n",
      "287.6944737903584\n",
      "288.39446034459286\n",
      "289.0944468988273\n",
      "289.79443345306174\n",
      "290.4944200072962\n",
      "291.1944065615306\n",
      "291.89439311576507\n",
      "292.5943796699995\n",
      "293.29436622423395\n",
      "293.9943527784684\n",
      "294.69433933270284\n",
      "295.3943258869373\n",
      "296.0943124411717\n",
      "296.79429899540617\n",
      "297.4942855496406\n",
      "298.19427210387505\n",
      "298.8942586581095\n",
      "299.59424521234394\n",
      "300.2942317665784\n",
      "300.9942183208128\n",
      "301.69420487504726\n",
      "302.3941914292817\n",
      "303.09417798351615\n",
      "303.7941645377506\n",
      "304.49415109198503\n",
      "305.1941376462195\n",
      "305.8941242004539\n",
      "306.59411075468836\n",
      "307.2940973089228\n",
      "307.99408386315724\n",
      "308.6940704173917\n",
      "309.3940569716261\n",
      "310.09404352586057\n",
      "310.794030080095\n",
      "311.49401663432945\n"
     ]
    },
    {
     "name": "stdout",
     "output_type": "stream",
     "text": [
      "312.1940031885639\n",
      "312.89398974279834\n",
      "313.5939762970328\n",
      "314.2939628512672\n",
      "314.99394940550167\n",
      "315.6939359597361\n",
      "316.39392251397055\n",
      "317.093909068205\n",
      "317.79389562243944\n",
      "318.4938821766739\n",
      "319.1938687309083\n",
      "319.89385528514276\n",
      "320.5938418393772\n",
      "321.29382839361165\n",
      "321.9938149478461\n",
      "322.69380150208053\n",
      "323.393788056315\n",
      "324.0937746105494\n",
      "324.79376116478386\n",
      "325.4937477190183\n",
      "326.19373427325274\n",
      "326.8937208274872\n",
      "327.59370738172163\n",
      "328.29369393595607\n",
      "328.9936804901905\n",
      "329.69366704442496\n",
      "330.3936535986594\n",
      "331.09364015289384\n",
      "331.7936267071283\n",
      "332.4936132613627\n",
      "333.19359981559717\n",
      "333.8935863698316\n",
      "334.59357292406605\n",
      "335.2935594783005\n",
      "335.99354603253494\n",
      "336.6935325867694\n",
      "337.3935191410038\n",
      "338.09350569523826\n",
      "338.7934922494727\n",
      "339.49347880370715\n",
      "340.1934653579416\n",
      "340.89345191217603\n",
      "341.5934384664105\n",
      "342.2934250206449\n",
      "342.99341157487936\n",
      "343.6933981291138\n",
      "344.39338468334824\n",
      "345.0933712375827\n",
      "345.79335779181713\n",
      "346.4933443460516\n",
      "347.193330900286\n",
      "347.89331745452046\n",
      "348.5933040087549\n",
      "349.29329056298934\n",
      "349.9932771172238\n",
      "350.6932636714582\n",
      "351.39325022569267\n",
      "352.0932367799271\n",
      "352.79322333416155\n",
      "353.493209888396\n",
      "354.19319644263044\n",
      "354.8931829968649\n",
      "355.5931695510993\n",
      "356.29315610533376\n",
      "356.9931426595682\n",
      "357.69312921380265\n",
      "358.3931157680371\n",
      "359.09310232227153\n",
      "359.793088876506\n",
      "360.4930754307404\n",
      "361.19306198497486\n",
      "361.8930485392093\n",
      "362.59303509344375\n",
      "363.2930216476782\n",
      "363.99300820191263\n",
      "364.6929947561471\n",
      "365.3929813103815\n",
      "366.09296786461596\n",
      "366.7929544188504\n",
      "367.49294097308484\n",
      "368.1929275273193\n",
      "368.8929140815537\n",
      "369.59290063578817\n",
      "370.2928871900226\n",
      "370.99287374425705\n",
      "371.6928602984915\n",
      "372.39284685272594\n",
      "373.0928334069604\n",
      "373.7928199611948\n",
      "374.49280651542927\n",
      "375.1927930696637\n",
      "375.89277962389815\n",
      "376.5927661781326\n",
      "377.29275273236703\n",
      "377.9927392866015\n",
      "378.6927258408359\n",
      "379.39271239507036\n",
      "380.0926989493048\n",
      "380.79268550353925\n",
      "381.4926720577737\n",
      "382.19265861200813\n",
      "382.8926451662426\n",
      "383.592631720477\n",
      "384.29261827471146\n",
      "384.9926048289459\n",
      "385.69259138318034\n",
      "386.3925779374148\n",
      "387.0925644916492\n",
      "387.79255104588367\n",
      "388.4925376001181\n",
      "389.19252415435255\n",
      "389.892510708587\n",
      "390.59249726282144\n",
      "391.2924838170559\n",
      "391.9924703712903\n",
      "392.69245692552477\n",
      "393.3924434797592\n",
      "394.09243003399365\n",
      "394.7924165882281\n",
      "395.49240314246254\n",
      "396.192389696697\n",
      "396.8923762509314\n",
      "397.59236280516586\n",
      "398.2923493594003\n",
      "398.99233591363475\n",
      "399.6923224678692\n",
      "400.39230902210363\n",
      "401.0922955763381\n",
      "401.7922821305725\n",
      "402.49226868480696\n",
      "403.1922552390414\n",
      "403.89224179327584\n",
      "404.5922283475103\n",
      "405.2922149017447\n",
      "405.99220145597917\n",
      "406.6921880102136\n",
      "407.39217456444806\n",
      "408.0921611186825\n",
      "408.79214767291694\n",
      "409.4921342271514\n",
      "410.1921207813858\n",
      "410.89210733562027\n",
      "411.5920938898547\n",
      "412.29208044408915\n",
      "412.9920669983236\n",
      "413.69205355255804\n",
      "414.3920401067925\n",
      "415.0920266610269\n",
      "415.79201321526136\n",
      "416.4919997694958\n",
      "417.19198632373025\n",
      "417.8919728779647\n",
      "418.59195943219913\n",
      "419.2919459864336\n",
      "419.991932540668\n",
      "420.69191909490246\n",
      "421.3919056491369\n",
      "422.09189220337134\n",
      "422.7918787576058\n",
      "423.49186531184023\n",
      "424.19185186607467\n",
      "424.8918384203091\n",
      "425.59182497454356\n",
      "426.291811528778\n",
      "426.99179808301244\n",
      "427.6917846372469\n",
      "428.3917711914813\n",
      "429.09175774571577\n",
      "429.7917442999502\n",
      "430.49173085418465\n",
      "431.1917174084191\n",
      "431.89170396265354\n",
      "432.591690516888\n",
      "433.2916770711224\n",
      "433.99166362535686\n",
      "434.6916501795913\n",
      "435.39163673382575\n",
      "436.0916232880602\n",
      "436.79160984229463\n",
      "437.4915963965291\n",
      "438.1915829507635\n",
      "438.89156950499796\n",
      "439.5915560592324\n",
      "440.29154261346685\n",
      "440.9915291677013\n",
      "441.69151572193573\n",
      "442.3915022761702\n",
      "443.0914888304046\n",
      "443.79147538463906\n",
      "444.4914619388735\n",
      "445.19144849310794\n",
      "445.8914350473424\n",
      "446.5914216015768\n",
      "447.29140815581127\n",
      "447.9913947100457\n",
      "448.69138126428015\n",
      "449.3913678185146\n",
      "450.09135437274904\n",
      "450.7913409269835\n",
      "451.4913274812179\n",
      "452.19131403545236\n",
      "452.8913005896868\n",
      "453.59128714392125\n",
      "454.2912736981557\n",
      "454.99126025239013\n",
      "455.6912468066246\n",
      "456.391233360859\n",
      "457.09121991509346\n",
      "457.7912064693279\n",
      "458.49119302356235\n",
      "459.1911795777968\n",
      "459.89116613203123\n",
      "460.5911526862657\n",
      "461.2911392405001\n",
      "461.99112579473456\n",
      "462.691112348969\n",
      "463.39109890320344\n",
      "464.0910854574379\n",
      "464.7910720116723\n",
      "465.49105856590677\n",
      "466.1910451201412\n",
      "466.89103167437565\n",
      "467.5910182286101\n",
      "468.29100478284454\n",
      "468.990991337079\n",
      "469.6909778913134\n",
      "470.39096444554787\n",
      "471.0909509997823\n",
      "471.79093755401675\n",
      "472.4909241082512\n",
      "473.19091066248563\n",
      "473.8908972167201\n",
      "474.5908837709545\n",
      "475.29087032518896\n",
      "475.9908568794234\n",
      "476.69084343365785\n",
      "477.3908299878923\n",
      "478.09081654212673\n",
      "478.7908030963612\n",
      "479.4907896505956\n",
      "480.19077620483006\n",
      "480.8907627590645\n",
      "481.59074931329894\n",
      "482.2907358675334\n",
      "482.9907224217678\n",
      "483.69070897600227\n",
      "484.3906955302367\n",
      "485.09068208447115\n",
      "485.7906686387056\n",
      "486.49065519294004\n",
      "487.1906417471745\n",
      "487.8906283014089\n",
      "488.59061485564337\n",
      "489.2906014098778\n",
      "489.99058796411225\n",
      "490.6905745183467\n",
      "491.39056107258114\n",
      "492.0905476268156\n",
      "492.79053418105\n",
      "493.49052073528446\n",
      "494.1905072895189\n",
      "494.89049384375335\n",
      "495.5904803979878\n",
      "496.29046695222223\n",
      "496.9904535064567\n",
      "497.6904400606911\n",
      "498.39042661492556\n",
      "499.09041316916\n",
      "499.79039972339444\n",
      "500.4903862776289\n",
      "501.19037283186333\n",
      "501.89035938609777\n",
      "502.5903459403322\n",
      "503.29033249456666\n",
      "503.9903190488011\n",
      "504.69030560303554\n",
      "505.39029215727\n",
      "506.0902787115044\n",
      "506.79026526573887\n",
      "507.4902518199733\n",
      "508.19023837420775\n",
      "508.8902249284422\n",
      "509.59021148267664\n",
      "510.2901980369111\n",
      "510.9901845911455\n",
      "511.69017114537996\n",
      "512.3901576996144\n",
      "513.0901442538488\n",
      "513.7901308080833\n",
      "514.4901173623177\n",
      "515.1901039165522\n",
      "515.8900904707866\n",
      "516.5900770250211\n",
      "517.2900635792555\n",
      "517.99005013349\n",
      "518.6900366877244\n",
      "519.3900232419588\n",
      "520.0900097961933\n",
      "520.7899963504277\n",
      "521.4899829046622\n",
      "522.1899694588966\n",
      "522.889956013131\n",
      "523.5899425673655\n",
      "524.2899291215999\n",
      "524.9899156758344\n",
      "525.6899022300688\n",
      "526.3898887843033\n",
      "527.0898753385377\n",
      "527.7898618927721\n",
      "528.4898484470066\n",
      "529.189835001241\n",
      "529.8898215554755\n",
      "530.5898081097099\n",
      "531.2897946639443\n",
      "531.9897812181788\n",
      "532.6897677724132\n",
      "533.3897543266477\n",
      "534.0897408808821\n",
      "534.7897274351166\n",
      "535.489713989351\n",
      "536.1897005435854\n",
      "536.8896870978199\n",
      "537.5896736520543\n",
      "538.2896602062888\n",
      "538.9896467605232\n",
      "539.6896333147577\n",
      "540.3896198689921\n",
      "541.0896064232265\n",
      "541.789592977461\n",
      "542.4895795316954\n",
      "543.1895660859299\n",
      "543.8895526401643\n",
      "544.5895391943988\n",
      "545.2895257486332\n",
      "545.9895123028676\n",
      "546.6894988571021\n",
      "547.3894854113365\n",
      "548.089471965571\n",
      "548.7894585198054\n",
      "549.4894450740398\n",
      "550.1894316282743\n",
      "550.8894181825087\n",
      "551.5894047367432\n",
      "552.2893912909776\n",
      "552.9893778452121\n",
      "553.6893643994465\n",
      "554.389350953681\n",
      "555.0893375079154\n",
      "555.7893240621498\n",
      "556.4893106163843\n",
      "557.1892971706187\n",
      "557.8892837248532\n",
      "558.5892702790876\n",
      "559.289256833322\n",
      "559.9892433875565\n",
      "560.6892299417909\n",
      "561.3892164960254\n",
      "562.0892030502598\n",
      "562.7891896044943\n",
      "563.4891761587287\n",
      "564.1891627129631\n",
      "564.8891492671976\n",
      "565.589135821432\n",
      "566.2891223756665\n",
      "566.9891089299009\n",
      "567.6890954841354\n",
      "568.3890820383698\n",
      "569.0890685926042\n",
      "569.7890551468387\n",
      "570.4890417010731\n",
      "571.1890282553076\n",
      "571.889014809542\n",
      "572.5890013637764\n",
      "573.2889879180109\n",
      "573.9889744722453\n",
      "574.6889610264798\n",
      "575.3889475807142\n",
      "576.0889341349487\n",
      "576.7889206891831\n",
      "577.4889072434175\n",
      "578.188893797652\n",
      "578.8888803518864\n",
      "579.5888669061209\n",
      "580.2888534603553\n",
      "580.9888400145898\n",
      "581.6888265688242\n",
      "582.3888131230586\n",
      "583.0887996772931\n",
      "583.7887862315275\n",
      "584.488772785762\n",
      "585.1887593399964\n",
      "585.8887458942309\n",
      "586.5887324484653\n",
      "587.2887190026997\n",
      "587.9887055569342\n",
      "588.6886921111686\n",
      "589.3886786654031\n",
      "590.0886652196375\n",
      "590.788651773872\n",
      "591.4886383281064\n",
      "592.1886248823408\n",
      "592.8886114365753\n",
      "593.5885979908097\n",
      "594.2885845450442\n",
      "594.9885710992786\n",
      "595.688557653513\n",
      "596.3885442077475\n",
      "597.0885307619819\n",
      "597.7885173162164\n",
      "598.4885038704508\n",
      "599.1884904246853\n",
      "599.8884769789197\n",
      "600.5884635331541\n",
      "601.2884500873886\n",
      "601.988436641623\n",
      "602.6884231958575\n",
      "603.3884097500919\n",
      "604.0883963043264\n",
      "604.7883828585608\n",
      "605.4883694127952\n",
      "606.1883559670297\n",
      "606.8883425212641\n",
      "607.5883290754986\n",
      "608.288315629733\n",
      "608.9883021839674\n",
      "609.6882887382019\n",
      "610.3882752924363\n",
      "611.0882618466708\n",
      "611.7882484009052\n",
      "612.4882349551397\n",
      "613.1882215093741\n",
      "613.8882080636085\n",
      "614.588194617843\n",
      "615.2881811720774\n",
      "615.9881677263119\n",
      "616.6881542805463\n",
      "617.3881408347808\n",
      "618.0881273890152\n",
      "618.7881139432496\n",
      "619.4881004974841\n",
      "620.1880870517185\n",
      "620.888073605953\n",
      "621.5880601601874\n",
      "622.2880467144219\n",
      "622.9880332686563\n",
      "623.6880198228907\n",
      "624.3880063771252\n",
      "625.0879929313596\n",
      "625.7879794855941\n",
      "626.4879660398285\n",
      "627.187952594063\n",
      "627.8879391482974\n",
      "628.5879257025318\n"
     ]
    },
    {
     "name": "stdout",
     "output_type": "stream",
     "text": [
      "629.2879122567663\n",
      "629.9878988110007\n",
      "630.6878853652352\n",
      "631.3878719194696\n",
      "632.087858473704\n",
      "632.7878450279385\n",
      "633.4878315821729\n",
      "634.1878181364074\n",
      "634.8878046906418\n",
      "635.5877912448763\n",
      "636.2877777991107\n",
      "636.9877643533451\n",
      "637.6877509075796\n",
      "638.387737461814\n",
      "639.0877240160485\n",
      "639.7877105702829\n",
      "640.4876971245174\n",
      "641.1876836787518\n",
      "641.8876702329862\n",
      "642.5876567872207\n",
      "643.2876433414551\n",
      "643.9876298956896\n",
      "644.687616449924\n",
      "645.3876030041584\n",
      "646.0875895583929\n",
      "646.7875761126273\n",
      "647.4875626668618\n",
      "648.1875492210962\n",
      "648.8875357753307\n",
      "649.5875223295651\n",
      "650.2875088837995\n",
      "650.987495438034\n",
      "651.6874819922684\n",
      "652.3874685465029\n",
      "653.0874551007373\n",
      "653.7874416549718\n",
      "654.4874282092062\n",
      "655.1874147634406\n",
      "655.8874013176751\n",
      "656.5873878719095\n",
      "657.287374426144\n",
      "657.9873609803784\n",
      "658.6873475346129\n",
      "659.3873340888473\n",
      "660.0873206430817\n",
      "660.7873071973162\n",
      "661.4872937515506\n",
      "662.1872803057851\n",
      "662.8872668600195\n",
      "663.587253414254\n",
      "664.2872399684884\n",
      "664.9872265227228\n",
      "665.6872130769573\n",
      "666.3871996311917\n",
      "667.0871861854262\n",
      "667.7871727396606\n",
      "668.487159293895\n",
      "669.1871458481295\n",
      "669.8871324023639\n",
      "670.5871189565984\n",
      "671.2871055108328\n",
      "671.9870920650673\n",
      "672.6870786193017\n",
      "673.3870651735361\n",
      "674.0870517277706\n",
      "674.787038282005\n",
      "675.4870248362395\n",
      "676.1870113904739\n",
      "676.8869979447084\n",
      "677.5869844989428\n",
      "678.2869710531772\n",
      "678.9869576074117\n",
      "679.6869441616461\n",
      "680.3869307158806\n",
      "681.086917270115\n",
      "681.7869038243495\n",
      "682.4868903785839\n",
      "683.1868769328183\n",
      "683.8868634870528\n",
      "684.5868500412872\n",
      "685.2868365955217\n",
      "685.9868231497561\n",
      "686.6868097039905\n",
      "687.386796258225\n",
      "688.0867828124594\n",
      "688.7867693666939\n",
      "689.4867559209283\n",
      "690.1867424751628\n",
      "690.8867290293972\n",
      "691.5867155836316\n",
      "692.2867021378661\n",
      "692.9866886921005\n",
      "693.686675246335\n",
      "694.3866618005694\n",
      "695.0866483548039\n",
      "695.7866349090383\n",
      "696.4866214632727\n",
      "697.1866080175072\n",
      "697.8865945717416\n",
      "698.5865811259761\n",
      "699.2865676802105\n",
      "699.986554234445\n",
      "700.6865407886794\n",
      "701.3865273429138\n",
      "702.0865138971483\n",
      "702.7865004513827\n",
      "703.4864870056172\n",
      "704.1864735598516\n",
      "704.886460114086\n",
      "705.5864466683205\n",
      "706.2864332225549\n",
      "706.9864197767894\n",
      "707.6864063310238\n",
      "708.3863928852583\n",
      "709.0863794394927\n",
      "709.7863659937271\n",
      "710.4863525479616\n",
      "711.186339102196\n",
      "711.8863256564305\n",
      "712.5863122106649\n",
      "713.2862987648994\n",
      "713.9862853191338\n",
      "714.6862718733682\n",
      "715.3862584276027\n",
      "716.0862449818371\n",
      "716.7862315360716\n",
      "717.486218090306\n",
      "718.1862046445405\n",
      "718.8861911987749\n",
      "719.5861777530093\n",
      "720.2861643072438\n",
      "720.9861508614782\n",
      "721.6861374157127\n",
      "722.3861239699471\n",
      "723.0861105241815\n",
      "723.786097078416\n",
      "724.4860836326504\n",
      "725.1860701868849\n",
      "725.8860567411193\n",
      "726.5860432953538\n",
      "727.2860298495882\n",
      "727.9860164038226\n",
      "728.6860029580571\n",
      "729.3859895122915\n",
      "730.085976066526\n",
      "730.7859626207604\n",
      "731.4859491749949\n",
      "732.1859357292293\n",
      "732.8859222834637\n",
      "733.5859088376982\n",
      "734.2858953919326\n",
      "734.9858819461671\n",
      "735.6858685004015\n",
      "736.385855054636\n",
      "737.0858416088704\n",
      "737.7858281631048\n",
      "738.4858147173393\n",
      "739.1858012715737\n",
      "739.8857878258082\n",
      "740.5857743800426\n",
      "741.285760934277\n",
      "741.9857474885115\n",
      "742.6857340427459\n",
      "743.3857205969804\n",
      "744.0857071512148\n",
      "744.7856937054493\n",
      "745.4856802596837\n",
      "746.1856668139181\n",
      "746.8856533681526\n",
      "747.585639922387\n",
      "748.2856264766215\n",
      "748.9856130308559\n",
      "749.6855995850904\n",
      "750.3855861393248\n",
      "751.0855726935592\n",
      "751.7855592477937\n",
      "752.4855458020281\n",
      "753.1855323562626\n",
      "753.885518910497\n",
      "754.5855054647315\n",
      "755.2854920189659\n",
      "755.9854785732003\n",
      "756.6854651274348\n",
      "757.3854516816692\n",
      "758.0854382359037\n",
      "758.7854247901381\n",
      "759.4854113443726\n",
      "760.185397898607\n",
      "760.8853844528414\n",
      "761.5853710070759\n",
      "762.2853575613103\n",
      "762.9853441155448\n",
      "763.6853306697792\n",
      "764.3853172240136\n",
      "765.0853037782481\n",
      "765.7852903324825\n",
      "766.485276886717\n",
      "767.1852634409514\n",
      "767.8852499951859\n",
      "768.5852365494203\n",
      "769.2852231036547\n",
      "769.9852096578892\n",
      "770.6851962121236\n",
      "771.3851827663581\n",
      "772.0851693205925\n",
      "772.785155874827\n",
      "773.4851424290614\n",
      "774.1851289832958\n",
      "774.8851155375303\n",
      "775.5851020917647\n",
      "776.2850886459992\n",
      "776.9850752002336\n",
      "777.685061754468\n",
      "778.3850483087025\n",
      "779.0850348629369\n",
      "779.7850214171714\n",
      "780.4850079714058\n",
      "781.1849945256403\n",
      "781.8849810798747\n",
      "782.5849676341091\n",
      "783.2849541883436\n",
      "783.984940742578\n",
      "784.6849272968125\n",
      "785.3849138510469\n",
      "786.0849004052814\n",
      "786.7848869595158\n",
      "787.4848735137502\n",
      "788.1848600679847\n",
      "788.8848466222191\n",
      "789.5848331764536\n",
      "790.284819730688\n",
      "790.9848062849225\n",
      "791.6847928391569\n",
      "792.3847793933913\n",
      "793.0847659476258\n",
      "793.7847525018602\n",
      "794.4847390560947\n",
      "795.1847256103291\n",
      "795.8847121645636\n",
      "796.584698718798\n",
      "797.2846852730324\n",
      "797.9846718272669\n",
      "798.6846583815013\n",
      "799.3846449357358\n",
      "800.0846314899702\n",
      "800.7846180442046\n",
      "801.4846045984391\n",
      "802.1845911526735\n",
      "802.884577706908\n",
      "803.5845642611424\n",
      "804.2845508153769\n",
      "804.9845373696113\n",
      "805.6845239238457\n",
      "806.3845104780802\n",
      "807.0844970323146\n",
      "807.7844835865491\n",
      "808.4844701407835\n",
      "809.184456695018\n",
      "809.8844432492524\n",
      "810.5844298034868\n",
      "811.2844163577213\n",
      "811.9844029119557\n",
      "812.6843894661902\n",
      "813.3843760204246\n",
      "814.084362574659\n",
      "814.7843491288935\n",
      "815.4843356831279\n",
      "816.1843222373624\n",
      "816.8843087915968\n",
      "817.5842953458313\n",
      "818.2842819000657\n",
      "818.9842684543001\n",
      "819.6842550085346\n",
      "820.384241562769\n",
      "821.0842281170035\n",
      "821.7842146712379\n",
      "822.4842012254724\n",
      "823.1841877797068\n",
      "823.8841743339412\n",
      "824.5841608881757\n",
      "825.2841474424101\n",
      "825.9841339966446\n",
      "826.684120550879\n",
      "827.3841071051135\n",
      "828.0840936593479\n",
      "828.7840802135823\n",
      "829.4840667678168\n",
      "830.1840533220512\n",
      "830.8840398762857\n",
      "831.5840264305201\n",
      "832.2840129847546\n",
      "832.983999538989\n",
      "833.6839860932234\n",
      "834.3839726474579\n",
      "835.0839592016923\n",
      "835.7839457559268\n",
      "836.4839323101612\n",
      "837.1839188643957\n",
      "837.8839054186301\n",
      "838.5838919728645\n",
      "839.283878527099\n",
      "839.9838650813334\n",
      "840.6838516355679\n",
      "841.3838381898023\n",
      "842.0838247440367\n",
      "842.7838112982712\n",
      "843.4837978525056\n",
      "844.1837844067401\n",
      "844.8837709609745\n",
      "845.583757515209\n",
      "846.2837440694434\n",
      "846.9837306236778\n",
      "847.6837171779123\n",
      "848.3837037321467\n",
      "849.0836902863812\n",
      "849.7836768406156\n",
      "850.48366339485\n",
      "851.1836499490845\n",
      "851.8836365033189\n",
      "852.5836230575534\n",
      "853.2836096117878\n",
      "853.9835961660223\n",
      "854.6835827202567\n",
      "855.3835692744912\n",
      "856.0835558287256\n",
      "856.78354238296\n",
      "857.4835289371945\n",
      "858.1835154914289\n",
      "858.8835020456634\n",
      "859.5834885998978\n",
      "860.2834751541322\n",
      "860.9834617083667\n",
      "861.6834482626011\n",
      "862.3834348168356\n",
      "863.08342137107\n",
      "863.7834079253045\n",
      "864.4833944795389\n",
      "865.1833810337733\n",
      "865.8833675880078\n",
      "866.5833541422422\n",
      "867.2833406964767\n",
      "867.9833272507111\n",
      "868.6833138049456\n",
      "869.38330035918\n",
      "870.0832869134144\n",
      "870.7832734676489\n",
      "871.4832600218833\n",
      "872.1832465761178\n",
      "872.8832331303522\n",
      "873.5832196845867\n",
      "874.2832062388211\n",
      "874.9831927930555\n",
      "875.68317934729\n",
      "876.3831659015244\n",
      "877.0831524557589\n",
      "877.7831390099933\n",
      "878.4831255642277\n",
      "879.1831121184622\n",
      "879.8830986726966\n",
      "880.5830852269311\n",
      "881.2830717811655\n",
      "881.9830583354\n",
      "882.6830448896344\n",
      "883.3830314438688\n",
      "884.0830179981033\n",
      "884.7830045523377\n",
      "885.4829911065722\n",
      "886.1829776608066\n",
      "886.882964215041\n",
      "887.5829507692755\n",
      "888.2829373235099\n",
      "888.9829238777444\n",
      "889.6829104319788\n",
      "890.3828969862133\n",
      "891.0828835404477\n",
      "891.7828700946822\n",
      "892.4828566489166\n",
      "893.182843203151\n",
      "893.8828297573855\n",
      "894.5828163116199\n",
      "895.2828028658544\n",
      "895.9827894200888\n",
      "896.6827759743232\n",
      "897.3827625285577\n",
      "898.0827490827921\n",
      "898.7827356370266\n",
      "899.482722191261\n",
      "900.1827087454955\n",
      "900.8826952997299\n",
      "901.5826818539643\n",
      "902.2826684081988\n",
      "902.9826549624332\n",
      "903.6826415166677\n",
      "904.3826280709021\n",
      "905.0826146251366\n",
      "905.782601179371\n",
      "906.4825877336054\n",
      "907.1825742878399\n",
      "907.8825608420743\n",
      "908.5825473963088\n",
      "909.2825339505432\n",
      "909.9825205047777\n",
      "910.6825070590121\n",
      "911.3824936132465\n",
      "912.082480167481\n",
      "912.7824667217154\n",
      "913.4824532759499\n",
      "914.1824398301843\n",
      "914.8824263844187\n",
      "915.5824129386532\n",
      "916.2823994928876\n",
      "916.9823860471221\n",
      "917.6823726013565\n",
      "918.382359155591\n",
      "919.0823457098254\n",
      "919.7823322640598\n",
      "920.4823188182943\n",
      "921.1823053725287\n",
      "921.8822919267632\n",
      "922.5822784809976\n",
      "923.2822650352321\n",
      "923.9822515894665\n",
      "924.6822381437009\n",
      "925.3822246979354\n",
      "926.0822112521698\n",
      "926.7821978064043\n",
      "927.4821843606387\n",
      "928.1821709148732\n",
      "928.8821574691076\n",
      "929.582144023342\n",
      "930.2821305775765\n",
      "930.9821171318109\n",
      "931.6821036860454\n",
      "932.3820902402798\n",
      "933.0820767945143\n",
      "933.7820633487487\n",
      "934.4820499029831\n",
      "935.1820364572176\n",
      "935.882023011452\n",
      "936.5820095656865\n",
      "937.2819961199209\n",
      "937.9819826741553\n",
      "938.6819692283898\n",
      "939.3819557826242\n",
      "940.0819423368587\n",
      "940.7819288910931\n",
      "941.4819154453276\n",
      "942.181901999562\n",
      "942.8818885537964\n",
      "943.5818751080309\n",
      "944.2818616622653\n",
      "944.9818482164998\n",
      "945.6818347707342\n",
      "946.3818213249687\n",
      "947.0818078792031\n",
      "947.7817944334375\n",
      "948.481780987672\n",
      "949.1817675419064\n",
      "949.8817540961409\n",
      "950.5817406503753\n"
     ]
    },
    {
     "name": "stdout",
     "output_type": "stream",
     "text": [
      "951.2817272046098\n",
      "951.9817137588442\n",
      "952.6817003130786\n",
      "953.3816868673131\n",
      "954.0816734215475\n",
      "954.781659975782\n",
      "955.4816465300164\n",
      "956.1816330842508\n",
      "956.8816196384853\n",
      "957.5816061927197\n",
      "958.2815927469542\n",
      "958.9815793011886\n",
      "959.6815658554231\n",
      "960.3815524096575\n",
      "961.081538963892\n",
      "961.7815255181264\n",
      "962.4815120723608\n",
      "963.1814986265953\n",
      "963.8814851808297\n",
      "964.5814717350642\n",
      "965.2814582892986\n",
      "965.981444843533\n",
      "966.6814313977675\n",
      "967.3814179520019\n",
      "968.0814045062364\n",
      "968.7813910604708\n",
      "969.4813776147053\n",
      "970.1813641689397\n",
      "970.8813507231741\n",
      "971.5813372774086\n",
      "972.281323831643\n",
      "972.9813103858775\n",
      "973.6812969401119\n",
      "974.3812834943463\n",
      "975.0812700485808\n",
      "975.7812566028152\n",
      "976.4812431570497\n",
      "977.1812297112841\n",
      "977.8812162655186\n",
      "978.581202819753\n",
      "979.2811893739874\n",
      "979.9811759282219\n",
      "980.6811624824563\n",
      "981.3811490366908\n",
      "982.0811355909252\n",
      "982.7811221451597\n",
      "983.4811086993941\n",
      "984.1810952536285\n",
      "984.881081807863\n",
      "985.5810683620974\n",
      "986.2810549163319\n",
      "986.9810414705663\n",
      "987.6810280248008\n",
      "988.3810145790352\n",
      "989.0810011332696\n",
      "989.7809876875041\n",
      "990.4809742417385\n",
      "991.180960795973\n",
      "991.8809473502074\n",
      "992.5809339044418\n",
      "993.2809204586763\n",
      "993.9809070129107\n",
      "994.6808935671452\n",
      "995.3808801213796\n",
      "996.0808666756141\n",
      "996.7808532298485\n",
      "997.480839784083\n",
      "998.1808263383174\n",
      "998.8808128925518\n",
      "999.5807994467863\n",
      "1000.2807860010207\n",
      "CPU times: user 1min 34s, sys: 4.86 s, total: 1min 39s\n",
      "Wall time: 1min 39s\n"
     ]
    }
   ],
   "source": [
    "%time stohastic.fit(train_matrix, train_target)"
   ]
  },
  {
   "cell_type": "code",
   "execution_count": 34,
   "metadata": {},
   "outputs": [
    {
     "data": {
      "text/plain": [
       "array([ 0.04796764, -0.30325198, -0.04798111, ...,  0.54783208,\n",
       "        0.2262439 , -0.03046244])"
      ]
     },
     "execution_count": 34,
     "metadata": {},
     "output_type": "execute_result"
    }
   ],
   "source": [
    "stohastic.get_weights()"
   ]
  },
  {
   "cell_type": "code",
   "execution_count": 35,
   "metadata": {},
   "outputs": [
    {
     "name": "stdout",
     "output_type": "stream",
     "text": [
      "Accuracy:  0.819452505320178\n",
      "Roc_Auc:  0.8492728317990104\n",
      "Precision:  0.638919636927164  - процент правильно токсичных\n",
      "Recall:  0.9245555021624219  - процент выбранных токсичных\n"
     ]
    }
   ],
   "source": [
    "check_metrics(test_target, stohastic.predict(test_matrix))"
   ]
  },
  {
   "cell_type": "code",
   "execution_count": 33,
   "metadata": {},
   "outputs": [],
   "source": [
    "from sklearn.linear_model import SGDClassifier as SGDC"
   ]
  },
  {
   "cell_type": "code",
   "execution_count": 34,
   "metadata": {},
   "outputs": [],
   "source": [
    "model = SGDC()"
   ]
  },
  {
   "cell_type": "code",
   "execution_count": 35,
   "metadata": {},
   "outputs": [
    {
     "data": {
      "text/plain": [
       "SGDClassifier(alpha=0.0001, average=False, class_weight=None,\n",
       "              early_stopping=False, epsilon=0.1, eta0=0.0, fit_intercept=True,\n",
       "              l1_ratio=0.15, learning_rate='optimal', loss='hinge',\n",
       "              max_iter=1000, n_iter_no_change=5, n_jobs=None, penalty='l2',\n",
       "              power_t=0.5, random_state=None, shuffle=True, tol=0.001,\n",
       "              validation_fraction=0.1, verbose=0, warm_start=False)"
      ]
     },
     "execution_count": 35,
     "metadata": {},
     "output_type": "execute_result"
    }
   ],
   "source": [
    "model.fit(train_matrix, train_target)"
   ]
  },
  {
   "cell_type": "code",
   "execution_count": 37,
   "metadata": {},
   "outputs": [
    {
     "name": "stdout",
     "output_type": "stream",
     "text": [
      "Accuracy:  0.8807312826465468\n",
      "Roc_Auc:  0.8607162366477352\n",
      "Precision:  0.7979176526265973  - процент правильно токсичных\n",
      "Recall:  0.810187409899087  - процент выбранных токсичных\n"
     ]
    }
   ],
   "source": [
    "check_metrics(test_target, model.predict(test_matrix))"
   ]
  },
  {
   "cell_type": "code",
   "execution_count": 45,
   "metadata": {},
   "outputs": [
    {
     "data": {
      "text/plain": [
       "2337"
      ]
     },
     "execution_count": 45,
     "metadata": {},
     "output_type": "execute_result"
    }
   ],
   "source": [
    "train_matrix.shape[1]"
   ]
  },
  {
   "cell_type": "code",
   "execution_count": 36,
   "metadata": {},
   "outputs": [],
   "source": [
    "import nltk"
   ]
  },
  {
   "cell_type": "code",
   "execution_count": 37,
   "metadata": {},
   "outputs": [],
   "source": [
    "from nltk.corpus import stopwords"
   ]
  },
  {
   "cell_type": "code",
   "execution_count": 42,
   "metadata": {},
   "outputs": [
    {
     "name": "stderr",
     "output_type": "stream",
     "text": [
      "[nltk_data] Downloading package stopwords to\n",
      "[nltk_data]     /Users/maksimkornilov/nltk_data...\n",
      "[nltk_data]   Unzipping corpora/stopwords.zip.\n"
     ]
    },
    {
     "data": {
      "text/plain": [
       "True"
      ]
     },
     "execution_count": 42,
     "metadata": {},
     "output_type": "execute_result"
    }
   ],
   "source": [
    "nltk.download(\"stopwords\")"
   ]
  },
  {
   "cell_type": "code",
   "execution_count": 44,
   "metadata": {},
   "outputs": [
    {
     "data": {
      "text/plain": [
       "{'a',\n",
       " 'about',\n",
       " 'above',\n",
       " 'after',\n",
       " 'again',\n",
       " 'against',\n",
       " 'ain',\n",
       " 'all',\n",
       " 'am',\n",
       " 'an',\n",
       " 'and',\n",
       " 'any',\n",
       " 'are',\n",
       " 'aren',\n",
       " \"aren't\",\n",
       " 'as',\n",
       " 'at',\n",
       " 'be',\n",
       " 'because',\n",
       " 'been',\n",
       " 'before',\n",
       " 'being',\n",
       " 'below',\n",
       " 'between',\n",
       " 'both',\n",
       " 'but',\n",
       " 'by',\n",
       " 'can',\n",
       " 'couldn',\n",
       " \"couldn't\",\n",
       " 'd',\n",
       " 'did',\n",
       " 'didn',\n",
       " \"didn't\",\n",
       " 'do',\n",
       " 'does',\n",
       " 'doesn',\n",
       " \"doesn't\",\n",
       " 'doing',\n",
       " 'don',\n",
       " \"don't\",\n",
       " 'down',\n",
       " 'during',\n",
       " 'each',\n",
       " 'few',\n",
       " 'for',\n",
       " 'from',\n",
       " 'further',\n",
       " 'had',\n",
       " 'hadn',\n",
       " \"hadn't\",\n",
       " 'has',\n",
       " 'hasn',\n",
       " \"hasn't\",\n",
       " 'have',\n",
       " 'haven',\n",
       " \"haven't\",\n",
       " 'having',\n",
       " 'he',\n",
       " 'her',\n",
       " 'here',\n",
       " 'hers',\n",
       " 'herself',\n",
       " 'him',\n",
       " 'himself',\n",
       " 'his',\n",
       " 'how',\n",
       " 'i',\n",
       " 'if',\n",
       " 'in',\n",
       " 'into',\n",
       " 'is',\n",
       " 'isn',\n",
       " \"isn't\",\n",
       " 'it',\n",
       " \"it's\",\n",
       " 'its',\n",
       " 'itself',\n",
       " 'just',\n",
       " 'll',\n",
       " 'm',\n",
       " 'ma',\n",
       " 'me',\n",
       " 'mightn',\n",
       " \"mightn't\",\n",
       " 'more',\n",
       " 'most',\n",
       " 'mustn',\n",
       " \"mustn't\",\n",
       " 'my',\n",
       " 'myself',\n",
       " 'needn',\n",
       " \"needn't\",\n",
       " 'no',\n",
       " 'nor',\n",
       " 'not',\n",
       " 'now',\n",
       " 'o',\n",
       " 'of',\n",
       " 'off',\n",
       " 'on',\n",
       " 'once',\n",
       " 'only',\n",
       " 'or',\n",
       " 'other',\n",
       " 'our',\n",
       " 'ours',\n",
       " 'ourselves',\n",
       " 'out',\n",
       " 'over',\n",
       " 'own',\n",
       " 're',\n",
       " 's',\n",
       " 'same',\n",
       " 'shan',\n",
       " \"shan't\",\n",
       " 'she',\n",
       " \"she's\",\n",
       " 'should',\n",
       " \"should've\",\n",
       " 'shouldn',\n",
       " \"shouldn't\",\n",
       " 'so',\n",
       " 'some',\n",
       " 'such',\n",
       " 't',\n",
       " 'than',\n",
       " 'that',\n",
       " \"that'll\",\n",
       " 'the',\n",
       " 'their',\n",
       " 'theirs',\n",
       " 'them',\n",
       " 'themselves',\n",
       " 'then',\n",
       " 'there',\n",
       " 'these',\n",
       " 'they',\n",
       " 'this',\n",
       " 'those',\n",
       " 'through',\n",
       " 'to',\n",
       " 'too',\n",
       " 'under',\n",
       " 'until',\n",
       " 'up',\n",
       " 've',\n",
       " 'very',\n",
       " 'was',\n",
       " 'wasn',\n",
       " \"wasn't\",\n",
       " 'we',\n",
       " 'were',\n",
       " 'weren',\n",
       " \"weren't\",\n",
       " 'what',\n",
       " 'when',\n",
       " 'where',\n",
       " 'which',\n",
       " 'while',\n",
       " 'who',\n",
       " 'whom',\n",
       " 'why',\n",
       " 'will',\n",
       " 'with',\n",
       " 'won',\n",
       " \"won't\",\n",
       " 'wouldn',\n",
       " \"wouldn't\",\n",
       " 'y',\n",
       " 'you',\n",
       " \"you'd\",\n",
       " \"you'll\",\n",
       " \"you're\",\n",
       " \"you've\",\n",
       " 'your',\n",
       " 'yours',\n",
       " 'yourself',\n",
       " 'yourselves'}"
      ]
     },
     "execution_count": 44,
     "metadata": {},
     "output_type": "execute_result"
    }
   ],
   "source": [
    "stopwords."
   ]
  },
  {
   "cell_type": "code",
   "execution_count": null,
   "metadata": {},
   "outputs": [],
   "source": []
  }
 ],
 "metadata": {
  "kernelspec": {
   "display_name": "Python 3",
   "language": "python",
   "name": "python3"
  },
  "language_info": {
   "codemirror_mode": {
    "name": "ipython",
    "version": 3
   },
   "file_extension": ".py",
   "mimetype": "text/x-python",
   "name": "python",
   "nbconvert_exporter": "python",
   "pygments_lexer": "ipython3",
   "version": "3.7.4"
  }
 },
 "nbformat": 4,
 "nbformat_minor": 2
}
