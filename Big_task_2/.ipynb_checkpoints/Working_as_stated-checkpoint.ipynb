{
 "cells": [
  {
   "cell_type": "code",
   "execution_count": 1,
   "metadata": {},
   "outputs": [],
   "source": [
    "import numpy as np\n",
    "import pandas as pd\n",
    "import re"
   ]
  },
  {
   "cell_type": "code",
   "execution_count": 2,
   "metadata": {},
   "outputs": [],
   "source": [
    "from sklearn.metrics import accuracy_score\n",
    "from sklearn.metrics import roc_auc_score\n",
    "from sklearn.metrics import precision_score\n",
    "from sklearn.metrics import recall_score"
   ]
  },
  {
   "cell_type": "code",
   "execution_count": 3,
   "metadata": {},
   "outputs": [],
   "source": [
    "def check_metrics(true_val, pred_val):\n",
    "    print(\"Accuracy: \", accuracy_score(true_val, pred_val))\n",
    "    print(\"Roc_Auc: \", roc_auc_score(true_val, pred_val))\n",
    "    print(\"Precision: \", precision_score(true_val, pred_val), \" - процент правильно токсичных\")\n",
    "    print(\"Recall: \", recall_score(true_val, pred_val), \" - процент выбранных токсичных\")"
   ]
  },
  {
   "cell_type": "code",
   "execution_count": 4,
   "metadata": {},
   "outputs": [],
   "source": [
    "data = pd.read_csv(\"toxic_train.csv\")"
   ]
  },
  {
   "cell_type": "code",
   "execution_count": 5,
   "metadata": {},
   "outputs": [],
   "source": [
    "test_data = pd.read_csv(\"toxic_test.csv\")"
   ]
  },
  {
   "cell_type": "code",
   "execution_count": 6,
   "metadata": {},
   "outputs": [
    {
     "data": {
      "text/html": [
       "<div>\n",
       "<style scoped>\n",
       "    .dataframe tbody tr th:only-of-type {\n",
       "        vertical-align: middle;\n",
       "    }\n",
       "\n",
       "    .dataframe tbody tr th {\n",
       "        vertical-align: top;\n",
       "    }\n",
       "\n",
       "    .dataframe thead th {\n",
       "        text-align: right;\n",
       "    }\n",
       "</style>\n",
       "<table border=\"1\" class=\"dataframe\">\n",
       "  <thead>\n",
       "    <tr style=\"text-align: right;\">\n",
       "      <th></th>\n",
       "      <th>Unnamed: 0</th>\n",
       "      <th>comment_text</th>\n",
       "      <th>is_toxic</th>\n",
       "    </tr>\n",
       "  </thead>\n",
       "  <tbody>\n",
       "    <tr>\n",
       "      <td>0</td>\n",
       "      <td>0</td>\n",
       "      <td>Thank you for understanding. I think very high...</td>\n",
       "      <td>False</td>\n",
       "    </tr>\n",
       "    <tr>\n",
       "      <td>1</td>\n",
       "      <td>1</td>\n",
       "      <td>:Dear god this site is horrible.</td>\n",
       "      <td>False</td>\n",
       "    </tr>\n",
       "    <tr>\n",
       "      <td>2</td>\n",
       "      <td>2</td>\n",
       "      <td>\"::: Somebody will invariably try to add Relig...</td>\n",
       "      <td>False</td>\n",
       "    </tr>\n",
       "    <tr>\n",
       "      <td>3</td>\n",
       "      <td>3</td>\n",
       "      <td>\" \\n\\n It says it right there that it IS a typ...</td>\n",
       "      <td>False</td>\n",
       "    </tr>\n",
       "    <tr>\n",
       "      <td>4</td>\n",
       "      <td>4</td>\n",
       "      <td>\" \\n\\n == Before adding a new product to the l...</td>\n",
       "      <td>False</td>\n",
       "    </tr>\n",
       "  </tbody>\n",
       "</table>\n",
       "</div>"
      ],
      "text/plain": [
       "   Unnamed: 0                                       comment_text  is_toxic\n",
       "0           0  Thank you for understanding. I think very high...     False\n",
       "1           1                   :Dear god this site is horrible.     False\n",
       "2           2  \"::: Somebody will invariably try to add Relig...     False\n",
       "3           3  \" \\n\\n It says it right there that it IS a typ...     False\n",
       "4           4  \" \\n\\n == Before adding a new product to the l...     False"
      ]
     },
     "execution_count": 6,
     "metadata": {},
     "output_type": "execute_result"
    }
   ],
   "source": [
    "test_data.head()"
   ]
  },
  {
   "cell_type": "code",
   "execution_count": 7,
   "metadata": {},
   "outputs": [
    {
     "data": {
      "text/plain": [
       "(52061, 3)"
      ]
     },
     "execution_count": 7,
     "metadata": {},
     "output_type": "execute_result"
    }
   ],
   "source": [
    "data.shape"
   ]
  },
  {
   "cell_type": "code",
   "execution_count": 8,
   "metadata": {},
   "outputs": [],
   "source": [
    "train_texts = np.array(data['comment_text'])\n",
    "test_texts = np.array(test_data['comment_text'])"
   ]
  },
  {
   "cell_type": "code",
   "execution_count": 9,
   "metadata": {},
   "outputs": [],
   "source": [
    "for enum in range(train_texts.__len__()):\n",
    "    train_texts[enum] = train_texts[enum].lower()\n",
    "    train_texts[enum] = re.sub(\"[^0-9a-zA-Z]+\", ' ', train_texts[enum])\n",
    "    train_texts[enum] =  re.sub(' +', ' ', train_texts[enum])"
   ]
  },
  {
   "cell_type": "code",
   "execution_count": 10,
   "metadata": {},
   "outputs": [
    {
     "data": {
      "text/plain": [
       "'explanation why the edits made under my username hardcore metallica fan were reverted they weren t vandalisms just closure on some gas after i voted at new york dolls fac and please don t remove the template from the talk page since i m retired now 89 205 38 27'"
      ]
     },
     "execution_count": 10,
     "metadata": {},
     "output_type": "execute_result"
    }
   ],
   "source": [
    "train_texts[0]"
   ]
  },
  {
   "cell_type": "code",
   "execution_count": 11,
   "metadata": {},
   "outputs": [],
   "source": [
    "for enum in range(test_texts.__len__()):\n",
    "    test_texts[enum] = test_texts[enum].lower()\n",
    "    test_texts[enum] = re.sub(\"[^0-9a-zA-Z]+\", ' ', test_texts[enum])\n",
    "    test_texts[enum] =  re.sub(' +', ' ', test_texts[enum])"
   ]
  },
  {
   "cell_type": "code",
   "execution_count": 12,
   "metadata": {},
   "outputs": [
    {
     "data": {
      "text/plain": [
       "'thank you for understanding i think very highly of you and would not revert without discussion '"
      ]
     },
     "execution_count": 12,
     "metadata": {},
     "output_type": "execute_result"
    }
   ],
   "source": [
    "test_texts[0]"
   ]
  },
  {
   "cell_type": "code",
   "execution_count": 13,
   "metadata": {},
   "outputs": [],
   "source": [
    "train_target = np.array(data['is_toxic']).astype(int) * 2 - 1 \n",
    "test_target = np.array(test_data['is_toxic']).astype(int) * 2 - 1"
   ]
  },
  {
   "cell_type": "code",
   "execution_count": 14,
   "metadata": {},
   "outputs": [],
   "source": [
    "from sklearn.feature_extraction.text import CountVectorizer"
   ]
  },
  {
   "cell_type": "code",
   "execution_count": 15,
   "metadata": {},
   "outputs": [],
   "source": [
    "vect = CountVectorizer(min_df=100)"
   ]
  },
  {
   "cell_type": "code",
   "execution_count": 16,
   "metadata": {},
   "outputs": [],
   "source": [
    "train_matrix = vect.fit_transform(train_texts)"
   ]
  },
  {
   "cell_type": "code",
   "execution_count": 17,
   "metadata": {},
   "outputs": [],
   "source": [
    "test_matrix = vect.transform(test_texts)"
   ]
  },
  {
   "cell_type": "code",
   "execution_count": 18,
   "metadata": {},
   "outputs": [],
   "source": [
    "from optimization import GDClassifier"
   ]
  },
  {
   "cell_type": "code",
   "execution_count": 19,
   "metadata": {},
   "outputs": [],
   "source": [
    "classifier = GDClassifier(tolerance=0.000001,max_iter=1000,step_alpha=0.2, step_beta=0,l2_coef = 1)"
   ]
  },
  {
   "cell_type": "code",
   "execution_count": 20,
   "metadata": {},
   "outputs": [
    {
     "name": "stdout",
     "output_type": "stream",
     "text": [
      "CPU times: user 269 ms, sys: 55.5 ms, total: 324 ms\n",
      "Wall time: 323 ms\n"
     ]
    }
   ],
   "source": [
    "%time classifier.fit(train_matrix, train_target)"
   ]
  },
  {
   "cell_type": "code",
   "execution_count": 21,
   "metadata": {},
   "outputs": [
    {
     "name": "stdout",
     "output_type": "stream",
     "text": [
      "CPU times: user 3.08 ms, sys: 2.9 ms, total: 5.99 ms\n",
      "Wall time: 4.61 ms\n"
     ]
    }
   ],
   "source": [
    "%time res = classifier.predict(test_matrix)"
   ]
  },
  {
   "cell_type": "code",
   "execution_count": 22,
   "metadata": {},
   "outputs": [
    {
     "name": "stdout",
     "output_type": "stream",
     "text": [
      "Accuracy:  0.7566744051073708\n",
      "Roc_Auc:  0.6548771331436418\n",
      "Precision:  0.6613418530351438  - процент правильно токсичных\n",
      "Recall:  0.3978856319077367  - процент выбранных токсичных\n"
     ]
    }
   ],
   "source": [
    "check_metrics(test_target, res)"
   ]
  },
  {
   "cell_type": "code",
   "execution_count": 23,
   "metadata": {},
   "outputs": [
    {
     "name": "stdout",
     "output_type": "stream",
     "text": [
      "CPU times: user 2.28 ms, sys: 1.24 ms, total: 3.52 ms\n",
      "Wall time: 2.37 ms\n"
     ]
    }
   ],
   "source": [
    "%time probabilities = classifier.predict_proba(test_matrix)"
   ]
  },
  {
   "cell_type": "code",
   "execution_count": 24,
   "metadata": {},
   "outputs": [],
   "source": [
    "ans = (probabilities > 0.5) * 2 - 1"
   ]
  },
  {
   "cell_type": "code",
   "execution_count": 25,
   "metadata": {},
   "outputs": [
    {
     "name": "stdout",
     "output_type": "stream",
     "text": [
      "Accuracy:  0.7689591797252854\n",
      "Roc_Auc:  0.6622221127945984\n",
      "Precision:  0.7132053519488074  - процент правильно токсичных\n",
      "Recall:  0.39275989107800735  - процент выбранных токсичных\n"
     ]
    }
   ],
   "source": [
    "check_metrics(test_target, ans)"
   ]
  },
  {
   "cell_type": "code",
   "execution_count": 89,
   "metadata": {},
   "outputs": [
    {
     "name": "stdout",
     "output_type": "stream",
     "text": [
      "Current step_alpha:  31\n",
      "Accuracy:  0.797736506094022\n",
      "Roc_Auc:  0.8373993963657087\n",
      "Precision:  0.6068429237947123  - процент правильно токсичных\n",
      "Recall:  0.9375300336376742  - процент выбранных токсичных\n",
      "Current step_alpha:  32\n",
      "Accuracy:  0.7975430450764172\n",
      "Roc_Auc:  0.8375335062445163\n",
      "Precision:  0.6064589586999275  - процент правильно токсичных\n",
      "Recall:  0.9384911100432485  - процент выбранных токсичных\n",
      "Current step_alpha:  33\n",
      "Accuracy:  0.7964306442251886\n",
      "Roc_Auc:  0.8368276148354957\n",
      "Precision:  0.6049752270850537  - процент правильно токсичных\n",
      "Recall:  0.9388114688451065  - процент выбранных токсичных\n",
      "Current step_alpha:  34\n",
      "Accuracy:  0.795898626426775\n",
      "Roc_Auc:  0.8366283311513842\n",
      "Precision:  0.6042031523642732  - процент правильно токсичных\n",
      "Recall:  0.9394521864488227  - процент выбранных токсичных\n",
      "Current step_alpha:  35\n",
      "Accuracy:  0.795269878119559\n",
      "Roc_Auc:  0.8362234211982771\n",
      "Precision:  0.6033737914009463  - процент правильно токсичных\n",
      "Recall:  0.9396123658497517  - процент выбранных токсичных\n",
      "Current step_alpha:  36\n",
      "Accuracy:  0.8622073902108726\n",
      "Roc_Auc:  0.8402674266847961\n",
      "Precision:  0.764907898844833  - процент правильно токсичных\n",
      "Recall:  0.7848790645522986  - процент выбранных токсичных\n",
      "Current step_alpha:  37\n",
      "Accuracy:  0.862304120719675\n",
      "Roc_Auc:  0.8400640311411928\n",
      "Precision:  0.7656445556946183  - процент правильно токсичных\n",
      "Recall:  0.7839179881467243  - процент выбранных токсичных\n",
      "Current step_alpha:  38\n",
      "Accuracy:  0.7931901721803056\n",
      "Roc_Auc:  0.8349610137454968\n",
      "Precision:  0.600613810741688  - процент правильно токсичных\n",
      "Recall:  0.940413262854397  - процент выбранных токсичных\n",
      "Current step_alpha:  39\n",
      "Accuracy:  0.8624008512284774\n",
      "Roc_Auc:  0.8396788481253233\n",
      "Precision:  0.7667189952904239  - процент правильно токсичных\n",
      "Recall:  0.7823161941374339  - процент выбранных токсичных\n",
      "Current step_alpha:  40\n",
      "Accuracy:  0.7919326755658734\n",
      "Roc_Auc:  0.8343329813115486\n",
      "Precision:  0.5988994191378784  - процент правильно токсичных\n",
      "Recall:  0.9413743392599712  - процент выбранных токсичных\n",
      "Current step_alpha:  41\n",
      "Accuracy:  0.7918843103114722\n",
      "Roc_Auc:  0.8343437853472173\n",
      "Precision:  0.5988182559087205  - процент правильно токсичных\n",
      "Recall:  0.9415345186609002  - процент выбранных токсичных\n",
      "Current step_alpha:  42\n",
      "Accuracy:  0.7912555620042562\n",
      "Roc_Auc:  0.83393887539411\n",
      "Precision:  0.5980063065812227  - процент правильно токсичных\n",
      "Recall:  0.9416946980618293  - процент выбранных токсичных\n",
      "Current step_alpha:  43\n",
      "Accuracy:  0.8620622944476688\n",
      "Roc_Auc:  0.8391636670901383\n",
      "Precision:  0.7663786331500393  - процент правильно токсичных\n",
      "Recall:  0.7813551177318597  - процент выбранных токсичных\n",
      "Current step_alpha:  44\n",
      "Accuracy:  0.8621590249564712\n",
      "Roc_Auc:  0.8381876747894037\n",
      "Precision:  0.7685610258033877  - процент правильно токсичных\n",
      "Recall:  0.7776709915104918  - процент выбранных токсичных\n",
      "Current step_alpha:  45\n",
      "Accuracy:  0.8620139291932676\n",
      "Roc_Auc:  0.8380382994241432\n",
      "Precision:  0.768281101614435  - процент правильно токсичных\n",
      "Recall:  0.7775108121095627  - процент выбранных токсичных\n",
      "Current step_alpha:  46\n",
      "Accuracy:  0.7902398916618302\n",
      "Roc_Auc:  0.833256822781819\n",
      "Precision:  0.5967119951288816  - процент правильно токсичных\n",
      "Recall:  0.9418548774627583  - процент выбранных токсичных\n",
      "Current step_alpha:  47\n",
      "Accuracy:  0.788982395047398\n",
      "Roc_Auc:  0.8326287903478709\n",
      "Precision:  0.5950262838657501  - процент правильно токсичных\n",
      "Recall:  0.9428159538683325  - процент выбранных токсичных\n",
      "Current step_alpha:  48\n",
      "Accuracy:  0.7880634552137744\n",
      "Roc_Auc:  0.832106917136509\n",
      "Precision:  0.593828778864576  - процент правильно токсичных\n",
      "Recall:  0.9432964920711197  - процент выбранных токсичных\n",
      "Current step_alpha:  49\n",
      "Accuracy:  0.7884987425033856\n",
      "Roc_Auc:  0.8323732557600243\n",
      "Precision:  0.5943872400565314  - процент правильно токсичных\n",
      "Recall:  0.9431363126701906  - процент выбранных токсичных\n",
      "Current step_alpha:  50\n",
      "Accuracy:  0.7881118204681756\n",
      "Roc_Auc:  0.8321415599689069\n",
      "Precision:  0.5938886647841872  - процент правильно токсичных\n",
      "Recall:  0.9432964920711197  - процент выбранных токсичных\n"
     ]
    }
   ],
   "source": [
    "for i in range(31, 51):\n",
    "    classifier = GDClassifier(step_alpha = i / 10, l2_coef = 0)\n",
    "    classifier.fit(train_matrix, train_target)\n",
    "    print(\"Current step_alpha: \", i)\n",
    "    check_metrics(test_target, classifier.predict(test_matrix))"
   ]
  },
  {
   "cell_type": "code",
   "execution_count": 77,
   "metadata": {},
   "outputs": [],
   "source": [
    "classifier = GDClassifier(step_alpha = 0.33, l2_coef = 0)"
   ]
  },
  {
   "cell_type": "code",
   "execution_count": 78,
   "metadata": {},
   "outputs": [
    {
     "name": "stdout",
     "output_type": "stream",
     "text": [
      "CPU times: user 14.8 s, sys: 2.42 s, total: 17.2 s\n",
      "Wall time: 17.2 s\n"
     ]
    }
   ],
   "source": [
    "%time classifier.fit(train_matrix, train_target)"
   ]
  },
  {
   "cell_type": "code",
   "execution_count": 79,
   "metadata": {},
   "outputs": [
    {
     "name": "stdout",
     "output_type": "stream",
     "text": [
      "Accuracy:  0.8361868833430064\n",
      "Roc_Auc:  0.8344001527813834\n",
      "Precision:  0.6902478017585931  - процент правильно токсичных\n",
      "Recall:  0.829889476213359  - процент выбранных токсичных\n"
     ]
    }
   ],
   "source": [
    "check_metrics(test_target, classifier.predict(test_matrix))"
   ]
  },
  {
   "cell_type": "code",
   "execution_count": 73,
   "metadata": {},
   "outputs": [
    {
     "name": "stdout",
     "output_type": "stream",
     "text": [
      "Accuracy:  0.8361868833430064\n",
      "Roc_Auc:  0.8339911309687845\n",
      "Precision:  0.6907051282051282  - процент правильно токсичных\n",
      "Recall:  0.8284478616049976  - процент выбранных токсичных\n"
     ]
    }
   ],
   "source": [
    "check_metrics(test_target, classifier.predict(test_matrix))"
   ]
  },
  {
   "cell_type": "code",
   "execution_count": 69,
   "metadata": {},
   "outputs": [
    {
     "name": "stdout",
     "output_type": "stream",
     "text": [
      "Accuracy:  0.8359934223254014\n",
      "Roc_Auc:  0.8335798784307932\n",
      "Precision:  0.6906417112299466  - процент правильно токсичных\n",
      "Recall:  0.8274867851994233  - процент выбранных токсичных\n"
     ]
    }
   ],
   "source": [
    "check_metrics(test_target, classifier.predict(test_matrix))"
   ]
  },
  {
   "cell_type": "code",
   "execution_count": 105,
   "metadata": {},
   "outputs": [],
   "source": [
    "cl_r = GDClassifier(step_alpha = 2.1, l2_coef = 0)\n",
    "cl_r.fit(train_matrix, train_target)"
   ]
  },
  {
   "cell_type": "code",
   "execution_count": 106,
   "metadata": {},
   "outputs": [
    {
     "name": "stdout",
     "output_type": "stream",
     "text": [
      "Accuracy:  0.8610466241052428\n",
      "Roc_Auc:  0.8462530289172261\n",
      "Precision:  0.75037147102526  - процент правильно токсичных\n",
      "Recall:  0.8089059746916547  - процент выбранных токсичных\n"
     ]
    }
   ],
   "source": [
    "check_metrics(test_target, cl_r.predict(test_matrix))"
   ]
  },
  {
   "cell_type": "code",
   "execution_count": 109,
   "metadata": {},
   "outputs": [],
   "source": [
    "w = cl_r.get_weights()"
   ]
  },
  {
   "cell_type": "code",
   "execution_count": 110,
   "metadata": {},
   "outputs": [
    {
     "data": {
      "text/plain": [
       "array([ 0.02002737, -0.22318307, -0.02371039, ...,  0.56831814,\n",
       "        0.17425659, -0.02310614])"
      ]
     },
     "execution_count": 110,
     "metadata": {},
     "output_type": "execute_result"
    }
   ],
   "source": [
    "cl_r_2 = GDClassifier(w_0 = w, step_alpha=2.1, l2_coef)"
   ]
  },
  {
   "cell_type": "code",
   "execution_count": 104,
   "metadata": {},
   "outputs": [
    {
     "name": "stdout",
     "output_type": "stream",
     "text": [
      "Step Beta:  0.0\n",
      "Accuracy:  0.8574675952795512\n",
      "Roc_Auc:  0.8509609582104228\n",
      "Precision:  0.7313307130825379  - процент правильно токсичных\n",
      "Recall:  0.8345346788403012  - процент выбранных токсичных\n",
      "Step Beta:  0.1\n",
      "Accuracy:  0.837734571483846\n",
      "Roc_Auc:  0.8305550147988653\n",
      "Precision:  0.6990077177508269  - процент правильно токсичных\n",
      "Recall:  0.8124299215120936  - процент выбранных токсичных\n",
      "Step Beta:  0.2\n",
      "Accuracy:  0.8402495647127104\n",
      "Roc_Auc:  0.8414003688288022\n",
      "Precision:  0.6933701657458563  - процент правильно токсичных\n",
      "Recall:  0.8443056222969726  - процент выбранных токсичных\n",
      "Step Beta:  0.3\n",
      "Accuracy:  0.8348326562197718\n",
      "Roc_Auc:  0.8313850444112455\n",
      "Precision:  0.6899516389038152  - процент правильно токсичных\n",
      "Recall:  0.8226814031715521  - процент выбранных токсичных\n",
      "Step Beta:  0.4\n",
      "Accuracy:  0.8301412265428516\n",
      "Roc_Auc:  0.8234345559939209\n",
      "Precision:  0.6860607712222374  - процент правильно токсичных\n",
      "Recall:  0.8065032836777191  - процент выбранных токсичных\n",
      "Step Beta:  0.5\n",
      "Accuracy:  0.8238053782162894\n",
      "Roc_Auc:  0.8125337834204698\n",
      "Precision:  0.6808066759388038  - процент правильно токсичных\n",
      "Recall:  0.7840781675476534  - процент выбранных токсичных\n",
      "Step Beta:  0.6\n",
      "Accuracy:  0.8168407815825112\n",
      "Roc_Auc:  0.8005009510048469\n",
      "Precision:  0.6748291571753986  - процент правильно токсичных\n",
      "Recall:  0.7592503604036521  - процент выбранных токсичных\n",
      "Step Beta:  0.7\n",
      "Accuracy:  0.8097310891855292\n",
      "Roc_Auc:  0.7880460620155643\n",
      "Precision:  0.6686139915291368  - процент правильно токсичных\n",
      "Recall:  0.7333012974531475  - процент выбранных токсичных\n",
      "Step Beta:  0.8\n",
      "Accuracy:  0.8022344747533372\n",
      "Roc_Auc:  0.7758593927838964\n",
      "Precision:  0.6606982990152194  - процент правильно токсичных\n",
      "Recall:  0.7092743873137914  - процент выбранных токсичных\n",
      "Step Beta:  0.9\n",
      "Accuracy:  0.7953182433739602\n",
      "Roc_Auc:  0.7636794157284053\n",
      "Precision:  0.6540523977324958  - процент правильно токсичных\n",
      "Recall:  0.683805862566074  - процент выбранных токсичных\n",
      "Step Beta:  1.0\n",
      "Accuracy:  0.786951054362546\n",
      "Roc_Auc:  0.7517781128749046\n",
      "Precision:  0.6427018633540372  - процент правильно токсичных\n",
      "Recall:  0.6629825404452987  - процент выбранных токсичных\n"
     ]
    }
   ],
   "source": [
    "for i in range(11):\n",
    "    classifier = GDClassifier(step_alpha = 1.5, step_beta=i / 10, l2_coef = 0)\n",
    "    classifier.fit(train_matrix, train_target)\n",
    "    print(\"Step Beta: \", i / 10)\n",
    "    check_metrics(test_target, classifier.predict(test_matrix))"
   ]
  },
  {
   "cell_type": "code",
   "execution_count": null,
   "metadata": {},
   "outputs": [],
   "source": []
  },
  {
   "cell_type": "code",
   "execution_count": 32,
   "metadata": {},
   "outputs": [],
   "source": [
    "from sklearn.ensemble import GradientBoostingClassifier"
   ]
  },
  {
   "cell_type": "code",
   "execution_count": 33,
   "metadata": {},
   "outputs": [],
   "source": [
    "cl = GradientBoostingClassifier()"
   ]
  },
  {
   "cell_type": "code",
   "execution_count": 34,
   "metadata": {},
   "outputs": [
    {
     "name": "stdout",
     "output_type": "stream",
     "text": [
      "CPU times: user 14.2 s, sys: 579 ms, total: 14.8 s\n",
      "Wall time: 14.9 s\n"
     ]
    },
    {
     "data": {
      "text/plain": [
       "GradientBoostingClassifier(criterion='friedman_mse', init=None,\n",
       "                           learning_rate=0.1, loss='deviance', max_depth=3,\n",
       "                           max_features=None, max_leaf_nodes=None,\n",
       "                           min_impurity_decrease=0.0, min_impurity_split=None,\n",
       "                           min_samples_leaf=1, min_samples_split=2,\n",
       "                           min_weight_fraction_leaf=0.0, n_estimators=100,\n",
       "                           n_iter_no_change=None, presort='auto',\n",
       "                           random_state=None, subsample=1.0, tol=0.0001,\n",
       "                           validation_fraction=0.1, verbose=0,\n",
       "                           warm_start=False)"
      ]
     },
     "execution_count": 34,
     "metadata": {},
     "output_type": "execute_result"
    }
   ],
   "source": [
    "%time cl.fit(train_matrix, train_target)"
   ]
  },
  {
   "cell_type": "code",
   "execution_count": 35,
   "metadata": {},
   "outputs": [
    {
     "name": "stdout",
     "output_type": "stream",
     "text": [
      "CPU times: user 37.6 ms, sys: 3.51 ms, total: 41.1 ms\n",
      "Wall time: 40.3 ms\n"
     ]
    }
   ],
   "source": [
    "%time res = cl.predict(test_matrix)"
   ]
  },
  {
   "cell_type": "code",
   "execution_count": 36,
   "metadata": {},
   "outputs": [
    {
     "name": "stdout",
     "output_type": "stream",
     "text": [
      "Accuracy:  0.8519055910234088\n",
      "Roc_Auc:  0.7878961039981491\n",
      "Precision:  0.8428540633757275  - процент правильно токсичных\n",
      "Recall:  0.6263014576325484  - процент выбранных токсичных\n"
     ]
    }
   ],
   "source": [
    "check_metrics(test_target, res)"
   ]
  },
  {
   "cell_type": "code",
   "execution_count": 34,
   "metadata": {},
   "outputs": [],
   "source": [
    "from sklearn.linear_model import LogisticRegression"
   ]
  },
  {
   "cell_type": "code",
   "execution_count": 35,
   "metadata": {},
   "outputs": [],
   "source": [
    "cl = LogisticRegression()"
   ]
  },
  {
   "cell_type": "code",
   "execution_count": 36,
   "metadata": {},
   "outputs": [
    {
     "name": "stderr",
     "output_type": "stream",
     "text": [
      "/usr/local/lib/python3.7/site-packages/sklearn/linear_model/logistic.py:432: FutureWarning: Default solver will be changed to 'lbfgs' in 0.22. Specify a solver to silence this warning.\n",
      "  FutureWarning)\n"
     ]
    },
    {
     "name": "stdout",
     "output_type": "stream",
     "text": [
      "CPU times: user 2.43 s, sys: 20.7 ms, total: 2.45 s\n",
      "Wall time: 2.45 s\n"
     ]
    },
    {
     "name": "stderr",
     "output_type": "stream",
     "text": [
      "/usr/local/lib/python3.7/site-packages/sklearn/svm/base.py:929: ConvergenceWarning: Liblinear failed to converge, increase the number of iterations.\n",
      "  \"the number of iterations.\", ConvergenceWarning)\n"
     ]
    },
    {
     "data": {
      "text/plain": [
       "LogisticRegression(C=1.0, class_weight=None, dual=False, fit_intercept=True,\n",
       "                   intercept_scaling=1, l1_ratio=None, max_iter=100,\n",
       "                   multi_class='warn', n_jobs=None, penalty='l2',\n",
       "                   random_state=None, solver='warn', tol=0.0001, verbose=0,\n",
       "                   warm_start=False)"
      ]
     },
     "execution_count": 36,
     "metadata": {},
     "output_type": "execute_result"
    }
   ],
   "source": [
    "%time cl.fit(train_matrix, train_target)"
   ]
  },
  {
   "cell_type": "code",
   "execution_count": 39,
   "metadata": {},
   "outputs": [
    {
     "name": "stdout",
     "output_type": "stream",
     "text": [
      "CPU times: user 3.9 ms, sys: 1.66 ms, total: 5.56 ms\n",
      "Wall time: 3.58 ms\n"
     ]
    }
   ],
   "source": [
    "%time res = cl.predict(test_matrix)"
   ]
  },
  {
   "cell_type": "code",
   "execution_count": 40,
   "metadata": {},
   "outputs": [
    {
     "name": "stdout",
     "output_type": "stream",
     "text": [
      "Accuracy:  0.8788450377248984\n",
      "Roc_Auc:  0.8519573266893674\n",
      "Precision:  0.8088235294117647  - процент правильно токсичных\n",
      "Recall:  0.7840781675476534  - процент выбранных токсичных\n"
     ]
    }
   ],
   "source": [
    "check_metrics(test_target, res)"
   ]
  },
  {
   "cell_type": "code",
   "execution_count": 50,
   "metadata": {},
   "outputs": [],
   "source": [
    "classifier = GDClassifier(step_alpha=1, step_beta=0,\n",
    "                 tolerance=0.00001, max_iter=100, l2_coef = 1)"
   ]
  },
  {
   "cell_type": "code",
   "execution_count": 51,
   "metadata": {},
   "outputs": [],
   "source": [
    "classifier.fit(train_matrix, train_target)"
   ]
  },
  {
   "cell_type": "code",
   "execution_count": 68,
   "metadata": {},
   "outputs": [],
   "source": [
    "w = classifier.get_weights()"
   ]
  },
  {
   "cell_type": "code",
   "execution_count": 69,
   "metadata": {},
   "outputs": [
    {
     "data": {
      "text/plain": [
       "array([-5.75103400e-04, -5.11659052e-04, -6.87462368e-04, ...,\n",
       "       -1.00598986e-04, -1.95125313e-05,  2.02239601e-04])"
      ]
     },
     "execution_count": 69,
     "metadata": {},
     "output_type": "execute_result"
    }
   ],
   "source": [
    "w"
   ]
  },
  {
   "cell_type": "code",
   "execution_count": 58,
   "metadata": {},
   "outputs": [],
   "source": [
    "mul = test_matrix * w\n"
   ]
  },
  {
   "cell_type": "code",
   "execution_count": 59,
   "metadata": {},
   "outputs": [],
   "source": [
    "proba = 1 / (1 + np.exp(-1 * mul))"
   ]
  },
  {
   "cell_type": "code",
   "execution_count": 60,
   "metadata": {},
   "outputs": [
    {
     "data": {
      "text/plain": [
       "(1.0, 2.26107839656812e-11)"
      ]
     },
     "execution_count": 60,
     "metadata": {},
     "output_type": "execute_result"
    }
   ],
   "source": [
    "max(proba), min(proba)"
   ]
  },
  {
   "cell_type": "code",
   "execution_count": 41,
   "metadata": {},
   "outputs": [],
   "source": [
    "from oracles import BinaryLogistic"
   ]
  },
  {
   "cell_type": "code",
   "execution_count": 42,
   "metadata": {},
   "outputs": [],
   "source": [
    "oracle = BinaryLogistic(l2_coef=1)"
   ]
  },
  {
   "cell_type": "code",
   "execution_count": 61,
   "metadata": {},
   "outputs": [
    {
     "data": {
      "text/plain": [
       "scipy.sparse.csr.csr_matrix"
      ]
     },
     "execution_count": 61,
     "metadata": {},
     "output_type": "execute_result"
    }
   ],
   "source": [
    "type(test_matrix)"
   ]
  },
  {
   "cell_type": "code",
   "execution_count": 66,
   "metadata": {},
   "outputs": [
    {
     "data": {
      "text/plain": [
       "20676"
      ]
     },
     "execution_count": 66,
     "metadata": {},
     "output_type": "execute_result"
    }
   ],
   "source": [
    "np.sum(test_matrix.toarray() * w, axis = 1)"
   ]
  },
  {
   "cell_type": "code",
   "execution_count": 73,
   "metadata": {},
   "outputs": [],
   "source": [
    "res = np.sign(test_matrix * w)"
   ]
  },
  {
   "cell_type": "code",
   "execution_count": 74,
   "metadata": {},
   "outputs": [],
   "source": [
    "res[res == 0] = 1"
   ]
  },
  {
   "cell_type": "code",
   "execution_count": 76,
   "metadata": {},
   "outputs": [
    {
     "name": "stdout",
     "output_type": "stream",
     "text": [
      "Accuracy:  0.7572064229057844\n",
      "Roc_Auc:  0.6554399917722857\n",
      "Precision:  0.6629363176125767  - процент правильно токсичных\n",
      "Recall:  0.3985263495114528  - процент выбранных токсичных\n"
     ]
    }
   ],
   "source": [
    "check_metrics(test_target, res)"
   ]
  },
  {
   "cell_type": "code",
   "execution_count": 73,
   "metadata": {},
   "outputs": [],
   "source": [
    "sub = train_matrix * w"
   ]
  },
  {
   "cell_type": "code",
   "execution_count": 75,
   "metadata": {},
   "outputs": [
    {
     "data": {
      "text/plain": [
       "array([0.93895189, 0.73192902, 1.01481378, ..., 0.71199044, 0.98857926,\n",
       "       0.76294273])"
      ]
     },
     "execution_count": 75,
     "metadata": {},
     "output_type": "execute_result"
    }
   ],
   "source": [
    "np.log(1 + np.exp(-1 * sub))"
   ]
  },
  {
   "cell_type": "code",
   "execution_count": 77,
   "metadata": {},
   "outputs": [
    {
     "data": {
      "text/plain": [
       "array([0.93895189, 0.73192902, 1.01481378, ..., 0.71199044, 0.98857926,\n",
       "       0.76294273])"
      ]
     },
     "execution_count": 77,
     "metadata": {},
     "output_type": "execute_result"
    }
   ],
   "source": [
    "np.logaddexp(0, -1 * sub)"
   ]
  },
  {
   "cell_type": "code",
   "execution_count": null,
   "metadata": {},
   "outputs": [],
   "source": []
  }
 ],
 "metadata": {
  "kernelspec": {
   "display_name": "Python 3",
   "language": "python",
   "name": "python3"
  },
  "language_info": {
   "codemirror_mode": {
    "name": "ipython",
    "version": 3
   },
   "file_extension": ".py",
   "mimetype": "text/x-python",
   "name": "python",
   "nbconvert_exporter": "python",
   "pygments_lexer": "ipython3",
   "version": "3.7.4"
  }
 },
 "nbformat": 4,
 "nbformat_minor": 2
}
