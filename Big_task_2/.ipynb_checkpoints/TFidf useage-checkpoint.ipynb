{
 "cells": [
  {
   "cell_type": "code",
   "execution_count": 1,
   "metadata": {},
   "outputs": [],
   "source": [
    "import matplotlib.pyplot as plt"
   ]
  },
  {
   "cell_type": "code",
   "execution_count": 2,
   "metadata": {},
   "outputs": [],
   "source": [
    "import numpy as np\n",
    "import pandas as pd\n",
    "import re\n",
    "\n",
    "from sklearn.metrics import accuracy_score\n",
    "from sklearn.metrics import roc_auc_score\n",
    "from sklearn.metrics import precision_score\n",
    "from sklearn.metrics import recall_score\n",
    "\n",
    "def check_metrics(true_val, pred_val):\n",
    "    print(\"Accuracy: \", accuracy_score(true_val, pred_val))\n",
    "    print(\"Roc_Auc: \", roc_auc_score(true_val, pred_val))\n",
    "    print(\"Precision: \", precision_score(true_val, pred_val), \" - процент правильно токсичных\")\n",
    "    print(\"Recall: \", recall_score(true_val, pred_val), \" - процент выбранных токсичных\")\n",
    "\n",
    "data = pd.read_csv(\"toxic_train.csv\")\n",
    "\n",
    "test_data = pd.read_csv(\"toxic_test.csv\")\n",
    "\n",
    "\n",
    "train_texts = np.array(data['comment_text'])\n",
    "test_texts = np.array(test_data['comment_text'])\n",
    "\n",
    "for enum in range(train_texts.__len__()):\n",
    "    train_texts[enum] = train_texts[enum].lower()\n",
    "    train_texts[enum] = re.sub(\"[^0-9a-zA-Z]+\", ' ', train_texts[enum])\n",
    "    train_texts[enum] =  re.sub(' +', ' ', train_texts[enum])\n",
    "\n",
    "\n",
    "    \n",
    "test_texts = np.array(test_data['comment_text'])\n",
    "for enum in range(test_texts.__len__()):\n",
    "    test_texts[enum] = test_texts[enum].lower()\n",
    "    test_texts[enum] = re.sub(\"[^0-9a-zA-Z]+\", ' ', test_texts[enum])\n",
    "    test_texts[enum] =  re.sub(' +', ' ', test_texts[enum])\n",
    "\n",
    "\n",
    "train_target = np.array(data['is_toxic']).astype(int) * 2 - 1 \n",
    "test_target = np.array(test_data['is_toxic']).astype(int) * 2 - 1\n",
    "\n"
   ]
  },
  {
   "cell_type": "code",
   "execution_count": 3,
   "metadata": {},
   "outputs": [],
   "source": [
    "def predict(X, w):\n",
    "\n",
    "    ans = np.sign(X * w)\n",
    "    ans[ans == 0] = 1\n",
    "    return ans"
   ]
  },
  {
   "cell_type": "code",
   "execution_count": 7,
   "metadata": {},
   "outputs": [],
   "source": [
    "from optimization import GDClassifier"
   ]
  },
  {
   "cell_type": "markdown",
   "metadata": {},
   "source": [
    "#### Выведем работу с BagOfWords(CountVectorizer)"
   ]
  },
  {
   "cell_type": "code",
   "execution_count": 4,
   "metadata": {},
   "outputs": [],
   "source": [
    "from sklearn.feature_extraction.text import CountVectorizer"
   ]
  },
  {
   "cell_type": "code",
   "execution_count": 5,
   "metadata": {},
   "outputs": [],
   "source": [
    "vect = CountVectorizer(min_df=20, stop_words='english')"
   ]
  },
  {
   "cell_type": "code",
   "execution_count": 6,
   "metadata": {},
   "outputs": [],
   "source": [
    "train_matrix = vect.fit_transform(train_texts)\n",
    "test_matrix = vect.transform(test_texts)"
   ]
  },
  {
   "cell_type": "code",
   "execution_count": 8,
   "metadata": {},
   "outputs": [],
   "source": [
    "classifier = GDClassifier(step_alpha = 3.4, step_beta = 0, l2_coef = 0)"
   ]
  },
  {
   "cell_type": "code",
   "execution_count": 9,
   "metadata": {},
   "outputs": [],
   "source": [
    "classifier.fit(train_matrix, train_target)"
   ]
  },
  {
   "cell_type": "code",
   "execution_count": 10,
   "metadata": {},
   "outputs": [
    {
     "data": {
      "text/plain": [
       "0.8668988198877926"
      ]
     },
     "execution_count": 10,
     "metadata": {},
     "output_type": "execute_result"
    }
   ],
   "source": [
    "accuracy_score(test_target, classifier.predict(test_matrix))"
   ]
  },
  {
   "cell_type": "markdown",
   "metadata": {},
   "source": [
    "#### Рассмотрим теперть алгоритм tf-idf"
   ]
  },
  {
   "cell_type": "code",
   "execution_count": 11,
   "metadata": {},
   "outputs": [],
   "source": [
    "from sklearn.feature_extraction.text import TfidfVectorizer"
   ]
  },
  {
   "cell_type": "code",
   "execution_count": 12,
   "metadata": {},
   "outputs": [],
   "source": [
    "tf_vect = TfidfVectorizer(min_df = 20, stop_words = 'english')"
   ]
  },
  {
   "cell_type": "code",
   "execution_count": 13,
   "metadata": {},
   "outputs": [],
   "source": [
    "train_tf= tf_vect.fit_transform(train_texts)"
   ]
  },
  {
   "cell_type": "code",
   "execution_count": 14,
   "metadata": {},
   "outputs": [],
   "source": [
    "test_tf = tf_vect.transform(test_texts)"
   ]
  },
  {
   "cell_type": "code",
   "execution_count": null,
   "metadata": {},
   "outputs": [],
   "source": []
  }
 ],
 "metadata": {
  "kernelspec": {
   "display_name": "Python 3",
   "language": "python",
   "name": "python3"
  },
  "language_info": {
   "codemirror_mode": {
    "name": "ipython",
    "version": 3
   },
   "file_extension": ".py",
   "mimetype": "text/x-python",
   "name": "python",
   "nbconvert_exporter": "python",
   "pygments_lexer": "ipython3",
   "version": "3.7.4"
  }
 },
 "nbformat": 4,
 "nbformat_minor": 2
}
