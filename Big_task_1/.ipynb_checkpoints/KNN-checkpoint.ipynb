{
 "cells": [
  {
   "cell_type": "code",
   "execution_count": 152,
   "metadata": {},
   "outputs": [],
   "source": [
    "import numpy as np\n",
    "from sklearn.datasets import fetch_mldata\n",
    "from random import shuffle\n",
    "from random import seed"
   ]
  },
  {
   "cell_type": "code",
   "execution_count": 91,
   "metadata": {},
   "outputs": [],
   "source": [
    "class KNN:    \n",
    "    def __init__(self, train_data, train_target, k, metric_selection):\n",
    "        \n",
    "        if (train_data.shape[0] != train_target.shape[0]):\n",
    "            raise TypeError\n",
    "        \n",
    "        self.data = train_data\n",
    "        self.target = train_target\n",
    "        self.k = k\n",
    "        self.clusters = np.sort(np.unique(train_target))\n",
    "        self.clusters_amount = np.unique(train_target).__len__()\n",
    "        \n",
    "        if (metric_selection == \"euclidean\"):\n",
    "            self.metric = self.euclidean_distance\n",
    "        elif (metric_selection == \"cosine\"):\n",
    "            self.metric = self.cosine_distance\n",
    "        else:\n",
    "            raise TypeError\n",
    "            \n",
    "    def euclidean_distance(self, arr1, arr2):\n",
    "        res_arr = np.empty((arr1.shape[0], arr2.shape[0]))\n",
    "        for enum, item in enumerate(arr1[:, ]):\n",
    "            res_arr[enum] = np.sqrt(np.sum((arr2 - item) ** 2, axis=1))\n",
    "\n",
    "        return res_arr\n",
    "    \n",
    "    def cosine_distance(self, arr1, arr2):\n",
    "        if (arr1.shape[1] != arr2.shape[1]):\n",
    "            return TypeError\n",
    "\n",
    "        res_arr = np.empty((arr1.shape[0], arr2.shape[0]))\n",
    "        for enum, item in enumerate(arr1[:, ]):\n",
    "            res_arr[enum] = np.sum(arr2 * item, axis=1) / (\n",
    "                (np.sqrt(np.sum(arr2 * arr2, axis=1)) *\n",
    "                 np.sqrt((np.sum(item * item)))))\n",
    "\n",
    "        return 1 - res_arr\n",
    "        \n",
    "    def predict(self, test_data):\n",
    "        \n",
    "        if (test_data.shape[1] != self.data.shape[1]):\n",
    "            return TypeError\n",
    "        \n",
    "        ranges = self.metric(self.data, test_data)\n",
    "        \n",
    "        max_range = np.max(ranges)\n",
    "        \n",
    "        k = self.k\n",
    "        \n",
    "        if (k > self.data.shape[0]):\n",
    "            k = self.data.shape[0]\n",
    "            \n",
    "        closest = np.empty((k, test_data.shape[0])).astype(int)\n",
    "            \n",
    "        while (k > 0):\n",
    "            \n",
    "            # тут мы получаем в столбцах номера выходных точек по каждой из точек test_set\n",
    "            save = np.argmin(ranges, axis=0)\n",
    "            \n",
    "            closest[k - 1] = save\n",
    "            \n",
    "            for enum, item in enumerate(save):\n",
    "                ranges[item, enum] += max_range\n",
    "                \n",
    "            k -= 1\n",
    "            \n",
    "        closest_4_each = closest.T\n",
    "        test_target = np.empty(test_data.shape[0]).astype(int)\n",
    "        \n",
    "        for enum, item in enumerate(closest_4_each):\n",
    "            \n",
    "            cluster_nb = np.zeros(self.clusters_amount).astype(int)\n",
    "            \n",
    "            for it in item:\n",
    "                cluster_nb[np.where(self.clusters ==self.target[it])[0]] += 1\n",
    "                \n",
    "            test_target[enum] = self.clusters[self.clusters[np.argmax(cluster_nb)]]\n",
    "            \n",
    "        \n",
    "        return test_target\n",
    "        \n",
    "        \n",
    "    "
   ]
  },
  {
   "cell_type": "code",
   "execution_count": 162,
   "metadata": {},
   "outputs": [],
   "source": [
    "class Cross_validation:\n",
    "    \n",
    "    def __init__(self, folds_amount = 5, random_seed = 0, stratified = False):\n",
    "        self.folds = folds_amount\n",
    "        self.stratified = stratified\n",
    "        self.seed = random_seed\n",
    "        if random_seed != 0:\n",
    "            seed(random_seed)\n",
    "        \n",
    "    def split(self, train_set):\n",
    "            \n",
    "        index_list = []\n",
    "        \n",
    "        for index in range(train_set.__len__()):\n",
    "            index_list.append(index)\n",
    "            \n",
    "            \n",
    "        train_list = []\n",
    "        test_list = []\n",
    "            \n",
    "        if (self.stratified):\n",
    "            shuffle(index_list)\n",
    "       \n",
    "        part = 0\n",
    "        each_len = (int)(train_set.__len__() / self.folds)\n",
    "\n",
    "        while part < self.folds - 1:\n",
    "            test_subset = index_list[part * each_len : (part + 1) * each_len]\n",
    "            train_subset = [x for x in index_list if x not in test_subset]\n",
    "\n",
    "            test_list.append(test_subset)\n",
    "            train_list.append(train_subset)\n",
    "            part += 1\n",
    "\n",
    "        test_subset = index_list[part * each_len : ]\n",
    "        train_subset = [x for x in index_list if x not in test_subset]\n",
    "        test_list.append(test_subset)\n",
    "        train_list.append(train_subset)\n",
    "\n",
    "        if (self.seed != 0):\n",
    "            seed(self.seed)\n",
    "        \n",
    "        return train_list, test_list\n",
    "                "
   ]
  },
  {
   "cell_type": "code",
   "execution_count": 92,
   "metadata": {},
   "outputs": [
    {
     "name": "stderr",
     "output_type": "stream",
     "text": [
      "/usr/local/lib/python3.7/site-packages/sklearn/utils/deprecation.py:85: DeprecationWarning: Function fetch_mldata is deprecated; fetch_mldata was deprecated in version 0.20 and will be removed in version 0.22. Please use fetch_openml.\n",
      "  warnings.warn(msg, category=DeprecationWarning)\n",
      "/usr/local/lib/python3.7/site-packages/sklearn/utils/deprecation.py:85: DeprecationWarning: Function mldata_filename is deprecated; mldata_filename was deprecated in version 0.20 and will be removed in version 0.22. Please use fetch_openml.\n",
      "  warnings.warn(msg, category=DeprecationWarning)\n"
     ]
    }
   ],
   "source": [
    "mnist = fetch_mldata('MNIST original')"
   ]
  },
  {
   "cell_type": "code",
   "execution_count": 93,
   "metadata": {},
   "outputs": [],
   "source": [
    "from sklearn.model_selection import train_test_split"
   ]
  },
  {
   "cell_type": "code",
   "execution_count": 94,
   "metadata": {},
   "outputs": [],
   "source": [
    "trX, teX, trY, teY = train_test_split(mnist.data / 255.0, mnist.target.astype(\"int0\"), test_size = 1/200)"
   ]
  },
  {
   "cell_type": "code",
   "execution_count": 95,
   "metadata": {},
   "outputs": [
    {
     "data": {
      "text/plain": [
       "((69650, 784), (69650,), (350, 784), (350,))"
      ]
     },
     "execution_count": 95,
     "metadata": {},
     "output_type": "execute_result"
    }
   ],
   "source": [
    "trX.shape, trY.shape, teX.shape, teY.shape"
   ]
  },
  {
   "cell_type": "code",
   "execution_count": 96,
   "metadata": {},
   "outputs": [
    {
     "name": "stdout",
     "output_type": "stream",
     "text": [
      "[0 1 2 3 4 5 6 7 8 9]\n"
     ]
    }
   ],
   "source": [
    "model = KNN(trX, trY, 5, \"euclidean\")"
   ]
  },
  {
   "cell_type": "code",
   "execution_count": 97,
   "metadata": {},
   "outputs": [],
   "source": [
    "res = model.predict(teX)"
   ]
  },
  {
   "cell_type": "code",
   "execution_count": 98,
   "metadata": {},
   "outputs": [
    {
     "data": {
      "text/plain": [
       "array([7, 6, 8, 4, 9, 1, 4, 8, 0, 1, 5, 1, 8, 6, 0, 2, 0, 1, 2, 7, 2, 5,\n",
       "       0, 5, 5, 0, 0, 2, 6, 4, 8, 5, 0, 0, 7, 5, 6, 9, 7, 3, 9, 0, 1, 5,\n",
       "       9, 3, 5, 9, 5, 9, 6, 6, 7, 4, 3, 9, 5, 4, 2, 2, 5, 0, 9, 8, 2, 1,\n",
       "       1, 1, 9, 1, 2, 7, 8, 2, 3, 4, 6, 7, 4, 0, 2, 9, 8, 1, 2, 1, 7, 4,\n",
       "       1, 2, 8, 8, 3, 9, 0, 4, 6, 0, 8, 0, 6, 8, 9, 5, 7, 4, 8, 1, 8, 5,\n",
       "       9, 2, 1, 1, 7, 4, 2, 3, 6, 4, 7, 4, 9, 7, 0, 3, 2, 0, 5, 3, 5, 0,\n",
       "       0, 5, 8, 2, 3, 1, 0, 9, 2, 2, 3, 7, 4, 3, 5, 4, 9, 3, 1, 5, 3, 6,\n",
       "       0, 4, 6, 4, 1, 4, 8, 9, 7, 0, 0, 4, 3, 1, 6, 3, 7, 2, 2, 5, 6, 1,\n",
       "       7, 3, 5, 7, 8, 6, 1, 3, 0, 4, 0, 8, 1, 5, 1, 7, 9, 1, 1, 7, 0, 5,\n",
       "       5, 4, 8, 8, 3, 4, 6, 2, 5, 9, 9, 4, 2, 4, 6, 2, 7, 7, 7, 3, 4, 2,\n",
       "       2, 1, 4, 0, 6, 9, 6, 4, 9, 3, 2, 4, 2, 6, 1, 6, 2, 8, 3, 8, 1, 4,\n",
       "       0, 7, 5, 3, 6, 9, 6, 4, 9, 7, 7, 3, 7, 1, 0, 4, 4, 0, 8, 6, 7, 2,\n",
       "       3, 4, 7, 7, 4, 5, 7, 3, 5, 3, 6, 5, 0, 8, 1, 1, 0, 9, 3, 4, 7, 4,\n",
       "       0, 9, 8, 9, 5, 7, 5, 2, 0, 3, 8, 1, 7, 8, 7, 3, 0, 0, 3, 8, 1, 9,\n",
       "       3, 9, 6, 2, 5, 8, 4, 7, 1, 0, 7, 9, 1, 9, 3, 4, 4, 5, 3, 9, 7, 0,\n",
       "       7, 5, 5, 2, 1, 2, 0, 7, 8, 7, 8, 0, 9, 3, 8, 4, 9, 9, 9, 6])"
      ]
     },
     "execution_count": 98,
     "metadata": {},
     "output_type": "execute_result"
    }
   ],
   "source": [
    "res"
   ]
  },
  {
   "cell_type": "code",
   "execution_count": 99,
   "metadata": {},
   "outputs": [],
   "source": [
    "from sklearn.metrics import accuracy_score as ac_s"
   ]
  },
  {
   "cell_type": "code",
   "execution_count": 100,
   "metadata": {},
   "outputs": [
    {
     "data": {
      "text/plain": [
       "0.9742857142857143"
      ]
     },
     "execution_count": 100,
     "metadata": {},
     "output_type": "execute_result"
    }
   ],
   "source": [
    "ac_s(teY, res)"
   ]
  },
  {
   "cell_type": "code",
   "execution_count": 102,
   "metadata": {},
   "outputs": [
    {
     "data": {
      "text/plain": [
       "69650"
      ]
     },
     "execution_count": 102,
     "metadata": {},
     "output_type": "execute_result"
    }
   ],
   "source": [
    "trY.__len__()"
   ]
  },
  {
   "cell_type": "code",
   "execution_count": 103,
   "metadata": {},
   "outputs": [],
   "source": [
    "test_list = [0, 1, 2, 3, 4]"
   ]
  },
  {
   "cell_type": "code",
   "execution_count": 105,
   "metadata": {},
   "outputs": [
    {
     "data": {
      "text/plain": [
       "array([8, 7, 8, 5, 6])"
      ]
     },
     "execution_count": 105,
     "metadata": {},
     "output_type": "execute_result"
    }
   ],
   "source": []
  },
  {
   "cell_type": "code",
   "execution_count": 106,
   "metadata": {},
   "outputs": [
    {
     "data": {
      "text/plain": [
       "[2, 3, 4]"
      ]
     },
     "execution_count": 106,
     "metadata": {},
     "output_type": "execute_result"
    }
   ],
   "source": [
    "test_list[2:]"
   ]
  },
  {
   "cell_type": "code",
   "execution_count": 112,
   "metadata": {},
   "outputs": [],
   "source": [
    "test_list = []\n",
    "\n",
    "for i in range(110):\n",
    "    test_list.append(i)"
   ]
  },
  {
   "cell_type": "code",
   "execution_count": 163,
   "metadata": {},
   "outputs": [],
   "source": [
    "KFolds = Cross_validation(folds_amount = 4, stratified = True, random_seed = 317)"
   ]
  },
  {
   "cell_type": "code",
   "execution_count": 164,
   "metadata": {},
   "outputs": [],
   "source": [
    "train, test = KFolds.split(test_list)"
   ]
  },
  {
   "cell_type": "code",
   "execution_count": 158,
   "metadata": {},
   "outputs": [
    {
     "name": "stdout",
     "output_type": "stream",
     "text": [
      "[[98, 45, 19, 66, 105, 68, 84, 65, 88, 92, 85, 73, 83, 27, 78, 53, 28, 55, 79, 41, 7, 50, 40, 30, 106, 18, 72, 1, 22, 16, 74, 13, 5, 109, 48, 76, 80, 89, 12, 101, 32, 58, 69, 99, 20, 4, 10, 100, 77, 37, 0, 104, 103, 24, 38, 11, 47, 54, 64, 8, 15, 81, 44, 62, 52, 93, 33, 42, 36, 82, 56, 60, 107, 57, 71, 31, 25, 108, 49, 96, 90, 2, 59], [43, 9, 87, 102, 46, 34, 23, 21, 63, 14, 95, 86, 6, 91, 94, 26, 35, 39, 3, 67, 17, 61, 97, 51, 75, 29, 70, 1, 22, 16, 74, 13, 5, 109, 48, 76, 80, 89, 12, 101, 32, 58, 69, 99, 20, 4, 10, 100, 77, 37, 0, 104, 103, 24, 38, 11, 47, 54, 64, 8, 15, 81, 44, 62, 52, 93, 33, 42, 36, 82, 56, 60, 107, 57, 71, 31, 25, 108, 49, 96, 90, 2, 59], [43, 9, 87, 102, 46, 34, 23, 21, 63, 14, 95, 86, 6, 91, 94, 26, 35, 39, 3, 67, 17, 61, 97, 51, 75, 29, 70, 98, 45, 19, 66, 105, 68, 84, 65, 88, 92, 85, 73, 83, 27, 78, 53, 28, 55, 79, 41, 7, 50, 40, 30, 106, 18, 72, 38, 11, 47, 54, 64, 8, 15, 81, 44, 62, 52, 93, 33, 42, 36, 82, 56, 60, 107, 57, 71, 31, 25, 108, 49, 96, 90, 2, 59], [43, 9, 87, 102, 46, 34, 23, 21, 63, 14, 95, 86, 6, 91, 94, 26, 35, 39, 3, 67, 17, 61, 97, 51, 75, 29, 70, 98, 45, 19, 66, 105, 68, 84, 65, 88, 92, 85, 73, 83, 27, 78, 53, 28, 55, 79, 41, 7, 50, 40, 30, 106, 18, 72, 1, 22, 16, 74, 13, 5, 109, 48, 76, 80, 89, 12, 101, 32, 58, 69, 99, 20, 4, 10, 100, 77, 37, 0, 104, 103, 24]]\n",
      "[[43, 9, 87, 102, 46, 34, 23, 21, 63, 14, 95, 86, 6, 91, 94, 26, 35, 39, 3, 67, 17, 61, 97, 51, 75, 29, 70], [98, 45, 19, 66, 105, 68, 84, 65, 88, 92, 85, 73, 83, 27, 78, 53, 28, 55, 79, 41, 7, 50, 40, 30, 106, 18, 72], [1, 22, 16, 74, 13, 5, 109, 48, 76, 80, 89, 12, 101, 32, 58, 69, 99, 20, 4, 10, 100, 77, 37, 0, 104, 103, 24], [38, 11, 47, 54, 64, 8, 15, 81, 44, 62, 52, 93, 33, 42, 36, 82, 56, 60, 107, 57, 71, 31, 25, 108, 49, 96, 90, 2, 59]]\n"
     ]
    }
   ],
   "source": [
    "print(train)\n",
    "print(test)"
   ]
  },
  {
   "cell_type": "code",
   "execution_count": null,
   "metadata": {},
   "outputs": [],
   "source": []
  }
 ],
 "metadata": {
  "kernelspec": {
   "display_name": "Python 3",
   "language": "python",
   "name": "python3"
  },
  "language_info": {
   "codemirror_mode": {
    "name": "ipython",
    "version": 3
   },
   "file_extension": ".py",
   "mimetype": "text/x-python",
   "name": "python",
   "nbconvert_exporter": "python",
   "pygments_lexer": "ipython3",
   "version": "3.7.4"
  }
 },
 "nbformat": 4,
 "nbformat_minor": 2
}
