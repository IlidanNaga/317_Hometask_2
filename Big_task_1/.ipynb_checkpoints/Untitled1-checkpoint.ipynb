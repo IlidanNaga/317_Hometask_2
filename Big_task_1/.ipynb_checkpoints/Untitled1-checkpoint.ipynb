{
 "cells": [
  {
   "cell_type": "code",
   "execution_count": 1,
   "metadata": {},
   "outputs": [],
   "source": [
    "import numpy as np\n",
    "from sklearn.datasets import fetch_mldata"
   ]
  },
  {
   "cell_type": "code",
   "execution_count": 2,
   "metadata": {},
   "outputs": [
    {
     "name": "stderr",
     "output_type": "stream",
     "text": [
      "/usr/local/lib/python3.7/site-packages/sklearn/utils/deprecation.py:85: DeprecationWarning: Function fetch_mldata is deprecated; fetch_mldata was deprecated in version 0.20 and will be removed in version 0.22. Please use fetch_openml.\n",
      "  warnings.warn(msg, category=DeprecationWarning)\n",
      "/usr/local/lib/python3.7/site-packages/sklearn/utils/deprecation.py:85: DeprecationWarning: Function mldata_filename is deprecated; mldata_filename was deprecated in version 0.20 and will be removed in version 0.22. Please use fetch_openml.\n",
      "  warnings.warn(msg, category=DeprecationWarning)\n"
     ]
    }
   ],
   "source": [
    "mnist = fetch_mldata(\"MNIST-original\")\n",
    "data = mnist.data / 255.0\n",
    "target = mnist.target.astype(\"int0\")"
   ]
  },
  {
   "cell_type": "code",
   "execution_count": 3,
   "metadata": {},
   "outputs": [
    {
     "data": {
      "text/plain": [
       "(100, 784)"
      ]
     },
     "execution_count": 3,
     "metadata": {},
     "output_type": "execute_result"
    }
   ],
   "source": [
    "train_data = data[:100]\n",
    "test_data = target[:100]\n",
    "train_data.shape"
   ]
  },
  {
   "cell_type": "code",
   "execution_count": null,
   "metadata": {},
   "outputs": [],
   "source": [
    "def euclidean_distance(x, y):\n",
    "    return np.sqrt(((x[:, np.newaxis] - y) ** 2).sum(axis=2).T)\n",
    "\n",
    "def second(x, y):\n",
    "    return np.sqrt(np.sum(x ** 2, axis=1)[:,np.newaxis] + np.sum(y ** 2, axis=1)\n",
    "            - 2 * np.dot(x, np.transpose(y))).T"
   ]
  },
  {
   "cell_type": "code",
   "execution_count": 4,
   "metadata": {},
   "outputs": [],
   "source": [
    "from nearest_neighbors import KNNClassifier"
   ]
  },
  {
   "cell_type": "code",
   "execution_count": 5,
   "metadata": {},
   "outputs": [],
   "source": [
    "knn = KNNClassifier(2, \"my_own\", \"euclidean\", False)"
   ]
  },
  {
   "cell_type": "code",
   "execution_count": 6,
   "metadata": {},
   "outputs": [],
   "source": [
    "knn.fit(train_data, test_data)"
   ]
  },
  {
   "cell_type": "code",
   "execution_count": 7,
   "metadata": {},
   "outputs": [
    {
     "data": {
      "text/plain": [
       "(array([[ 0, 61],\n",
       "        [ 1, 16],\n",
       "        [ 2,  3],\n",
       "        [ 3, 62],\n",
       "        [ 4, 21],\n",
       "        [ 5, 25],\n",
       "        [ 6,  9],\n",
       "        [ 7, 13],\n",
       "        [ 8, 19],\n",
       "        [ 9, 10],\n",
       "        [10, 12],\n",
       "        [11, 45],\n",
       "        [12, 19],\n",
       "        [13,  7],\n",
       "        [14, 41]]), array([[0.        , 4.0025386 ],\n",
       "        [0.        , 5.11626305],\n",
       "        [0.        , 5.84768477],\n",
       "        [0.        , 5.41316123],\n",
       "        [0.        , 7.56583612],\n",
       "        [0.        , 6.87954582],\n",
       "        [0.        , 7.51202445],\n",
       "        [0.        , 6.80655992],\n",
       "        [0.        , 5.16213553],\n",
       "        [0.        , 5.34781339],\n",
       "        [0.        , 5.3298821 ],\n",
       "        [0.        , 6.0038665 ],\n",
       "        [0.        , 3.97255289],\n",
       "        [0.        , 6.80655992],\n",
       "        [0.        , 5.95065832]]))"
      ]
     },
     "execution_count": 7,
     "metadata": {},
     "output_type": "execute_result"
    }
   ],
   "source": [
    "knn.find_kneighbors(train_data[:15], True)"
   ]
  },
  {
   "cell_type": "code",
   "execution_count": 8,
   "metadata": {},
   "outputs": [
    {
     "ename": "NameError",
     "evalue": "name 'array' is not defined",
     "output_type": "error",
     "traceback": [
      "\u001b[0;31m---------------------------------------------------------------------------\u001b[0m",
      "\u001b[0;31mNameError\u001b[0m                                 Traceback (most recent call last)",
      "\u001b[0;32m<ipython-input-8-1dfafcc120e2>\u001b[0m in \u001b[0;36m<module>\u001b[0;34m\u001b[0m\n\u001b[0;32m----> 1\u001b[0;31m array([[4.00253860e+00, 4.97061724e+00],\n\u001b[0m\u001b[1;32m      2\u001b[0m        \u001b[0;34m[\u001b[0m\u001b[0;36m2.38418579e-07\u001b[0m\u001b[0;34m,\u001b[0m \u001b[0;36m5.11626305e+00\u001b[0m\u001b[0;34m]\u001b[0m\u001b[0;34m,\u001b[0m\u001b[0;34m\u001b[0m\u001b[0;34m\u001b[0m\u001b[0m\n\u001b[1;32m      3\u001b[0m        \u001b[0;34m[\u001b[0m\u001b[0;36m2.92001932e-07\u001b[0m\u001b[0;34m,\u001b[0m \u001b[0;36m5.84768477e+00\u001b[0m\u001b[0;34m]\u001b[0m\u001b[0;34m,\u001b[0m\u001b[0;34m\u001b[0m\u001b[0;34m\u001b[0m\u001b[0m\n\u001b[1;32m      4\u001b[0m        \u001b[0;34m[\u001b[0m\u001b[0;36m3.37174788e-07\u001b[0m\u001b[0;34m,\u001b[0m \u001b[0;36m5.41316123e+00\u001b[0m\u001b[0;34m]\u001b[0m\u001b[0;34m,\u001b[0m\u001b[0;34m\u001b[0m\u001b[0;34m\u001b[0m\u001b[0m\n\u001b[1;32m      5\u001b[0m        \u001b[0;34m[\u001b[0m\u001b[0;36m0.00000000e+00\u001b[0m\u001b[0;34m,\u001b[0m \u001b[0;36m7.56583612e+00\u001b[0m\u001b[0;34m]\u001b[0m\u001b[0;34m,\u001b[0m\u001b[0;34m\u001b[0m\u001b[0;34m\u001b[0m\u001b[0m\n",
      "\u001b[0;31mNameError\u001b[0m: name 'array' is not defined"
     ]
    }
   ],
   "source": [
    " array([[4.00253860e+00, 4.97061724e+00],\n",
    "        [2.38418579e-07, 5.11626305e+00],\n",
    "        [2.92001932e-07, 5.84768477e+00],\n",
    "        [3.37174788e-07, 5.41316123e+00],\n",
    "        [0.00000000e+00, 7.56583612e+00],\n",
    "        [2.38418579e-07, 6.87954582e+00],\n",
    "        [2.38418579e-07, 7.51202445e+00],\n",
    "        [0.00000000e+00, 6.80655992e+00],\n",
    "        [5.16213553e+00, 6.17423925e+00],\n",
    "        [2.38418579e-07, 5.34781339e+00],\n",
    "        [0.00000000e+00, 5.32988210e+00],\n",
    "        [1.68587394e-07, 6.00386650e+00],\n",
    "        [2.38418579e-07, 3.97255289e+00],\n",
    "        [0.00000000e+00, 6.80655992e+00],\n",
    "        [5.95065832e+00, 6.56327789e+00]])\n",
    "    \n",
    "    array([[0.        , 4.0025386 ],\n",
    "        [0.        , 5.11626305],\n",
    "        [0.        , 5.84768477],\n",
    "        [0.        , 5.41316123],\n",
    "        [0.        , 7.56583612],\n",
    "        [0.        , 6.87954582],\n",
    "        [0.        , 7.51202445],\n",
    "        [0.        , 6.80655992],\n",
    "        [0.        , 5.16213553],\n",
    "        [0.        , 5.34781339],\n",
    "        [0.        , 5.3298821 ],\n",
    "        [0.        , 6.0038665 ],\n",
    "        [0.        , 3.97255289],\n",
    "        [0.        , 6.80655992],\n",
    "        [0.        , 5.95065832]]))"
   ]
  }
 ],
 "metadata": {
  "kernelspec": {
   "display_name": "Python 3",
   "language": "python",
   "name": "python3"
  },
  "language_info": {
   "codemirror_mode": {
    "name": "ipython",
    "version": 3
   },
   "file_extension": ".py",
   "mimetype": "text/x-python",
   "name": "python",
   "nbconvert_exporter": "python",
   "pygments_lexer": "ipython3",
   "version": "3.7.4"
  }
 },
 "nbformat": 4,
 "nbformat_minor": 2
}
