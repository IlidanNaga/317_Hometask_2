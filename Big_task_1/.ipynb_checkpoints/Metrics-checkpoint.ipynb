{
 "cells": [
  {
   "cell_type": "code",
   "execution_count": 1,
   "metadata": {},
   "outputs": [],
   "source": [
    "import numpy as np\n",
    "import math"
   ]
  },
  {
   "cell_type": "code",
   "execution_count": 2,
   "metadata": {},
   "outputs": [],
   "source": [
    "arr1 = np.arange(120).reshape(12, 10) + 2\n",
    "arr2 = np.arange(80).reshape(8, 10) + 3"
   ]
  },
  {
   "cell_type": "code",
   "execution_count": 3,
   "metadata": {},
   "outputs": [],
   "source": [
    "def euclidian(arr1, arr2):\n",
    "    if (arr1.shape[1] != arr2.shape[1]):\n",
    "        return None\n",
    "    \n",
    "    res_arr = np.empty((arr2.shape[0], arr1.shape[0]))\n",
    "    for enum, item in enumerate(arr2[:,]):\n",
    "        res_arr[enum] = np.sqrt(np.sum((arr1 - item) ** 2, axis=1))\n",
    "    \n",
    "    return res_arr"
   ]
  },
  {
   "cell_type": "code",
   "execution_count": 4,
   "metadata": {},
   "outputs": [],
   "source": [
    "res = euclidian(arr1, arr2)"
   ]
  },
  {
   "cell_type": "code",
   "execution_count": 5,
   "metadata": {},
   "outputs": [
    {
     "data": {
      "text/plain": [
       "((8, 12), array([[  3.16227766,  28.46049894,  60.08327554,  91.70605214,\n",
       "         123.32882875, 154.95160535, 186.57438195, 218.19715855,\n",
       "         249.81993515, 281.44271175, 313.06548836, 344.68826496],\n",
       "        [ 34.78505426,   3.16227766,  28.46049894,  60.08327554,\n",
       "          91.70605214, 123.32882875, 154.95160535, 186.57438195,\n",
       "         218.19715855, 249.81993515, 281.44271175, 313.06548836],\n",
       "        [ 66.40783086,  34.78505426,   3.16227766,  28.46049894,\n",
       "          60.08327554,  91.70605214, 123.32882875, 154.95160535,\n",
       "         186.57438195, 218.19715855, 249.81993515, 281.44271175],\n",
       "        [ 98.03060747,  66.40783086,  34.78505426,   3.16227766,\n",
       "          28.46049894,  60.08327554,  91.70605214, 123.32882875,\n",
       "         154.95160535, 186.57438195, 218.19715855, 249.81993515],\n",
       "        [129.65338407,  98.03060747,  66.40783086,  34.78505426,\n",
       "           3.16227766,  28.46049894,  60.08327554,  91.70605214,\n",
       "         123.32882875, 154.95160535, 186.57438195, 218.19715855],\n",
       "        [161.27616067, 129.65338407,  98.03060747,  66.40783086,\n",
       "          34.78505426,   3.16227766,  28.46049894,  60.08327554,\n",
       "          91.70605214, 123.32882875, 154.95160535, 186.57438195],\n",
       "        [192.89893727, 161.27616067, 129.65338407,  98.03060747,\n",
       "          66.40783086,  34.78505426,   3.16227766,  28.46049894,\n",
       "          60.08327554,  91.70605214, 123.32882875, 154.95160535],\n",
       "        [224.52171387, 192.89893727, 161.27616067, 129.65338407,\n",
       "          98.03060747,  66.40783086,  34.78505426,   3.16227766,\n",
       "          28.46049894,  60.08327554,  91.70605214, 123.32882875]]))"
      ]
     },
     "execution_count": 5,
     "metadata": {},
     "output_type": "execute_result"
    }
   ],
   "source": [
    "res.shape, res"
   ]
  },
  {
   "cell_type": "code",
   "execution_count": 6,
   "metadata": {},
   "outputs": [],
   "source": [
    "def cos_metrics(arr1, arr2):\n",
    "    if (arr1.shape[1] != arr2.shape[1]):\n",
    "        return None\n",
    "    \n",
    "    res_arr = np.empty((arr1.shape[0], arr2.shape[0]))\n",
    "    for enum, item in enumerate(arr1[:,]):\n",
    "        res_arr[enum] = np.sum(arr2 * item, axis=1) / (\n",
    "            (np.sqrt(np.sum(arr2 * arr2, axis=1)) * \n",
    "             np.sqrt((np.sum(item * item)))))\n",
    "        \n",
    "    return res_arr"
   ]
  },
  {
   "cell_type": "code",
   "execution_count": 7,
   "metadata": {},
   "outputs": [],
   "source": [
    "res_cos = cos_metrics(arr1, arr2)"
   ]
  },
  {
   "cell_type": "code",
   "execution_count": 8,
   "metadata": {},
   "outputs": [
    {
     "data": {
      "text/plain": [
       "((12, 8), array([[0.99873279, 0.96806344, 0.95171557, 0.94287338, 0.93740531,\n",
       "         0.9337028 , 0.93103333, 0.92901881],\n",
       "        [0.98135839, 0.99995324, 0.99766974, 0.99540457, 0.99373958,\n",
       "         0.99251366, 0.9915847 , 0.99086012],\n",
       "        [0.96695986, 0.99850359, 0.99999241, 0.99950324, 0.99886872,\n",
       "         0.99831527, 0.99785958, 0.99748611],\n",
       "        [0.95903806, 0.99646155, 0.99967391, 0.99999782, 0.99983556,\n",
       "         0.99959049, 0.99935192, 0.99913958],\n",
       "        [0.954132  , 0.99490496, 0.99910218, 0.99989116, 0.99999916,\n",
       "         0.99993062, 0.99981637, 0.99969629],\n",
       "        [0.9508127 , 0.9937472 , 0.99858116, 0.99967101, 0.9999539 ,\n",
       "         0.99999961, 0.99996583, 0.99990549],\n",
       "        [0.94842224, 0.99286663, 0.99814593, 0.99944629, 0.99985156,\n",
       "         0.99997725, 0.9999998 , 0.99998127],\n",
       "        [0.94662025, 0.99217878, 0.99778698, 0.99924285, 0.99973856,\n",
       "         0.99992334, 0.99998751, 0.99999988],\n",
       "        [0.94521392, 0.99162832, 0.99748936, 0.9990648 , 0.99963004,\n",
       "         0.99986026, 0.99995645, 0.99999258],\n",
       "        [0.94408613, 0.99117859, 0.99724002, 0.99891026, 0.99953064,\n",
       "         0.99979689, 0.99991845, 0.99997344],\n",
       "        [0.94316175, 0.99080462, 0.9970288 , 0.99877603, 0.99944119,\n",
       "         0.99973671, 0.99987889, 0.99994918],\n",
       "        [0.94239039, 0.99048896, 0.99684793, 0.99865893, 0.99936119,\n",
       "         0.99968095, 0.99984021, 0.99992318]]))"
      ]
     },
     "execution_count": 8,
     "metadata": {},
     "output_type": "execute_result"
    }
   ],
   "source": [
    "res_cos.shape, res_cos"
   ]
  },
  {
   "cell_type": "code",
   "execution_count": 9,
   "metadata": {},
   "outputs": [
    {
     "data": {
      "text/plain": [
       "645"
      ]
     },
     "execution_count": 9,
     "metadata": {},
     "output_type": "execute_result"
    }
   ],
   "source": [
    "np.sum(arr2[0] * arr2[0])"
   ]
  },
  {
   "cell_type": "code",
   "execution_count": 10,
   "metadata": {},
   "outputs": [
    {
     "data": {
      "text/plain": [
       "(12,)"
      ]
     },
     "execution_count": 10,
     "metadata": {},
     "output_type": "execute_result"
    }
   ],
   "source": [
    "np.sum(arr1 * arr2[0], axis =1).shape"
   ]
  },
  {
   "cell_type": "code",
   "execution_count": 11,
   "metadata": {},
   "outputs": [
    {
     "data": {
      "text/plain": [
       "(array([[1., 0., 0., 0., 0., 0., 0., 0., 0., 0.],\n",
       "        [1., 0., 0., 0., 0., 0., 0., 0., 0., 0.],\n",
       "        [1., 0., 0., 0., 0., 0., 0., 0., 0., 0.],\n",
       "        [1., 0., 0., 0., 0., 0., 0., 0., 0., 0.]]),\n",
       " array([[-1.,  0.,  0.,  0.,  0.,  0.,  0.,  0.,  0.,  0.],\n",
       "        [-1.,  0.,  0.,  0.,  0.,  0.,  0.,  0.,  0.,  0.],\n",
       "        [-1.,  0.,  0.,  0.,  0.,  0.,  0.,  0.,  0.,  0.],\n",
       "        [-1.,  0.,  0.,  0.,  0.,  0.,  0.,  0.,  0.,  0.],\n",
       "        [-1.,  0.,  0.,  0.,  0.,  0.,  0.,  0.,  0.,  0.],\n",
       "        [-1.,  0.,  0.,  0.,  0.,  0.,  0.,  0.,  0.,  0.]]))"
      ]
     },
     "execution_count": 11,
     "metadata": {},
     "output_type": "execute_result"
    }
   ],
   "source": [
    "arr3 = np.zeros(40).reshape(4, 10)\n",
    "arr3 += np.array([1, 0, 0, 0, 0, 0, 0, 0, 0, 0])\n",
    "\n",
    "arr4 = np.zeros(60).reshape(6, 10)\n",
    "arr4 -= np.array([1, 0, 0, 0, 0, 0, 0, 0, 0, 0])\n",
    "\n",
    "arr3, arr4"
   ]
  },
  {
   "cell_type": "code",
   "execution_count": null,
   "metadata": {},
   "outputs": [],
   "source": []
  },
  {
   "cell_type": "code",
   "execution_count": 12,
   "metadata": {},
   "outputs": [
    {
     "data": {
      "text/plain": [
       "(12, 10)"
      ]
     },
     "execution_count": 12,
     "metadata": {},
     "output_type": "execute_result"
    }
   ],
   "source": [
    "arr1.shape"
   ]
  },
  {
   "cell_type": "code",
   "execution_count": 13,
   "metadata": {},
   "outputs": [
    {
     "data": {
      "text/plain": [
       "(8, 10)"
      ]
     },
     "execution_count": 13,
     "metadata": {},
     "output_type": "execute_result"
    }
   ],
   "source": [
    "arr2.shape"
   ]
  },
  {
   "cell_type": "code",
   "execution_count": 14,
   "metadata": {},
   "outputs": [
    {
     "data": {
      "text/plain": [
       "array([[  3.16227766,  28.46049894,  60.08327554,  91.70605214,\n",
       "        123.32882875, 154.95160535, 186.57438195, 218.19715855,\n",
       "        249.81993515, 281.44271175, 313.06548836, 344.68826496],\n",
       "       [ 34.78505426,   3.16227766,  28.46049894,  60.08327554,\n",
       "         91.70605214, 123.32882875, 154.95160535, 186.57438195,\n",
       "        218.19715855, 249.81993515, 281.44271175, 313.06548836],\n",
       "       [ 66.40783086,  34.78505426,   3.16227766,  28.46049894,\n",
       "         60.08327554,  91.70605214, 123.32882875, 154.95160535,\n",
       "        186.57438195, 218.19715855, 249.81993515, 281.44271175],\n",
       "       [ 98.03060747,  66.40783086,  34.78505426,   3.16227766,\n",
       "         28.46049894,  60.08327554,  91.70605214, 123.32882875,\n",
       "        154.95160535, 186.57438195, 218.19715855, 249.81993515],\n",
       "       [129.65338407,  98.03060747,  66.40783086,  34.78505426,\n",
       "          3.16227766,  28.46049894,  60.08327554,  91.70605214,\n",
       "        123.32882875, 154.95160535, 186.57438195, 218.19715855],\n",
       "       [161.27616067, 129.65338407,  98.03060747,  66.40783086,\n",
       "         34.78505426,   3.16227766,  28.46049894,  60.08327554,\n",
       "         91.70605214, 123.32882875, 154.95160535, 186.57438195],\n",
       "       [192.89893727, 161.27616067, 129.65338407,  98.03060747,\n",
       "         66.40783086,  34.78505426,   3.16227766,  28.46049894,\n",
       "         60.08327554,  91.70605214, 123.32882875, 154.95160535],\n",
       "       [224.52171387, 192.89893727, 161.27616067, 129.65338407,\n",
       "         98.03060747,  66.40783086,  34.78505426,   3.16227766,\n",
       "         28.46049894,  60.08327554,  91.70605214, 123.32882875]])"
      ]
     },
     "execution_count": 14,
     "metadata": {},
     "output_type": "execute_result"
    }
   ],
   "source": [
    "euclidian(arr1, arr2)"
   ]
  },
  {
   "cell_type": "code",
   "execution_count": 15,
   "metadata": {},
   "outputs": [],
   "source": [
    "x = np.array([[1, 5, 7], [4, 7, 0]])\n",
    "y = np.array([[0,9, 5], [1, 6, 0], [5, 8, 7], [1 ,2 ,3]])"
   ]
  },
  {
   "cell_type": "code",
   "execution_count": 16,
   "metadata": {},
   "outputs": [],
   "source": [
    "def euclidean_distance(arr1, arr2):\n",
    "    res_arr = np.empty((arr1.shape[0], arr2.shape[0]))\n",
    "    for enum, item in enumerate(arr1[:, ]):\n",
    "        res_arr[enum] = np.sqrt(np.sum((arr2 - item) ** 2, axis=1))\n",
    "\n",
    "    return res_arr"
   ]
  },
  {
   "cell_type": "code",
   "execution_count": 17,
   "metadata": {},
   "outputs": [],
   "source": [
    "def cosine_distance(arr1, arr2):\n",
    "    if (arr1.shape[1] != arr2.shape[1]):\n",
    "        return None\n",
    "\n",
    "    res_arr = np.empty((arr1.shape[0], arr2.shape[0]))\n",
    "    for enum, item in enumerate(arr1[:, ]):\n",
    "        res_arr[enum] = np.sum(arr2 * item, axis=1) / (\n",
    "            (np.sqrt(np.sum(arr2 * arr2, axis=1)) *\n",
    "             np.sqrt((np.sum(item * item)))))\n",
    "\n",
    "    return 1 - res_arr"
   ]
  },
  {
   "cell_type": "code",
   "execution_count": 18,
   "metadata": {},
   "outputs": [
    {
     "data": {
      "text/plain": [
       "array([0, 1, 0, 0])"
      ]
     },
     "execution_count": 18,
     "metadata": {},
     "output_type": "execute_result"
    }
   ],
   "source": [
    "np.argmin(euclidean_distance(x, y), axis = 0)"
   ]
  },
  {
   "cell_type": "code",
   "execution_count": 19,
   "metadata": {},
   "outputs": [
    {
     "data": {
      "text/plain": [
       "array([[0.10276455, 0.41152204, 0.07603041, 0.01245856],\n",
       "       [0.24101894, 0.0620055 , 0.19755113, 0.40330581]])"
      ]
     },
     "execution_count": 19,
     "metadata": {},
     "output_type": "execute_result"
    }
   ],
   "source": [
    "cosine_distance(x, y)"
   ]
  },
  {
   "cell_type": "code",
   "execution_count": 21,
   "metadata": {},
   "outputs": [
    {
     "data": {
      "text/plain": [
       "array([[1, 5, 7],\n",
       "       [4, 7, 0]])"
      ]
     },
     "execution_count": 21,
     "metadata": {},
     "output_type": "execute_result"
    }
   ],
   "source": [
    "x"
   ]
  },
  {
   "cell_type": "code",
   "execution_count": 22,
   "metadata": {},
   "outputs": [
    {
     "data": {
      "text/plain": [
       "array([[0, 9, 5],\n",
       "       [1, 6, 0],\n",
       "       [5, 8, 7],\n",
       "       [1, 2, 3]])"
      ]
     },
     "execution_count": 22,
     "metadata": {},
     "output_type": "execute_result"
    }
   ],
   "source": [
    "y"
   ]
  },
  {
   "cell_type": "code",
   "execution_count": 37,
   "metadata": {},
   "outputs": [],
   "source": [
    "from sklearn.metrics import euclidean_distances as eu_d\n",
    "from sklearn.metrics.pairwise import cosine_similarity as co_s"
   ]
  },
  {
   "cell_type": "code",
   "execution_count": 35,
   "metadata": {},
   "outputs": [],
   "source": [
    "def euc_1(x, y):\n",
    "    return np.sqrt(((x[:, np.newaxis] - y[np.newaxis, :]) * (x[:, np.newaxis] - y[np.newaxis, :])).sum(axis=2))\n",
    "\n",
    "def euc_2(x, y):\n",
    "    return np.sqrt(np.sum(x ** 2, axis=1)[:,np.newaxis] + np.sum(y ** 2, axis=1) - 2 * np.dot(x, np.transpose(y)))\n",
    "\n",
    "def euc_3(x, y):\n",
    "    return np.sqrt(np.square(x).sum(axis=1)[:, None] + np.square(y).sum(axis=1) - 2 * np.dot(x, y.T))\n",
    "\n",
    "correct = eu_d(x, y)\n",
    "my = euc_2(x, y)\n",
    "assert np.allclose(correct, my)"
   ]
  },
  {
   "cell_type": "code",
   "execution_count": 49,
   "metadata": {},
   "outputs": [],
   "source": [
    "def cosine_distance(x, y):\n",
    "    return (1 - np.dot(x, y.T).T / np.sqrt((x ** 2).sum(axis=1)) / np.sqrt(np.sum((y ** 2),axis=1))[:, None]).T\n",
    "\n",
    "correct = 1 - co_s(x, y)\n",
    "my = cosine_distance(x, y)\n",
    "assert np.allclose(correct, my)"
   ]
  },
  {
   "cell_type": "code",
   "execution_count": 25,
   "metadata": {},
   "outputs": [
    {
     "data": {
      "text/plain": [
       "array([[4.58257569, 7.07106781, 5.        , 5.        ],\n",
       "       [6.70820393, 3.16227766, 7.14142843, 6.55743852]])"
      ]
     },
     "execution_count": 25,
     "metadata": {},
     "output_type": "execute_result"
    }
   ],
   "source": [
    "euc_1(x, y)"
   ]
  },
  {
   "cell_type": "code",
   "execution_count": 50,
   "metadata": {},
   "outputs": [
    {
     "data": {
      "text/plain": [
       "array([[0.10276455, 0.41152204, 0.07603041, 0.01245856],\n",
       "       [0.24101894, 0.0620055 , 0.19755113, 0.40330581]])"
      ]
     },
     "execution_count": 50,
     "metadata": {},
     "output_type": "execute_result"
    }
   ],
   "source": [
    "cosine_distance(x, y)"
   ]
  },
  {
   "cell_type": "code",
   "execution_count": 53,
   "metadata": {},
   "outputs": [
    {
     "data": {
      "text/plain": [
       "(2, 1)"
      ]
     },
     "execution_count": 53,
     "metadata": {},
     "output_type": "execute_result"
    }
   ],
   "source": [
    "x.sum(axis=1)[:, None].shape"
   ]
  },
  {
   "cell_type": "code",
   "execution_count": null,
   "metadata": {},
   "outputs": [],
   "source": []
  }
 ],
 "metadata": {
  "kernelspec": {
   "display_name": "Python 3",
   "language": "python",
   "name": "python3"
  },
  "language_info": {
   "codemirror_mode": {
    "name": "ipython",
    "version": 3
   },
   "file_extension": ".py",
   "mimetype": "text/x-python",
   "name": "python",
   "nbconvert_exporter": "python",
   "pygments_lexer": "ipython3",
   "version": "3.7.4"
  }
 },
 "nbformat": 4,
 "nbformat_minor": 2
}
