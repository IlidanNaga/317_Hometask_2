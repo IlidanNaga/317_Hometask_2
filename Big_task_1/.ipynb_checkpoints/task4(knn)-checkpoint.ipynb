{
 "cells": [
  {
   "cell_type": "code",
   "execution_count": 3,
   "metadata": {},
   "outputs": [],
   "source": [
    "import numpy as np\n",
    "import matplotlib as plt\n",
    "import math"
   ]
  },
  {
   "cell_type": "code",
   "execution_count": 4,
   "metadata": {},
   "outputs": [],
   "source": [
    "from sklearn.neighbors import KNeighborsClassifier\n",
    "from sklearn.model_selection import train_test_split"
   ]
  },
  {
   "cell_type": "code",
   "execution_count": 5,
   "metadata": {},
   "outputs": [
    {
     "name": "stderr",
     "output_type": "stream",
     "text": [
      "/usr/local/lib/python3.7/site-packages/sklearn/utils/deprecation.py:85: DeprecationWarning: Function fetch_mldata is deprecated; fetch_mldata was deprecated in version 0.20 and will be removed in version 0.22. Please use fetch_openml.\n",
      "  warnings.warn(msg, category=DeprecationWarning)\n",
      "/usr/local/lib/python3.7/site-packages/sklearn/utils/deprecation.py:85: DeprecationWarning: Function mldata_filename is deprecated; mldata_filename was deprecated in version 0.20 and will be removed in version 0.22. Please use fetch_openml.\n",
      "  warnings.warn(msg, category=DeprecationWarning)\n"
     ]
    }
   ],
   "source": [
    "from sklearn.datasets import fetch_mldata\n",
    "mnist = fetch_mldata('MNIST original')\n",
    "data = mnist.data / 255.0\n",
    "answer = mnist.target.astype(int)\n",
    "\n",
    "train_set, test_set, train_target, test_target = train_test_split(data, answer, test_size=10000)"
   ]
  },
  {
   "cell_type": "code",
   "execution_count": 6,
   "metadata": {},
   "outputs": [
    {
     "data": {
      "text/plain": [
       "(10000, 784)"
      ]
     },
     "execution_count": 6,
     "metadata": {},
     "output_type": "execute_result"
    }
   ],
   "source": [
    "test_set.shape"
   ]
  },
  {
   "cell_type": "code",
   "execution_count": 7,
   "metadata": {},
   "outputs": [
    {
     "data": {
      "text/plain": [
       "array([9, 6, 7, 0, 3, 1, 7, 1, 8, 2, 9, 7, 8, 6, 7])"
      ]
     },
     "execution_count": 7,
     "metadata": {},
     "output_type": "execute_result"
    }
   ],
   "source": [
    "test_target[:15]"
   ]
  },
  {
   "cell_type": "code",
   "execution_count": 8,
   "metadata": {},
   "outputs": [],
   "source": [
    "def euclidean_distance(x, y):\n",
    "    return np.sqrt(np.sum(x ** 2, axis=1)[:,np.newaxis] + np.sum(y ** 2, axis=1)\n",
    "            - 2 * np.dot(x, y.T))\n",
    "\n",
    "\n",
    "def euclidean_distance1(x, y):\n",
    "    return np.sqrt(((x[:, np.newaxis] - y) ** 2).sum(axis=2))\n",
    "\n",
    "def cosine_distance(x, y):\n",
    "    norma = np.sqrt(np.sum(np.square(x), axis=1).reshape(-1, 1) * np.sum(np.square(y), axis=1)) \n",
    "    if len(np.where(norma == 0)[0]) == 0:\n",
    "        return 1 - np.dot(x, np.transpose(y)) / norma\n",
    "    return 0\n",
    "def weight(array):\n",
    "    eps = 0.00001\n",
    "    return 1 / (array + eps)"
   ]
  },
  {
   "cell_type": "code",
   "execution_count": 9,
   "metadata": {},
   "outputs": [],
   "source": [
    "class KNNClassifier:\n",
    "    def __init__(self, k, strategy, metric, weights, test_block_size):\n",
    "        self.k = k\n",
    "        self.strategy = strategy\n",
    "        self.metric = metric\n",
    "        self.weights = weights\n",
    "        self.test_block_size = test_block_size\n",
    "        if strategy != 'my_own':\n",
    "            if strategy != 'brute' and strategy != 'kd_tree' and strategy != 'ball_tree':\n",
    "                raise KeyError\n",
    "            # change parameters\n",
    "            self.skln_knn = KNeighborsClassifier(\n",
    "                n_neighbors=k, algorithm = strategy, metric = metric, weights='uniform' if not weights else weight)\n",
    "        \n",
    "    def fit(self, x, y):\n",
    "        if self.strategy == 'my_own':\n",
    "            self.train_set = x\n",
    "            self.train_target = y\n",
    "        else:\n",
    "            self.skln_knn.fit(x, y)\n",
    "    \n",
    "        \n",
    "        # here we should apply sklearn\n",
    "    def find_kneighbors(self, x, return_distance):\n",
    "        if self.strategy == 'my_own':\n",
    "            count_of_blocks = math.ceil(x.shape[0] / self.test_block_size)\n",
    "            if x.shape[0] != count_of_blocks * self.test_block_size:\n",
    "\n",
    "                if x.shape[0] <= self.test_block_size:\n",
    "                    blocked_data = x\n",
    "                else:\n",
    "                    blocked_data = np.concatenate([np.split(x[:(count_of_blocks - 1) * self.test_block_size], count_of_blocks - 1, axis=0),\n",
    "                                                  x[(count_of_blocks - 1) * self.test_block_size:]], axis=0)\n",
    "            else:\n",
    "                blocked_data = np.split(x, count_of_blocks, axis=0)\n",
    "            # here we should find maatrix of distances\n",
    "            ans_matrix = np.array([])\n",
    "            if self.metric == 'euclidean':\n",
    "                for mtr in blocked_data:\n",
    "                    sub_matrix = euclidean_distance1(self.train_set, mtr)\n",
    "                    if len(ans_matrix) == 0:\n",
    "                        ans_matrix = sub_matrix\n",
    "                        continue\n",
    "                    ans_matrix = np.concatenate([ans_matrix, sub_matrix], axis=1)\n",
    "            if self.metric == 'cosine':\n",
    "                for mtr in blocked_data:\n",
    "                    sub_matrix = cosine_distance(self.train_set, mtr)\n",
    "                    if len(ans_matrix) == 0:\n",
    "                        ans_matrix = sub_matrix\n",
    "                        continue\n",
    "                    ans_matrix = np.concatenate([ans_matrix, sub_matrix], axis=1)\n",
    "            ans_matrix = ans_matrix.T\n",
    "            neighbour = np.sort(ans_matrix, axis=1)[:, :self.k]\n",
    "            index = np.argsort(ans_matrix, axis=1)[:,:self.k]\n",
    "            if return_distance:\n",
    "                return (neighbour, index)\n",
    "            return index\n",
    "        else:\n",
    "            return self.skln_knn.kneighbors(x, n_neighbors=self.k, return_distance=return_distance)\n",
    "        \n",
    "    def predict(self, x):\n",
    "        if self.strategy == 'my_own':\n",
    "            answer = np.zeros(x.shape[0]).astype(int)\n",
    "            if self.weights:\n",
    "                dist, ind = self.find_kneighbors(x, True)\n",
    "                votes = weight(dist)\n",
    "                for i, mark in enumerate(self.train_target[ind]):\n",
    "                    ind_array = np.zeros(10)\n",
    "                    for j in range(self.k):\n",
    "                        ind_array[int(mark[j])] += votes[i][j]\n",
    "                    answer[i] = np.argmax(ind_array)\n",
    "                return answer\n",
    "            else:\n",
    "                for i, mark in enumerate(self.train_target[self.find_kneighbors(x, False)]):\n",
    "                    answer[i] = np.bincount(mark).argmax()\n",
    "                return answer\n",
    "        else:\n",
    "            return skln_knn.predict(x)\n"
   ]
  },
  {
   "cell_type": "code",
   "execution_count": 39,
   "metadata": {},
   "outputs": [],
   "source": [
    "from nearest_neighbors import KNNClassifier as KNC"
   ]
  },
  {
   "cell_type": "code",
   "execution_count": 41,
   "metadata": {},
   "outputs": [],
   "source": [
    "knn2 = KNC(4, \"my_own\", \"cosine\", False)\n",
    "knn2.fit(train_set, train_target)\n",
    "new_test_set = test_set[:100]\n",
    "res_2 = knn2.predict(new_test_set)"
   ]
  },
  {
   "cell_type": "code",
   "execution_count": 10,
   "metadata": {},
   "outputs": [],
   "source": [
    "knn1 = KNNClassifier(4,'my_own', 'cosine', False, 10)\n",
    "knn1.fit(train_set, train_target)\n",
    "\n",
    "res_1 = knn1.predict(test_set[:100])"
   ]
  },
  {
   "cell_type": "code",
   "execution_count": 11,
   "metadata": {},
   "outputs": [
    {
     "data": {
      "text/plain": [
       "array([9, 6, 7, 0, 3, 1, 7, 1, 8, 2, 9, 7, 8, 6, 7, 1, 4, 5, 6, 9, 2, 7,\n",
       "       1, 1, 8, 9, 2, 2, 8, 0, 9, 1, 3, 3, 3, 9, 2, 8, 3, 1, 0, 5, 6, 1,\n",
       "       8, 2, 6, 5, 6, 0, 4, 0, 3, 1, 1, 0, 8, 6, 0, 8, 3, 9, 8, 7, 1, 3,\n",
       "       6, 3, 9, 9, 1, 7, 1, 9, 0, 3, 1, 0, 5, 7, 7, 2, 3, 7, 1, 0, 1, 3,\n",
       "       7, 7, 1, 9, 0, 6, 4, 3, 7, 6, 0, 2])"
      ]
     },
     "execution_count": 11,
     "metadata": {},
     "output_type": "execute_result"
    }
   ],
   "source": [
    "res_1"
   ]
  },
  {
   "cell_type": "code",
   "execution_count": null,
   "metadata": {},
   "outputs": [],
   "source": [
    "len(np.where(ans1 == test_target)[0])/10000"
   ]
  },
  {
   "cell_type": "code",
   "execution_count": null,
   "metadata": {},
   "outputs": [],
   "source": [
    "knn = KNNClassifier(2, 'brute', 'euclidean', False, 5)\n",
    "knn.fit(train_set, train_target)\n",
    "knn.find_kneighbors(test_set[:15], True)\n",
    "\"\"\" \n",
    "            print('here', len(blocked_data))\n",
    "            # here we should find maatrix of distances\n",
    "            ans_matrix = np.array([])\n",
    "            if self.metric == 'euclidean':\n",
    "                for mtr in blocked_data:\n",
    "                    sub_matrix = euclidean_distance1(x, mtr)\n",
    "                    if len(ans_matrix) == 0:\n",
    "                        ans_matrix = sub_matrix\n",
    "                        continue\n",
    "                    ans_matrix = np.concatenate([ans_matrix, sub_matrix], axis=1)\n",
    "            if self.metric == 'cosine':\n",
    "                for mtr in blocked_data:\n",
    "                    sub_matrix = cosine_distance(x, mtr)\n",
    "                    if len(ans_matrix) == 0:\n",
    "                        ans_matrix = sub_matrix\n",
    "                        continue\n",
    "                    ans_matrix = np.concatenate([ans_matrix, sub_matrix], axis=1)\n",
    "            #ans_matrix = ans_matrix.T\n",
    "            \"\"\""
   ]
  },
  {
   "cell_type": "code",
   "execution_count": null,
   "metadata": {},
   "outputs": [],
   "source": [
    "#distances\n",
    "\n",
    "x = np.array([[1, 5,7], [4, 7, 0]])\n",
    "y = np.array([[0, 9, 5], [1, 6, 0], [5, 8, 7], [1, 2, 3]])\n",
    "\n",
    "euclidean_distance(x, y)"
   ]
  },
  {
   "cell_type": "code",
   "execution_count": null,
   "metadata": {},
   "outputs": [],
   "source": [
    "#cross_validation\n",
    "def k_fold(n, n_folds):\n",
    "    "
   ]
  }
 ],
 "metadata": {
  "kernelspec": {
   "display_name": "Python 3",
   "language": "python",
   "name": "python3"
  },
  "language_info": {
   "codemirror_mode": {
    "name": "ipython",
    "version": 3
   },
   "file_extension": ".py",
   "mimetype": "text/x-python",
   "name": "python",
   "nbconvert_exporter": "python",
   "pygments_lexer": "ipython3",
   "version": "3.7.4"
  }
 },
 "nbformat": 4,
 "nbformat_minor": 2
}
