{
 "cells": [
  {
   "cell_type": "code",
   "execution_count": 61,
   "metadata": {},
   "outputs": [],
   "source": [
    "from sklearn.datasets import fetch_mldata\n",
    "from sklearn.model_selection import train_test_split\n",
    "from sklearn.metrics import accuracy_score as ac_s\n",
    "\n",
    "import numpy as np\n",
    "import matplotlib.pyplot as plt\n",
    "from sklearn.metrics import confusion_matrix\n",
    "from sklearn.utils.multiclass import unique_labels"
   ]
  },
  {
   "cell_type": "code",
   "execution_count": 62,
   "metadata": {},
   "outputs": [
    {
     "name": "stderr",
     "output_type": "stream",
     "text": [
      "/usr/local/lib/python3.7/site-packages/sklearn/utils/deprecation.py:85: DeprecationWarning: Function fetch_mldata is deprecated; fetch_mldata was deprecated in version 0.20 and will be removed in version 0.22. Please use fetch_openml.\n",
      "  warnings.warn(msg, category=DeprecationWarning)\n",
      "/usr/local/lib/python3.7/site-packages/sklearn/utils/deprecation.py:85: DeprecationWarning: Function mldata_filename is deprecated; mldata_filename was deprecated in version 0.20 and will be removed in version 0.22. Please use fetch_openml.\n",
      "  warnings.warn(msg, category=DeprecationWarning)\n"
     ]
    }
   ],
   "source": [
    "mnist = fetch_mldata(\"MNIST-original\")\n",
    "data = mnist.data / 255.0\n",
    "target = mnist.target.astype(\"int0\")\n",
    "\n",
    "train_data, test_data, train_target, test_target = train_test_split(data, target, test_size=1/7, random_state=666)"
   ]
  },
  {
   "cell_type": "code",
   "execution_count": 63,
   "metadata": {},
   "outputs": [
    {
     "data": {
      "text/plain": [
       "array([5, 2, 3, ..., 0, 2, 9])"
      ]
     },
     "execution_count": 63,
     "metadata": {},
     "output_type": "execute_result"
    }
   ],
   "source": [
    "result = np.empty(test_target.__len__()).astype(int)\n",
    "\n",
    "data_from_file = open(\"save_file_2.txt\").read()\n",
    "\n",
    "for enum, ch in enumerate(data_from_file):\n",
    "    result[enum] = int(ch)\n",
    "    \n",
    "result"
   ]
  },
  {
   "cell_type": "code",
   "execution_count": 64,
   "metadata": {},
   "outputs": [
    {
     "data": {
      "text/plain": [
       "0.9756"
      ]
     },
     "execution_count": 64,
     "metadata": {},
     "output_type": "execute_result"
    }
   ],
   "source": [
    "ac_s(test_target, result)"
   ]
  },
  {
   "cell_type": "code",
   "execution_count": 65,
   "metadata": {},
   "outputs": [],
   "source": [
    "diff_positions = np.argwhere(test_target != result)\n",
    "same_positions = np.argwhere(test_target == result)"
   ]
  },
  {
   "cell_type": "code",
   "execution_count": 66,
   "metadata": {},
   "outputs": [
    {
     "data": {
      "text/plain": [
       "(array([0, 1, 2, 3, 4, 5, 6, 7, 8, 9]),\n",
       " array([ 943, 1153,  998,  990,  959,  898, 1017, 1049,  986, 1007]))"
      ]
     },
     "execution_count": 66,
     "metadata": {},
     "output_type": "execute_result"
    }
   ],
   "source": [
    "# let's count size of classes\n",
    "unique, counts = np.unique(test_target, return_counts=True)\n",
    "unique, counts"
   ]
  },
  {
   "cell_type": "code",
   "execution_count": 67,
   "metadata": {},
   "outputs": [
    {
     "data": {
      "text/plain": [
       "array([ 939, 1143,  979,  952,  928,  861, 1008, 1020,  945,  981])"
      ]
     },
     "execution_count": 67,
     "metadata": {},
     "output_type": "execute_result"
    }
   ],
   "source": [
    "unique, right_answers_count = np.unique(result[same_positions], return_counts = True)\n",
    "right_answers_count"
   ]
  },
  {
   "cell_type": "code",
   "execution_count": 68,
   "metadata": {},
   "outputs": [
    {
     "data": {
      "text/plain": [
       "array([ 4, 10, 19, 38, 31, 37,  9, 29, 41, 26])"
      ]
     },
     "execution_count": 68,
     "metadata": {},
     "output_type": "execute_result"
    }
   ],
   "source": [
    "wrong_answers_each_class = counts - right_answers_count\n",
    "wrong_answers_each_class"
   ]
  },
  {
   "cell_type": "code",
   "execution_count": 69,
   "metadata": {},
   "outputs": [
    {
     "data": {
      "text/plain": [
       "array([[ 939,    0,    1,    0,    0,    0,    1,    0,    2,    0],\n",
       "       [   0, 1143,    5,    1,    1,    0,    0,    3,    0,    0],\n",
       "       [   5,    3,  979,    1,    0,    0,    1,    6,    2,    1],\n",
       "       [   3,    2,    5,  952,    0,    8,    0,    3,   12,    5],\n",
       "       [   1,    2,    1,    1,  928,    0,    3,    0,    2,   21],\n",
       "       [   5,    0,    0,   10,    0,  861,   15,    0,    4,    3],\n",
       "       [   3,    4,    0,    0,    0,    1, 1008,    0,    1,    0],\n",
       "       [   0,    7,    3,    0,    4,    0,    0, 1020,    1,   14],\n",
       "       [   1,   14,    1,    5,    2,    6,    5,    2,  945,    5],\n",
       "       [   3,    1,    1,    8,    5,    1,    0,    6,    1,  981]])"
      ]
     },
     "execution_count": 69,
     "metadata": {},
     "output_type": "execute_result"
    }
   ],
   "source": [
    "conf_matr = confusion_matrix(test_target, result)\n",
    "conf_matr"
   ]
  },
  {
   "cell_type": "code",
   "execution_count": 70,
   "metadata": {},
   "outputs": [
    {
     "data": {
      "text/plain": [
       "10"
      ]
     },
     "execution_count": 70,
     "metadata": {},
     "output_type": "execute_result"
    }
   ],
   "source": [
    "conf_matr[5, 3]"
   ]
  },
  {
   "cell_type": "code",
   "execution_count": 71,
   "metadata": {},
   "outputs": [],
   "source": [
    "for i in range(10):\n",
    "    conf_matr[i, i] = 0"
   ]
  },
  {
   "cell_type": "code",
   "execution_count": 72,
   "metadata": {},
   "outputs": [
    {
     "data": {
      "image/png": "[encoded data removed]",
      "text/plain": [
       "<Figure size 432x288 with 1 Axes>"
      ]
     },
     "metadata": {
      "needs_background": "light"
     },
     "output_type": "display_data"
    }
   ],
   "source": [
    "plt.imshow(conf_matr, cmap=\"Greys\")\n",
    "\n",
    "plt.savefig(\"error_map.png\")\n",
    "\n",
    "plt.show()"
   ]
  },
  {
   "cell_type": "raw",
   "metadata": {},
   "source": [
    "окей... как это работает: \n",
    "по линиям расположены числа, которые мы должны предсказать (правильные предсказания, чтобы не перевешивали, были удалены\n",
    "по столбцам - числа, которые мы предсказали на самом деле\n",
    "т.е., как я понимаю, наиболее частые ошибки:\n",
    "1) предсказано 8 вместо 3 +\n",
    "2) предсказано 9 вместо 4 +\n",
    "3) предсказано 6 вместо 5 +\n",
    "4) предсказано 3 вместо 5 +\n",
    "5) предсказано 9 вместо 7 +\n",
    "6) предсказано 1 вместо 8 +\n",
    "7) предсказано 5 вместо 3 +\n",
    "\n",
    "Посмотрим теперь, в какой строке сколько ошибок"
   ]
  },
  {
   "cell_type": "code",
   "execution_count": 108,
   "metadata": {},
   "outputs": [
    {
     "name": "stdout",
     "output_type": "stream",
     "text": [
      "[ 4 10 19 38 31 37  9 29 41 26]\n"
     ]
    },
    {
     "data": {
      "image/png": "[encoded data removed]",
      "text/plain": [
       "<Figure size 432x288 with 1 Axes>"
      ]
     },
     "metadata": {
      "needs_background": "light"
     },
     "output_type": "display_data"
    }
   ],
   "source": [
    "print(wrong_answers_each_class)\n",
    "plt.imshow(wrong_answers_each_class[None,:], cmap=\"Greys\")\n",
    "plt.show()"
   ]
  },
  {
   "cell_type": "raw",
   "metadata": {},
   "source": [
    "Попробуем посмотреть каждую ошибку из наиболее частых (из 7, указанных выше)"
   ]
  },
  {
   "cell_type": "code",
   "execution_count": 109,
   "metadata": {},
   "outputs": [
    {
     "data": {
      "text/plain": [
       "12"
      ]
     },
     "execution_count": 109,
     "metadata": {},
     "output_type": "execute_result"
    }
   ],
   "source": [
    "test_target_3 = np.argwhere(test_target == 3)\n",
    "error_3_8 = test_target_3[np.argwhere(result[test_target_3] == 8)][:, 0]\n",
    "error_3_8.__len__() # прекрасно, всё верно"
   ]
  },
  {
   "cell_type": "code",
   "execution_count": 128,
   "metadata": {},
   "outputs": [
    {
     "data": {
      "image/png": "[encoded data removed]",
      "text/plain": [
       "<Figure size 432x288 with 6 Axes>"
      ]
     },
     "metadata": {
      "needs_background": "light"
     },
     "output_type": "display_data"
    }
   ],
   "source": [
    "test_target_3 = np.argwhere(test_target == 3)\n",
    "error_3_8 = test_target_3[np.argwhere(result[test_target_3] == 8)][:, 0]\n",
    "\n",
    "fig, axs = plt.subplots(2, 3, tight_layout=True)\n",
    "\n",
    "\n",
    "\n",
    "axs[0, 0].imshow(test_data[error_3_8[0]].reshape(28, 28))\n",
    "axs[0, 1].imshow(test_data[error_3_8[3]].reshape(28, 28))\n",
    "axs[0, 2].imshow(test_data[error_3_8[5]].reshape(28, 28))\n",
    "axs[1, 0].imshow(test_data[error_3_8[8]].reshape(28, 28))\n",
    "axs[1, 1].imshow(test_data[error_3_8[10]].reshape(28, 28))\n",
    "axs[1, 2].imshow(test_data[error_3_8[11]].reshape(28, 28))\n",
    "\n",
    "plt.savefig(\"Images/error_3_8.png\")\n",
    "\n",
    "plt.show()"
   ]
  },
  {
   "cell_type": "raw",
   "metadata": {},
   "source": []
  },
  {
   "cell_type": "code",
   "execution_count": 129,
   "metadata": {},
   "outputs": [
    {
     "data": {
      "image/png": "[encoded data removed]",
      "text/plain": [
       "<Figure size 432x288 with 6 Axes>"
      ]
     },
     "metadata": {
      "needs_background": "light"
     },
     "output_type": "display_data"
    }
   ],
   "source": [
    "test_target_4 = np.argwhere(test_target == 4)\n",
    "error_4_9= test_target_4[np.argwhere(result[test_target_4] == 9)][:, 0]\n",
    "\n",
    "fig, axs = plt.subplots(2, 3, tight_layout=True)\n",
    "\n",
    "axs[0, 0].imshow(test_data[error_4_9[0]].reshape(28, 28))\n",
    "axs[0, 1].imshow(test_data[error_4_9[3]].reshape(28, 28))\n",
    "axs[0, 2].imshow(test_data[error_4_9[5]].reshape(28, 28))\n",
    "axs[1, 0].imshow(test_data[error_4_9[8]].reshape(28, 28))\n",
    "axs[1, 1].imshow(test_data[error_4_9[10]].reshape(28, 28))\n",
    "axs[1, 2].imshow(test_data[error_4_9[12]].reshape(28, 28))\n",
    "\n",
    "plt.savefig(\"Images/error_4_9.png\")\n",
    "\n",
    "plt.show()"
   ]
  },
  {
   "cell_type": "code",
   "execution_count": 130,
   "metadata": {},
   "outputs": [
    {
     "data": {
      "image/png": "[encoded data removed]",
      "text/plain": [
       "<Figure size 432x288 with 6 Axes>"
      ]
     },
     "metadata": {
      "needs_background": "light"
     },
     "output_type": "display_data"
    }
   ],
   "source": [
    "test_target_5= np.argwhere(test_target == 5)\n",
    "error = test_target_5[np.argwhere(result[test_target_5] == 6)][:, 0]\n",
    "\n",
    "fig, axs = plt.subplots(2, 3, tight_layout=True)\n",
    "\n",
    "axs[0, 0].imshow(test_data[error[0]].reshape(28, 28))\n",
    "axs[0, 1].imshow(test_data[error[3]].reshape(28, 28))\n",
    "axs[0, 2].imshow(test_data[error[5]].reshape(28, 28))\n",
    "axs[1, 0].imshow(test_data[error[8]].reshape(28, 28))\n",
    "axs[1, 1].imshow(test_data[error[10]].reshape(28, 28))\n",
    "axs[1, 2].imshow(test_data[error[12]].reshape(28, 28))\n",
    "\n",
    "plt.savefig(\"Images/error_5_6.png\")\n",
    "\n",
    "plt.show()"
   ]
  },
  {
   "cell_type": "code",
   "execution_count": 131,
   "metadata": {},
   "outputs": [
    {
     "data": {
      "image/png": "[encoded data removed]",
      "text/plain": [
       "<Figure size 432x288 with 6 Axes>"
      ]
     },
     "metadata": {
      "needs_background": "light"
     },
     "output_type": "display_data"
    }
   ],
   "source": [
    "test_target_5 = np.argwhere(test_target == 5)\n",
    "error = test_target_5[np.argwhere(result[test_target_5] == 3)][:, 0]\n",
    "\n",
    "fig, axs = plt.subplots(2, 3, tight_layout=True)\n",
    "\n",
    "axs[0, 0].imshow(test_data[error[0]].reshape(28, 28))\n",
    "axs[0, 1].imshow(test_data[error[3]].reshape(28, 28))\n",
    "axs[0, 2].imshow(test_data[error[5]].reshape(28, 28))\n",
    "axs[1, 0].imshow(test_data[error[8]].reshape(28, 28))\n",
    "axs[1, 1].imshow(test_data[error[2]].reshape(28, 28))\n",
    "axs[1, 2].imshow(test_data[error[4]].reshape(28, 28))\n",
    "\n",
    "plt.savefig(\"Images/error_5_3.png\")\n",
    "\n",
    "plt.show()"
   ]
  },
  {
   "cell_type": "code",
   "execution_count": 132,
   "metadata": {},
   "outputs": [
    {
     "data": {
      "image/png": "[encoded data removed]",
      "text/plain": [
       "<Figure size 432x288 with 6 Axes>"
      ]
     },
     "metadata": {
      "needs_background": "light"
     },
     "output_type": "display_data"
    }
   ],
   "source": [
    "test_target_7 = np.argwhere(test_target == 7)\n",
    "error = test_target_7[np.argwhere(result[test_target_7] == 9)][:, 0]\n",
    "\n",
    "fig, axs = plt.subplots(2, 3, tight_layout=True)\n",
    "\n",
    "axs[0, 0].imshow(test_data[error[0]].reshape(28, 28))\n",
    "axs[0, 1].imshow(test_data[error[3]].reshape(28, 28))\n",
    "axs[0, 2].imshow(test_data[error[5]].reshape(28, 28))\n",
    "axs[1, 0].imshow(test_data[error[8]].reshape(28, 28))\n",
    "axs[1, 1].imshow(test_data[error[10]].reshape(28, 28))\n",
    "axs[1, 2].imshow(test_data[error[12]].reshape(28, 28))\n",
    "\n",
    "plt.savefig(\"Images/error_7_9.png\")\n",
    "\n",
    "plt.show()"
   ]
  },
  {
   "cell_type": "code",
   "execution_count": 133,
   "metadata": {},
   "outputs": [
    {
     "data": {
      "image/png": "[encoded data removed]",
      "text/plain": [
       "<Figure size 432x288 with 6 Axes>"
      ]
     },
     "metadata": {
      "needs_background": "light"
     },
     "output_type": "display_data"
    }
   ],
   "source": [
    "test_target_8 = np.argwhere(test_target == 8)\n",
    "error = test_target_8[np.argwhere(result[test_target_8] == 1)][:, 0]\n",
    "\n",
    "fig, axs = plt.subplots(2, 3, tight_layout=True)\n",
    "\n",
    "axs[0, 0].imshow(test_data[error[0]].reshape(28, 28))\n",
    "axs[0, 1].imshow(test_data[error[3]].reshape(28, 28))\n",
    "axs[0, 2].imshow(test_data[error[5]].reshape(28, 28))\n",
    "axs[1, 0].imshow(test_data[error[8]].reshape(28, 28))\n",
    "axs[1, 1].imshow(test_data[error[10]].reshape(28, 28))\n",
    "axs[1, 2].imshow(test_data[error[12]].reshape(28, 28))\n",
    "\n",
    "plt.savefig(\"Images/error_8_1.png\")\n",
    "\n",
    "plt.show()"
   ]
  },
  {
   "cell_type": "code",
   "execution_count": 136,
   "metadata": {},
   "outputs": [
    {
     "data": {
      "image/png": "[encoded data removed]",
      "text/plain": [
       "<Figure size 432x288 with 3 Axes>"
      ]
     },
     "metadata": {
      "needs_background": "light"
     },
     "output_type": "display_data"
    }
   ],
   "source": [
    "\n",
    "error = test_target_3[np.argwhere(result[test_target_3] == 5)][:, 0]\n",
    "\n",
    "fig, axs = plt.subplots(2, 3, tight_layout=True)\n",
    "\n",
    "axs[0, 0].imshow(test_data[error[0]].reshape(28, 28))\n",
    "axs[0, 1].imshow(test_data[error[3]].reshape(28, 28))\n",
    "axs[0, 2].imshow(test_data[error[4]].reshape(28, 28))\n",
    "axs[1, 0].imshow(test_data[error[6]].reshape(28, 28))\n",
    "axs[1, 1].imshow(test_data[error[7]].reshape(28, 28))\n",
    "axs[1, 2].imshow(test_data[error[4]].reshape(28, 28))\n",
    "\n",
    "plt.savefig(\"Images/error_3_5.png\")\n",
    "\n",
    "plt.show()"
   ]
  },
  {
   "cell_type": "code",
   "execution_count": null,
   "metadata": {},
   "outputs": [],
   "source": []
  },
  {
   "cell_type": "code",
   "execution_count": null,
   "metadata": {},
   "outputs": [],
   "source": []
  },
  {
   "cell_type": "code",
   "execution_count": null,
   "metadata": {},
   "outputs": [],
   "source": []
  }
 ],
 "metadata": {
  "kernelspec": {
   "display_name": "Python 3",
   "language": "python",
   "name": "python3"
  },
  "language_info": {
   "codemirror_mode": {
    "name": "ipython",
    "version": 3
   },
   "file_extension": ".py",
   "mimetype": "text/x-python",
   "name": "python",
   "nbconvert_exporter": "python",
   "pygments_lexer": "ipython3",
   "version": "3.7.4"
  }
 },
 "nbformat": 4,
 "nbformat_minor": 2
}
