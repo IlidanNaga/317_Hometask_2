{
 "cells": [
  {
   "cell_type": "code",
   "execution_count": 17,
   "metadata": {},
   "outputs": [],
   "source": [
    "import numpy as np\n",
    "import math"
   ]
  },
  {
   "cell_type": "code",
   "execution_count": 19,
   "metadata": {},
   "outputs": [],
   "source": [
    "def euclidean_distance(x, y):\n",
    "    return np.sqrt(np.sum((x[:, np.newaxis] - y) ** 2, axis=2))\n",
    "\n",
    "def cosine_distance(x, y):\n",
    "    #print(x, y)\n",
    "    norma = np.sqrt(np.sum(np.square(x)[:,np.newaxis], axis=1).reshape(-1, 1) * np.sum(np.square(y), axis=1)) \n",
    "    if len(np.where(norma == 0)[0]) == 0:\n",
    "        return np.dot(x, np.transpose(y)) / norma\n",
    "    return np.array([0])"
   ]
  },
  {
   "cell_type": "code",
   "execution_count": 147,
   "metadata": {},
   "outputs": [],
   "source": [
    "\n",
    "def cosine_distance(x, y):\n",
    "    return 1 - np.dot(x, y.T) / np.sqrt(np.sum(x ** 2, axis=1)[:, None]) / np.sqrt(np.sum(y ** 2, axis=1)[None, :])\n"
   ]
  },
  {
   "cell_type": "code",
   "execution_count": 422,
   "metadata": {},
   "outputs": [],
   "source": [
    "def weight(array):\n",
    "    eps = 0.00001\n",
    "    return 1 / (array + eps)\n",
    "\n",
    "\n",
    "class KNNClassifier:\n",
    "    def __init__(self, k, strategy, metric, weights, test_block_size):\n",
    "        self.k = k\n",
    "        self.strategy = strategy\n",
    "        self.metric = metric\n",
    "        self.weights = weights\n",
    "        self.test_block_size = test_block_size\n",
    "        if strategy != 'my_own':\n",
    "            if strategy != 'brute' and strategy != 'kd_tree' and strategy != 'ball_tree':\n",
    "                raise KeyError\n",
    "            # change parameters\n",
    "            self.skln_knn = NearestNeighbors(\n",
    "                n_neighbors=k, algorithm = strategy, metric = metric)\n",
    "        \n",
    "    def fit(self, x, y):\n",
    "        if self.strategy != 'my_own':\n",
    "            self.skln_knn.fit(x, y)\n",
    "        else:\n",
    "            self.train_set = x\n",
    "        self.train_target = y.astype(int)\n",
    "    \n",
    "\n",
    "    def find_kneighbors(self, x, return_distance):\n",
    "        if self.strategy == 'my_own':\n",
    "            count_of_blocks = math.ceil(x.shape[0] / self.test_block_size)\n",
    "            if self.metric == 'euclidean':\n",
    "                ans_matrix = euclidean_distance(self.train_set, x)\n",
    "            if self.metric == 'cosine':\n",
    "                ans_matrix = cosine_distance(self.train_set, x)\n",
    "            ans_matrix = ans_matrix.T\n",
    "            neighbour = np.sort(ans_matrix, axis=1)[:, :self.k]\n",
    "            index = np.argsort(ans_matrix, axis=1)[:,:self.k]\n",
    "            if return_distance:\n",
    "                return (neighbour, index)\n",
    "            return index\n",
    "        else:\n",
    "            return self.skln_knn.kneighbors(x, n_neighbors=self.k, return_distance=return_distance)\n",
    "        \n",
    "    def predict_without_blocks(self, x):\n",
    "        answer = np.zeros(x.shape[0]).astype(int)\n",
    "        \n",
    "        if self.weights:\n",
    "            \n",
    "            dist, ind = self.find_kneighbors(x, True)\n",
    "            votes = weight(dist)\n",
    "            \n",
    "            for i in range(len(x)):\n",
    "                ind_array = np.zeros(10)\n",
    "                for numb in range(ind.shape[1]):\n",
    "                    ind_array[self.train_target[ind[i, numb]]] += votes[i, numb]\n",
    "                answer[i] = np.argmax(ind_array)\n",
    "                \n",
    "        else:\n",
    "            \n",
    "            ind = self.find_kneighbors(x, False)\n",
    "            \n",
    "            for i in range(len(x)):\n",
    "                ind_array = np.zeros(10)\n",
    "                for numb in range(ind.shape[1]):\n",
    "                    ind_array[self.train_target[ind[i, numb]]] += 1\n",
    "                answer[i] = np.argmax(ind_array)\n",
    "                \n",
    "        return answer\n",
    "            \n",
    "    def predict(self, x):\n",
    "        answer = np.zeros(x.shape[0])\n",
    "        blocks = math.ceil(x.shape[0] // self.test_block_size)\n",
    "        if x.shape[0] <= self.test_block_size:\n",
    "                blocked_data = x\n",
    "        else:\n",
    "            if x.shape[0] % self.test_block_size == 0:\n",
    "                    blocked_data = np.split(x, blocks)\n",
    "            else:\n",
    "                blocks += 1\n",
    "                print(blocks)\n",
    "                array = np.split(x[:(blocks - 1) * self.test_block_size], blocks - 1)\n",
    "                array.append(x[(blocks - 1) * self.test_block_size:])\n",
    "                blocked_data = array\n",
    "        blocked_data = np.array(blocked_data)\n",
    "        print(blocked_data[2].shape)\n",
    "        if self.weights:\n",
    "            for j, block in enumerate(blocked_data):\n",
    "                dist, ind = self.find_kneighbors(block, True)\n",
    "                votes = weight(dist)\n",
    "                for i, mark in enumerate(self.train_target[ind]): # в i-м блоке - i * self.test_block_size ... (i + 1) * -||-\n",
    "                    ind_array = np.zeros(10)\n",
    "                    for q in range(self.k):\n",
    "                        ind_array[mark[q].astype(int)] += votes[i][q]\n",
    "                    answer[i + j * self.test_block_size] = ind_array.argmax()                   \n",
    "        \n",
    "        else:\n",
    "            for j, block in enumerate(blocked_data):\n",
    "                ind = self.find_kneighbors(block, False)\n",
    "                for i, mark in enumerate(self.train_target[ind]):\n",
    "                    answer[i + j * self.test_block_size] = np.bincount(mark.astype(int)).argmax()\n",
    "        return answer\n"
   ]
  },
  {
   "cell_type": "code",
   "execution_count": 423,
   "metadata": {},
   "outputs": [],
   "source": [
    "from distances import euclidean_distance\n",
    "from distances import cosine_distance\n",
    "\n",
    "\n",
    "def weight_function(distance):\n",
    "    epsilon = 0.00001\n",
    "    return float(1 / (distance + epsilon))\n",
    "\n",
    "\n",
    "def array_weight_function(distances):\n",
    "    epsilon = 0.00001\n",
    "\n",
    "    return 1 / (distances + epsilon)\n",
    "\n",
    "\n",
    "class KNNC:\n",
    "\n",
    "    def __init__(self,\n",
    "                 k,\n",
    "                 strategy,\n",
    "                 metric,\n",
    "                 weights,\n",
    "                 test_block_size=0):\n",
    "\n",
    "        #print(k, strategy, metric, weights, test_block_size)\n",
    "\n",
    "        self.strategy = strategy\n",
    "\n",
    "\n",
    "        # my implementation\n",
    "        self.k = k\n",
    "        self.weights = weights\n",
    "        self.data = None\n",
    "        self.target = None\n",
    "        self.clusters = None\n",
    "        self.clusters_amount = None\n",
    "        self.test_block_size = test_block_size\n",
    "\n",
    "        if metric == \"euclidean\":\n",
    "            self.metric = euclidean_distance\n",
    "        elif metric == \"cosine\":\n",
    "            self.metric = cosine_distance\n",
    "        else:\n",
    "            raise TypeError\n",
    "\n",
    "        if strategy != \"my_own\":\n",
    "            if strategy != \"kd_tree\" and strategy != \"ball_tree\" and strategy != \"brute\":\n",
    "                raise TypeError\n",
    "\n",
    "            self.uses = NearestNeighbors(n_neighbors=k,\n",
    "                                         metric=metric,\n",
    "                                         algorithm=strategy)\n",
    "\n",
    "    def fit(self, X, y):\n",
    "        # my implementation\n",
    "        if X.__len__() != y.__len__():\n",
    "            raise TypeError\n",
    "\n",
    "        self.data = X\n",
    "        self.target = y\n",
    "        self.clusters = np.sort(np.unique(y))\n",
    "        self.clusters_amount = np.unique(y).__len__()\n",
    "        if self.strategy != \"my_own\":\n",
    "            self.uses.fit(X, y)\n",
    "\n",
    "    def find_kneighbors(self, X, return_distance=True):\n",
    "        if self.strategy == \"my_own\":\n",
    "\n",
    "            ranges = self.metric(self.data, X).T\n",
    "            nearest = np.argsort(ranges, axis=1)[:, :self.k]\n",
    "\n",
    "            if return_distance:\n",
    "                distances = np.empty((X.shape[0], self.k))\n",
    "\n",
    "                for enum, item in enumerate(nearest):\n",
    "                    distances[enum] = ranges[enum, nearest[enum]]\n",
    "\n",
    "                return distances, nearest\n",
    "            return nearest\n",
    "        else:\n",
    "            return self.uses.kneighbors(X, n_neighbors=self.k, return_distance=return_distance)\n",
    "\n",
    "    def predict(self, X):\n",
    "\n",
    "        if X.shape[1] != self.data.shape[1]:\n",
    "            raise TypeError\n",
    "\n",
    "        test_target = np.empty(X.__len__()).astype(int)\n",
    "\n",
    "        if self.weights:\n",
    "\n",
    "            distances, nearest = self.find_kneighbors(X, True)\n",
    "\n",
    "            for enum in range(X.__len__()):\n",
    "                cluster_nb = np.zeros(self.clusters_amount)\n",
    "                for numb, item in enumerate(nearest[enum]):\n",
    "                    cluster_nb[np.where(self.clusters ==\n",
    "                                        self.target[item])[0]] += weight_function(distances[enum, numb])\n",
    "\n",
    "                test_target[enum] = self.clusters[np.argmax(cluster_nb)]\n",
    "        else:\n",
    "            nearest = self.find_kneighbors(X, False)\n",
    "\n",
    "            for enum in range(X.__len__()):\n",
    "                cluster_nb = np.zeros(self.clusters_amount).astype(int)\n",
    "                for numb, item in enumerate(nearest[enum]):\n",
    "                    cluster_nb[np.where(self.clusters ==\n",
    "                                        self.target[item])[0]] += 1\n",
    "\n",
    "                test_target[enum] = self.clusters[np.argmax(cluster_nb)]\n",
    "\n",
    "        return test_target\n",
    "\n",
    "\n"
   ]
  },
  {
   "cell_type": "code",
   "execution_count": 424,
   "metadata": {},
   "outputs": [
    {
     "name": "stderr",
     "output_type": "stream",
     "text": [
      "/usr/local/lib/python3.7/site-packages/sklearn/utils/deprecation.py:85: DeprecationWarning: Function fetch_mldata is deprecated; fetch_mldata was deprecated in version 0.20 and will be removed in version 0.22. Please use fetch_openml.\n",
      "  warnings.warn(msg, category=DeprecationWarning)\n",
      "/usr/local/lib/python3.7/site-packages/sklearn/utils/deprecation.py:85: DeprecationWarning: Function mldata_filename is deprecated; mldata_filename was deprecated in version 0.20 and will be removed in version 0.22. Please use fetch_openml.\n",
      "  warnings.warn(msg, category=DeprecationWarning)\n"
     ]
    }
   ],
   "source": [
    "from sklearn.datasets import fetch_mldata\n",
    "mnist = fetch_mldata('MNIST original')\n",
    "data = mnist.data / 255.0\n",
    "target = mnist.target.astype(int)"
   ]
  },
  {
   "cell_type": "code",
   "execution_count": 425,
   "metadata": {},
   "outputs": [],
   "source": [
    "train_data = data[:100]\n",
    "train_target = target[:100]\n",
    "test_data = data[100:110, :]\n",
    "test_target = target[100:110]"
   ]
  },
  {
   "cell_type": "code",
   "execution_count": 449,
   "metadata": {},
   "outputs": [],
   "source": [
    "knn = KNNClassifier(1, \"my_own\", \"euclidean\", False, 2)"
   ]
  },
  {
   "cell_type": "code",
   "execution_count": 450,
   "metadata": {},
   "outputs": [],
   "source": [
    "knn.fit(train_data, train_target)"
   ]
  },
  {
   "cell_type": "code",
   "execution_count": 451,
   "metadata": {},
   "outputs": [],
   "source": [
    "dist_first, index_first = knn.find_kneighbors(test_data, return_distance=True)"
   ]
  },
  {
   "cell_type": "code",
   "execution_count": 452,
   "metadata": {},
   "outputs": [],
   "source": [
    "knn_my = KNNC(1, \"my_own\", \"euclidean\", False, 4)"
   ]
  },
  {
   "cell_type": "code",
   "execution_count": 453,
   "metadata": {},
   "outputs": [],
   "source": [
    "knn_my.fit(train_data, train_target)"
   ]
  },
  {
   "cell_type": "code",
   "execution_count": 454,
   "metadata": {},
   "outputs": [],
   "source": [
    "dist_second, index_second = knn_my.find_kneighbors(test_data, return_distance=True)"
   ]
  },
  {
   "cell_type": "code",
   "execution_count": 455,
   "metadata": {},
   "outputs": [],
   "source": [
    "assert np.allclose(dist_first, dist_second)"
   ]
  },
  {
   "cell_type": "code",
   "execution_count": 456,
   "metadata": {},
   "outputs": [],
   "source": [
    "assert np.allclose(index_first, index_second)"
   ]
  },
  {
   "cell_type": "code",
   "execution_count": 457,
   "metadata": {},
   "outputs": [],
   "source": [
    "res = knn.predict_without_blocks(test_data)\n",
    "res_my = knn_my.predict(test_data)"
   ]
  },
  {
   "cell_type": "code",
   "execution_count": 458,
   "metadata": {},
   "outputs": [
    {
     "data": {
      "text/plain": [
       "array([0, 0, 0, 0, 0, 0, 0, 0, 0, 0])"
      ]
     },
     "execution_count": 458,
     "metadata": {},
     "output_type": "execute_result"
    }
   ],
   "source": [
    "res"
   ]
  },
  {
   "cell_type": "code",
   "execution_count": 459,
   "metadata": {},
   "outputs": [
    {
     "data": {
      "text/plain": [
       "array([0, 0, 0, 0, 0, 0, 0, 0, 0, 0])"
      ]
     },
     "execution_count": 459,
     "metadata": {},
     "output_type": "execute_result"
    }
   ],
   "source": [
    "res_my"
   ]
  },
  {
   "cell_type": "code",
   "execution_count": null,
   "metadata": {},
   "outputs": [],
   "source": []
  }
 ],
 "metadata": {
  "kernelspec": {
   "display_name": "Python 3",
   "language": "python",
   "name": "python3"
  },
  "language_info": {
   "codemirror_mode": {
    "name": "ipython",
    "version": 3
   },
   "file_extension": ".py",
   "mimetype": "text/x-python",
   "name": "python",
   "nbconvert_exporter": "python",
   "pygments_lexer": "ipython3",
   "version": "3.7.4"
  }
 },
 "nbformat": 4,
 "nbformat_minor": 2
}
