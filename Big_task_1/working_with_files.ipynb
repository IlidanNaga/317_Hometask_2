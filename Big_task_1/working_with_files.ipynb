{
 "cells": [
  {
   "cell_type": "code",
   "execution_count": 19,
   "metadata": {},
   "outputs": [],
   "source": [
    "import numpy as np\n",
    "\n",
    "from sklearn.datasets import fetch_mldata\n",
    "from sklearn.model_selection import train_test_split\n",
    "\n",
    "from matplotlib import pyplot as plt"
   ]
  },
  {
   "cell_type": "code",
   "execution_count": 4,
   "metadata": {},
   "outputs": [
    {
     "name": "stderr",
     "output_type": "stream",
     "text": [
      "/usr/local/lib/python3.7/site-packages/sklearn/utils/deprecation.py:85: DeprecationWarning: Function fetch_mldata is deprecated; fetch_mldata was deprecated in version 0.20 and will be removed in version 0.22. Please use fetch_openml.\n",
      "  warnings.warn(msg, category=DeprecationWarning)\n",
      "/usr/local/lib/python3.7/site-packages/sklearn/utils/deprecation.py:85: DeprecationWarning: Function mldata_filename is deprecated; mldata_filename was deprecated in version 0.20 and will be removed in version 0.22. Please use fetch_openml.\n",
      "  warnings.warn(msg, category=DeprecationWarning)\n"
     ]
    }
   ],
   "source": [
    "mnist = fetch_mldata(\"MNIST-original\")\n",
    "data = mnist.data / 255.0\n",
    "target = mnist.target.astype(\"int0\")\n",
    "\n",
    "train_data, test_data, train_target, test_target = train_test_split(data, target, test_size=1/7, random_state=666)"
   ]
  },
  {
   "cell_type": "code",
   "execution_count": 48,
   "metadata": {},
   "outputs": [],
   "source": [
    "train_data = None\n",
    "train_target = None"
   ]
  },
  {
   "cell_type": "code",
   "execution_count": 53,
   "metadata": {},
   "outputs": [],
   "source": [
    "from skimage.transform import rotate\n",
    "from skimage.filters import gaussian\n",
    "from math import sqrt"
   ]
  },
  {
   "cell_type": "code",
   "execution_count": 51,
   "metadata": {},
   "outputs": [],
   "source": [
    "test_data = test_data.reshape(test_data.__len__(), 28, 28)"
   ]
  },
  {
   "cell_type": "code",
   "execution_count": 52,
   "metadata": {},
   "outputs": [],
   "source": [
    "data_rot = np.empty(test_data.shape)\n",
    "for enum in range(test_data.__len__()):\n",
    "    data_rot[enum] = rotate(test_data[enum], 5, preserve_range=True)"
   ]
  },
  {
   "cell_type": "code",
   "execution_count": 55,
   "metadata": {},
   "outputs": [],
   "source": [
    "data_gau = np.empty(test_data.shape)\n",
    "for enum in range(test_data.__len__()):\n",
    "    data_gau[enum] = gaussian(test_data[enum], sigma = sqrt(1.1))"
   ]
  },
  {
   "cell_type": "code",
   "execution_count": 56,
   "metadata": {},
   "outputs": [],
   "source": [
    "sub_data = np.empty(test_data.shape)\n",
    "data_rot_gau = np.empty(test_data.shape)\n",
    "for enum in range(test_data.__len__()):\n",
    "    sub_data[enum] = gaussian(test_data[enum], sigma = sqrt(0.7), preserve_range=True)\n",
    "    data_rot_gau[enum] = rotate(sub_data[enum], 35, preserve_range=True)"
   ]
  },
  {
   "cell_type": "code",
   "execution_count": 5,
   "metadata": {},
   "outputs": [
    {
     "data": {
      "text/plain": [
       "array([5, 2, 3, ..., 0, 2, 9])"
      ]
     },
     "execution_count": 5,
     "metadata": {},
     "output_type": "execute_result"
    }
   ],
   "source": [
    "result = np.empty(test_target.__len__()).astype(int)\n",
    "\n",
    "data_from_file = open(\"save_file.txt\").read()\n",
    "\n",
    "for enum, ch in enumerate(data_from_file):\n",
    "    result[enum] = int(ch)\n",
    "    \n",
    "result"
   ]
  },
  {
   "cell_type": "code",
   "execution_count": 6,
   "metadata": {},
   "outputs": [
    {
     "data": {
      "text/plain": [
       "array([5, 2, 3, ..., 0, 2, 9])"
      ]
     },
     "execution_count": 6,
     "metadata": {},
     "output_type": "execute_result"
    }
   ],
   "source": [
    "result_2 = np.empty(test_target.__len__()).astype(int)\n",
    "\n",
    "data_from_file = open(\"save_file_2.txt\").read()\n",
    "\n",
    "for enum, ch in enumerate(data_from_file):\n",
    "    result_2[enum] = int(ch)\n",
    "    \n",
    "result_2\n"
   ]
  },
  {
   "cell_type": "code",
   "execution_count": 7,
   "metadata": {},
   "outputs": [
    {
     "data": {
      "text/plain": [
       "array([5, 2, 3, ..., 0, 2, 9])"
      ]
     },
     "execution_count": 7,
     "metadata": {},
     "output_type": "execute_result"
    }
   ],
   "source": [
    "result_3 = np.empty(test_target.__len__()).astype(int)\n",
    "\n",
    "data_from_file = open(\"save_file_3.txt\").read()\n",
    "\n",
    "for enum, ch in enumerate(data_from_file):\n",
    "    result_3[enum] = int(ch)\n",
    "    \n",
    "result_3"
   ]
  },
  {
   "cell_type": "code",
   "execution_count": 8,
   "metadata": {},
   "outputs": [
    {
     "data": {
      "text/plain": [
       "array([5, 2, 3, ..., 0, 2, 9])"
      ]
     },
     "execution_count": 8,
     "metadata": {},
     "output_type": "execute_result"
    }
   ],
   "source": [
    "result_4 = np.empty(test_target.__len__()).astype(int)\n",
    "\n",
    "data_from_file = open(\"save_file_4.txt\").read()\n",
    "\n",
    "for enum, ch in enumerate(data_from_file):\n",
    "    result_4[enum] = int(ch)\n",
    "    \n",
    "result_4"
   ]
  },
  {
   "cell_type": "code",
   "execution_count": 9,
   "metadata": {},
   "outputs": [
    {
     "data": {
      "text/plain": [
       "array([5, 2, 3, ..., 0, 2, 9])"
      ]
     },
     "execution_count": 9,
     "metadata": {},
     "output_type": "execute_result"
    }
   ],
   "source": [
    "result_5 = np.empty(test_target.__len__()).astype(int)\n",
    "\n",
    "data_from_file = open(\"save_file_5.txt\").read()\n",
    "\n",
    "for enum, ch in enumerate(data_from_file):\n",
    "    result_5[enum] = int(ch)\n",
    "    \n",
    "result_5"
   ]
  },
  {
   "cell_type": "code",
   "execution_count": 61,
   "metadata": {},
   "outputs": [
    {
     "data": {
      "text/plain": [
       "array([5, 2, 3, ..., 0, 2, 9])"
      ]
     },
     "execution_count": 61,
     "metadata": {},
     "output_type": "execute_result"
    }
   ],
   "source": [
    "result_6 = np.empty(test_target.__len__()).astype(int)\n",
    "\n",
    "data_from_file = open(\"save_file_all_modifiers.txt\").read()\n",
    "\n",
    "for enum, ch in enumerate(data_from_file):\n",
    "    result_6[enum] = int(ch)\n",
    "    \n",
    "result_6"
   ]
  },
  {
   "cell_type": "code",
   "execution_count": 10,
   "metadata": {},
   "outputs": [],
   "source": [
    "from sklearn.metrics import accuracy_score as ac_s"
   ]
  },
  {
   "cell_type": "code",
   "execution_count": 62,
   "metadata": {},
   "outputs": [
    {
     "data": {
      "text/plain": [
       "(0.9751, 0.9756, 0.9771, 0.9806, 0.9815, 0.9815)"
      ]
     },
     "execution_count": 62,
     "metadata": {},
     "output_type": "execute_result"
    }
   ],
   "source": [
    "ac_s(test_target, result), ac_s(test_target, result_2), ac_s(test_target, result_3), ac_s(test_target, result_4), ac_s(test_target, result_5), ac_s(test_target, result_6)"
   ]
  },
  {
   "cell_type": "raw",
   "metadata": {},
   "source": [
    "если я помню правильно:\n",
    "result - рандомный seed, на котором не выходит делать стабильно (удалить)\n",
    "result_2 = базовая выборка\n",
    "result_3 = выборка с поворотом angle = -5\n",
    "result_4 = выборка с гауссовским преобразованием, sigma = sqrt(1.1)\n",
    "result_5 = комбинация поворота и гаусса angle = 35, sigma = sqrt(0.7)\n",
    "result_6 = комбинация 3 преобразований, angle = -35, sigma = sqrt(0.8), s_1 = 1, s_2 = 2"
   ]
  },
  {
   "cell_type": "code",
   "execution_count": 14,
   "metadata": {},
   "outputs": [],
   "source": [
    "from sklearn.metrics import confusion_matrix"
   ]
  },
  {
   "cell_type": "code",
   "execution_count": 18,
   "metadata": {},
   "outputs": [
    {
     "data": {
      "text/plain": [
       "array([[ 0,  0,  1,  0,  0,  0,  1,  0,  2,  0],\n",
       "       [ 0,  0,  5,  1,  1,  0,  0,  3,  0,  0],\n",
       "       [ 5,  3,  0,  1,  0,  0,  1,  6,  2,  1],\n",
       "       [ 3,  2,  5,  0,  0,  8,  0,  3, 12,  5],\n",
       "       [ 1,  2,  1,  1,  0,  0,  3,  0,  2, 21],\n",
       "       [ 5,  0,  0, 10,  0,  0, 15,  0,  4,  3],\n",
       "       [ 3,  4,  0,  0,  0,  1,  0,  0,  1,  0],\n",
       "       [ 0,  7,  3,  0,  4,  0,  0,  0,  1, 14],\n",
       "       [ 1, 14,  1,  5,  2,  6,  5,  2,  0,  5],\n",
       "       [ 3,  1,  1,  8,  5,  1,  0,  6,  1,  0]])"
      ]
     },
     "execution_count": 18,
     "metadata": {},
     "output_type": "execute_result"
    }
   ],
   "source": [
    "matrix_2 = confusion_matrix(test_target, result_2)\n",
    "for i in range(10):\n",
    "    matrix_2[i, i] = 0\n",
    "\n",
    "matrix_2"
   ]
  },
  {
   "cell_type": "code",
   "execution_count": 63,
   "metadata": {},
   "outputs": [],
   "source": [
    "matrix_3 = confusion_matrix(test_target, result_3)\n",
    "matrix_4 = confusion_matrix(test_target, result_4)\n",
    "matrix_5 = confusion_matrix(test_target, result_5)\n",
    "matrix_6 = confusion_matrix(test_target, result_6)\n",
    "for i in range(10):\n",
    "    matrix_3[i, i] = 0\n",
    "    matrix_4[i, i] = 0\n",
    "    matrix_5[i, i] = 0\n",
    "    matrix_6[i, i] = 0"
   ]
  },
  {
   "cell_type": "code",
   "execution_count": 64,
   "metadata": {},
   "outputs": [
    {
     "data": {
      "image/png": "[encoded data removed]",
      "text/plain": [
       "<Figure size 1008x1008 with 5 Axes>"
      ]
     },
     "metadata": {
      "needs_background": "light"
     },
     "output_type": "display_data"
    }
   ],
   "source": [
    "fig, axs = plt.subplots(1, 5, tight_layout = True, figsize=[14, 14])\n",
    "\n",
    "axs[0].imshow(matrix_2, cmap=\"Greys\")\n",
    "axs[1].imshow(matrix_3, cmap=\"Greys\")\n",
    "axs[2].imshow(matrix_4, cmap=\"Greys\")\n",
    "axs[3].imshow(matrix_5, cmap=\"Greys\")\n",
    "axs[4].imshow(matrix_6, cmap=\"Greys\")\n",
    "\n",
    "plt.show()"
   ]
  },
  {
   "cell_type": "code",
   "execution_count": 65,
   "metadata": {},
   "outputs": [
    {
     "data": {
      "text/plain": [
       "(244, 229, 194, 185, 185)"
      ]
     },
     "execution_count": 65,
     "metadata": {},
     "output_type": "execute_result"
    }
   ],
   "source": [
    "np.sum(matrix_2), np.sum(matrix_3), np.sum(matrix_4), np.sum(matrix_5), np.sum(matrix_6)"
   ]
  },
  {
   "cell_type": "raw",
   "metadata": {},
   "source": [
    "matrix_6 - метод со всеми изменениями, отбросим, т.к. он не даёт изминений в ошибках\n",
    "Есть такое ощущение, что данные методы не исправляют указанные проблемы, но, при этом, уменьшают концентрацию остальных неправильных значений\n",
    "у последнего метода (matrix_5, всё, кроме сдвигов) явно выделяются 7 точек ошибок\n",
    "5 вместо 3\n",
    "8 вместо 3\n",
    "9 вместо 4\n",
    "3 вместо 5\n",
    "6 вместо 5\n",
    "9 вместо 7\n",
    "1 вместо 8"
   ]
  },
  {
   "cell_type": "code",
   "execution_count": 37,
   "metadata": {},
   "outputs": [],
   "source": [
    "def print_errors_am(x, y):\n",
    "    print(\"{} in place of {}:\".format(y, x), matrix_2[x, y], matrix_3[x, y], matrix_4[x, y], matrix_5[x, y])\n",
    "    \n",
    "def sum_big_errors(matrix):\n",
    "    return matrix[3, 5] + matrix[3, 8] + matrix[4, 9] + matrix[5, 3] + matrix[5, 6] + matrix[7, 9] + matrix[8, 1]"
   ]
  },
  {
   "cell_type": "code",
   "execution_count": 36,
   "metadata": {},
   "outputs": [
    {
     "name": "stdout",
     "output_type": "stream",
     "text": [
      "5 in place of 3: 8 6 10 9\n",
      "8 in place of 3: 12 16 11 12\n",
      "9 in place of 4: 21 14 18 16\n",
      "3 in place of 5: 10 14 11 9\n",
      "6 in place of 5: 15 18 14 15\n",
      "9 in place of 7: 14 10 11 10\n",
      "1 in place of 8: 14 10 11 11\n"
     ]
    }
   ],
   "source": [
    "print_errors_am(3, 5)\n",
    "print_errors_am(3, 8)\n",
    "print_errors_am(4, 9)\n",
    "print_errors_am(5, 3)\n",
    "print_errors_am(5, 6)\n",
    "print_errors_am(7, 9)\n",
    "print_errors_am(8, 1)"
   ]
  },
  {
   "cell_type": "code",
   "execution_count": 43,
   "metadata": {},
   "outputs": [
    {
     "data": {
      "text/plain": [
       "(244, 150)"
      ]
     },
     "execution_count": 43,
     "metadata": {},
     "output_type": "execute_result"
    }
   ],
   "source": [
    "np.sum(matrix_2), np.sum(matrix_2) - sum_big_errors(matrix_2)"
   ]
  },
  {
   "cell_type": "code",
   "execution_count": 44,
   "metadata": {},
   "outputs": [
    {
     "data": {
      "text/plain": [
       "(229, 141)"
      ]
     },
     "execution_count": 44,
     "metadata": {},
     "output_type": "execute_result"
    }
   ],
   "source": [
    "np.sum(matrix_3), np.sum(matrix_3) - sum_big_errors(matrix_3)"
   ]
  },
  {
   "cell_type": "code",
   "execution_count": 45,
   "metadata": {},
   "outputs": [
    {
     "data": {
      "text/plain": [
       "(194, 108)"
      ]
     },
     "execution_count": 45,
     "metadata": {},
     "output_type": "execute_result"
    }
   ],
   "source": [
    "np.sum(matrix_4), np.sum(matrix_4) - sum_big_errors(matrix_4)"
   ]
  },
  {
   "cell_type": "code",
   "execution_count": 46,
   "metadata": {},
   "outputs": [
    {
     "data": {
      "text/plain": [
       "(185, 103)"
      ]
     },
     "execution_count": 46,
     "metadata": {},
     "output_type": "execute_result"
    }
   ],
   "source": [
    "np.sum(matrix_5), np.sum(matrix_5) - sum_big_errors(matrix_5)"
   ]
  },
  {
   "cell_type": "raw",
   "metadata": {},
   "source": [
    "давайте посмотрим по 1 предмету из каждой выборки для каждой типовой ошибки, чтобы посмотреть, что сделало преобразование"
   ]
  },
  {
   "cell_type": "code",
   "execution_count": 58,
   "metadata": {},
   "outputs": [
    {
     "data": {
      "text/plain": [
       "990"
      ]
     },
     "execution_count": 58,
     "metadata": {},
     "output_type": "execute_result"
    }
   ],
   "source": [
    "value_3 = np.argwhere(test_target == 3)\n",
    "value_3.__len__()"
   ]
  },
  {
   "cell_type": "code",
   "execution_count": 70,
   "metadata": {},
   "outputs": [],
   "source": [
    "errors_2_3_5 = value_3[np.argwhere(result_2[value_3] == 5)][:, 0]\n",
    "errors_3_3_5 = value_3[np.argwhere(result_3[value_3] == 5)][:, 0]\n",
    "errors_4_3_5 = value_3[np.argwhere(result_4[value_3] == 5)][:, 0]\n",
    "errors_5_3_5 = value_3[np.argwhere(result_5[value_3] == 5)][:, 0]"
   ]
  },
  {
   "cell_type": "code",
   "execution_count": 101,
   "metadata": {},
   "outputs": [
    {
     "data": {
      "text/plain": [
       "(array([1198]), array([1947]))"
      ]
     },
     "execution_count": 101,
     "metadata": {},
     "output_type": "execute_result"
    }
   ],
   "source": [
    "errors_2_3_5[2], errors_3_3_5[]"
   ]
  },
  {
   "cell_type": "code",
   "execution_count": 90,
   "metadata": {},
   "outputs": [
    {
     "data": {
      "image/png": "[encoded data removed]",
      "text/plain": [
       "<Figure size 1008x1008 with 4 Axes>"
      ]
     },
     "metadata": {
      "needs_background": "light"
     },
     "output_type": "display_data"
    }
   ],
   "source": [
    "fig, axs = plt.subplots(1, 4, tight_layout = True, figsize=[14, 14])\n",
    "\n",
    "axs[0].imshow(test_data[errors_2_3_5[1]][0])\n",
    "axs[1].imshow(data_rot[errors_3_3_5[0]][0])\n",
    "axs[2].imshow(data_gau[errors_4_3_5[0]][0])\n",
    "axs[3].imshow(data_rot_gau[errors_5_3_5[0]][0])\n",
    "\n",
    "plt.savefig(\"Images/how_it_changes.png\")"
   ]
  },
  {
   "cell_type": "code",
   "execution_count": 95,
   "metadata": {},
   "outputs": [
    {
     "data": {
      "image/png": "[encoded data removed]",
      "text/plain": [
       "<Figure size 1008x1008 with 4 Axes>"
      ]
     },
     "metadata": {
      "needs_background": "light"
     },
     "output_type": "display_data"
    }
   ],
   "source": [
    "fig, axs = plt.subplots(1, 4, tight_layout = True, figsize=[14, 14])\n",
    "\n",
    "axs[0].imshow(test_data[1234])\n",
    "axs[1].imshow(data_rot[1234])\n",
    "axs[2].imshow(data_gau[1234])\n",
    "axs[3].imshow(data_rot_gau[1234])\n",
    "\n",
    "plt.savefig(\"Images/how_it_changes_2.png\")"
   ]
  },
  {
   "cell_type": "code",
   "execution_count": 102,
   "metadata": {},
   "outputs": [
    {
     "data": {
      "text/plain": [
       "<matplotlib.image.AxesImage at 0x16e804c90>"
      ]
     },
     "execution_count": 102,
     "metadata": {},
     "output_type": "execute_result"
    },
    {
     "data": {
      "image/png": "[encoded data removed]",
      "text/plain": [
       "<Figure size 1008x1008 with 4 Axes>"
      ]
     },
     "metadata": {
      "needs_background": "light"
     },
     "output_type": "display_data"
    }
   ],
   "source": [
    "fig, axs = plt.subplots(1, 4, tight_layout = True, figsize=[14, 14])\n",
    "\n",
    "axs[0].imshow(test_data[1198])\n",
    "axs[1].imshow(data_rot[1198])\n",
    "axs[2].imshow(data_gau[1198])\n",
    "axs[3].imshow(data_rot_gau[1198])"
   ]
  },
  {
   "cell_type": "code",
   "execution_count": null,
   "metadata": {},
   "outputs": [],
   "source": []
  }
 ],
 "metadata": {
  "kernelspec": {
   "display_name": "Python 3",
   "language": "python",
   "name": "python3"
  },
  "language_info": {
   "codemirror_mode": {
    "name": "ipython",
    "version": 3
   },
   "file_extension": ".py",
   "mimetype": "text/x-python",
   "name": "python",
   "nbconvert_exporter": "python",
   "pygments_lexer": "ipython3",
   "version": "3.7.4"
  }
 },
 "nbformat": 4,
 "nbformat_minor": 2
}
