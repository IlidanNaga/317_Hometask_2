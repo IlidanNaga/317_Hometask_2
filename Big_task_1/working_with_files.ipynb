{
 "cells": [
  {
   "cell_type": "code",
   "execution_count": 103,
   "metadata": {},
   "outputs": [],
   "source": [
    "import numpy as np\n",
    "\n",
    "from sklearn.datasets import fetch_mldata\n",
    "from sklearn.model_selection import train_test_split\n",
    "\n",
    "from matplotlib import pyplot as plt"
   ]
  },
  {
   "cell_type": "code",
   "execution_count": 4,
   "metadata": {},
   "outputs": [
    {
     "name": "stderr",
     "output_type": "stream",
     "text": [
      "/usr/local/lib/python3.7/site-packages/sklearn/utils/deprecation.py:85: DeprecationWarning: Function fetch_mldata is deprecated; fetch_mldata was deprecated in version 0.20 and will be removed in version 0.22. Please use fetch_openml.\n",
      "  warnings.warn(msg, category=DeprecationWarning)\n",
      "/usr/local/lib/python3.7/site-packages/sklearn/utils/deprecation.py:85: DeprecationWarning: Function mldata_filename is deprecated; mldata_filename was deprecated in version 0.20 and will be removed in version 0.22. Please use fetch_openml.\n",
      "  warnings.warn(msg, category=DeprecationWarning)\n"
     ]
    }
   ],
   "source": [
    "mnist = fetch_mldata(\"MNIST-original\")\n",
    "data = mnist.data / 255.0\n",
    "target = mnist.target.astype(\"int0\")\n",
    "\n",
    "train_data, test_data, train_target, test_target = train_test_split(data, target, test_size=1/7, random_state=666)"
   ]
  },
  {
   "cell_type": "code",
   "execution_count": 48,
   "metadata": {},
   "outputs": [],
   "source": [
    "train_data = None\n",
    "train_target = None"
   ]
  },
  {
   "cell_type": "code",
   "execution_count": 53,
   "metadata": {},
   "outputs": [],
   "source": [
    "from skimage.transform import rotate\n",
    "from skimage.filters import gaussian\n",
    "from math import sqrt"
   ]
  },
  {
   "cell_type": "code",
   "execution_count": 51,
   "metadata": {},
   "outputs": [],
   "source": [
    "test_data = test_data.reshape(test_data.__len__(), 28, 28)"
   ]
  },
  {
   "cell_type": "code",
   "execution_count": 52,
   "metadata": {},
   "outputs": [],
   "source": [
    "data_rot = np.empty(test_data.shape)\n",
    "for enum in range(test_data.__len__()):\n",
    "    data_rot[enum] = rotate(test_data[enum], 5, preserve_range=True)"
   ]
  },
  {
   "cell_type": "code",
   "execution_count": 55,
   "metadata": {},
   "outputs": [],
   "source": [
    "data_gau = np.empty(test_data.shape)\n",
    "for enum in range(test_data.__len__()):\n",
    "    data_gau[enum] = gaussian(test_data[enum], sigma = sqrt(1.1))"
   ]
  },
  {
   "cell_type": "code",
   "execution_count": 56,
   "metadata": {},
   "outputs": [],
   "source": [
    "sub_data = np.empty(test_data.shape)\n",
    "data_rot_gau = np.empty(test_data.shape)\n",
    "for enum in range(test_data.__len__()):\n",
    "    sub_data[enum] = gaussian(test_data[enum], sigma = sqrt(0.7), preserve_range=True)\n",
    "    data_rot_gau[enum] = rotate(sub_data[enum], 35, preserve_range=True)"
   ]
  },
  {
   "cell_type": "code",
   "execution_count": 5,
   "metadata": {},
   "outputs": [
    {
     "data": {
      "text/plain": [
       "array([5, 2, 3, ..., 0, 2, 9])"
      ]
     },
     "execution_count": 5,
     "metadata": {},
     "output_type": "execute_result"
    }
   ],
   "source": [
    "result = np.empty(test_target.__len__()).astype(int)\n",
    "\n",
    "data_from_file = open(\"save_file.txt\").read()\n",
    "\n",
    "for enum, ch in enumerate(data_from_file):\n",
    "    result[enum] = int(ch)\n",
    "    \n",
    "result"
   ]
  },
  {
   "cell_type": "code",
   "execution_count": 6,
   "metadata": {},
   "outputs": [
    {
     "data": {
      "text/plain": [
       "array([5, 2, 3, ..., 0, 2, 9])"
      ]
     },
     "execution_count": 6,
     "metadata": {},
     "output_type": "execute_result"
    }
   ],
   "source": [
    "result_2 = np.empty(test_target.__len__()).astype(int)\n",
    "\n",
    "data_from_file = open(\"save_file_2.txt\").read()\n",
    "\n",
    "for enum, ch in enumerate(data_from_file):\n",
    "    result_2[enum] = int(ch)\n",
    "    \n",
    "result_2\n"
   ]
  },
  {
   "cell_type": "code",
   "execution_count": 7,
   "metadata": {},
   "outputs": [
    {
     "data": {
      "text/plain": [
       "array([5, 2, 3, ..., 0, 2, 9])"
      ]
     },
     "execution_count": 7,
     "metadata": {},
     "output_type": "execute_result"
    }
   ],
   "source": [
    "result_3 = np.empty(test_target.__len__()).astype(int)\n",
    "\n",
    "data_from_file = open(\"save_file_3.txt\").read()\n",
    "\n",
    "for enum, ch in enumerate(data_from_file):\n",
    "    result_3[enum] = int(ch)\n",
    "    \n",
    "result_3"
   ]
  },
  {
   "cell_type": "code",
   "execution_count": 8,
   "metadata": {},
   "outputs": [
    {
     "data": {
      "text/plain": [
       "array([5, 2, 3, ..., 0, 2, 9])"
      ]
     },
     "execution_count": 8,
     "metadata": {},
     "output_type": "execute_result"
    }
   ],
   "source": [
    "result_4 = np.empty(test_target.__len__()).astype(int)\n",
    "\n",
    "data_from_file = open(\"save_file_4.txt\").read()\n",
    "\n",
    "for enum, ch in enumerate(data_from_file):\n",
    "    result_4[enum] = int(ch)\n",
    "    \n",
    "result_4"
   ]
  },
  {
   "cell_type": "code",
   "execution_count": 9,
   "metadata": {},
   "outputs": [
    {
     "data": {
      "text/plain": [
       "array([5, 2, 3, ..., 0, 2, 9])"
      ]
     },
     "execution_count": 9,
     "metadata": {},
     "output_type": "execute_result"
    }
   ],
   "source": [
    "result_5 = np.empty(test_target.__len__()).astype(int)\n",
    "\n",
    "data_from_file = open(\"save_file_5.txt\").read()\n",
    "\n",
    "for enum, ch in enumerate(data_from_file):\n",
    "    result_5[enum] = int(ch)\n",
    "    \n",
    "result_5"
   ]
  },
  {
   "cell_type": "code",
   "execution_count": 61,
   "metadata": {},
   "outputs": [
    {
     "data": {
      "text/plain": [
       "array([5, 2, 3, ..., 0, 2, 9])"
      ]
     },
     "execution_count": 61,
     "metadata": {},
     "output_type": "execute_result"
    }
   ],
   "source": [
    "result_6 = np.empty(test_target.__len__()).astype(int)\n",
    "\n",
    "data_from_file = open(\"save_file_all_modifiers.txt\").read()\n",
    "\n",
    "for enum, ch in enumerate(data_from_file):\n",
    "    result_6[enum] = int(ch)\n",
    "    \n",
    "result_6"
   ]
  },
  {
   "cell_type": "code",
   "execution_count": 10,
   "metadata": {},
   "outputs": [],
   "source": [
    "from sklearn.metrics import accuracy_score as ac_s"
   ]
  },
  {
   "cell_type": "code",
   "execution_count": 104,
   "metadata": {},
   "outputs": [
    {
     "data": {
      "text/plain": [
       "(0.9756, 0.9771, 0.9806, 0.9815, 0.9815)"
      ]
     },
     "execution_count": 104,
     "metadata": {},
     "output_type": "execute_result"
    }
   ],
   "source": [
    "ac_s(test_target, result_2), ac_s(test_target, result_3), ac_s(test_target, result_4), ac_s(test_target, result_5), ac_s(test_target, result_6)"
   ]
  },
  {
   "cell_type": "code",
   "execution_count": 105,
   "metadata": {},
   "outputs": [
    {
     "data": {
      "text/plain": [
       "244"
      ]
     },
     "execution_count": 105,
     "metadata": {},
     "output_type": "execute_result"
    }
   ],
   "source": [
    "np.count_nonzero(result_2 - test_target)"
   ]
  },
  {
   "cell_type": "code",
   "execution_count": 106,
   "metadata": {},
   "outputs": [
    {
     "data": {
      "text/plain": [
       "229"
      ]
     },
     "execution_count": 106,
     "metadata": {},
     "output_type": "execute_result"
    }
   ],
   "source": [
    "np.count_nonzero(result_3 - test_target)"
   ]
  },
  {
   "cell_type": "code",
   "execution_count": 107,
   "metadata": {},
   "outputs": [
    {
     "data": {
      "text/plain": [
       "194"
      ]
     },
     "execution_count": 107,
     "metadata": {},
     "output_type": "execute_result"
    }
   ],
   "source": [
    "np.count_nonzero(result_4 - test_target)"
   ]
  },
  {
   "cell_type": "raw",
   "metadata": {},
   "source": [
    "если я помню правильно:\n",
    "result - рандомный seed, на котором не выходит делать стабильно (удалить)\n",
    "result_2 = базовая выборка\n",
    "result_3 = выборка с поворотом angle = -5\n",
    "result_4 = выборка с гауссовским преобразованием, sigma = sqrt(1.1)\n",
    "result_5 = комбинация поворота и гаусса angle = 35, sigma = sqrt(0.7)\n",
    "result_6 = комбинация 3 преобразований, angle = -35, sigma = sqrt(0.8), s_1 = 1, s_2 = 2"
   ]
  },
  {
   "cell_type": "code",
   "execution_count": 14,
   "metadata": {},
   "outputs": [],
   "source": [
    "from sklearn.metrics import confusion_matrix"
   ]
  },
  {
   "cell_type": "code",
   "execution_count": 18,
   "metadata": {},
   "outputs": [
    {
     "data": {
      "text/plain": [
       "array([[ 0,  0,  1,  0,  0,  0,  1,  0,  2,  0],\n",
       "       [ 0,  0,  5,  1,  1,  0,  0,  3,  0,  0],\n",
       "       [ 5,  3,  0,  1,  0,  0,  1,  6,  2,  1],\n",
       "       [ 3,  2,  5,  0,  0,  8,  0,  3, 12,  5],\n",
       "       [ 1,  2,  1,  1,  0,  0,  3,  0,  2, 21],\n",
       "       [ 5,  0,  0, 10,  0,  0, 15,  0,  4,  3],\n",
       "       [ 3,  4,  0,  0,  0,  1,  0,  0,  1,  0],\n",
       "       [ 0,  7,  3,  0,  4,  0,  0,  0,  1, 14],\n",
       "       [ 1, 14,  1,  5,  2,  6,  5,  2,  0,  5],\n",
       "       [ 3,  1,  1,  8,  5,  1,  0,  6,  1,  0]])"
      ]
     },
     "execution_count": 18,
     "metadata": {},
     "output_type": "execute_result"
    }
   ],
   "source": [
    "matrix_2 = confusion_matrix(test_target, result_2)\n",
    "for i in range(10):\n",
    "    matrix_2[i, i] = 0\n",
    "\n",
    "matrix_2"
   ]
  },
  {
   "cell_type": "code",
   "execution_count": 63,
   "metadata": {},
   "outputs": [],
   "source": [
    "matrix_3 = confusion_matrix(test_target, result_3)\n",
    "matrix_4 = confusion_matrix(test_target, result_4)\n",
    "matrix_5 = confusion_matrix(test_target, result_5)\n",
    "matrix_6 = confusion_matrix(test_target, result_6)\n",
    "for i in range(10):\n",
    "    matrix_3[i, i] = 0\n",
    "    matrix_4[i, i] = 0\n",
    "    matrix_5[i, i] = 0\n",
    "    matrix_6[i, i] = 0"
   ]
  },
  {
   "cell_type": "code",
   "execution_count": 115,
   "metadata": {},
   "outputs": [
    {
     "data": {
      "image/png": "[encoded data removed]",
      "text/plain": [
       "<Figure size 1008x1008 with 5 Axes>"
      ]
     },
     "metadata": {
      "needs_background": "light"
     },
     "output_type": "display_data"
    }
   ],
   "source": [
    "fig, axs = plt.subplots(1, 5, tight_layout = True, figsize=[14, 14])\n",
    "\n",
    "axs[0].imshow(matrix_2, cmap=\"Greys\")\n",
    "axs[0].set_title(\"Без модификаций\")\n",
    "axs[1].imshow(matrix_3, cmap=\"Greys\")\n",
    "axs[1].set_title(\"Поворот\")\n",
    "axs[2].imshow(matrix_4, cmap=\"Greys\")\n",
    "axs[2].set_title(\"Гауссовская фильтрация\")\n",
    "axs[3].imshow(matrix_5, cmap=\"Greys\")\n",
    "axs[3].set_title(\"Поворот + Фильтрация\")\n",
    "axs[4].imshow(matrix_6, cmap=\"Greys\")\n",
    "axs[4].set_title(\"Все 3 превращения\")\n",
    "\n",
    "plt.savefig(\"Images/all_conf_matr.png\")\n",
    "\n",
    "plt.show()"
   ]
  },
  {
   "cell_type": "code",
   "execution_count": 65,
   "metadata": {},
   "outputs": [
    {
     "data": {
      "text/plain": [
       "(244, 229, 194, 185, 185)"
      ]
     },
     "execution_count": 65,
     "metadata": {},
     "output_type": "execute_result"
    }
   ],
   "source": [
    "np.sum(matrix_2), np.sum(matrix_3), np.sum(matrix_4), np.sum(matrix_5), np.sum(matrix_6)"
   ]
  },
  {
   "cell_type": "raw",
   "metadata": {},
   "source": [
    "matrix_6 - метод со всеми изменениями, отбросим, т.к. он не даёт изминений в ошибках\n",
    "Есть такое ощущение, что данные методы не исправляют указанные проблемы, но, при этом, уменьшают концентрацию остальных неправильных значений\n",
    "у последнего метода (matrix_5, всё, кроме сдвигов) явно выделяются 7 точек ошибок\n",
    "5 вместо 3\n",
    "8 вместо 3\n",
    "9 вместо 4\n",
    "3 вместо 5\n",
    "6 вместо 5\n",
    "9 вместо 7\n",
    "1 вместо 8"
   ]
  },
  {
   "cell_type": "code",
   "execution_count": 37,
   "metadata": {},
   "outputs": [],
   "source": [
    "def print_errors_am(x, y):\n",
    "    print(\"{} in place of {}:\".format(y, x), matrix_2[x, y], matrix_3[x, y], matrix_4[x, y], matrix_5[x, y])\n",
    "    \n",
    "def sum_big_errors(matrix):\n",
    "    return matrix[3, 5] + matrix[3, 8] + matrix[4, 9] + matrix[5, 3] + matrix[5, 6] + matrix[7, 9] + matrix[8, 1]"
   ]
  },
  {
   "cell_type": "code",
   "execution_count": 36,
   "metadata": {},
   "outputs": [
    {
     "name": "stdout",
     "output_type": "stream",
     "text": [
      "5 in place of 3: 8 6 10 9\n",
      "8 in place of 3: 12 16 11 12\n",
      "9 in place of 4: 21 14 18 16\n",
      "3 in place of 5: 10 14 11 9\n",
      "6 in place of 5: 15 18 14 15\n",
      "9 in place of 7: 14 10 11 10\n",
      "1 in place of 8: 14 10 11 11\n"
     ]
    }
   ],
   "source": [
    "print_errors_am(3, 5)\n",
    "print_errors_am(3, 8)\n",
    "print_errors_am(4, 9)\n",
    "print_errors_am(5, 3)\n",
    "print_errors_am(5, 6)\n",
    "print_errors_am(7, 9)\n",
    "print_errors_am(8, 1)"
   ]
  },
  {
   "cell_type": "code",
   "execution_count": 43,
   "metadata": {},
   "outputs": [
    {
     "data": {
      "text/plain": [
       "(244, 150)"
      ]
     },
     "execution_count": 43,
     "metadata": {},
     "output_type": "execute_result"
    }
   ],
   "source": [
    "np.sum(matrix_2), np.sum(matrix_2) - sum_big_errors(matrix_2)"
   ]
  },
  {
   "cell_type": "code",
   "execution_count": 108,
   "metadata": {},
   "outputs": [
    {
     "data": {
      "text/plain": [
       "(229, 141, -88)"
      ]
     },
     "execution_count": 108,
     "metadata": {},
     "output_type": "execute_result"
    }
   ],
   "source": [
    "np.sum(matrix_3), np.sum(matrix_3) - sum_big_errors(matrix_3), np.sum(matrix_3) - np.sum(matrix_3) - sum_big_errors(matrix_3)"
   ]
  },
  {
   "cell_type": "code",
   "execution_count": 109,
   "metadata": {},
   "outputs": [
    {
     "data": {
      "text/plain": [
       "(194, 108, -86)"
      ]
     },
     "execution_count": 109,
     "metadata": {},
     "output_type": "execute_result"
    }
   ],
   "source": [
    "np.sum(matrix_4), np.sum(matrix_4) - sum_big_errors(matrix_4), np.sum(matrix_4) - np.sum(matrix_4) - sum_big_errors(matrix_4)"
   ]
  },
  {
   "cell_type": "code",
   "execution_count": 110,
   "metadata": {},
   "outputs": [
    {
     "data": {
      "text/plain": [
       "(185, 103, -82)"
      ]
     },
     "execution_count": 110,
     "metadata": {},
     "output_type": "execute_result"
    }
   ],
   "source": [
    "np.sum(matrix_5), np.sum(matrix_5) - sum_big_errors(matrix_5), np.sum(matrix_5) - np.sum(matrix_5) - sum_big_errors(matrix_5)"
   ]
  },
  {
   "cell_type": "raw",
   "metadata": {},
   "source": [
    "давайте посмотрим по 1 предмету из каждой выборки для каждой типовой ошибки, чтобы посмотреть, что сделало преобразование"
   ]
  },
  {
   "cell_type": "code",
   "execution_count": 58,
   "metadata": {},
   "outputs": [
    {
     "data": {
      "text/plain": [
       "990"
      ]
     },
     "execution_count": 58,
     "metadata": {},
     "output_type": "execute_result"
    }
   ],
   "source": [
    "value_3 = np.argwhere(test_target == 3)\n",
    "value_3.__len__()"
   ]
  },
  {
   "cell_type": "code",
   "execution_count": 70,
   "metadata": {},
   "outputs": [],
   "source": [
    "errors_2_3_5 = value_3[np.argwhere(result_2[value_3] == 5)][:, 0]\n",
    "errors_3_3_5 = value_3[np.argwhere(result_3[value_3] == 5)][:, 0]\n",
    "errors_4_3_5 = value_3[np.argwhere(result_4[value_3] == 5)][:, 0]\n",
    "errors_5_3_5 = value_3[np.argwhere(result_5[value_3] == 5)][:, 0]"
   ]
  },
  {
   "cell_type": "code",
   "execution_count": 101,
   "metadata": {},
   "outputs": [
    {
     "data": {
      "text/plain": [
       "(array([1198]), array([1947]))"
      ]
     },
     "execution_count": 101,
     "metadata": {},
     "output_type": "execute_result"
    }
   ],
   "source": [
    "errors_2_3_5[2], errors_3_3_5[]"
   ]
  },
  {
   "cell_type": "code",
   "execution_count": 90,
   "metadata": {},
   "outputs": [
    {
     "data": {
      "image/png": "[encoded data removed]",
      "text/plain": [
       "<Figure size 1008x1008 with 4 Axes>"
      ]
     },
     "metadata": {
      "needs_background": "light"
     },
     "output_type": "display_data"
    }
   ],
   "source": [
    "fig, axs = plt.subplots(1, 4, tight_layout = True, figsize=[14, 14])\n",
    "\n",
    "axs[0].imshow(test_data[errors_2_3_5[1]][0])\n",
    "axs[1].imshow(data_rot[errors_3_3_5[0]][0])\n",
    "axs[2].imshow(data_gau[errors_4_3_5[0]][0])\n",
    "axs[3].imshow(data_rot_gau[errors_5_3_5[0]][0])\n",
    "\n",
    "plt.savefig(\"Images/how_it_changes.png\")"
   ]
  },
  {
   "cell_type": "code",
   "execution_count": 95,
   "metadata": {},
   "outputs": [
    {
     "data": {
      "image/png": "[encoded data removed]",
      "text/plain": [
       "<Figure size 1008x1008 with 4 Axes>"
      ]
     },
     "metadata": {
      "needs_background": "light"
     },
     "output_type": "display_data"
    }
   ],
   "source": [
    "fig, axs = plt.subplots(1, 4, tight_layout = True, figsize=[14, 14])\n",
    "\n",
    "axs[0].imshow(test_data[1234])\n",
    "axs[1].imshow(data_rot[1234])\n",
    "axs[2].imshow(data_gau[1234])\n",
    "axs[3].imshow(data_rot_gau[1234])\n",
    "\n",
    "plt.savefig(\"Images/how_it_changes_2.png\")"
   ]
  },
  {
   "cell_type": "code",
   "execution_count": 102,
   "metadata": {},
   "outputs": [
    {
     "data": {
      "text/plain": [
       "<matplotlib.image.AxesImage at 0x16e804c90>"
      ]
     },
     "execution_count": 102,
     "metadata": {},
     "output_type": "execute_result"
    },
    {
     "data": {
      "image/png": "[encoded data removed]",
      "text/plain": [
       "<Figure size 1008x1008 with 4 Axes>"
      ]
     },
     "metadata": {
      "needs_background": "light"
     },
     "output_type": "display_data"
    }
   ],
   "source": [
    "fig, axs = plt.subplots(1, 4, tight_layout = True, figsize=[14, 14])\n",
    "\n",
    "axs[0].imshow(test_data[1198])\n",
    "axs[1].imshow(data_rot[1198])\n",
    "axs[2].imshow(data_gau[1198])\n",
    "axs[3].imshow(data_rot_gau[1198])"
   ]
  },
  {
   "cell_type": "code",
   "execution_count": 121,
   "metadata": {},
   "outputs": [
    {
     "data": {
      "text/plain": [
       "array([  15,   17,   39,   57,   92,  151,  171,  255,  406,  514,  636,\n",
       "        643,  647,  738,  761,  907,  947,  962,  984, 1002])"
      ]
     },
     "execution_count": 121,
     "metadata": {},
     "output_type": "execute_result"
    }
   ],
   "source": [
    "np.argwhere(result_2 != test_target).T[0][:20]"
   ]
  },
  {
   "cell_type": "code",
   "execution_count": 136,
   "metadata": {},
   "outputs": [
    {
     "data": {
      "text/plain": [
       "array([  15,   17,   57,   92,  151,  255,  330,  383,  406,  427,  643,\n",
       "        647,  669,  738,  761,  947,  962,  984, 1002, 1035, 1059, 1079,\n",
       "       1123, 1286, 1303, 1320, 1343, 1365, 1370, 1378, 1389, 1396, 1408,\n",
       "       1450, 1486, 1501, 1502, 1516, 1533, 1550])"
      ]
     },
     "execution_count": 136,
     "metadata": {},
     "output_type": "execute_result"
    }
   ],
   "source": [
    "np.argwhere(result_3 != test_target).T[0][:40]"
   ]
  },
  {
   "cell_type": "code",
   "execution_count": 134,
   "metadata": {},
   "outputs": [
    {
     "data": {
      "text/plain": [
       "array([  15,   17,   57,  151,  255,  372,  406,  499,  643,  647,  669,\n",
       "        962,  984, 1002, 1035, 1059, 1079, 1123, 1198, 1286])"
      ]
     },
     "execution_count": 134,
     "metadata": {},
     "output_type": "execute_result"
    }
   ],
   "source": [
    "np.argwhere(result_4 != test_target).T[0][:20]"
   ]
  },
  {
   "cell_type": "code",
   "execution_count": 127,
   "metadata": {},
   "outputs": [
    {
     "data": {
      "text/plain": [
       "array([  15,   17,   57,  151,  255,  372,  406,  499,  643,  647,  669,\n",
       "        962,  984, 1002, 1035, 1059, 1079, 1123, 1198, 1286])"
      ]
     },
     "execution_count": 127,
     "metadata": {},
     "output_type": "execute_result"
    }
   ],
   "source": [
    "np.argwhere(result_5 != test_target).T[0][:20]"
   ]
  },
  {
   "cell_type": "raw",
   "metadata": {},
   "source": [
    "Индексы примеров\n",
    "1) Ошибка, которая есть везде - 15, 17, 57, 151, 255\n",
    "2) Ошибка, которая есть везде, кроме последнего - 4160\n",
    "3) Ошибка, которая есть на первых 2, но нет на 3 и 4  - 92, 947, 1320, 1502, 1860\n",
    "4) Ошибка, которая исправляется любым из изменений - 39, 514, 1605, 2560, 3227, 4105\n",
    "5) Ошибка, которой нет на 1, но она есть на остальных - 669, 1035, 1303, 1450, 2898\n",
    "6) Ошибка, которую привнесла гаусовская свертка - 372, 499, 1765, 5106\n",
    "7) Ошибка, которую исправляет поворот, но не свертка - 2969, 5143\n",
    "8) Ошибка, которую привнес поворот - 9679"
   ]
  },
  {
   "cell_type": "raw",
   "metadata": {},
   "source": [
    "result_2 - test_data\n",
    "result_3 - data_rot\n",
    "result_4 - data_gau\n",
    "result_5 - data_rot_gau"
   ]
  },
  {
   "cell_type": "code",
   "execution_count": 229,
   "metadata": {},
   "outputs": [
    {
     "data": {
      "image/png": "[encoded data removed]",
      "text/plain": [
       "<Figure size 720x720 with 4 Axes>"
      ]
     },
     "metadata": {
      "needs_background": "light"
     },
     "output_type": "display_data"
    }
   ],
   "source": [
    "fig, axs = plt.subplots(1, 4, tight_layout = True, figsize=[10,10])\n",
    "\n",
    "number = 2969\n",
    "\n",
    "axs[0].imshow(test_data[number])\n",
    "axs[0].set_title(\"Без модификаций, ответ - {}\".format(result_2[number]))\n",
    "axs[1].imshow(data_rot[number])\n",
    "axs[1].set_title(\"Поворот, ответ - {}\".format(result_3[number]))\n",
    "axs[2].imshow(data_gau[number])\n",
    "axs[2].set_title(\"Фильтр, ответ - {}\".format(result_4[number]))\n",
    "axs[3].imshow(data_rot_gau[number])\n",
    "axs[3].set_title(\"Фильтр + Поворот, ответ - {}\".format(result_5[number]))\n",
    "\n",
    "plt.suptitle(\"Правильный ответ: {}\".format(test_target[number]), y = 0.65)\n",
    "\n",
    "plt.savefig(\"Images/finish_rot_fix.png\")\n",
    "\n",
    "plt.show()"
   ]
  },
  {
   "cell_type": "code",
   "execution_count": 182,
   "metadata": {},
   "outputs": [
    {
     "data": {
      "text/plain": [
       "[15,\n",
       " 17,\n",
       " 57,\n",
       " 151,\n",
       " 255,\n",
       " 406,\n",
       " 643,\n",
       " 647,\n",
       " 962,\n",
       " 984,\n",
       " 1002,\n",
       " 1059,\n",
       " 1079,\n",
       " 1123,\n",
       " 1286,\n",
       " 1389,\n",
       " 1396,\n",
       " 1408,\n",
       " 1501,\n",
       " 1516,\n",
       " 1716,\n",
       " 1947,\n",
       " 2093,\n",
       " 2143,\n",
       " 2310,\n",
       " 2328,\n",
       " 2458,\n",
       " 2491,\n",
       " 2591,\n",
       " 2684,\n",
       " 2705,\n",
       " 2707,\n",
       " 2789,\n",
       " 2826,\n",
       " 2874,\n",
       " 2923,\n",
       " 2939,\n",
       " 2951,\n",
       " 2999,\n",
       " 3016,\n",
       " 3062,\n",
       " 3168,\n",
       " 3190,\n",
       " 3193,\n",
       " 3342,\n",
       " 3425,\n",
       " 3526,\n",
       " 3565,\n",
       " 3642,\n",
       " 3660,\n",
       " 3732,\n",
       " 3743,\n",
       " 3800,\n",
       " 4006,\n",
       " 4043,\n",
       " 4045,\n",
       " 4070,\n",
       " 4091,\n",
       " 4115,\n",
       " 4148,\n",
       " 4231,\n",
       " 4299,\n",
       " 4347,\n",
       " 4367,\n",
       " 4401,\n",
       " 4422,\n",
       " 4442,\n",
       " 4478,\n",
       " 4495,\n",
       " 4496,\n",
       " 4538,\n",
       " 4542,\n",
       " 4703,\n",
       " 5157,\n",
       " 5225,\n",
       " 5645,\n",
       " 5713,\n",
       " 5799,\n",
       " 6015,\n",
       " 6021,\n",
       " 6177,\n",
       " 6328,\n",
       " 6342,\n",
       " 6379,\n",
       " 6393,\n",
       " 6431,\n",
       " 6442,\n",
       " 6530,\n",
       " 6550,\n",
       " 6565,\n",
       " 6681,\n",
       " 6885,\n",
       " 6896,\n",
       " 6922,\n",
       " 7298,\n",
       " 7307,\n",
       " 7491,\n",
       " 7504,\n",
       " 7623,\n",
       " 7789,\n",
       " 7832,\n",
       " 7856,\n",
       " 7951,\n",
       " 7995,\n",
       " 8093,\n",
       " 8117,\n",
       " 8159,\n",
       " 8408,\n",
       " 8494,\n",
       " 8503,\n",
       " 8585,\n",
       " 8725,\n",
       " 8747,\n",
       " 8775,\n",
       " 8797,\n",
       " 8824,\n",
       " 8885,\n",
       " 8903,\n",
       " 8914,\n",
       " 9124,\n",
       " 9142,\n",
       " 9215,\n",
       " 9247,\n",
       " 9293,\n",
       " 9566,\n",
       " 9802,\n",
       " 9856,\n",
       " 9861,\n",
       " 9879,\n",
       " 9903,\n",
       " 9970]"
      ]
     },
     "execution_count": 182,
     "metadata": {},
     "output_type": "execute_result"
    }
   ],
   "source": [
    "[x for x in np.argwhere(result_3 != test_target).T[0] \n",
    " if x  in np.argwhere(result_2 != test_target).T[0]\n",
    " and x  in np.argwhere(result_4 != test_target).T[0] \n",
    " and x in np.argwhere(result_5 != test_target).T[0]]"
   ]
  },
  {
   "cell_type": "code",
   "execution_count": 145,
   "metadata": {},
   "outputs": [
    {
     "data": {
      "text/plain": [
       "False"
      ]
     },
     "execution_count": 145,
     "metadata": {},
     "output_type": "execute_result"
    }
   ],
   "source": [
    "372 in np.argwhere(result_3 != test_target).T[0]"
   ]
  }
 ],
 "metadata": {
  "kernelspec": {
   "display_name": "Python 3",
   "language": "python",
   "name": "python3"
  },
  "language_info": {
   "codemirror_mode": {
    "name": "ipython",
    "version": 3
   },
   "file_extension": ".py",
   "mimetype": "text/x-python",
   "name": "python",
   "nbconvert_exporter": "python",
   "pygments_lexer": "ipython3",
   "version": "3.7.4"
  }
 },
 "nbformat": 4,
 "nbformat_minor": 2
}
