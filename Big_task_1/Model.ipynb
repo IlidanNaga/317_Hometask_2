{
 "cells": [
  {
   "cell_type": "code",
   "execution_count": 22,
   "metadata": {},
   "outputs": [],
   "source": [
    "import numpy as np\n",
    "from sklearn.neighbors import KNeighborsClassifier as sKNN\n",
    "from random import shuffle\n",
    "from random import seed"
   ]
  },
  {
   "cell_type": "code",
   "execution_count": 15,
   "metadata": {},
   "outputs": [],
   "source": [
    "def euclidean_distance(arr1, arr2):\n",
    "    res_arr = np.empty((arr1.shape[0], arr2.shape[0]))\n",
    "    for enum, item in enumerate(arr1[:, ]):\n",
    "        res_arr[enum] = np.sqrt(np.sum((arr2 - item) ** 2, axis=1))\n",
    "\n",
    "    return res_arr\n",
    "\n",
    "def cosine_distance(arr1, arr2):\n",
    "\n",
    "    res_arr = np.empty((arr1.shape[0], arr2.shape[0]))\n",
    "    for enum, item in enumerate(arr1[:, ]):\n",
    "        res_arr[enum] = np.sum(arr2 * item, axis=1) / (\n",
    "            (np.sqrt(np.sum(arr2 * arr2, axis=1)) *\n",
    "             np.sqrt((np.sum(item * item)))))\n",
    "\n",
    "    return 1 - res_arr\n",
    "\n",
    "def weight_function(distance):\n",
    "    epsilon = 0.00001\n",
    "    return (double)(1 / (distance + epsilon))"
   ]
  },
  {
   "cell_type": "code",
   "execution_count": 112,
   "metadata": {},
   "outputs": [],
   "source": [
    "class KNNClassifier:\n",
    "    \n",
    "    def __init__(self,\n",
    "                 k,\n",
    "                 strategy,\n",
    "                 metric,\n",
    "                 weights,\n",
    "                 test_block_size = False):\n",
    "        \n",
    "        self.strategy = strategy\n",
    "        \n",
    "        if (strategy == \"my_own\"):\n",
    "            print(\"My_own\")\n",
    "            # my implementation\n",
    "            self.k = k\n",
    "            self.weights = weights\n",
    "            \n",
    "            if (metric == \"euclidean\"):\n",
    "                self.metric = euclidean_distance\n",
    "            elif (metric == \"cosine\"):\n",
    "                self.metric = cosine_distance\n",
    "            else:\n",
    "                raise TypeError\n",
    "                \n",
    "        else:\n",
    "            return sKNN(k, algorithm = strategy, weights = \"uniform\")\n",
    "        \"\"\"        \n",
    "        elif (strategy == \"brute\"):\n",
    "            print(\"brute\")\n",
    "            if (weights):\n",
    "                self.uses = sKNN(k,\n",
    "                            algorithm = 'brute',\n",
    "                            weights = weight_function,\n",
    "                            n_jobs = -1)\n",
    "            else:\n",
    "                self.uses = sKNN(k,\n",
    "                                 algorithm = 'brute',\n",
    "                                 weights = 'uniform',\n",
    "                                 n_jobs = -1)\n",
    "        elif (strategy == 'kd_tree'):\n",
    "            print(\"kd_tree\")\n",
    "            if (weights):\n",
    "                self.uses = sKNN(k,\n",
    "                                 algorithm = 'kd_tree',\n",
    "                                 weights = weight_function,\n",
    "                                 n_jobs = -1)\n",
    "            else:\n",
    "                self.uses = sKNN(k,\n",
    "                                 algorithm = 'kd_tree',\n",
    "                                 weights = 'uniform',\n",
    "                                 n_jobs = -1)\n",
    "        elif (strategy == 'ball_tree'):\n",
    "            print(\"ball_tree\")\n",
    "            if (weights):\n",
    "                self.uses = sKNN(k, \n",
    "                                 algorithm = 'ball_tree',\n",
    "                                 weights = weight_function,\n",
    "                                 n_jobs = -1)\n",
    "            else:\n",
    "                self.uses = sKNN(k,\n",
    "                                 algorithm = 'ball_tree',\n",
    "                                 weights = 'uniform',\n",
    "                                 n_jobs = -1)\n",
    "        else:\n",
    "            raise TypeError\n",
    "            \n",
    "        \"\"\"\n",
    "    \n",
    "    def fit(self, X, y):\n",
    "        if (self.strategy == \"my_own\"):\n",
    "            print(\"fit_own\")\n",
    "            # my implementation\n",
    "            if (X.__len__() != y.__len__()):\n",
    "                raise TypeError\n",
    "            \n",
    "            self.data = X\n",
    "            self.target = y\n",
    "            self.clusters = np.sort(np.unique(y))\n",
    "            self.clusters_amount = np.unique(y).__len__()\n",
    "        else:\n",
    "            print(\"fit_other\")\n",
    "            self.uses.fit(X, y)\n",
    "    \n",
    "    def find_kneighbors(self, X, return_distance):\n",
    "        if (strategy == \"my_own\"):\n",
    "            #my implementation\n",
    "            pass\n",
    "        else:\n",
    "            return self.uses.kneighbors(X, return_distance)\n",
    "    \n",
    "    def predict(self, X):\n",
    "\n",
    "        if (self.strategy == \"my_own\"):\n",
    "            print(\"predict_own\")\n",
    "            #my prediction\n",
    "            if (X.shape[1] != self.data.shape[1]):\n",
    "                return TypeError\n",
    "\n",
    "            ranges = self.metric(self.data, X)\n",
    "\n",
    "            max_range = np.max(ranges)\n",
    "\n",
    "            k = self.k\n",
    "\n",
    "            if (k > self.data.shape[0]):\n",
    "                k = self.data.shape[0]\n",
    "\n",
    "            closest = np.empty((k, X.shape[0])).astype(int)\n",
    "\n",
    "            while (k > 0):\n",
    "\n",
    "                # тут мы получаем в столбцах номера выходных точек по каждой из точек test_set\n",
    "                save = np.argmin(ranges, axis=0)\n",
    "\n",
    "                closest[k - 1] = save\n",
    "\n",
    "                for enum, item in enumerate(save):\n",
    "                    ranges[item, enum] += max_range\n",
    "\n",
    "                k -= 1\n",
    "\n",
    "            closest_4_each = closest.T\n",
    "            test_target = np.empty(X.shape[0]).astype(int)\n",
    "\n",
    "            for enum, item in enumerate(closest_4_each):\n",
    "\n",
    "                cluster_nb = np.zeros(self.clusters_amount).astype(int)\n",
    "\n",
    "                for it in item:\n",
    "                    cluster_nb[np.where(self.clusters ==self.target[it])[0]] += 1\n",
    "\n",
    "                test_target[enum] = self.clusters[self.clusters[np.argmax(cluster_nb)]]\n",
    "\n",
    "\n",
    "            return test_target\n",
    "\n",
    "        else:\n",
    "            print(\"predict_other\")\n",
    "            return self.uses.predict(X)"
   ]
  },
  {
   "cell_type": "code",
   "execution_count": 40,
   "metadata": {},
   "outputs": [],
   "source": [
    "class cross_validation:\n",
    "    \n",
    "    def __init__(self):\n",
    "        pass\n",
    "    \n",
    "    def kfold(n, n_folds,\n",
    "              stratified = False,\n",
    "              random_seed = np.nan):\n",
    "        \n",
    "        index_list = []\n",
    "        for index in range(n):\n",
    "            index_list.append(index)\n",
    "            \n",
    "        if (stratified):\n",
    "            if (random_seed != np.nan):\n",
    "                seed(random_seed)\n",
    "                \n",
    "            shuffle(index_list)\n",
    "            \n",
    "        result_list = []\n",
    "        part = 0\n",
    "        each_len = (int)(n / n_folds)\n",
    "        \n",
    "        while (part < n_folds - 1):\n",
    "            test_subset = index_list[part * each_len : (part + 1) * each_len]\n",
    "            train_subset = [x for x in index_list if x not in test_subset]\n",
    "            result_list.append((train_subset, test_subset))\n",
    "            part += 1\n",
    "            \n",
    "        test_subset = index_list[part * each_len : ]\n",
    "        train_subset = [x for x in index_list if x not in test_subset]\n",
    "        \n",
    "        result_list.append((train_subset, test_subset))\n",
    "        \n",
    "        return result_list\n",
    "    \n",
    "    def knn_cross_val_score(self, X, y, k_list, score, cv, **kwargs):\n",
    "        pass"
   ]
  },
  {
   "cell_type": "code",
   "execution_count": 18,
   "metadata": {},
   "outputs": [],
   "source": [
    "x = np.array([[1, 2, 3], [1, 4, 7], [3, 1, 6]])\n",
    "y = np.array([2, 2, 2])"
   ]
  },
  {
   "cell_type": "code",
   "execution_count": 20,
   "metadata": {},
   "outputs": [
    {
     "data": {
      "text/plain": [
       "array([[1.41421356, 1.41421356, 1.41421356],\n",
       "       [5.47722558, 5.47722558, 5.47722558],\n",
       "       [4.24264069, 4.24264069, 4.24264069]])"
      ]
     },
     "execution_count": 20,
     "metadata": {},
     "output_type": "execute_result"
    }
   ],
   "source": [
    "euclidean_distance(x, y[:, np.newaxis])"
   ]
  },
  {
   "cell_type": "code",
   "execution_count": 42,
   "metadata": {},
   "outputs": [],
   "source": [
    "res = cross_validation.kfold(55, 5, True)"
   ]
  },
  {
   "cell_type": "code",
   "execution_count": 45,
   "metadata": {},
   "outputs": [
    {
     "name": "stdout",
     "output_type": "stream",
     "text": [
      "Train:  [0, 4, 42, 20, 14, 53, 44, 47, 46, 41, 11, 3, 17, 15, 10, 21, 27, 28, 50, 23, 36, 45, 9, 34, 49, 6, 39, 18, 8, 52, 13, 37, 22, 30, 19, 25, 31, 32, 16, 2, 26, 48, 24, 54]\n",
      "Test:  [29, 12, 40, 43, 33, 7, 5, 38, 1, 51, 35]\n",
      "Train:  [29, 12, 40, 43, 33, 7, 5, 38, 1, 51, 35, 3, 17, 15, 10, 21, 27, 28, 50, 23, 36, 45, 9, 34, 49, 6, 39, 18, 8, 52, 13, 37, 22, 30, 19, 25, 31, 32, 16, 2, 26, 48, 24, 54]\n",
      "Test:  [0, 4, 42, 20, 14, 53, 44, 47, 46, 41, 11]\n",
      "Train:  [29, 12, 40, 43, 33, 7, 5, 38, 1, 51, 35, 0, 4, 42, 20, 14, 53, 44, 47, 46, 41, 11, 9, 34, 49, 6, 39, 18, 8, 52, 13, 37, 22, 30, 19, 25, 31, 32, 16, 2, 26, 48, 24, 54]\n",
      "Test:  [3, 17, 15, 10, 21, 27, 28, 50, 23, 36, 45]\n",
      "Train:  [29, 12, 40, 43, 33, 7, 5, 38, 1, 51, 35, 0, 4, 42, 20, 14, 53, 44, 47, 46, 41, 11, 3, 17, 15, 10, 21, 27, 28, 50, 23, 36, 45, 30, 19, 25, 31, 32, 16, 2, 26, 48, 24, 54]\n",
      "Test:  [9, 34, 49, 6, 39, 18, 8, 52, 13, 37, 22]\n",
      "Train:  [29, 12, 40, 43, 33, 7, 5, 38, 1, 51, 35, 0, 4, 42, 20, 14, 53, 44, 47, 46, 41, 11, 3, 17, 15, 10, 21, 27, 28, 50, 23, 36, 45, 9, 34, 49, 6, 39, 18, 8, 52, 13, 37, 22]\n",
      "Test:  [30, 19, 25, 31, 32, 16, 2, 26, 48, 24, 54]\n"
     ]
    }
   ],
   "source": [
    "for item in res:\n",
    "    print(\"Train: \", item[0])\n",
    "    print(\"Test: \", item[1])"
   ]
  },
  {
   "cell_type": "code",
   "execution_count": 53,
   "metadata": {},
   "outputs": [],
   "source": [
    "from sklearn.datasets import fetch_mldata"
   ]
  },
  {
   "cell_type": "code",
   "execution_count": 54,
   "metadata": {},
   "outputs": [
    {
     "name": "stderr",
     "output_type": "stream",
     "text": [
      "/usr/local/lib/python3.7/site-packages/sklearn/utils/deprecation.py:85: DeprecationWarning: Function fetch_mldata is deprecated; fetch_mldata was deprecated in version 0.20 and will be removed in version 0.22. Please use fetch_openml.\n",
      "  warnings.warn(msg, category=DeprecationWarning)\n",
      "/usr/local/lib/python3.7/site-packages/sklearn/utils/deprecation.py:85: DeprecationWarning: Function mldata_filename is deprecated; mldata_filename was deprecated in version 0.20 and will be removed in version 0.22. Please use fetch_openml.\n",
      "  warnings.warn(msg, category=DeprecationWarning)\n"
     ]
    }
   ],
   "source": [
    "mnist = fetch_mldata(\"MNIST-original\")"
   ]
  },
  {
   "cell_type": "code",
   "execution_count": 55,
   "metadata": {},
   "outputs": [],
   "source": [
    "from sklearn.model_selection import train_test_split"
   ]
  },
  {
   "cell_type": "code",
   "execution_count": 57,
   "metadata": {},
   "outputs": [
    {
     "name": "stdout",
     "output_type": "stream",
     "text": [
      "Train size:  69650\n",
      "Test size:  350\n"
     ]
    }
   ],
   "source": [
    "trX, teX, trY, teY = train_test_split(mnist.data / 255.0, mnist.target.astype(\"int0\"), test_size = 1/200)\n",
    "print(\"Train size: \", trX.__len__())\n",
    "print(\"Test size: \", teX.__len__())"
   ]
  },
  {
   "cell_type": "code",
   "execution_count": 97,
   "metadata": {},
   "outputs": [
    {
     "name": "stdout",
     "output_type": "stream",
     "text": [
      "My_own\n"
     ]
    }
   ],
   "source": [
    "KNN = KNNClassifier(5, \"my_own\", \"cosine\", False)"
   ]
  },
  {
   "cell_type": "code",
   "execution_count": 98,
   "metadata": {},
   "outputs": [
    {
     "name": "stdout",
     "output_type": "stream",
     "text": [
      "fit_own\n"
     ]
    }
   ],
   "source": [
    "KNN.fit(trX, trY)"
   ]
  },
  {
   "cell_type": "code",
   "execution_count": 99,
   "metadata": {},
   "outputs": [
    {
     "name": "stdout",
     "output_type": "stream",
     "text": [
      "predict_own\n"
     ]
    }
   ],
   "source": [
    "res = KNN.predict(teX)"
   ]
  },
  {
   "cell_type": "code",
   "execution_count": 100,
   "metadata": {},
   "outputs": [],
   "source": [
    "from sklearn.metrics import accuracy_score"
   ]
  },
  {
   "cell_type": "code",
   "execution_count": 101,
   "metadata": {},
   "outputs": [
    {
     "data": {
      "text/plain": [
       "0.9742857142857143"
      ]
     },
     "execution_count": 101,
     "metadata": {},
     "output_type": "execute_result"
    }
   ],
   "source": [
    "accuracy_score(teY, res)"
   ]
  },
  {
   "cell_type": "code",
   "execution_count": 118,
   "metadata": {},
   "outputs": [
    {
     "ename": "ValueError",
     "evalue": "Metric 'cosine' not valid. Use sorted(sklearn.neighbors.VALID_METRICS['kd_tree']) to get valid options. Metric can also be a callable function.",
     "output_type": "error",
     "traceback": [
      "\u001b[0;31m---------------------------------------------------------------------------\u001b[0m",
      "\u001b[0;31mValueError\u001b[0m                                Traceback (most recent call last)",
      "\u001b[0;32m<ipython-input-118-1900fa43da08>\u001b[0m in \u001b[0;36m<module>\u001b[0;34m\u001b[0m\n\u001b[0;32m----> 1\u001b[0;31m \u001b[0mmodel\u001b[0m \u001b[0;34m=\u001b[0m \u001b[0msKNN\u001b[0m\u001b[0;34m(\u001b[0m\u001b[0mn_neighbors\u001b[0m \u001b[0;34m=\u001b[0m \u001b[0;36m5\u001b[0m\u001b[0;34m,\u001b[0m \u001b[0malgorithm\u001b[0m \u001b[0;34m=\u001b[0m \u001b[0;34m\"kd_tree\"\u001b[0m\u001b[0;34m,\u001b[0m \u001b[0mmetric\u001b[0m \u001b[0;34m=\u001b[0m \u001b[0;34m\"cosine\"\u001b[0m\u001b[0;34m,\u001b[0m \u001b[0mweights\u001b[0m \u001b[0;34m=\u001b[0m \u001b[0;34m\"uniform\"\u001b[0m\u001b[0;34m)\u001b[0m\u001b[0;34m\u001b[0m\u001b[0;34m\u001b[0m\u001b[0m\n\u001b[0m",
      "\u001b[0;32m/usr/local/lib/python3.7/site-packages/sklearn/neighbors/classification.py\u001b[0m in \u001b[0;36m__init__\u001b[0;34m(self, n_neighbors, weights, algorithm, leaf_size, p, metric, metric_params, n_jobs, **kwargs)\u001b[0m\n\u001b[1;32m    128\u001b[0m             \u001b[0mleaf_size\u001b[0m\u001b[0;34m=\u001b[0m\u001b[0mleaf_size\u001b[0m\u001b[0;34m,\u001b[0m \u001b[0mmetric\u001b[0m\u001b[0;34m=\u001b[0m\u001b[0mmetric\u001b[0m\u001b[0;34m,\u001b[0m \u001b[0mp\u001b[0m\u001b[0;34m=\u001b[0m\u001b[0mp\u001b[0m\u001b[0;34m,\u001b[0m\u001b[0;34m\u001b[0m\u001b[0;34m\u001b[0m\u001b[0m\n\u001b[1;32m    129\u001b[0m             \u001b[0mmetric_params\u001b[0m\u001b[0;34m=\u001b[0m\u001b[0mmetric_params\u001b[0m\u001b[0;34m,\u001b[0m\u001b[0;34m\u001b[0m\u001b[0;34m\u001b[0m\u001b[0m\n\u001b[0;32m--> 130\u001b[0;31m             n_jobs=n_jobs, **kwargs)\n\u001b[0m\u001b[1;32m    131\u001b[0m         \u001b[0mself\u001b[0m\u001b[0;34m.\u001b[0m\u001b[0mweights\u001b[0m \u001b[0;34m=\u001b[0m \u001b[0m_check_weights\u001b[0m\u001b[0;34m(\u001b[0m\u001b[0mweights\u001b[0m\u001b[0;34m)\u001b[0m\u001b[0;34m\u001b[0m\u001b[0;34m\u001b[0m\u001b[0m\n\u001b[1;32m    132\u001b[0m \u001b[0;34m\u001b[0m\u001b[0m\n",
      "\u001b[0;32m/usr/local/lib/python3.7/site-packages/sklearn/neighbors/base.py\u001b[0m in \u001b[0;36m__init__\u001b[0;34m(self, n_neighbors, radius, algorithm, leaf_size, metric, p, metric_params, n_jobs)\u001b[0m\n\u001b[1;32m    119\u001b[0m         \u001b[0mself\u001b[0m\u001b[0;34m.\u001b[0m\u001b[0mp\u001b[0m \u001b[0;34m=\u001b[0m \u001b[0mp\u001b[0m\u001b[0;34m\u001b[0m\u001b[0;34m\u001b[0m\u001b[0m\n\u001b[1;32m    120\u001b[0m         \u001b[0mself\u001b[0m\u001b[0;34m.\u001b[0m\u001b[0mn_jobs\u001b[0m \u001b[0;34m=\u001b[0m \u001b[0mn_jobs\u001b[0m\u001b[0;34m\u001b[0m\u001b[0;34m\u001b[0m\u001b[0m\n\u001b[0;32m--> 121\u001b[0;31m         \u001b[0mself\u001b[0m\u001b[0;34m.\u001b[0m\u001b[0m_check_algorithm_metric\u001b[0m\u001b[0;34m(\u001b[0m\u001b[0;34m)\u001b[0m\u001b[0;34m\u001b[0m\u001b[0;34m\u001b[0m\u001b[0m\n\u001b[0m\u001b[1;32m    122\u001b[0m \u001b[0;34m\u001b[0m\u001b[0m\n\u001b[1;32m    123\u001b[0m     \u001b[0;32mdef\u001b[0m \u001b[0m_check_algorithm_metric\u001b[0m\u001b[0;34m(\u001b[0m\u001b[0mself\u001b[0m\u001b[0;34m)\u001b[0m\u001b[0;34m:\u001b[0m\u001b[0;34m\u001b[0m\u001b[0;34m\u001b[0m\u001b[0m\n",
      "\u001b[0;32m/usr/local/lib/python3.7/site-packages/sklearn/neighbors/base.py\u001b[0m in \u001b[0;36m_check_algorithm_metric\u001b[0;34m(self)\u001b[0m\n\u001b[1;32m    148\u001b[0m                              \u001b[0;34m\"to get valid options. \"\u001b[0m\u001b[0;34m\u001b[0m\u001b[0;34m\u001b[0m\u001b[0m\n\u001b[1;32m    149\u001b[0m                              \u001b[0;34m\"Metric can also be a callable function.\"\u001b[0m\u001b[0;34m\u001b[0m\u001b[0;34m\u001b[0m\u001b[0m\n\u001b[0;32m--> 150\u001b[0;31m                              % (self.metric, alg_check))\n\u001b[0m\u001b[1;32m    151\u001b[0m \u001b[0;34m\u001b[0m\u001b[0m\n\u001b[1;32m    152\u001b[0m         \u001b[0;32mif\u001b[0m \u001b[0mself\u001b[0m\u001b[0;34m.\u001b[0m\u001b[0mmetric_params\u001b[0m \u001b[0;32mis\u001b[0m \u001b[0;32mnot\u001b[0m \u001b[0;32mNone\u001b[0m \u001b[0;32mand\u001b[0m \u001b[0;34m'p'\u001b[0m \u001b[0;32min\u001b[0m \u001b[0mself\u001b[0m\u001b[0;34m.\u001b[0m\u001b[0mmetric_params\u001b[0m\u001b[0;34m:\u001b[0m\u001b[0;34m\u001b[0m\u001b[0;34m\u001b[0m\u001b[0m\n",
      "\u001b[0;31mValueError\u001b[0m: Metric 'cosine' not valid. Use sorted(sklearn.neighbors.VALID_METRICS['kd_tree']) to get valid options. Metric can also be a callable function."
     ]
    }
   ],
   "source": [
    "model = sKNN(n_neighbors = 5, algorithm = \"kd_tree\", metric = \"cosine\", weights = \"uniform\")"
   ]
  },
  {
   "cell_type": "code",
   "execution_count": 103,
   "metadata": {},
   "outputs": [
    {
     "name": "stdout",
     "output_type": "stream",
     "text": [
      "fit_other\n"
     ]
    }
   ],
   "source": [
    "model.fit(trX, trY)"
   ]
  },
  {
   "cell_type": "code",
   "execution_count": 104,
   "metadata": {},
   "outputs": [
    {
     "name": "stdout",
     "output_type": "stream",
     "text": [
      "predict_other\n"
     ]
    }
   ],
   "source": [
    "res_1 = model.predict(teX)"
   ]
  },
  {
   "cell_type": "code",
   "execution_count": 105,
   "metadata": {},
   "outputs": [
    {
     "data": {
      "text/plain": [
       "0.9628571428571429"
      ]
     },
     "execution_count": 105,
     "metadata": {},
     "output_type": "execute_result"
    }
   ],
   "source": [
    "accuracy_score(teY, res_1)"
   ]
  },
  {
   "cell_type": "code",
   "execution_count": 106,
   "metadata": {},
   "outputs": [
    {
     "name": "stdout",
     "output_type": "stream",
     "text": [
      "brute\n"
     ]
    }
   ],
   "source": [
    "model_2 = KNNClassifier(5, \"brute\", \"euclidean\", False)"
   ]
  },
  {
   "cell_type": "code",
   "execution_count": 107,
   "metadata": {},
   "outputs": [
    {
     "name": "stdout",
     "output_type": "stream",
     "text": [
      "fit_other\n"
     ]
    }
   ],
   "source": [
    "model_2.fit(trX, trY)"
   ]
  },
  {
   "cell_type": "code",
   "execution_count": 108,
   "metadata": {},
   "outputs": [
    {
     "name": "stdout",
     "output_type": "stream",
     "text": [
      "predict_other\n"
     ]
    }
   ],
   "source": [
    "res_2 = model_2.predict(teX)"
   ]
  },
  {
   "cell_type": "code",
   "execution_count": 109,
   "metadata": {},
   "outputs": [
    {
     "data": {
      "text/plain": [
       "0.9628571428571429"
      ]
     },
     "execution_count": 109,
     "metadata": {},
     "output_type": "execute_result"
    }
   ],
   "source": [
    "accuracy_score(teY, res_2)"
   ]
  },
  {
   "cell_type": "code",
   "execution_count": null,
   "metadata": {},
   "outputs": [],
   "source": []
  }
 ],
 "metadata": {
  "kernelspec": {
   "display_name": "Python 3",
   "language": "python",
   "name": "python3"
  },
  "language_info": {
   "codemirror_mode": {
    "name": "ipython",
    "version": 3
   },
   "file_extension": ".py",
   "mimetype": "text/x-python",
   "name": "python",
   "nbconvert_exporter": "python",
   "pygments_lexer": "ipython3",
   "version": "3.7.4"
  }
 },
 "nbformat": 4,
 "nbformat_minor": 2
}
