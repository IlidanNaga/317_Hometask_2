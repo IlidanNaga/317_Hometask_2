{
 "cells": [
  {
   "cell_type": "code",
   "execution_count": 7,
   "metadata": {},
   "outputs": [],
   "source": [
    "import numpy as np"
   ]
  },
  {
   "cell_type": "code",
   "execution_count": 13,
   "metadata": {},
   "outputs": [
    {
     "data": {
      "text/plain": [
       "(array([[1, 1, 1, 1],\n",
       "        [2, 2, 2, 2],\n",
       "        [3, 3, 3, 3],\n",
       "        [4, 4, 4, 4]]), array([[0.2 , 0.  , 0.3 , 0.1 ],\n",
       "        [0.1 , 0.  , 0.2 , 0.  ],\n",
       "        [0.05, 0.  , 0.  , 0.  ],\n",
       "        [0.  , 0.  , 0.  , 0.05]]))"
      ]
     },
     "execution_count": 13,
     "metadata": {},
     "output_type": "execute_result"
    }
   ],
   "source": [
    "values = np.array([ [1, 1, 1, 1], [2, 2, 2, 2], [3, 3, 3, 3], [4, 4, 4, 4] ])\n",
    "chance = np.array([ [0.2, 0, 0.3, 0.1], [0.1, 0, 0.2, 0], [0.05, 0, 0, 0], [0, 0, 0, 0.05] ])\n",
    "h = 3\n",
    "w = 3\n",
    "values, chance"
   ]
  },
  {
   "cell_type": "code",
   "execution_count": 14,
   "metadata": {},
   "outputs": [
    {
     "data": {
      "text/plain": [
       "array([[0.  , 0.  , 0.  , 0.  , 0.  , 0.  ],\n",
       "       [0.  , 0.  , 0.  , 0.  , 0.  , 0.  ],\n",
       "       [0.  , 0.  , 0.2 , 0.  , 0.3 , 0.1 ],\n",
       "       [0.  , 0.  , 0.1 , 0.  , 0.2 , 0.  ],\n",
       "       [0.  , 0.  , 0.05, 0.  , 0.  , 0.  ],\n",
       "       [0.  , 0.  , 0.  , 0.  , 0.  , 0.05]])"
      ]
     },
     "execution_count": 14,
     "metadata": {},
     "output_type": "execute_result"
    }
   ],
   "source": [
    "sub_matric = np.zeros([chance.shape[0] + h - 1, chance.shape[1] + w - 1])\n",
    "sub_matric[h-1:, w - 1:] += chance\n",
    "sub_matric"
   ]
  },
  {
   "cell_type": "code",
   "execution_count": 15,
   "metadata": {},
   "outputs": [],
   "source": [
    "sub_shape = (h, w)\n",
    "view_shape = tuple(np.subtract(sub_matric.shape, sub_shape) + 1) + sub_shape\n",
    "view = np.lib.stride_tricks.as_strided(sub_matric, view_shape, sub_matric.strides * 2)\n",
    "view = view.reshape((-1, ) + sub_shape)"
   ]
  },
  {
   "cell_type": "code",
   "execution_count": 16,
   "metadata": {},
   "outputs": [
    {
     "data": {
      "text/plain": [
       "array([[0.2 , 0.2 , 0.5 , 0.4 ],\n",
       "       [0.3 , 0.3 , 0.8 , 0.6 ],\n",
       "       [0.35, 0.35, 0.85, 0.6 ],\n",
       "       [0.15, 0.15, 0.35, 0.25]])"
      ]
     },
     "execution_count": 16,
     "metadata": {},
     "output_type": "execute_result"
    }
   ],
   "source": [
    "result = arr_view.sum(axis = 1).sum(axis = 1).reshape(4, 4)\n",
    "result"
   ]
  },
  {
   "cell_type": "code",
   "execution_count": 17,
   "metadata": {},
   "outputs": [
    {
     "data": {
      "text/plain": [
       "array([[0.2 , 0.  , 0.3 , 0.1 ],\n",
       "       [0.1 , 0.  , 0.2 , 0.  ],\n",
       "       [0.05, 0.  , 0.  , 0.  ],\n",
       "       [0.  , 0.  , 0.  , 0.05]])"
      ]
     },
     "execution_count": 17,
     "metadata": {},
     "output_type": "execute_result"
    }
   ],
   "source": [
    "chance"
   ]
  },
  {
   "cell_type": "code",
   "execution_count": null,
   "metadata": {},
   "outputs": [],
   "source": []
  }
 ],
 "metadata": {
  "kernelspec": {
   "display_name": "Python 3",
   "language": "python",
   "name": "python3"
  },
  "language_info": {
   "codemirror_mode": {
    "name": "ipython",
    "version": 3
   },
   "file_extension": ".py",
   "mimetype": "text/x-python",
   "name": "python",
   "nbconvert_exporter": "python",
   "pygments_lexer": "ipython3",
   "version": "3.7.4"
  }
 },
 "nbformat": 4,
 "nbformat_minor": 2
}
