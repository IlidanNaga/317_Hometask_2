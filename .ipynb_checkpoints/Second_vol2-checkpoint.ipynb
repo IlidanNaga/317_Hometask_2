{
 "cells": [
  {
   "cell_type": "code",
   "execution_count": 1,
   "metadata": {},
   "outputs": [],
   "source": [
    "import numpy as np\n"
   ]
  },
  {
   "cell_type": "code",
   "execution_count": 2,
   "metadata": {},
   "outputs": [
    {
     "data": {
      "text/plain": [
       "(array([[1, 1, 1, 1],\n",
       "        [2, 2, 2, 2],\n",
       "        [3, 3, 3, 3],\n",
       "        [4, 4, 4, 4]]), array([[0.2 , 0.  , 0.3 , 0.1 ],\n",
       "        [0.1 , 0.  , 0.2 , 0.  ],\n",
       "        [0.05, 0.  , 0.  , 0.  ],\n",
       "        [0.  , 0.  , 0.  , 0.05]]))"
      ]
     },
     "execution_count": 2,
     "metadata": {},
     "output_type": "execute_result"
    }
   ],
   "source": [
    "values = np.array([ [1, 1, 1, 1], [2, 2, 2, 2], [3, 3, 3, 3], [4, 4, 4, 4] ])\n",
    "chance = np.array([ [0.2, 0, 0.3, 0.1], [0.1, 0, 0.2, 0], [0.05, 0, 0, 0], [0, 0, 0, 0.05] ])\n",
    "h = 2\n",
    "w = 2\n",
    "values, chance"
   ]
  },
  {
   "cell_type": "code",
   "execution_count": 3,
   "metadata": {},
   "outputs": [],
   "source": [
    "def first_rec(matrix, left):\n",
    "    current = np.roll(chance, left, axis = 0)\n",
    "    current[0:left] = 0\n",
    "    matrix += current\n",
    "    if left + 1 < h:\n",
    "        matrix = first_rec(matrix, left + 1)\n",
    "    \n",
    "    return matrix\n",
    "\n",
    "def second_rec(matrix, left):\n",
    "    current = np.roll(matrix, left, axis = 1)\n",
    "    current.T[0:left] = 0\n",
    "    matrix += current\n",
    "    if left + 1< w:\n",
    "        matrix = second_rec(matrix, left + 1)\n",
    "        \n",
    "    return matrix"
   ]
  },
  {
   "cell_type": "code",
   "execution_count": 4,
   "metadata": {},
   "outputs": [
    {
     "data": {
      "text/plain": [
       "array([[0.2 , 0.  , 0.3 , 0.1 ],\n",
       "       [0.1 , 0.  , 0.2 , 0.  ],\n",
       "       [0.05, 0.  , 0.  , 0.  ],\n",
       "       [0.  , 0.  , 0.  , 0.05]])"
      ]
     },
     "execution_count": 4,
     "metadata": {},
     "output_type": "execute_result"
    }
   ],
   "source": [
    "result = np.copy(chance)\n",
    "result"
   ]
  },
  {
   "cell_type": "code",
   "execution_count": 5,
   "metadata": {},
   "outputs": [
    {
     "data": {
      "text/plain": [
       "array([[0.2 , 0.2 , 0.5 , 0.6 ],\n",
       "       [0.3 , 0.3 , 0.8 , 0.9 ],\n",
       "       [0.35, 0.35, 0.85, 0.95],\n",
       "       [0.15, 0.15, 0.35, 0.4 ]])"
      ]
     },
     "execution_count": 5,
     "metadata": {},
     "output_type": "execute_result"
    }
   ],
   "source": [
    "result = first_rec(result, 1)\n",
    "result = second_rec(result, 1)\n",
    "\n",
    "result"
   ]
  },
  {
   "cell_type": "code",
   "execution_count": 38,
   "metadata": {},
   "outputs": [
    {
     "name": "stdout",
     "output_type": "stream",
     "text": [
      "[[0.   0.   0.   0.  ]\n",
      " [0.2  0.   0.3  0.1 ]\n",
      " [0.1  0.   0.2  0.  ]\n",
      " [0.05 0.   0.   0.  ]]\n",
      "[[0.  0.  0.  0. ]\n",
      " [0.  0.  0.  0. ]\n",
      " [0.2 0.  0.3 0.1]\n",
      " [0.1 0.  0.2 0. ]]\n"
     ]
    }
   ],
   "source": [
    "for i in range(h - 1):\n",
    "    current = np.roll(chance, i + 1, axis = 0)\n",
    "    current[0:i+1] = 0\n",
    "    #print(current)\n",
    "    result += current\n",
    "    \n",
    "for i in range(w - 1):\n",
    "    current = np.roll(result, i + 1, axis = 1)\n",
    "    current.T[0:i+1] = 0\n",
    "    result += current\n",
    "    #print(result)\n",
    "    \n",
    "#print(result)"
   ]
  },
  {
   "cell_type": "code",
   "execution_count": 39,
   "metadata": {},
   "outputs": [
    {
     "data": {
      "text/plain": [
       "array([[0.2 , 0.2 , 0.3 , 0.4 ],\n",
       "       [0.6 , 0.6 , 1.  , 1.2 ],\n",
       "       [1.05, 1.05, 1.5 , 1.8 ],\n",
       "       [0.6 , 0.6 , 0.8 , 1.  ]])"
      ]
     },
     "execution_count": 39,
     "metadata": {},
     "output_type": "execute_result"
    }
   ],
   "source": [
    "result * values"
   ]
  },
  {
   "cell_type": "code",
   "execution_count": 40,
   "metadata": {},
   "outputs": [
    {
     "data": {
      "text/plain": [
       "array([[0.2 , 0.2 , 0.3 , 0.4 ],\n",
       "       [0.3 , 0.3 , 0.5 , 0.6 ],\n",
       "       [0.35, 0.35, 0.5 , 0.6 ],\n",
       "       [0.15, 0.15, 0.2 , 0.25]])"
      ]
     },
     "execution_count": 40,
     "metadata": {},
     "output_type": "execute_result"
    }
   ],
   "source": [
    "result"
   ]
  },
  {
   "cell_type": "code",
   "execution_count": null,
   "metadata": {},
   "outputs": [],
   "source": []
  }
 ],
 "metadata": {
  "kernelspec": {
   "display_name": "Python 3",
   "language": "python",
   "name": "python3"
  },
  "language_info": {
   "codemirror_mode": {
    "name": "ipython",
    "version": 3
   },
   "file_extension": ".py",
   "mimetype": "text/x-python",
   "name": "python",
   "nbconvert_exporter": "python",
   "pygments_lexer": "ipython3",
   "version": "3.7.4"
  }
 },
 "nbformat": 4,
 "nbformat_minor": 2
}
