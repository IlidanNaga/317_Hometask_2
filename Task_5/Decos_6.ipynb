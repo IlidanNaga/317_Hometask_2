{
 "cells": [
  {
   "cell_type": "code",
   "execution_count": 19,
   "metadata": {},
   "outputs": [],
   "source": [
    "import numpy as np\n",
    "import sys"
   ]
  },
  {
   "cell_type": "code",
   "execution_count": 20,
   "metadata": {},
   "outputs": [],
   "source": [
    "def update_wrapper(func1, func2):\n",
    "    func1.__module__ = func2.__module__\n",
    "    func1.__name__ = func2.__name__\n",
    "    func1.__doc__ = func2.__doc__\n",
    "    return func1\n",
    "\n",
    "def sub(f):\n",
    "    \n",
    "    args_am = f.__code__.co_argcount\n",
    "    args_saved = []\n",
    "\n",
    "    def wrapper_function(*args, **kwargs):\n",
    "        \n",
    "        print (sys._getframe().f_back.f_code.co_name)\n",
    "        \n",
    "        def inner_wrapper(*args, **kwargs):\n",
    "            \n",
    "            print (sys._getframe().f_back.f_code.co_name)\n",
    "            \n",
    "            print('here_inner')\n",
    "            inner_args = list()\n",
    "            \n",
    "            print(args_saved)\n",
    "            \n",
    "            if first_run:\n",
    "                inner_args = args_saved.copy()\n",
    "                first_run = False\n",
    "                \n",
    "            print(\"here\")\n",
    "            if args.__len__() > 0:\n",
    "                for item in args:\n",
    "                    inner_args.append(item)\n",
    "            \n",
    "            inner_am = inner_args.__len__()\n",
    "            \n",
    "            if inner_am == args_am:\n",
    "                return f(*inner_args)\n",
    "            elif inner_am > args_am:\n",
    "                raise TypeError\n",
    "                \n",
    "            return inner_wrapper\n",
    "        \n",
    "        if args.__len__() > 0:\n",
    "            for item in args:\n",
    "                args_saved.append(item)\n",
    "                \n",
    "        used_am = args_saved.__len__()\n",
    "        \n",
    "        if used_am == args_am:\n",
    "            return f(*args_saved)\n",
    "        elif used_am > args_am:\n",
    "            raise TypeError\n",
    "            \n",
    "        print(args_saved)\n",
    "            \n",
    "        # if we have to add more args\n",
    "        return inner_wrapper\n",
    "    \n",
    "        \n",
    "        print('here_outer')\n",
    "        first_run = True\n",
    "        \n",
    "    return update_wrapper(wrapper_function, f)\n",
    "        \n",
    "\n",
    "@sub\n",
    "def test_f(a, b, c, d):\n",
    "    return a + b + c + d"
   ]
  },
  {
   "cell_type": "code",
   "execution_count": 21,
   "metadata": {},
   "outputs": [
    {
     "name": "stdout",
     "output_type": "stream",
     "text": [
      "<module>\n",
      "[1, 2]\n",
      "<module>\n",
      "here_inner\n",
      "[1, 2]\n"
     ]
    },
    {
     "ename": "UnboundLocalError",
     "evalue": "local variable 'first_run' referenced before assignment",
     "output_type": "error",
     "traceback": [
      "\u001b[0;31m---------------------------------------------------------------------------\u001b[0m",
      "\u001b[0;31mUnboundLocalError\u001b[0m                         Traceback (most recent call last)",
      "\u001b[0;32m<ipython-input-21-f962b9197c32>\u001b[0m in \u001b[0;36m<module>\u001b[0;34m\u001b[0m\n\u001b[1;32m      5\u001b[0m \u001b[0;34m\u001b[0m\u001b[0m\n\u001b[1;32m      6\u001b[0m \u001b[0mg\u001b[0m \u001b[0;34m=\u001b[0m \u001b[0mf\u001b[0m\u001b[0;34m(\u001b[0m\u001b[0;36m1\u001b[0m\u001b[0;34m,\u001b[0m \u001b[0;36m2\u001b[0m\u001b[0;34m)\u001b[0m\u001b[0;34m\u001b[0m\u001b[0;34m\u001b[0m\u001b[0m\n\u001b[0;32m----> 7\u001b[0;31m \u001b[0mg\u001b[0m\u001b[0;34m(\u001b[0m\u001b[0;36m3\u001b[0m\u001b[0;34m)\u001b[0m\u001b[0;34m\u001b[0m\u001b[0;34m\u001b[0m\u001b[0m\n\u001b[0m\u001b[1;32m      8\u001b[0m \u001b[0mg\u001b[0m\u001b[0;34m(\u001b[0m\u001b[0;36m4\u001b[0m\u001b[0;34m)\u001b[0m\u001b[0;34m\u001b[0m\u001b[0;34m\u001b[0m\u001b[0m\n\u001b[1;32m      9\u001b[0m \u001b[0mg\u001b[0m\u001b[0;34m(\u001b[0m\u001b[0;36m5\u001b[0m\u001b[0;34m)\u001b[0m\u001b[0;34m\u001b[0m\u001b[0;34m\u001b[0m\u001b[0m\n",
      "\u001b[0;32m<ipython-input-20-82ca0cdb50cc>\u001b[0m in \u001b[0;36minner_wrapper\u001b[0;34m(*args, **kwargs)\u001b[0m\n\u001b[1;32m     23\u001b[0m             \u001b[0mprint\u001b[0m\u001b[0;34m(\u001b[0m\u001b[0margs_saved\u001b[0m\u001b[0;34m)\u001b[0m\u001b[0;34m\u001b[0m\u001b[0;34m\u001b[0m\u001b[0m\n\u001b[1;32m     24\u001b[0m \u001b[0;34m\u001b[0m\u001b[0m\n\u001b[0;32m---> 25\u001b[0;31m             \u001b[0;32mif\u001b[0m \u001b[0mfirst_run\u001b[0m\u001b[0;34m:\u001b[0m\u001b[0;34m\u001b[0m\u001b[0;34m\u001b[0m\u001b[0m\n\u001b[0m\u001b[1;32m     26\u001b[0m                 \u001b[0minner_args\u001b[0m \u001b[0;34m=\u001b[0m \u001b[0margs_saved\u001b[0m\u001b[0;34m.\u001b[0m\u001b[0mcopy\u001b[0m\u001b[0;34m(\u001b[0m\u001b[0;34m)\u001b[0m\u001b[0;34m\u001b[0m\u001b[0;34m\u001b[0m\u001b[0m\n\u001b[1;32m     27\u001b[0m                 \u001b[0mfirst_run\u001b[0m \u001b[0;34m=\u001b[0m \u001b[0;32mFalse\u001b[0m\u001b[0;34m\u001b[0m\u001b[0;34m\u001b[0m\u001b[0m\n",
      "\u001b[0;31mUnboundLocalError\u001b[0m: local variable 'first_run' referenced before assignment"
     ]
    }
   ],
   "source": [
    "@sub\n",
    "def f(x, y, z):\n",
    "    \"Some doc\"\n",
    "    print(x, y, z)\n",
    "\n",
    "g = f(1, 2)\n",
    "g(3)\n",
    "g(4)\n",
    "g(5)"
   ]
  },
  {
   "cell_type": "code",
   "execution_count": 36,
   "metadata": {},
   "outputs": [
    {
     "ename": "IndentationError",
     "evalue": "expected an indented block (<ipython-input-36-6c9583539b3d>, line 16)",
     "output_type": "error",
     "traceback": [
      "\u001b[0;36m  File \u001b[0;32m\"<ipython-input-36-6c9583539b3d>\"\u001b[0;36m, line \u001b[0;32m16\u001b[0m\n\u001b[0;31m    return f(*args, **kwargs)\u001b[0m\n\u001b[0m         ^\u001b[0m\n\u001b[0;31mIndentationError\u001b[0m\u001b[0;31m:\u001b[0m expected an indented block\n"
     ]
    }
   ],
   "source": [
    "crutch = []\n",
    "crutch_len = 0\n",
    "\n",
    "def update_wrapper(func1, func2):\n",
    "    func1.__module__ = func2.__module__\n",
    "    func1.__name__ = func2.__name__\n",
    "    func1.__doc__ = func2.__doc__\n",
    "    return func1\n",
    "\n",
    "def subst(f):\n",
    "    \n",
    "    args_am = f.__code__.co_argcount\n",
    "    args_saved = []\n",
    "    \n",
    "    def wrapper(*args, **kwargs):\n",
    "        \n",
    "        if args.__len__() == args_am:\n",
    "            return f(*args, **kwargs)\n",
    "        elif args.__lan__() > args_am:\n",
    "            raise TypeError\n",
    "            \n",
    "        used_args = []\n",
    "        \n",
    "        if args.__len__() != 0:\n",
    "            used_args += args\n",
    "        \n",
    "        len_left = args_am - used_args.__len__()\n",
    "        \n",
    "        def func(*args, **kwargs):\n",
    "            \n",
    "        \n",
    "        \n",
    "        return f(*args, **kwargs)\n",
    "    \n",
    "    return wrapper"
   ]
  },
  {
   "cell_type": "code",
   "execution_count": 53,
   "metadata": {},
   "outputs": [],
   "source": [
    "from functools import partial\n",
    "\n",
    "def update_wrapper(func1, func2):\n",
    "    func1.__module__ = func2.__module__\n",
    "    func1.__name__ = func2.__name__\n",
    "    func1.__doc__ = func2.__doc__\n",
    "    return func1\n",
    "\n",
    "def substitutive(f):\n",
    "    \n",
    "    args_am = f.__code__.co_argcount\n",
    "    \n",
    "    def wrapper(*args, **kwargs):\n",
    "    \n",
    "        if args.__len__() == args_am:\n",
    "            return f(*args, **kwargs)\n",
    "        elif args.__len__() > args_am:\n",
    "            raise TypeError\n",
    "            \n",
    "        used_args = []\n",
    "        \n",
    "        if args.__len__() != 0:\n",
    "            used_args += args\n",
    "        \n",
    "        return update_wrapper(partial(wrapper, *used_args), f)\n",
    "    \n",
    "    return update_wrapper(wrapper, f)\n",
    "    "
   ]
  },
  {
   "cell_type": "code",
   "execution_count": 55,
   "metadata": {},
   "outputs": [
    {
     "name": "stdout",
     "output_type": "stream",
     "text": [
      "1 2 3\n",
      "1 2 4\n",
      "1 2 5\n"
     ]
    }
   ],
   "source": [
    "@substitutive\n",
    "def f(x, y, z):\n",
    "    \"Some doc\"\n",
    "    print(x, y, z)\n",
    "\n",
    "g = f(1, 2)\n",
    "g(3)\n",
    "g(4)\n",
    "g(5)"
   ]
  },
  {
   "cell_type": "code",
   "execution_count": 47,
   "metadata": {},
   "outputs": [
    {
     "name": "stdout",
     "output_type": "stream",
     "text": [
      "1 2 3\n",
      "1 2 4\n",
      "1 2 5\n"
     ]
    }
   ],
   "source": [
    "g = f(1, 2)\n",
    "g(3)\n",
    "g(4)\n",
    "g(5)"
   ]
  },
  {
   "cell_type": "code",
   "execution_count": 38,
   "metadata": {},
   "outputs": [
    {
     "data": {
      "text/plain": [
       "[1, 2, 3, 4, 4]"
      ]
     },
     "execution_count": 38,
     "metadata": {},
     "output_type": "execute_result"
    }
   ],
   "source": []
  },
  {
   "cell_type": "code",
   "execution_count": null,
   "metadata": {},
   "outputs": [],
   "source": []
  }
 ],
 "metadata": {
  "kernelspec": {
   "display_name": "Python 3",
   "language": "python",
   "name": "python3"
  },
  "language_info": {
   "codemirror_mode": {
    "name": "ipython",
    "version": 3
   },
   "file_extension": ".py",
   "mimetype": "text/x-python",
   "name": "python",
   "nbconvert_exporter": "python",
   "pygments_lexer": "ipython3",
   "version": "3.7.4"
  }
 },
 "nbformat": 4,
 "nbformat_minor": 2
}
