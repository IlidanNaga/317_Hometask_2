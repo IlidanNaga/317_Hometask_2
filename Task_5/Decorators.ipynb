{
 "cells": [
  {
   "cell_type": "raw",
   "metadata": {},
   "source": [
    "Напишите декоратор @check_arguments, который будет проверять правильность типов входных позиционных аргументов функции. Декоратор принимает на вход типы аргументов и декорирует функцию таким образом, что она генеририрует исключение TypeError, если хотя бы один из аргументов имеет неверный тип. Типов может быть меньше чем аргументов, в этом случае проверяются типы только первых аргументов, для которых типы прописаны. Типов может быть больше чем аргументов, в этом случае необходимо вывести ошибку. Декоратор должен корректно обрабатывать функции с переменным числом аргументов. Декоратор не обязан корректно работать с функциями с именованными аргументами."
   ]
  },
  {
   "cell_type": "code",
   "execution_count": 15,
   "metadata": {},
   "outputs": [],
   "source": [
    "import functools"
   ]
  },
  {
   "cell_type": "code",
   "execution_count": 69,
   "metadata": {},
   "outputs": [],
   "source": [
    "def check_arguments(*types):\n",
    "    def my_decorator(f):\n",
    "        @functools.wraps(f)\n",
    "        def wrapper_function(*args):\n",
    "            if types is not None:\n",
    "                if args.__len__() < types.__len__():\n",
    "                    raise TypeError\n",
    "\n",
    "                for pos in range(types.__len__()):\n",
    "                    if not isinstance(args[pos], types[pos]):\n",
    "                        raise TypeError\n",
    "            return f(*args)\n",
    "        \n",
    "        return wrapper_function\n",
    "    \n",
    "    return my_decorator\n",
    "\n",
    "@check_arguments(int, int)\n",
    "def test_function(x : int, y : int ):\n",
    "    print(x)\n",
    "    print(y)"
   ]
  },
  {
   "cell_type": "code",
   "execution_count": 70,
   "metadata": {},
   "outputs": [
    {
     "ename": "TypeError",
     "evalue": "",
     "output_type": "error",
     "traceback": [
      "\u001b[0;31m---------------------------------------------------------------------------\u001b[0m",
      "\u001b[0;31mTypeError\u001b[0m                                 Traceback (most recent call last)",
      "\u001b[0;32m<ipython-input-70-d804d11dae87>\u001b[0m in \u001b[0;36m<module>\u001b[0;34m\u001b[0m\n\u001b[0;32m----> 1\u001b[0;31m \u001b[0mtest_function\u001b[0m\u001b[0;34m(\u001b[0m\u001b[0;34m'abc'\u001b[0m\u001b[0;34m,\u001b[0m \u001b[0;36m6\u001b[0m\u001b[0;34m)\u001b[0m\u001b[0;34m\u001b[0m\u001b[0;34m\u001b[0m\u001b[0m\n\u001b[0m",
      "\u001b[0;32m<ipython-input-69-f0065e70d7e3>\u001b[0m in \u001b[0;36mwrapper_function\u001b[0;34m(*args)\u001b[0m\n\u001b[1;32m      9\u001b[0m                 \u001b[0;32mfor\u001b[0m \u001b[0mpos\u001b[0m \u001b[0;32min\u001b[0m \u001b[0mrange\u001b[0m\u001b[0;34m(\u001b[0m\u001b[0mtypes\u001b[0m\u001b[0;34m.\u001b[0m\u001b[0m__len__\u001b[0m\u001b[0;34m(\u001b[0m\u001b[0;34m)\u001b[0m\u001b[0;34m)\u001b[0m\u001b[0;34m:\u001b[0m\u001b[0;34m\u001b[0m\u001b[0;34m\u001b[0m\u001b[0m\n\u001b[1;32m     10\u001b[0m                     \u001b[0;32mif\u001b[0m \u001b[0;32mnot\u001b[0m \u001b[0misinstance\u001b[0m\u001b[0;34m(\u001b[0m\u001b[0margs\u001b[0m\u001b[0;34m[\u001b[0m\u001b[0mpos\u001b[0m\u001b[0;34m]\u001b[0m\u001b[0;34m,\u001b[0m \u001b[0mtypes\u001b[0m\u001b[0;34m[\u001b[0m\u001b[0mpos\u001b[0m\u001b[0;34m]\u001b[0m\u001b[0;34m)\u001b[0m\u001b[0;34m:\u001b[0m\u001b[0;34m\u001b[0m\u001b[0;34m\u001b[0m\u001b[0m\n\u001b[0;32m---> 11\u001b[0;31m                         \u001b[0;32mraise\u001b[0m \u001b[0mTypeError\u001b[0m\u001b[0;34m\u001b[0m\u001b[0;34m\u001b[0m\u001b[0m\n\u001b[0m\u001b[1;32m     12\u001b[0m             \u001b[0;32mreturn\u001b[0m \u001b[0mf\u001b[0m\u001b[0;34m(\u001b[0m\u001b[0;34m*\u001b[0m\u001b[0margs\u001b[0m\u001b[0;34m)\u001b[0m\u001b[0;34m\u001b[0m\u001b[0;34m\u001b[0m\u001b[0m\n\u001b[1;32m     13\u001b[0m \u001b[0;34m\u001b[0m\u001b[0m\n",
      "\u001b[0;31mTypeError\u001b[0m: "
     ]
    }
   ],
   "source": [
    "test_function('abc', 6)"
   ]
  },
  {
   "cell_type": "raw",
   "metadata": {},
   "source": [
    "Напишите декоратор substitutive, который позволяет вызывать функцию от неполного множества аргументов. В этом случае аргументы, которые были переданы в функцию, фиксируются для использования в дальнейшем, а результатом функции будет функция от оставшихся аргументов. Декоратор должен работать корректно при любых вызовах функции с позиционными аргументами."
   ]
  },
  {
   "cell_type": "code",
   "execution_count": 242,
   "metadata": {},
   "outputs": [],
   "source": [
    "def substitutive(f):\n",
    "    def wrapper_function(*args, **kwargs):\n",
    "        #print(\"Func: \", f.__name__)\n",
    "        #print(\"Args: \", args, args.__len__())\n",
    "        #print(\"Kwargs: \", kwargs)\n",
    "        #print(\"All_args: \", arg_names)\n",
    "\n",
    "        for pos in range(args.__len__()):\n",
    "            if arg_names[pos] in kwargs.keys():\n",
    "                raise TypeError\n",
    "\n",
    "        needed_args = []\n",
    "        for pos in range(args.__len__(), arg_names.__len__()):\n",
    "            if arg_names[pos] not in kwargs.keys():\n",
    "                needed_args.append(arg_names[pos])\n",
    "\n",
    "        def f1(*extra_args):\n",
    "            if extra_args.__len__() != needed_args.__len__():\n",
    "                raise TypeError\n",
    "\n",
    "            list_args = list(args)\n",
    "            for item in extra_args:\n",
    "                list_args.append(item)\n",
    "\n",
    "            return f(*tuple(list_args), **kwargs)\n",
    "\n",
    "        return f1\n",
    "    \n",
    "    return wrapper_function\n",
    "\n",
    "@substitutive\n",
    "def test_function(a, b, c, d):\n",
    "    return a + b + c + d"
   ]
  },
  {
   "cell_type": "code",
   "execution_count": null,
   "metadata": {},
   "outputs": [],
   "source": []
  },
  {
   "cell_type": "code",
   "execution_count": 313,
   "metadata": {},
   "outputs": [
    {
     "name": "stdout",
     "output_type": "stream",
     "text": [
      "['a', 'b', 'c', 'd']\n",
      "['a' 'b' 'c' 'd']\n"
     ]
    }
   ],
   "source": [
    "from inspect import signature\n",
    "import numpy as np\n",
    "\n",
    "\n",
    "def substitutive(f):\n",
    "    \n",
    "    sig = signature(f)\n",
    "    \n",
    "    args_list = []\n",
    "    for item in sig.parameters:\n",
    "        args_list.append(item)\n",
    "        \n",
    "    print(args_list)\n",
    "    \n",
    "    args_am = args_list.__len__()\n",
    "    args_accordings = np.array(args_list)\n",
    "    print(args_accordings)\n",
    "    \n",
    "    def wrapper_function(*args, **kwargs):\n",
    "        \n",
    "        args_names_used = []\n",
    "        \n",
    "        for pos in range(args.__len__()):\n",
    "            # checking for double initialisation,\n",
    "            # keyword already cannot be set twice\n",
    "            if args_list[pos] in kwargs.keys():\n",
    "                raise TypeError\n",
    "        \n",
    "        for pos in range(args.__len__()):\n",
    "            # replacing args\n",
    "            args_accordings[pos] = args[pos]\n",
    "            args_names_used.append(args_list[pos])\n",
    "            \n",
    "        args_used = args.__len__()\n",
    "        for key in kwargs.keys():\n",
    "            # replacing kwargs\n",
    "            if key in args_list:\n",
    "                args_accordings[args_list.index(key)] = kwargs[key]\n",
    "                args_used += 1\n",
    "                args_names_used.append(key)\n",
    "            \n",
    "        \n",
    "        print(args_accordings)\n",
    "        print(args_used)\n",
    "        \n",
    "        args_not_used = [i for i in args_list if i not in args_names_used]\n",
    "        \n",
    "        print(args_not_used)\n",
    "        \n",
    "        def f1(*extra_args, **extra_kwargs):\n",
    "            pass\n",
    "        \n",
    "        return f1\n",
    "    \n",
    "    return wrapper_function\n",
    "            \n",
    "            \n",
    "@substitutive\n",
    "def test_function(a, b, c, d):\n",
    "    return a + b + c + d"
   ]
  },
  {
   "cell_type": "code",
   "execution_count": 612,
   "metadata": {},
   "outputs": [
    {
     "name": "stdout",
     "output_type": "stream",
     "text": [
      "['__class__', '__delattr__', '__dir__', '__doc__', '__eq__', '__format__', '__ge__', '__getattribute__', '__gt__', '__hash__', '__init__', '__init_subclass__', '__le__', '__lt__', '__ne__', '__new__', '__reduce__', '__reduce_ex__', '__repr__', '__setattr__', '__sizeof__', '__str__', '__subclasshook__', 'co_argcount', 'co_cellvars', 'co_code', 'co_consts', 'co_filename', 'co_firstlineno', 'co_flags', 'co_freevars', 'co_kwonlyargcount', 'co_lnotab', 'co_name', 'co_names', 'co_nlocals', 'co_stacksize', 'co_varnames']\n",
      "['__repr__', '__call__', '__get__', '__new__', '__closure__', '__doc__', '__globals__', '__module__', '__code__', '__defaults__', '__kwdefaults__', '__annotations__', '__dict__', '__name__', '__qualname__', '__hash__', '__str__', '__getattribute__', '__setattr__', '__delattr__', '__lt__', '__le__', '__eq__', '__ne__', '__gt__', '__ge__', '__init__', '__reduce_ex__', '__reduce__', '__subclasshook__', '__init_subclass__', '__format__', '__sizeof__', '__dir__', '__class__']\n",
      "4\n"
     ]
    },
    {
     "name": "stderr",
     "output_type": "stream",
     "text": [
      "/usr/local/lib/python3.7/site-packages/ipykernel_launcher.py:5: DeprecationWarning: inspect.getargspec() is deprecated since Python 3.0, use inspect.signature() or inspect.getfullargspec()\n",
      "  \"\"\"\n"
     ]
    }
   ],
   "source": [
    "from inspect import getargspec\n",
    "\n",
    "def substitutive(f):\n",
    "    \n",
    "    args_list = inspect.getargspec(f).args\n",
    "    print(dir(f.__code__))\n",
    "    print(f.__dir__())\n",
    "        \n",
    "    def wrapper_function(*args, **kwargs):\n",
    "        #print(\"Func: \", f.__name__)\n",
    "        #print(\"Args: \", args, args.__len__())\n",
    "        #print(\"Kwargs: \", kwargs)\n",
    "        #print(\"All_args: \", arg_names)\n",
    "\n",
    "        for pos in range(args.__len__()):\n",
    "            if args_list[pos] in kwargs.keys():\n",
    "                raise TypeError\n",
    "\n",
    "        needed_args = []\n",
    "        for pos in range(args.__len__(), args_list.__len__()):\n",
    "            if args_list[pos] not in kwargs.keys():\n",
    "                needed_args.append(args_list[pos])\n",
    "            \n",
    "        \n",
    "        if needed_args.__len__() == 0:\n",
    "            return f(*args, **kwargs)\n",
    "\n",
    "        def f1(*extra_args, **extra_kwargs):\n",
    "            \n",
    "            if extra_args.__len__() + \\\n",
    "               extra_kwargs.__len__() != needed_args.__len__():\n",
    "                raise TypeError\n",
    "                \n",
    "            for item in extra_args:\n",
    "                if item in extra_kwargs.keys():\n",
    "                    raise TypeError\n",
    "                    \n",
    "            args_list_now = list(args)\n",
    "            \n",
    "            for item in extra_args:\n",
    "                args_list_now.append(item)\n",
    "                \n",
    "            for key in kwargs.keys():\n",
    "                extra_kwargs[key] = kwargs[key]\n",
    "                \n",
    "            print(args_list_now)\n",
    "            print(args_list)\n",
    "            \n",
    "            for pos in range(args_list_now.__len__()):\n",
    "                extra_kwargs[args_list[pos]] = args_list_now[pos]\n",
    "                \n",
    "            return f(**extra_kwargs)\n",
    "            \n",
    "        return f1\n",
    "    \n",
    "    print(f.__code__.co_argcount)\n",
    "    \n",
    "    return wrapper_function\n",
    "\n",
    "@substitutive\n",
    "def test_function(a, b, c, d):\n",
    "    e = 1\n",
    "    return a + b + c + d"
   ]
  },
  {
   "cell_type": "code",
   "execution_count": 651,
   "metadata": {},
   "outputs": [],
   "source": [
    "def update_wrapper(func1, func2):\n",
    "    func1.__module__ = func2.__module__\n",
    "    func1.__name__ = func2.__name__\n",
    "    func1.__doc__ = func2.__doc__\n",
    "    return func1\n",
    "\n",
    "def sub(f):\n",
    "    \n",
    "    args_am = f.__code__.co_argcount\n",
    "    args_saved = []\n",
    "\n",
    "    def wrapper_function(*args, **kwargs):\n",
    "        \n",
    "        print('here_outer')\n",
    "        first_run = True\n",
    "        def inner_wrapper(*args, **kwargs):\n",
    "            \n",
    "            print('here_inner')\n",
    "            inner_args = list()\n",
    "            \n",
    "            if first_run:\n",
    "                inner_args = args_saved.copy()\n",
    "                first_run = False\n",
    "                \n",
    "            print(\"here\")\n",
    "            if args.__len__() > 0:\n",
    "                for item in args:\n",
    "                    inner_args.append(item)\n",
    "            \n",
    "            inner_am = inner_args.__len__()\n",
    "            \n",
    "            if inner_am == args_am:\n",
    "                return f(*inner_args)\n",
    "            elif inner_am > args_am:\n",
    "                raise TypeError\n",
    "                \n",
    "            return update_wrapper(inner_wrapper, f)\n",
    "        \n",
    "        if args.__len__() > 0:\n",
    "            for item in args:\n",
    "                args_saved.append(item)\n",
    "                \n",
    "        used_am = args_saved.__len__()\n",
    "        \n",
    "        if used_am == args_am:\n",
    "            return f(*args_saved)\n",
    "        elif used_am > args_am:\n",
    "            raise TypeError\n",
    "            \n",
    "        # if we have to add more args\n",
    "        return inner_wrapper\n",
    "    \n",
    "    return update_wrapper(wrapper_function, f)\n",
    "        \n",
    "\n",
    "@sub\n",
    "def test_f(a, b, c, d):\n",
    "    return a + b + c + d"
   ]
  },
  {
   "cell_type": "code",
   "execution_count": 652,
   "metadata": {},
   "outputs": [
    {
     "name": "stdout",
     "output_type": "stream",
     "text": [
      "here_outer\n",
      "here_inner\n"
     ]
    },
    {
     "ename": "UnboundLocalError",
     "evalue": "local variable 'first_run' referenced before assignment",
     "output_type": "error",
     "traceback": [
      "\u001b[0;31m---------------------------------------------------------------------------\u001b[0m",
      "\u001b[0;31mUnboundLocalError\u001b[0m                         Traceback (most recent call last)",
      "\u001b[0;32m<ipython-input-652-f962b9197c32>\u001b[0m in \u001b[0;36m<module>\u001b[0;34m\u001b[0m\n\u001b[1;32m      5\u001b[0m \u001b[0;34m\u001b[0m\u001b[0m\n\u001b[1;32m      6\u001b[0m \u001b[0mg\u001b[0m \u001b[0;34m=\u001b[0m \u001b[0mf\u001b[0m\u001b[0;34m(\u001b[0m\u001b[0;36m1\u001b[0m\u001b[0;34m,\u001b[0m \u001b[0;36m2\u001b[0m\u001b[0;34m)\u001b[0m\u001b[0;34m\u001b[0m\u001b[0;34m\u001b[0m\u001b[0m\n\u001b[0;32m----> 7\u001b[0;31m \u001b[0mg\u001b[0m\u001b[0;34m(\u001b[0m\u001b[0;36m3\u001b[0m\u001b[0;34m)\u001b[0m\u001b[0;34m\u001b[0m\u001b[0;34m\u001b[0m\u001b[0m\n\u001b[0m\u001b[1;32m      8\u001b[0m \u001b[0mg\u001b[0m\u001b[0;34m(\u001b[0m\u001b[0;36m4\u001b[0m\u001b[0;34m)\u001b[0m\u001b[0;34m\u001b[0m\u001b[0;34m\u001b[0m\u001b[0m\n\u001b[1;32m      9\u001b[0m \u001b[0mg\u001b[0m\u001b[0;34m(\u001b[0m\u001b[0;36m5\u001b[0m\u001b[0;34m)\u001b[0m\u001b[0;34m\u001b[0m\u001b[0;34m\u001b[0m\u001b[0m\n",
      "\u001b[0;32m<ipython-input-651-a1e69207adb7>\u001b[0m in \u001b[0;36minner_wrapper\u001b[0;34m(*args, **kwargs)\u001b[0m\n\u001b[1;32m     19\u001b[0m             \u001b[0minner_args\u001b[0m \u001b[0;34m=\u001b[0m \u001b[0mlist\u001b[0m\u001b[0;34m(\u001b[0m\u001b[0;34m)\u001b[0m\u001b[0;34m\u001b[0m\u001b[0;34m\u001b[0m\u001b[0m\n\u001b[1;32m     20\u001b[0m \u001b[0;34m\u001b[0m\u001b[0m\n\u001b[0;32m---> 21\u001b[0;31m             \u001b[0;32mif\u001b[0m \u001b[0mfirst_run\u001b[0m\u001b[0;34m:\u001b[0m\u001b[0;34m\u001b[0m\u001b[0;34m\u001b[0m\u001b[0m\n\u001b[0m\u001b[1;32m     22\u001b[0m                 \u001b[0minner_args\u001b[0m \u001b[0;34m=\u001b[0m \u001b[0margs_saved\u001b[0m\u001b[0;34m.\u001b[0m\u001b[0mcopy\u001b[0m\u001b[0;34m(\u001b[0m\u001b[0;34m)\u001b[0m\u001b[0;34m\u001b[0m\u001b[0;34m\u001b[0m\u001b[0m\n\u001b[1;32m     23\u001b[0m                 \u001b[0mfirst_run\u001b[0m \u001b[0;34m=\u001b[0m \u001b[0;32mFalse\u001b[0m\u001b[0;34m\u001b[0m\u001b[0;34m\u001b[0m\u001b[0m\n",
      "\u001b[0;31mUnboundLocalError\u001b[0m: local variable 'first_run' referenced before assignment"
     ]
    }
   ],
   "source": [
    "@sub\n",
    "def f(x, y, z):\n",
    "    \"Some doc\"\n",
    "    print(x, y, z)\n",
    "\n",
    "g = f(1, 2)\n",
    "g(3)\n",
    "g(4)\n",
    "g(5)"
   ]
  },
  {
   "cell_type": "raw",
   "metadata": {},
   "source": [
    "задумался над словами риты про проверку пустоты списка - думаю, зачем это вообще может быть нужно и где это можно проверять\n",
    "учитывая то, что в их тестах не работают функции из python 3.0, наверное надо почитать мануалы по python 2"
   ]
  },
  {
   "cell_type": "code",
   "execution_count": 360,
   "metadata": {},
   "outputs": [
    {
     "name": "stderr",
     "output_type": "stream",
     "text": [
      "/usr/local/lib/python3.7/site-packages/ipykernel_launcher.py:5: DeprecationWarning: inspect.getargspec() is deprecated since Python 3.0, use inspect.signature() or inspect.getfullargspec()\n",
      "  \"\"\"\n"
     ]
    }
   ],
   "source": [
    "hmm = test_function(1, 2)"
   ]
  },
  {
   "cell_type": "code",
   "execution_count": 361,
   "metadata": {},
   "outputs": [
    {
     "ename": "IndexError",
     "evalue": "list index out of range",
     "output_type": "error",
     "traceback": [
      "\u001b[0;31m---------------------------------------------------------------------------\u001b[0m",
      "\u001b[0;31mIndexError\u001b[0m                                Traceback (most recent call last)",
      "\u001b[0;32m<ipython-input-361-36c626aed20a>\u001b[0m in \u001b[0;36m<module>\u001b[0;34m\u001b[0m\n\u001b[0;32m----> 1\u001b[0;31m \u001b[0mhmm\u001b[0m\u001b[0;34m(\u001b[0m\u001b[0;36m3\u001b[0m\u001b[0;34m)\u001b[0m\u001b[0;34m\u001b[0m\u001b[0;34m\u001b[0m\u001b[0m\n\u001b[0m",
      "\u001b[0;32m<ipython-input-359-f12d6d7ab201>\u001b[0m in \u001b[0;36mwrapper_function\u001b[0;34m(*args, **kwargs)\u001b[0m\n\u001b[1;32m     12\u001b[0m \u001b[0;34m\u001b[0m\u001b[0m\n\u001b[1;32m     13\u001b[0m         \u001b[0;32mfor\u001b[0m \u001b[0mpos\u001b[0m \u001b[0;32min\u001b[0m \u001b[0mrange\u001b[0m\u001b[0;34m(\u001b[0m\u001b[0margs\u001b[0m\u001b[0;34m.\u001b[0m\u001b[0m__len__\u001b[0m\u001b[0;34m(\u001b[0m\u001b[0;34m)\u001b[0m\u001b[0;34m)\u001b[0m\u001b[0;34m:\u001b[0m\u001b[0;34m\u001b[0m\u001b[0;34m\u001b[0m\u001b[0m\n\u001b[0;32m---> 14\u001b[0;31m             \u001b[0;32mif\u001b[0m \u001b[0margs_list\u001b[0m\u001b[0;34m[\u001b[0m\u001b[0mpos\u001b[0m\u001b[0;34m]\u001b[0m \u001b[0;32min\u001b[0m \u001b[0mkwargs\u001b[0m\u001b[0;34m.\u001b[0m\u001b[0mkeys\u001b[0m\u001b[0;34m(\u001b[0m\u001b[0;34m)\u001b[0m\u001b[0;34m:\u001b[0m\u001b[0;34m\u001b[0m\u001b[0;34m\u001b[0m\u001b[0m\n\u001b[0m\u001b[1;32m     15\u001b[0m                 \u001b[0;32mraise\u001b[0m \u001b[0mTypeError\u001b[0m\u001b[0;34m\u001b[0m\u001b[0;34m\u001b[0m\u001b[0m\n\u001b[1;32m     16\u001b[0m \u001b[0;34m\u001b[0m\u001b[0m\n",
      "\u001b[0;31mIndexError\u001b[0m: list index out of range"
     ]
    }
   ],
   "source": [
    "hmm(3)"
   ]
  },
  {
   "cell_type": "code",
   "execution_count": 563,
   "metadata": {},
   "outputs": [],
   "source": [
    "def substit(f):\n",
    "\n",
    "    args_list = inspect.getfullargspec(f).args\n",
    "    args_used = []\n",
    "    \n",
    "    args_new = []\n",
    "    #print('here_1')\n",
    "    \n",
    "    def f2(*extra_args_2):\n",
    "        args_new.clear()\n",
    "        #print(\"here_3\")\n",
    "\n",
    "        def f1(*extra_args_1):\n",
    "            #print('here_4')\n",
    "\n",
    "            for item in extra_args_1:\n",
    "                args_new.append(item)\n",
    "\n",
    "            if args_new.__len__() + args_used.__len__() == args_list.__len__():\n",
    "                res_args = []\n",
    "                for item in args_used:\n",
    "                    res_args.append(item)\n",
    "\n",
    "                for item in args_new:\n",
    "                    res_args.append(item)\n",
    "                args_new.clear()\n",
    "                return f(*res_args)\n",
    "            elif args_used.__len__() + args_new.__len__() > args_list.__len__():\n",
    "                raise TypeError\n",
    "                \n",
    "            return f1\n",
    "\n",
    "        return f1(*extra_args_2)\n",
    "      \n",
    "    \n",
    "    def wrapper_function(*args, **kwargs):\n",
    "        \n",
    "        if args.__len__() == args_list.__len__():\n",
    "            return f(*args)\n",
    "            \n",
    "        args_used.clear()\n",
    "        args_new.clear()\n",
    "        \n",
    "        for item in args:\n",
    "            args_used.append(item)\n",
    "            \n",
    "        #print(args_used)\n",
    "        \n",
    "        return f2\n",
    "    \n",
    "    return wrapper_function\n",
    "    \n",
    "@substit\n",
    "def f(x, y, z):\n",
    "    print(x, y, z)"
   ]
  },
  {
   "cell_type": "code",
   "execution_count": 564,
   "metadata": {},
   "outputs": [
    {
     "name": "stdout",
     "output_type": "stream",
     "text": [
      "1 2 3\n"
     ]
    }
   ],
   "source": [
    "try:\n",
    "    f(1, 2, 3)\n",
    "except Exception as e:\n",
    "    print(type(e).__name__)"
   ]
  },
  {
   "cell_type": "code",
   "execution_count": 546,
   "metadata": {},
   "outputs": [],
   "source": [
    "b = a(2)"
   ]
  },
  {
   "cell_type": "code",
   "execution_count": 547,
   "metadata": {},
   "outputs": [
    {
     "name": "stdout",
     "output_type": "stream",
     "text": [
      "1 2 3\n"
     ]
    }
   ],
   "source": [
    "b(3)"
   ]
  },
  {
   "cell_type": "code",
   "execution_count": 354,
   "metadata": {},
   "outputs": [
    {
     "name": "stderr",
     "output_type": "stream",
     "text": [
      "/usr/local/lib/python3.7/site-packages/ipykernel_launcher.py:5: DeprecationWarning: inspect.getargspec() is deprecated since Python 3.0, use inspect.signature() or inspect.getfullargspec()\n",
      "  \"\"\"\n"
     ]
    }
   ],
   "source": [
    "@substitutive\n",
    "def f(x, y, z):\n",
    "    print(x, y, z)"
   ]
  },
  {
   "cell_type": "code",
   "execution_count": 355,
   "metadata": {},
   "outputs": [
    {
     "name": "stdout",
     "output_type": "stream",
     "text": [
      "[]\n",
      "1 2 3\n"
     ]
    }
   ],
   "source": [
    "f(1, 2, 3)"
   ]
  },
  {
   "cell_type": "code",
   "execution_count": 346,
   "metadata": {},
   "outputs": [
    {
     "name": "stdout",
     "output_type": "stream",
     "text": [
      "[1, 4, 4, 5]\n",
      "['a', 'b', 'c', 'd']\n"
     ]
    },
    {
     "data": {
      "text/plain": [
       "14"
      ]
     },
     "execution_count": 346,
     "metadata": {},
     "output_type": "execute_result"
    }
   ],
   "source": [
    "hmm(4, 4, 5)"
   ]
  },
  {
   "cell_type": "code",
   "execution_count": 236,
   "metadata": {},
   "outputs": [],
   "source": [
    "from inspect import signature\n",
    "import inspect"
   ]
  },
  {
   "cell_type": "code",
   "execution_count": 250,
   "metadata": {},
   "outputs": [],
   "source": [
    "sig = signature(test_function)"
   ]
  },
  {
   "cell_type": "code",
   "execution_count": 251,
   "metadata": {},
   "outputs": [
    {
     "data": {
      "text/plain": [
       "'OrderedDict([(\\'args\\', <Parameter \"*args\">), (\\'kwargs\\', <Parameter \"**kwargs\">)])'"
      ]
     },
     "execution_count": 251,
     "metadata": {},
     "output_type": "execute_result"
    }
   ],
   "source": [
    "str(sig.parameters)"
   ]
  },
  {
   "cell_type": "code",
   "execution_count": 252,
   "metadata": {},
   "outputs": [
    {
     "data": {
      "text/plain": [
       "FullArgSpec(args=[], varargs='args', varkw='kwargs', defaults=None, kwonlyargs=[], kwonlydefaults=None, annotations={})"
      ]
     },
     "execution_count": 252,
     "metadata": {},
     "output_type": "execute_result"
    }
   ],
   "source": [
    "@substitutive\n",
    "def test_function(a, b, c, d):\n",
    "    return a + b + c + d\n",
    "\n",
    "inspect.getfullargspec(test_function)"
   ]
  },
  {
   "cell_type": "code",
   "execution_count": 246,
   "metadata": {},
   "outputs": [
    {
     "ename": "NameError",
     "evalue": "name 'arg_names' is not defined",
     "output_type": "error",
     "traceback": [
      "\u001b[0;31m---------------------------------------------------------------------------\u001b[0m",
      "\u001b[0;31mNameError\u001b[0m                                 Traceback (most recent call last)",
      "\u001b[0;32m<ipython-input-246-7e96d146b416>\u001b[0m in \u001b[0;36m<module>\u001b[0;34m\u001b[0m\n\u001b[0;32m----> 1\u001b[0;31m \u001b[0mtest_function\u001b[0m\u001b[0;34m(\u001b[0m\u001b[0;34m)\u001b[0m\u001b[0;34m\u001b[0m\u001b[0;34m\u001b[0m\u001b[0m\n\u001b[0m",
      "\u001b[0;32m<ipython-input-242-fd1831edc983>\u001b[0m in \u001b[0;36mwrapper_function\u001b[0;34m(*args, **kwargs)\u001b[0m\n\u001b[1;32m     11\u001b[0m \u001b[0;34m\u001b[0m\u001b[0m\n\u001b[1;32m     12\u001b[0m         \u001b[0mneeded_args\u001b[0m \u001b[0;34m=\u001b[0m \u001b[0;34m[\u001b[0m\u001b[0;34m]\u001b[0m\u001b[0;34m\u001b[0m\u001b[0;34m\u001b[0m\u001b[0m\n\u001b[0;32m---> 13\u001b[0;31m         \u001b[0;32mfor\u001b[0m \u001b[0mpos\u001b[0m \u001b[0;32min\u001b[0m \u001b[0mrange\u001b[0m\u001b[0;34m(\u001b[0m\u001b[0margs\u001b[0m\u001b[0;34m.\u001b[0m\u001b[0m__len__\u001b[0m\u001b[0;34m(\u001b[0m\u001b[0;34m)\u001b[0m\u001b[0;34m,\u001b[0m \u001b[0marg_names\u001b[0m\u001b[0;34m.\u001b[0m\u001b[0m__len__\u001b[0m\u001b[0;34m(\u001b[0m\u001b[0;34m)\u001b[0m\u001b[0;34m)\u001b[0m\u001b[0;34m:\u001b[0m\u001b[0;34m\u001b[0m\u001b[0;34m\u001b[0m\u001b[0m\n\u001b[0m\u001b[1;32m     14\u001b[0m             \u001b[0;32mif\u001b[0m \u001b[0marg_names\u001b[0m\u001b[0;34m[\u001b[0m\u001b[0mpos\u001b[0m\u001b[0;34m]\u001b[0m \u001b[0;32mnot\u001b[0m \u001b[0;32min\u001b[0m \u001b[0mkwargs\u001b[0m\u001b[0;34m.\u001b[0m\u001b[0mkeys\u001b[0m\u001b[0;34m(\u001b[0m\u001b[0;34m)\u001b[0m\u001b[0;34m:\u001b[0m\u001b[0;34m\u001b[0m\u001b[0;34m\u001b[0m\u001b[0m\n\u001b[1;32m     15\u001b[0m                 \u001b[0mneeded_args\u001b[0m\u001b[0;34m.\u001b[0m\u001b[0mappend\u001b[0m\u001b[0;34m(\u001b[0m\u001b[0marg_names\u001b[0m\u001b[0;34m[\u001b[0m\u001b[0mpos\u001b[0m\u001b[0;34m]\u001b[0m\u001b[0;34m)\u001b[0m\u001b[0;34m\u001b[0m\u001b[0;34m\u001b[0m\u001b[0m\n",
      "\u001b[0;31mNameError\u001b[0m: name 'arg_names' is not defined"
     ]
    }
   ],
   "source": [
    "test_function()"
   ]
  },
  {
   "cell_type": "code",
   "execution_count": 269,
   "metadata": {},
   "outputs": [],
   "source": [
    "test = {}\n",
    "test['1'] = 1\n",
    "test['2'] = 2"
   ]
  },
  {
   "cell_type": "code",
   "execution_count": 272,
   "metadata": {},
   "outputs": [],
   "source": [
    "test['3'] = 123"
   ]
  },
  {
   "cell_type": "code",
   "execution_count": 273,
   "metadata": {},
   "outputs": [
    {
     "data": {
      "text/plain": [
       "3"
      ]
     },
     "execution_count": 273,
     "metadata": {},
     "output_type": "execute_result"
    }
   ],
   "source": [
    "test.__len__()"
   ]
  },
  {
   "cell_type": "code",
   "execution_count": 277,
   "metadata": {},
   "outputs": [
    {
     "name": "stdout",
     "output_type": "stream",
     "text": [
      "1 1\n",
      "2 2\n",
      "3 123\n"
     ]
    }
   ],
   "source": [
    "for key in test.keys():\n",
    "    print(key, test[key])"
   ]
  },
  {
   "cell_type": "code",
   "execution_count": 283,
   "metadata": {},
   "outputs": [],
   "source": [
    "import numpy as np"
   ]
  },
  {
   "cell_type": "code",
   "execution_count": 291,
   "metadata": {},
   "outputs": [],
   "source": [
    "ar = np.array(['a', 'b', 'c'])"
   ]
  },
  {
   "cell_type": "code",
   "execution_count": 302,
   "metadata": {},
   "outputs": [
    {
     "data": {
      "text/plain": [
       "0"
      ]
     },
     "execution_count": 302,
     "metadata": {},
     "output_type": "execute_result"
    }
   ],
   "source": [
    "ar.tolist().index('a')"
   ]
  },
  {
   "cell_type": "code",
   "execution_count": 295,
   "metadata": {},
   "outputs": [
    {
     "data": {
      "text/plain": [
       "0"
      ]
     },
     "execution_count": 295,
     "metadata": {},
     "output_type": "execute_result"
    }
   ],
   "source": [
    "np.where(ar == 'a')[0][0]"
   ]
  },
  {
   "cell_type": "code",
   "execution_count": 306,
   "metadata": {},
   "outputs": [
    {
     "data": {
      "text/plain": [
       "['c', 'd']"
      ]
     },
     "execution_count": 306,
     "metadata": {},
     "output_type": "execute_result"
    }
   ],
   "source": [
    "l1 = ['a', 'b', 'c']\n",
    "l2 = ['a', 'b']\n",
    "\n",
    "[i for i in l1 + l2 if i not in l1 or i not in l2]"
   ]
  },
  {
   "cell_type": "code",
   "execution_count": null,
   "metadata": {},
   "outputs": [],
   "source": []
  }
 ],
 "metadata": {
  "kernelspec": {
   "display_name": "Python 3",
   "language": "python",
   "name": "python3"
  },
  "language_info": {
   "codemirror_mode": {
    "name": "ipython",
    "version": 3
   },
   "file_extension": ".py",
   "mimetype": "text/x-python",
   "name": "python",
   "nbconvert_exporter": "python",
   "pygments_lexer": "ipython3",
   "version": "3.7.4"
  }
 },
 "nbformat": 4,
 "nbformat_minor": 2
}
