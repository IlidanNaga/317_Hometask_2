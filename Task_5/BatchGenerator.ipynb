{
 "cells": [
  {
   "cell_type": "code",
   "execution_count": 2,
   "metadata": {},
   "outputs": [],
   "source": [
    "import numpy as np\n",
    "from random import shuffle\n",
    "from random import seed"
   ]
  },
  {
   "cell_type": "code",
   "execution_count": 84,
   "metadata": {},
   "outputs": [],
   "source": [
    "class BatchGenerator:\n",
    "    \n",
    "    def __init__(self, list_of_sequences, batch_size, shuffle = False):\n",
    "        \n",
    "        sequences = []\n",
    "        \n",
    "        for item in list_of_sequences:\n",
    "            if type(item) == list:\n",
    "                sequences.append(item)\n",
    "            else:\n",
    "                sequences.append(item.tolist())\n",
    "\n",
    "        self.shuffle = shuffle\n",
    "        \n",
    "        self.len = list_of_sequences[0].__len__()\n",
    "        \n",
    "        self.batch_am = int(self.len / batch_size)\n",
    "    \n",
    "        if self.batch_am != self.len / batch_size:\n",
    "            self.batch_am += 1\n",
    "            \n",
    "            \n",
    "        self.batched_sequences = []\n",
    "        \n",
    "        for val in range(self.batch_am):\n",
    "            \n",
    "            current_sequences = []\n",
    "            \n",
    "            for item in sequences:\n",
    "                \n",
    "                current_sequences.append(item[val * batch_size : (val + 1) * batch_size])\n",
    "                \n",
    "            self.batched_sequences.append(current_sequences)\n",
    "\n",
    "            \n",
    "    \n",
    "    def __iter__(self):\n",
    "        \n",
    "        self.batch_num = 0\n",
    "        \n",
    "        self.indexes = np.arange(self.batch_am)\n",
    "\n",
    "        if self.shuffle:\n",
    "            np.random.shuffle(self.indexes)\n",
    "        \n",
    "        return self\n",
    "    \n",
    "    def __next__(self):\n",
    "        \n",
    "        if self.batch_num < self.batch_am:\n",
    "            self.batch_num += 1\n",
    "            return self.batched_sequences[self.indexes[self.batch_num - 1]]\n",
    "        else:\n",
    "            raise StopIteration"
   ]
  },
  {
   "cell_type": "code",
   "execution_count": 35,
   "metadata": {},
   "outputs": [],
   "source": [
    "arr = np.arange(100)"
   ]
  },
  {
   "cell_type": "code",
   "execution_count": 28,
   "metadata": {},
   "outputs": [
    {
     "data": {
      "text/plain": [
       "array([39, 52, 70, 63, 97])"
      ]
     },
     "execution_count": 28,
     "metadata": {},
     "output_type": "execute_result"
    }
   ],
   "source": [
    "arr[95:105]"
   ]
  },
  {
   "cell_type": "code",
   "execution_count": 19,
   "metadata": {},
   "outputs": [],
   "source": [
    "np.random.shuffle(arr)"
   ]
  },
  {
   "cell_type": "code",
   "execution_count": 20,
   "metadata": {},
   "outputs": [
    {
     "data": {
      "text/plain": [
       "array([23, 92, 22, 80, 79, 19,  2, 21, 42, 60, 58, 25, 73, 83, 44, 85, 40,\n",
       "       12, 75,  4,  7, 78,  3, 51, 95,  0, 26, 43, 32, 29, 67, 24, 46, 13,\n",
       "       47, 64, 48, 31,  6, 99, 96, 93, 10, 27, 81, 33,  9, 90, 55, 69, 61,\n",
       "       65, 82, 41, 38, 89, 56, 11, 53, 49, 20, 14, 77, 86, 35, 76, 87, 16,\n",
       "       68, 71, 84,  8, 18,  1, 36, 72,  5, 98, 28, 74, 50, 88, 91, 34, 30,\n",
       "       17, 15, 54, 66, 37, 62, 94, 45, 57, 59, 39, 52, 70, 63, 97])"
      ]
     },
     "execution_count": 20,
     "metadata": {},
     "output_type": "execute_result"
    }
   ],
   "source": [
    "arr"
   ]
  },
  {
   "cell_type": "code",
   "execution_count": 25,
   "metadata": {},
   "outputs": [
    {
     "data": {
      "text/plain": [
       "9"
      ]
     },
     "execution_count": 25,
     "metadata": {},
     "output_type": "execute_result"
    }
   ],
   "source": [
    "int(99/10)"
   ]
  },
  {
   "cell_type": "code",
   "execution_count": 26,
   "metadata": {},
   "outputs": [
    {
     "data": {
      "text/plain": [
       "True"
      ]
     },
     "execution_count": 26,
     "metadata": {},
     "output_type": "execute_result"
    }
   ],
   "source": [
    "9.0 == 9"
   ]
  },
  {
   "cell_type": "code",
   "execution_count": 91,
   "metadata": {},
   "outputs": [],
   "source": [
    "test_list = [[1, 2, 3, 5, 1, 'a'], [0, 0, 1, 1, 0, 1], np.arange(6)]"
   ]
  },
  {
   "cell_type": "code",
   "execution_count": 92,
   "metadata": {},
   "outputs": [],
   "source": [
    "bg = BatchGenerator(test_list, 2)"
   ]
  },
  {
   "cell_type": "code",
   "execution_count": 93,
   "metadata": {},
   "outputs": [
    {
     "name": "stdout",
     "output_type": "stream",
     "text": [
      "[[1, 2], [0, 0], [0, 1]]\n",
      "[[3, 5], [1, 1], [2, 3]]\n",
      "[[1, 'a'], [0, 1], [4, 5]]\n"
     ]
    }
   ],
   "source": [
    "for elem in bg:\n",
    "    print(elem)"
   ]
  },
  {
   "cell_type": "code",
   "execution_count": 39,
   "metadata": {},
   "outputs": [],
   "source": [
    "arr = np.arange(10).tolist()"
   ]
  },
  {
   "cell_type": "code",
   "execution_count": 42,
   "metadata": {},
   "outputs": [
    {
     "data": {
      "text/plain": [
       "[0, 1, 2, 3, 4, 5, 6, 7, 8, 9]"
      ]
     },
     "execution_count": 42,
     "metadata": {},
     "output_type": "execute_result"
    }
   ],
   "source": []
  },
  {
   "cell_type": "code",
   "execution_count": null,
   "metadata": {},
   "outputs": [],
   "source": []
  }
 ],
 "metadata": {
  "kernelspec": {
   "display_name": "Python 3",
   "language": "python",
   "name": "python3"
  },
  "language_info": {
   "codemirror_mode": {
    "name": "ipython",
    "version": 3
   },
   "file_extension": ".py",
   "mimetype": "text/x-python",
   "name": "python",
   "nbconvert_exporter": "python",
   "pygments_lexer": "ipython3",
   "version": "3.7.4"
  }
 },
 "nbformat": 4,
 "nbformat_minor": 2
}
