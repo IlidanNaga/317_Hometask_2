{
 "cells": [
  {
   "cell_type": "code",
   "execution_count": 1,
   "metadata": {},
   "outputs": [],
   "source": [
    "import numpy as np"
   ]
  },
  {
   "cell_type": "code",
   "execution_count": 180,
   "metadata": {},
   "outputs": [],
   "source": [
    "def encode_rle(vector):\n",
    "\n",
    "    positions = np.flatnonzero(~np.isclose(vector[:-1], vector[1:])) + 1\n",
    "    positions = np.append(0, positions)\n",
    "\n",
    "    lengths = np.diff(np.append(positions, len(vector)))\n",
    "\n",
    "    return vector[positions], lengths"
   ]
  },
  {
   "cell_type": "code",
   "execution_count": 8,
   "metadata": {},
   "outputs": [],
   "source": [
    "class RleSequence:\n",
    "    \n",
    "    def __init__(self, input_sequence):\n",
    "        self.encod_run, self.encod_len = encode_rle(input_sequence)\n",
    "        \n",
    "        self.len = len(input_sequence)\n",
    "        pass\n",
    "    \n",
    "    def showItems(self):\n",
    "        print(\"Run: \", self.encod_run)\n",
    "        print(\"Len: \", self.encod_len)\n",
    "        print(\"Arr_len: \", self.len)\n",
    "        \n",
    "    def __getitem__(self, val):\n",
    "        \n",
    "        if type(val) == int or type(val) == np.int64:\n",
    "        \n",
    "            if val < -1 * self.len or val >= self.len:\n",
    "                return TypeError\n",
    "            \n",
    "            if val < 0:\n",
    "                val = self.len + val\n",
    "\n",
    "            if (val == 0):\n",
    "                return self.encod_run[0]\n",
    "\n",
    "            return self.encod_run[np.where(self.encod_len > val)[0][0]]\n",
    "\n",
    "        \n",
    "        elif type(val) == slice:\n",
    "            \n",
    "            #print(val.start, val.stop, val.step)\n",
    "            \n",
    "            if val.step is None:\n",
    "                cur_step = 1\n",
    "            else:\n",
    "                cur_step = val.step\n",
    "\n",
    "            if val.start is None:\n",
    "                cur_start = 0\n",
    "            elif val.start < 0:\n",
    "                cur_start = self.len + val.start\n",
    "            else:\n",
    "                cur_start = val.start\n",
    "                \n",
    "            if val.stop is None:\n",
    "                cur_stop = self.len\n",
    "            elif val.stop < 0:\n",
    "                cur_stop = self.len + val.stop\n",
    "            else:\n",
    "                cur_stop = val.stop\n",
    "                \n",
    "            \n",
    "            #print(cur_start, cur_stop, cur_step)\n",
    "                \n",
    "            \n",
    "            sub_list = []\n",
    "                \n",
    "            while cur_start != cur_stop:\n",
    "                \n",
    "                if cur_start > cur_stop and cur_step > 0:\n",
    "                    break\n",
    "                \n",
    "                if cur_start < cur_stop and cur_step < 0:\n",
    "                    break\n",
    "                \n",
    "                if cur_start < 0 or cur_start >= self.len:\n",
    "                    cur_start += cur_step\n",
    "                    continue\n",
    "                \n",
    "\n",
    "                sub_list.append(self[cur_start])\n",
    "                cur_start += cur_step\n",
    "                \n",
    "            return np.array(sub_list)\n",
    "        else:\n",
    "            raise CountError\n",
    "        \n",
    "    def __iter__(self):\n",
    "        self.position = 0\n",
    "        return self\n",
    "    \n",
    "    def __next__(self):\n",
    "        \n",
    "        if self.position >= self.len:\n",
    "            raise StopIteration\n",
    "        self.position += 1   \n",
    "        return self[self.position - 1]\n",
    "    \n",
    "    \n",
    "    \"\"\"должен поддерживать протокол итераций, порядок элементов в процессе\n",
    "    итерирования должен совпадать с порядком в исходном input\"\"\""
   ]
  },
  {
   "cell_type": "code",
   "execution_count": 232,
   "metadata": {},
   "outputs": [],
   "source": [
    "class RleSequence:\n",
    "    \n",
    "    def __init__(self, input_sequence):\n",
    "        self.encod_run, self.encod_len = encode_rle(input_sequence)\n",
    "        \n",
    "        self.len = len(input_sequence)\n",
    "        self.encodings_len = len(self.encod_len)\n",
    "\n",
    "    def showItems(self):\n",
    "        print(\"Run: \", self.encod_run)\n",
    "        print(\"Len: \", self.encod_len)\n",
    "        print(\"Arr_len: \", self.len)\n",
    "        \n",
    "    def __getitem__(self, arg):\n",
    "        \n",
    "        if type(arg) == int:\n",
    "            #print(arg)\n",
    "            \n",
    "            if arg < -1 * self.len or arg >= self.len:\n",
    "                raise TypeError\n",
    "                \n",
    "            pos = arg if arg >= 0 else self.len + arg\n",
    "            #print(pos)\n",
    "            \n",
    "            for i in range(self.encodings_len):\n",
    "                pos -= self.encod_len[i]\n",
    "                if pos < 0:\n",
    "                    pos = i\n",
    "                    break\n",
    "                    \n",
    "            return self.encod_run[i]\n",
    "                \n",
    "            \n",
    "        elif type(arg) == slice:\n",
    "            \"\"\"Слайсы могут быть только с положительным шагом\"\"\"\n",
    "            #print(arg.start, arg.stop, arg.step)\n",
    "            \n",
    "            if arg.start is None:\n",
    "                cur_start = 0\n",
    "            elif arg.start > 0:\n",
    "                cur_start = arg.start\n",
    "            else:\n",
    "                cur_start = max(0, self.len + arg.start)\n",
    "                \n",
    "            if arg.stop is None:\n",
    "                cur_stop = self.len\n",
    "            elif arg.stop >= 0:\n",
    "                cur_stop = min(self.len, arg.stop)\n",
    "            else:\n",
    "                cur_stop = self.len + arg.stop\n",
    "            \n",
    "            if arg.step is None:\n",
    "                cur_step = 1\n",
    "            else:\n",
    "                cur_step = arg.step\n",
    "            \n",
    "            ind_first = 0\n",
    "            val = cur_start\n",
    "\n",
    "            for i in range(self.encodings_len):\n",
    "                if val < self.encod_len[i]:\n",
    "                    ind_first = i\n",
    "                    break;\n",
    "                val -= self.encod_len[i]\n",
    "                \n",
    "            # ind_first - индекс начала элементов\n",
    "            # val - количество, которое останется\n",
    "            \n",
    "            try_list = []\n",
    "            ind = ind_first\n",
    "            val_start = cur_start\n",
    "            \n",
    "            print(ind)\n",
    "            print(val_start)\n",
    "            \n",
    "            if ind == 0:\n",
    "                print(\"here\")\n",
    "                val += self.encod_len[0]\n",
    "                \n",
    "            while val_start < cur_stop:\n",
    "                \n",
    "                if val > 0:\n",
    "                    try_list.append(self.encod_run[ind])\n",
    "                    val -= cur_step\n",
    "                    val_start += cur_step\n",
    "                else:\n",
    "                    ind += 1\n",
    "                    if ind == self.encodings_len:\n",
    "                        break\n",
    "                    val += self.encod_len[ind]\n",
    "                    \n",
    "            print(try_list)\n",
    "                    \n",
    "                \n",
    "            #print(cur_start, cur_stop, cur_step)\n",
    "            \n",
    "            ind_list = []\n",
    "            #print(ind_list)\n",
    "            while True:\n",
    "                if cur_start < cur_stop:\n",
    "                    pos = 0\n",
    "                    val = cur_start \n",
    "                    for i in range(self.encodings_len):\n",
    "                        val -= self.encod_len[i]\n",
    "                        if val < 0:\n",
    "                            pos = i\n",
    "                            break\n",
    "                            \n",
    "                    ind_list.append(self.encod_run[pos])\n",
    "                else:\n",
    "                    break\n",
    "                    \n",
    "                cur_start += cur_step\n",
    "            \n",
    "            return np.array(ind_list)\n",
    "            \"\"\"\n",
    "            res_arr = []\n",
    "            \n",
    "            for enum, item in enumerate(ind_list):\n",
    "                pos = 0\n",
    "                for i in range(self.len):\n",
    "                    if item < self.encod_len[i]:\n",
    "                        pos = i\n",
    "                        break\n",
    "                        \n",
    "                res_arr.append(self.encod_run[pos])\n",
    "                \n",
    "            \n",
    "            return np.array(res_arr)\n",
    "            \"\"\"\n",
    "        else:\n",
    "            raise TypeError\n",
    "    \n",
    "    def __iter__(self):\n",
    "        self.position = 0\n",
    "        self.ans_position = 0\n",
    "        return self\n",
    "    \n",
    "    def __next__(self):\n",
    "        \n",
    "        if self.position >= self.encod_len[self.ans_position]:\n",
    "            self.position -= self.encod_len[self.ans_position]\n",
    "            self.ans_position += 1\n",
    "        \n",
    "        self.position += 1\n",
    "        \n",
    "        if self.ans_position >= self.encodings_len:\n",
    "            raise StopIteration\n",
    "        \n",
    "        return self.encod_run[self.ans_position]\n",
    "    \n",
    "    def __contains__(self, arg):\n",
    "        if arg in self.encod_run:\n",
    "            return True\n",
    "        \n",
    "        return False"
   ]
  },
  {
   "cell_type": "code",
   "execution_count": 259,
   "metadata": {},
   "outputs": [],
   "source": [
    "class RleSeq:\n",
    "    \n",
    "    def __init__(self, input_sequence):\n",
    "        self.encod_run, self.encod_len = encode_rle(input_sequence)\n",
    "        \n",
    "        self.len = len(input_sequence)\n",
    "        self.encodings_len = len(self.encod_len)\n",
    "\n",
    "    def showItems(self):\n",
    "        print(\"Run: \", self.encod_run)\n",
    "        print(\"Len: \", self.encod_len)\n",
    "        print(\"Arr_len: \", self.len)\n",
    "        \n",
    "    def __getitem__(self, arg):\n",
    "        \n",
    "        if type(arg) == int:\n",
    "            #print(arg)\n",
    "            \n",
    "            if arg < -1 * self.len or arg >= self.len:\n",
    "                raise TypeError\n",
    "                \n",
    "            pos = arg if arg >= 0 else self.len + arg\n",
    "            #print(pos)\n",
    "            \n",
    "            for i in range(self.encodings_len):\n",
    "                pos -= self.encod_len[i]\n",
    "                if pos < 0:\n",
    "                    pos = i\n",
    "                    break\n",
    "                    \n",
    "            return self.encod_run[i]\n",
    "                \n",
    "            \n",
    "        elif type(arg) == slice:\n",
    "        \n",
    "            if arg.start is None:\n",
    "                cur_start = 0\n",
    "            elif arg.start > 0:\n",
    "                cur_start = arg.start\n",
    "            else:\n",
    "                cur_start = max(0, self.len + arg.start)\n",
    "                \n",
    "            if arg.stop is None:\n",
    "                cur_stop = self.len\n",
    "            elif arg.stop >= 0:\n",
    "                cur_stop = min(self.len, arg.stop)\n",
    "            else:\n",
    "                cur_stop = self.len + arg.stop\n",
    "            \n",
    "            if arg.step is None:\n",
    "                cur_step = 1\n",
    "            else:\n",
    "                cur_step = arg.step\n",
    "                \n",
    "            first_pos = 0\n",
    "            first_val = 0\n",
    "            for i in range(self.encodings_len):\n",
    "                \n",
    "                if first_val >= cur_start:\n",
    "                    first_pos = i\n",
    "                    break\n",
    "\n",
    "                first_val += self.encod_len[i]\n",
    "                \n",
    "            print(first_val, first_pos)\n",
    "            res_list = []\n",
    "            \n",
    "            for i in range(cur_start, cur_stop, cur_step):\n",
    "                \n",
    "                if i > first_val:\n",
    "                    first_val += self.encod_len[first_pos]\n",
    "                    first_pos += 1\n",
    "                    \n",
    "                res_list.append(self.encod_run[first_pos])\n",
    "            \n",
    "            return np.array(res_list)\n",
    "            \n",
    "        \n",
    "    def __iter__(self):\n",
    "        self.position = 0\n",
    "        self.ans_position = 0\n",
    "        return self\n",
    "    \n",
    "    def __next__(self):\n",
    "        \n",
    "        if self.position >= self.encod_len[self.ans_position]:\n",
    "            self.position -= self.encod_len[self.ans_position]\n",
    "            self.ans_position += 1\n",
    "        \n",
    "        self.position += 1\n",
    "        \n",
    "        if self.ans_position >= self.encodings_len:\n",
    "            raise StopIteration\n",
    "        \n",
    "        return self.encod_run[self.ans_position]\n",
    "    \n",
    "    def __contains__(self, arg):\n",
    "        if arg in self.encod_run:\n",
    "            return True\n",
    "        \n",
    "        return False"
   ]
  },
  {
   "cell_type": "code",
   "execution_count": 260,
   "metadata": {},
   "outputs": [],
   "source": [
    "arr = np.array([1, 1, 2, 2, 3, 3, 3, 4, 5])"
   ]
  },
  {
   "cell_type": "code",
   "execution_count": 261,
   "metadata": {},
   "outputs": [],
   "source": [
    "r_seq = RleSeq(arr)"
   ]
  },
  {
   "cell_type": "code",
   "execution_count": 262,
   "metadata": {},
   "outputs": [
    {
     "name": "stdout",
     "output_type": "stream",
     "text": [
      "Run:  [1 2 3 4 5]\n",
      "Len:  [2 2 3 1 1]\n",
      "Arr_len:  9\n"
     ]
    }
   ],
   "source": [
    "r_seq.showItems()"
   ]
  },
  {
   "cell_type": "code",
   "execution_count": 263,
   "metadata": {},
   "outputs": [
    {
     "name": "stdout",
     "output_type": "stream",
     "text": [
      "0 0\n",
      "0\n",
      "1\n",
      "2\n",
      "3\n",
      "4\n",
      "5\n",
      "6\n",
      "7\n",
      "8\n"
     ]
    },
    {
     "data": {
      "text/plain": [
       "array([1, 2, 2, 3, 3, 4, 4, 4, 5])"
      ]
     },
     "execution_count": 263,
     "metadata": {},
     "output_type": "execute_result"
    }
   ],
   "source": [
    "r_seq[:]"
   ]
  },
  {
   "cell_type": "code",
   "execution_count": 186,
   "metadata": {},
   "outputs": [
    {
     "data": {
      "text/plain": [
       "array([], dtype=float64)"
      ]
     },
     "execution_count": 186,
     "metadata": {},
     "output_type": "execute_result"
    }
   ],
   "source": [
    "np.empty(0)"
   ]
  },
  {
   "cell_type": "code",
   "execution_count": 197,
   "metadata": {},
   "outputs": [
    {
     "name": "stdout",
     "output_type": "stream",
     "text": [
      "2 0\n",
      "0 1\n",
      "2 2\n",
      "1 3\n",
      "2 4\n",
      "1 5\n",
      "1 6\n",
      "0 7\n",
      "1 8\n",
      "0 9\n",
      "0 10\n",
      "2 11\n",
      "2 12\n",
      "2 13\n",
      "0 14\n",
      "1 15\n",
      "2 16\n",
      "2 17\n",
      "1 18\n",
      "0 19\n",
      "0 20\n",
      "2 21\n",
      "2 22\n",
      "0 23\n",
      "0 24\n",
      "0 25\n",
      "1 26\n",
      "2 27\n",
      "0 28\n",
      "2 29\n"
     ]
    },
    {
     "data": {
      "text/plain": [
       "30"
      ]
     },
     "execution_count": 197,
     "metadata": {},
     "output_type": "execute_result"
    }
   ],
   "source": [
    "tmp = np.array([2, 0, 2, 1, 2, 1, 1, 0, 1, 0, 0, 2, 2, 2, 0, 1, 2, 2, 1, 0, 0, 2, 2,\n",
    "                0, 0, 0, 1, 2, 0, 2])\n",
    "\n",
    "rle_seq = RleSequence(tmp)\n",
    "\n",
    "for enum, elem in enumerate(rle_seq):\n",
    "    print(elem, enum)\n",
    "\n",
    "tmp.__len__()"
   ]
  },
  {
   "cell_type": "code",
   "execution_count": 201,
   "metadata": {},
   "outputs": [
    {
     "name": "stdout",
     "output_type": "stream",
     "text": [
      "CPU times: user 40 µs, sys: 0 ns, total: 40 µs\n",
      "Wall time: 44.1 µs\n"
     ]
    },
    {
     "data": {
      "text/plain": [
       "array([2, 3, 3])"
      ]
     },
     "execution_count": 201,
     "metadata": {},
     "output_type": "execute_result"
    }
   ],
   "source": [
    "%time r_seq[2:7:2]"
   ]
  },
  {
   "cell_type": "code",
   "execution_count": 165,
   "metadata": {},
   "outputs": [
    {
     "name": "stdout",
     "output_type": "stream",
     "text": [
      "CPU times: user 8 µs, sys: 0 ns, total: 8 µs\n",
      "Wall time: 11.7 µs\n"
     ]
    },
    {
     "data": {
      "text/plain": [
       "array([2, 3, 3])"
      ]
     },
     "execution_count": 165,
     "metadata": {},
     "output_type": "execute_result"
    }
   ],
   "source": [
    "%time arr[2:7:2]"
   ]
  },
  {
   "cell_type": "code",
   "execution_count": 156,
   "metadata": {},
   "outputs": [
    {
     "name": "stdout",
     "output_type": "stream",
     "text": [
      "1000125\n"
     ]
    }
   ],
   "source": [
    "np.random.seed(153)\n",
    "tmp_array = np.random.randint(0, 3, 10 ** 6)\n",
    "\n",
    "rle_seq = RleSequence(tmp_array)\n",
    "\n",
    "sum_elements = 0\n",
    "for elem in rle_seq:\n",
    "    sum_elements += elem\n",
    "print(sum_elements)"
   ]
  },
  {
   "cell_type": "code",
   "execution_count": 129,
   "metadata": {},
   "outputs": [],
   "source": [
    "np.random.seed(153)\n",
    "tmp_array = np.random.randint(0, 3, 10 ** 6)\n",
    "\n"
   ]
  },
  {
   "cell_type": "code",
   "execution_count": 131,
   "metadata": {},
   "outputs": [
    {
     "name": "stdout",
     "output_type": "stream",
     "text": [
      "CPU times: user 33.1 ms, sys: 11.6 ms, total: 44.7 ms\n",
      "Wall time: 44.1 ms\n"
     ]
    },
    {
     "data": {
      "text/plain": [
       "(array([0, 1, 2, ..., 2, 1, 0]),\n",
       " array([      3,       5,       6, ...,  999998,  999999, 1000000]))"
      ]
     },
     "execution_count": 131,
     "metadata": {},
     "output_type": "execute_result"
    }
   ],
   "source": [
    "%time encode_rle(tmp_array)"
   ]
  },
  {
   "cell_type": "code",
   "execution_count": 169,
   "metadata": {},
   "outputs": [
    {
     "name": "stdout",
     "output_type": "stream",
     "text": [
      "CPU times: user 2min 12s, sys: 504 ms, total: 2min 12s\n",
      "Wall time: 2min 13s\n",
      "451779\n"
     ]
    }
   ],
   "source": [
    "np.random.seed(32)\n",
    "tmp_array = np.random.randint(0, 3, 10 ** 6)\n",
    "\n",
    "rle_seq = RleSequence(tmp_array)\n",
    "\n",
    "sum_elements = 0\n",
    "%time tmp = rle_seq[1:905005:2]\n",
    "print(np.sum(tmp))"
   ]
  },
  {
   "cell_type": "code",
   "execution_count": 143,
   "metadata": {},
   "outputs": [],
   "source": [
    "x = 1"
   ]
  },
  {
   "cell_type": "code",
   "execution_count": 150,
   "metadata": {},
   "outputs": [],
   "source": [
    "y = x"
   ]
  },
  {
   "cell_type": "code",
   "execution_count": 151,
   "metadata": {},
   "outputs": [],
   "source": [
    "x -= 1"
   ]
  },
  {
   "cell_type": "code",
   "execution_count": 153,
   "metadata": {},
   "outputs": [
    {
     "data": {
      "text/plain": [
       "(1, 0)"
      ]
     },
     "execution_count": 153,
     "metadata": {},
     "output_type": "execute_result"
    }
   ],
   "source": [
    "y, x"
   ]
  },
  {
   "cell_type": "code",
   "execution_count": 166,
   "metadata": {},
   "outputs": [],
   "source": [
    "np.random.seed(32)\n",
    "tmp_array = np.random.randint(0, 3, 10 ** 6)"
   ]
  },
  {
   "cell_type": "code",
   "execution_count": 167,
   "metadata": {},
   "outputs": [
    {
     "name": "stdout",
     "output_type": "stream",
     "text": [
      "CPU times: user 8 µs, sys: 1 µs, total: 9 µs\n",
      "Wall time: 13.1 µs\n"
     ]
    },
    {
     "data": {
      "text/plain": [
       "array([2, 2, 0, ..., 0, 0, 1])"
      ]
     },
     "execution_count": 167,
     "metadata": {},
     "output_type": "execute_result"
    }
   ],
   "source": [
    "%time tmp_array[1:905005:2]"
   ]
  },
  {
   "cell_type": "code",
   "execution_count": 174,
   "metadata": {},
   "outputs": [
    {
     "name": "stdout",
     "output_type": "stream",
     "text": [
      "5\n"
     ]
    }
   ],
   "source": [
    "for i in range(5, 6, 2):\n",
    "    print(i)"
   ]
  },
  {
   "cell_type": "code",
   "execution_count": null,
   "metadata": {},
   "outputs": [],
   "source": []
  }
 ],
 "metadata": {
  "kernelspec": {
   "display_name": "Python 3",
   "language": "python",
   "name": "python3"
  },
  "language_info": {
   "codemirror_mode": {
    "name": "ipython",
    "version": 3
   },
   "file_extension": ".py",
   "mimetype": "text/x-python",
   "name": "python",
   "nbconvert_exporter": "python",
   "pygments_lexer": "ipython3",
   "version": "3.7.4"
  }
 },
 "nbformat": 4,
 "nbformat_minor": 2
}
