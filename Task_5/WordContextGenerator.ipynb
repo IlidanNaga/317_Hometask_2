{
 "cells": [
  {
   "cell_type": "code",
   "execution_count": 1,
   "metadata": {},
   "outputs": [],
   "source": [
    "import numpy as np"
   ]
  },
  {
   "cell_type": "code",
   "execution_count": 61,
   "metadata": {},
   "outputs": [],
   "source": [
    "class WordContextGenerator:\n",
    "    \n",
    "    # при window_size = k окно берется k+1\n",
    "    def __init__(self, words, window_size):\n",
    "        \n",
    "        self.result = []\n",
    "        for pos in range(words.__len__()):\n",
    "            #print(words[max(pos - window_size, 0) : pos])\n",
    "            for item in words[max(pos - window_size, 0) : pos]:\n",
    "                #print(words[pos], item)\n",
    "                #self.result.append([words[pos], item])\n",
    "                self.result.append(words[pos] + ', ' + item)\n",
    "            \n",
    "            #print(words[pos + 1 : min(pos + window_size + 1, words.__len__())])\n",
    "            for item in words[pos + 1 : min(pos + window_size + 1, words.__len__())]:\n",
    "                #print(words[pos], item)\n",
    "                #self.result.append([words[pos], item])\n",
    "                self.result.append(words[pos] + ', ' + item)\n",
    "                \n",
    "        self.len = self.result.__len__()\n",
    "            \n",
    "        \n",
    "    def __iter__(self):\n",
    "        \n",
    "        self.pos = 0\n",
    "        return self\n",
    "\n",
    "    def __next__(self):\n",
    "        \n",
    "        if self.pos < self.len:\n",
    "            self.pos += 1\n",
    "            return self.result[self.pos - 1]\n",
    "        else:\n",
    "            raise StopIteration\n",
    "        \n",
    "        "
   ]
  },
  {
   "cell_type": "code",
   "execution_count": 10,
   "metadata": {},
   "outputs": [],
   "source": [
    "class TestIter:\n",
    "    \n",
    "    def __init__(self, val):\n",
    "        \n",
    "        self.val = val\n",
    "        \n",
    "    def __iter__(self):\n",
    "        \n",
    "        self.count = 0\n",
    "        return self\n",
    "    \n",
    "    def __next__(self):\n",
    "        \n",
    "        self.count += 1\n",
    "        print(self.val)\n",
    "        \n",
    "        if self.count == 10:\n",
    "            print(\"enought\")\n",
    "            raise StopIteration"
   ]
  },
  {
   "cell_type": "code",
   "execution_count": 34,
   "metadata": {},
   "outputs": [],
   "source": [
    "words = ['мама', 'очень', 'хорошо', 'мыла', 'красивую', 'раму']"
   ]
  },
  {
   "cell_type": "code",
   "execution_count": 62,
   "metadata": {},
   "outputs": [
    {
     "name": "stdout",
     "output_type": "stream",
     "text": [
      "мама, очень\n",
      "мама, хорошо\n",
      "очень, мама\n",
      "очень, хорошо\n",
      "очень, мыла\n",
      "хорошо, мама\n",
      "хорошо, очень\n",
      "хорошо, мыла\n",
      "хорошо, красивую\n",
      "мыла, очень\n",
      "мыла, хорошо\n",
      "мыла, красивую\n",
      "мыла, раму\n",
      "красивую, хорошо\n",
      "красивую, мыла\n",
      "красивую, раму\n",
      "раму, мыла\n",
      "раму, красивую\n"
     ]
    }
   ],
   "source": [
    "for item in WordContextGenerator(words, 2):\n",
    "    print(item)"
   ]
  },
  {
   "cell_type": "code",
   "execution_count": null,
   "metadata": {},
   "outputs": [],
   "source": []
  }
 ],
 "metadata": {
  "kernelspec": {
   "display_name": "Python 3",
   "language": "python",
   "name": "python3"
  },
  "language_info": {
   "codemirror_mode": {
    "name": "ipython",
    "version": 3
   },
   "file_extension": ".py",
   "mimetype": "text/x-python",
   "name": "python",
   "nbconvert_exporter": "python",
   "pygments_lexer": "ipython3",
   "version": "3.7.4"
  }
 },
 "nbformat": 4,
 "nbformat_minor": 2
}
