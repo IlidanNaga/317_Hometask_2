{
 "cells": [
  {
   "cell_type": "code",
   "execution_count": 127,
   "metadata": {},
   "outputs": [],
   "source": [
    "file = open('input.txt', 'r')"
   ]
  },
  {
   "cell_type": "code",
   "execution_count": 128,
   "metadata": {},
   "outputs": [
    {
     "data": {
      "text/plain": [
       "['10\\n',\n",
       " 'cat - coshka, coteyka\\n',\n",
       " 'dog - sobaka, pesik\\n',\n",
       " 'bad - plohoi\\n',\n",
       " 'good - horoshii, super\\n',\n",
       " 'excellent - super\\n',\n",
       " 'ugly - uzasnii, plohoi\\n',\n",
       " 'chair - stul, tron\\n',\n",
       " 'throne - tron\\n',\n",
       " 'cup - chaska\\n',\n",
       " 'dish - tarelka']"
      ]
     },
     "execution_count": 128,
     "metadata": {},
     "output_type": "execute_result"
    }
   ],
   "source": [
    "lists = file.readlines()\n",
    "lists"
   ]
  },
  {
   "cell_type": "code",
   "execution_count": 129,
   "metadata": {},
   "outputs": [
    {
     "data": {
      "text/plain": [
       "'10\\n'"
      ]
     },
     "execution_count": 129,
     "metadata": {},
     "output_type": "execute_result"
    }
   ],
   "source": [
    "lists.pop(0)"
   ]
  },
  {
   "cell_type": "code",
   "execution_count": 130,
   "metadata": {},
   "outputs": [
    {
     "data": {
      "text/plain": [
       "['cat - coshka, coteyka\\n',\n",
       " 'dog - sobaka, pesik\\n',\n",
       " 'bad - plohoi\\n',\n",
       " 'good - horoshii, super\\n',\n",
       " 'excellent - super\\n',\n",
       " 'ugly - uzasnii, plohoi\\n',\n",
       " 'chair - stul, tron\\n',\n",
       " 'throne - tron\\n',\n",
       " 'cup - chaska\\n',\n",
       " 'dish - tarelka']"
      ]
     },
     "execution_count": 130,
     "metadata": {},
     "output_type": "execute_result"
    }
   ],
   "source": [
    "lists"
   ]
  },
  {
   "cell_type": "code",
   "execution_count": 131,
   "metadata": {},
   "outputs": [],
   "source": [
    "formed_lists = []\n",
    "for string in lists[:-1]:\n",
    "    formed_lists.append(string[:-1])\n",
    "\n",
    "formed_lists.append(lists[-1])\n"
   ]
  },
  {
   "cell_type": "code",
   "execution_count": 132,
   "metadata": {},
   "outputs": [
    {
     "data": {
      "text/plain": [
       "['cat - coshka, coteyka',\n",
       " 'dog - sobaka, pesik',\n",
       " 'bad - plohoi',\n",
       " 'good - horoshii, super',\n",
       " 'excellent - super',\n",
       " 'ugly - uzasnii, plohoi',\n",
       " 'chair - stul, tron',\n",
       " 'throne - tron',\n",
       " 'cup - chaska',\n",
       " 'dish - tarelka']"
      ]
     },
     "execution_count": 132,
     "metadata": {},
     "output_type": "execute_result"
    }
   ],
   "source": [
    "formed_lists"
   ]
  },
  {
   "cell_type": "code",
   "execution_count": 133,
   "metadata": {},
   "outputs": [],
   "source": [
    "draconic = []\n",
    "human = []\n",
    "for string in formed_lists:\n",
    "    current = string.split(' - ')\n",
    "    transcript = current[1].split(', ')\n",
    "    for item in transcript:\n",
    "        if item in draconic:\n",
    "            human[draconic.index(item)].append(current[0])\n",
    "        else:\n",
    "            draconic.append(item)\n",
    "            human.append([current[0]])\n",
    "            \n",
    "for item in human:\n",
    "    item.sort()"
   ]
  },
  {
   "cell_type": "code",
   "execution_count": 134,
   "metadata": {},
   "outputs": [
    {
     "name": "stdout",
     "output_type": "stream",
     "text": [
      "['coshka', 'coteyka', 'sobaka', 'pesik', 'plohoi', 'horoshii', 'super', 'uzasnii', 'stul', 'tron', 'chaska', 'tarelka'] [['cat'], ['cat'], ['dog'], ['dog'], ['bad', 'ugly'], ['good'], ['excellent', 'good'], ['ugly'], ['chair'], ['chair', 'throne'], ['cup'], ['dish']]\n"
     ]
    }
   ],
   "source": [
    "print(draconic, human)"
   ]
  },
  {
   "cell_type": "code",
   "execution_count": 135,
   "metadata": {},
   "outputs": [
    {
     "data": {
      "text/plain": [
       "['12',\n",
       " 'chaska - cup',\n",
       " 'coshka - cat',\n",
       " 'coteyka - cat',\n",
       " 'horoshii - good',\n",
       " 'pesik - dog',\n",
       " 'plohoi - bad, ugly',\n",
       " 'sobaka - dog',\n",
       " 'stul - chair',\n",
       " 'super - excellent, good',\n",
       " 'tarelka - dish',\n",
       " 'tron - chair, throne',\n",
       " 'uzasnii - ugly']"
      ]
     },
     "execution_count": 135,
     "metadata": {},
     "output_type": "execute_result"
    }
   ],
   "source": [
    "final = []\n",
    "for i in range(draconic.__len__()):\n",
    "    h_line = human[i][0]\n",
    "    for item in human[i][1:]:\n",
    "        h_line += ', ' + item\n",
    "    line = draconic[i] + ' - ' + h_line\n",
    "    final.append(line)\n",
    "\n",
    "final.sort()\n",
    "final.insert(0, str(final.__len__()))\n",
    "final"
   ]
  },
  {
   "cell_type": "code",
   "execution_count": 136,
   "metadata": {},
   "outputs": [
    {
     "data": {
      "text/plain": [
       "14"
      ]
     },
     "execution_count": 136,
     "metadata": {},
     "output_type": "execute_result"
    }
   ],
   "source": [
    "out_file = open('output.txt', 'w')\n",
    "for item in final[:-1]:\n",
    "    out_file.write(item+'\\n')\n",
    "out_file.write(final[-1])"
   ]
  },
  {
   "cell_type": "code",
   "execution_count": null,
   "metadata": {},
   "outputs": [],
   "source": []
  },
  {
   "cell_type": "code",
   "execution_count": null,
   "metadata": {},
   "outputs": [],
   "source": []
  }
 ],
 "metadata": {
  "kernelspec": {
   "display_name": "Python 3",
   "language": "python",
   "name": "python3"
  },
  "language_info": {
   "codemirror_mode": {
    "name": "ipython",
    "version": 3
   },
   "file_extension": ".py",
   "mimetype": "text/x-python",
   "name": "python",
   "nbconvert_exporter": "python",
   "pygments_lexer": "ipython3",
   "version": "3.7.3"
  }
 },
 "nbformat": 4,
 "nbformat_minor": 2
}
