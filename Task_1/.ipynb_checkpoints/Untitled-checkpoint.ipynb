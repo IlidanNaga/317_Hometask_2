{
 "cells": [
  {
   "cell_type": "code",
   "execution_count": 49,
   "metadata": {},
   "outputs": [],
   "source": [
    "file = open('input.txt', 'r')"
   ]
  },
  {
   "cell_type": "code",
   "execution_count": 50,
   "metadata": {},
   "outputs": [
    {
     "data": {
      "text/plain": [
       "['3\\n', 'arm - thoa, napo\\n', 'leg - koga\\n', 'thic - thoa\\n', 'bench - thoa']"
      ]
     },
     "execution_count": 50,
     "metadata": {},
     "output_type": "execute_result"
    }
   ],
   "source": [
    "lists = file.readlines()\n",
    "lists"
   ]
  },
  {
   "cell_type": "code",
   "execution_count": 51,
   "metadata": {},
   "outputs": [
    {
     "data": {
      "text/plain": [
       "'3\\n'"
      ]
     },
     "execution_count": 51,
     "metadata": {},
     "output_type": "execute_result"
    }
   ],
   "source": [
    "lists.pop(0)"
   ]
  },
  {
   "cell_type": "code",
   "execution_count": 52,
   "metadata": {},
   "outputs": [
    {
     "data": {
      "text/plain": [
       "['arm - thoa, napo\\n', 'leg - koga\\n', 'thic - thoa\\n', 'bench - thoa']"
      ]
     },
     "execution_count": 52,
     "metadata": {},
     "output_type": "execute_result"
    }
   ],
   "source": [
    "lists"
   ]
  },
  {
   "cell_type": "code",
   "execution_count": 53,
   "metadata": {},
   "outputs": [],
   "source": [
    "formed_lists = []\n",
    "for string in lists[:-1]:\n",
    "    formed_lists.append(string[:-1])\n",
    "\n",
    "formed_lists.append(lists[-1])\n"
   ]
  },
  {
   "cell_type": "code",
   "execution_count": 54,
   "metadata": {},
   "outputs": [
    {
     "data": {
      "text/plain": [
       "['arm - thoa, napo', 'leg - koga', 'thic - thoa', 'bench - thoa']"
      ]
     },
     "execution_count": 54,
     "metadata": {},
     "output_type": "execute_result"
    }
   ],
   "source": [
    "formed_lists"
   ]
  },
  {
   "cell_type": "code",
   "execution_count": 57,
   "metadata": {},
   "outputs": [
    {
     "name": "stdout",
     "output_type": "stream",
     "text": [
      "[['arm', 'thic', 'bench'], ['arm'], ['leg']]\n"
     ]
    }
   ],
   "source": [
    "draconic = []\n",
    "human = []\n",
    "for string in formed_lists:\n",
    "    current = string.split(' - ')\n",
    "    transcript = current[1].split(', ')\n",
    "    for item in transcript:\n",
    "        if item in draconic:\n",
    "            human[draconic.index(item)].append(current[0])\n",
    "        else:\n",
    "            draconic.append(item)\n",
    "            human.append([current[0]])\n",
    "            \n",
    "for item in human:\n",
    "    item.sort()"
   ]
  },
  {
   "cell_type": "code",
   "execution_count": 58,
   "metadata": {},
   "outputs": [
    {
     "name": "stdout",
     "output_type": "stream",
     "text": [
      "['thoa', 'napo', 'koga'] [['arm', 'bench', 'thic'], ['arm'], ['leg']]\n"
     ]
    }
   ],
   "source": [
    "print(draconic, human)"
   ]
  },
  {
   "cell_type": "code",
   "execution_count": null,
   "metadata": {},
   "outputs": [],
   "source": []
  }
 ],
 "metadata": {
  "kernelspec": {
   "display_name": "Python 3",
   "language": "python",
   "name": "python3"
  },
  "language_info": {
   "codemirror_mode": {
    "name": "ipython",
    "version": 3
   },
   "file_extension": ".py",
   "mimetype": "text/x-python",
   "name": "python",
   "nbconvert_exporter": "python",
   "pygments_lexer": "ipython3",
   "version": "3.7.3"
  }
 },
 "nbformat": 4,
 "nbformat_minor": 2
}
