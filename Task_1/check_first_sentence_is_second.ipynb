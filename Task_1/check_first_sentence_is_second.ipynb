{
 "cells": [
  {
   "cell_type": "code",
   "execution_count": 27,
   "metadata": {},
   "outputs": [],
   "source": [
    "def check_first_sentence_is_second(first_str, second_str):\n",
    "    first_list = first_str.split(' ')\n",
    "    second_list = second_str.split(' ')\n",
    "\n",
    "    for i in second_list:\n",
    "        if i not in first_list:\n",
    "            return False\n",
    "        else:\n",
    "            first_list.remove(i)\n",
    "    \n",
    "    return True"
   ]
  }
 ],
 "metadata": {
  "kernelspec": {
   "display_name": "Python 3",
   "language": "python",
   "name": "python3"
  },
  "language_info": {
   "codemirror_mode": {
    "name": "ipython",
    "version": 3
   },
   "file_extension": ".py",
   "mimetype": "text/x-python",
   "name": "python",
   "nbconvert_exporter": "python",
   "pygments_lexer": "ipython3",
   "version": "3.7.3"
  }
 },
 "nbformat": 4,
 "nbformat_minor": 2
}
