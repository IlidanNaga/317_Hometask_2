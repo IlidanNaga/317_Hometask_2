{
 "cells": [
  {
   "cell_type": "code",
   "execution_count": 14,
   "metadata": {},
   "outputs": [],
   "source": [
    "file = open('input.txt', 'r')"
   ]
  },
  {
   "cell_type": "code",
   "execution_count": 15,
   "metadata": {},
   "outputs": [],
   "source": [
    "a = file.readline()"
   ]
  },
  {
   "cell_type": "code",
   "execution_count": 16,
   "metadata": {},
   "outputs": [
    {
     "data": {
      "text/plain": [
       "10"
      ]
     },
     "execution_count": 16,
     "metadata": {},
     "output_type": "execute_result"
    }
   ],
   "source": [
    "number = int(a[:-1])\n",
    "number"
   ]
  },
  {
   "cell_type": "code",
   "execution_count": 17,
   "metadata": {},
   "outputs": [],
   "source": [
    "draconic = []\n",
    "human = []\n",
    "for counter in range(number):\n",
    "    line = file.readline()\n",
    "    line = line.replace(' ', '')\n",
    "    line = line.replace('\\n', '')\n",
    "    current = line.split('-')\n",
    "    current_drac = current[1].split(',')\n",
    "    for word in current_drac:\n",
    "        if word in draconic:\n",
    "            human[draconic.index(word)].append(current[0])\n",
    "        else:\n",
    "            draconic.append(word)\n",
    "            human.append([current[0]])\n",
    "            \n",
    "for item in human:\n",
    "    item.sort()"
   ]
  },
  {
   "cell_type": "code",
   "execution_count": 18,
   "metadata": {},
   "outputs": [
    {
     "data": {
      "text/plain": [
       "([['cat'],\n",
       "  ['cat'],\n",
       "  ['dog'],\n",
       "  ['dog'],\n",
       "  ['bad', 'ugly'],\n",
       "  ['good'],\n",
       "  ['excellent', 'good'],\n",
       "  ['ugly'],\n",
       "  ['chair'],\n",
       "  ['chair', 'throne'],\n",
       "  ['cup'],\n",
       "  ['dish']],\n",
       " ['coshka',\n",
       "  'coteyka',\n",
       "  'sobaka',\n",
       "  'pesik',\n",
       "  'plohoi',\n",
       "  'horoshii',\n",
       "  'super',\n",
       "  'uzasnii',\n",
       "  'stul',\n",
       "  'tron',\n",
       "  'chaska',\n",
       "  'tarelka'])"
      ]
     },
     "execution_count": 18,
     "metadata": {},
     "output_type": "execute_result"
    }
   ],
   "source": [
    "human, draconic"
   ]
  },
  {
   "cell_type": "code",
   "execution_count": 20,
   "metadata": {},
   "outputs": [
    {
     "data": {
      "text/plain": [
       "['chaska - cup',\n",
       " 'coshka - cat',\n",
       " 'coteyka - cat',\n",
       " 'horoshii - good',\n",
       " 'pesik - dog',\n",
       " 'plohoi - bad, ugly',\n",
       " 'sobaka - dog',\n",
       " 'stul - chair',\n",
       " 'super - excellent, good',\n",
       " 'tarelka - dish',\n",
       " 'tron - chair, throne',\n",
       " 'uzasnii - ugly']"
      ]
     },
     "execution_count": 20,
     "metadata": {},
     "output_type": "execute_result"
    }
   ],
   "source": [
    "to_output = []\n",
    "\n",
    "for i in range(draconic.__len__()):\n",
    "    h_line = human[i][0]\n",
    "    for word in human[i][1:]:\n",
    "        h_line += ', ' + word\n",
    "    line = draconic[i] + ' - ' + h_line\n",
    "    to_output.append(line)\n",
    "    \n",
    "to_output.sort()\n",
    "to_output"
   ]
  },
  {
   "cell_type": "code",
   "execution_count": 21,
   "metadata": {},
   "outputs": [],
   "source": [
    "out_file = open('output2.txt', 'w')\n",
    "out_file.write(str(to_output.__len__()) + '\\n')\n",
    "for word in to_output:\n",
    "    out_file.write(word + '\\n')\n",
    "    \n",
    "out_file.close()\n",
    "file.close()"
   ]
  },
  {
   "cell_type": "code",
   "execution_count": null,
   "metadata": {},
   "outputs": [],
   "source": [
    ".r"
   ]
  }
 ],
 "metadata": {
  "kernelspec": {
   "display_name": "Python 3",
   "language": "python",
   "name": "python3"
  },
  "language_info": {
   "codemirror_mode": {
    "name": "ipython",
    "version": 3
   },
   "file_extension": ".py",
   "mimetype": "text/x-python",
   "name": "python",
   "nbconvert_exporter": "python",
   "pygments_lexer": "ipython3",
   "version": "3.7.3"
  }
 },
 "nbformat": 4,
 "nbformat_minor": 2
}
